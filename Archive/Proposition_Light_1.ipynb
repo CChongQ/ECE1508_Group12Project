{
  "nbformat": 4,
  "nbformat_minor": 0,
  "metadata": {
    "colab": {
      "provenance": [],
      "collapsed_sections": [
        "MuhooPOlrhK1",
        "zIcK9WKO48gk",
        "o7-Cx6fN6Off",
        "XrOFCx9fqrn4",
        "iZwwrmv1hFya",
        "2moeWDVrztam",
        "1kF1zDqud0fx"
      ]
    },
    "kernelspec": {
      "name": "python3",
      "display_name": "Python 3"
    },
    "language_info": {
      "name": "python"
    }
  },
  "cells": [
    {
      "cell_type": "markdown",
      "source": [
        "# Environmetn Setup"
      ],
      "metadata": {
        "id": "JGEI9OjIrbA2"
      }
    },
    {
      "cell_type": "code",
      "execution_count": null,
      "metadata": {
        "id": "NCc9CdAkexQA"
      },
      "outputs": [],
      "source": [
        "!pip install -U \"langchain[openai]\" langchain-core langgraph langchain-text-splitters langchain_community"
      ]
    },
    {
      "cell_type": "code",
      "source": [
        "!pip install faiss-cpu jq"
      ],
      "metadata": {
        "id": "EIJKBWd_fQrV"
      },
      "execution_count": null,
      "outputs": []
    },
    {
      "cell_type": "code",
      "source": [
        "!pip install -qU \"langchain-chroma>=0.1.2\""
      ],
      "metadata": {
        "id": "SDC_RMPazJ6h"
      },
      "execution_count": null,
      "outputs": []
    },
    {
      "cell_type": "code",
      "source": [
        "# External libraries\n",
        "import json\n",
        "import faiss\n",
        "import re\n",
        "import getpass\n",
        "import os\n",
        "from datetime import datetime\n",
        "import time\n",
        "import ast"
      ],
      "metadata": {
        "id": "t6s6YkCSLrUT"
      },
      "execution_count": 84,
      "outputs": []
    },
    {
      "cell_type": "code",
      "source": [
        "# OpenAI SDK\n",
        "from openai import OpenAI\n",
        "\n",
        "# Langchain imports\n",
        "from langchain_openai import OpenAIEmbeddings\n",
        "from langchain_chroma import Chroma\n",
        "\n",
        "from langchain_community.document_loaders import JSONLoader\n",
        "from langchain_text_splitters import HTMLSectionSplitter\n",
        "from langchain_core.documents import Document\n",
        "from langchain.vectorstores import FAISS\n",
        "from langchain.embeddings import OpenAIEmbeddings\n",
        "from langchain.output_parsers.openai_tools import JsonOutputToolsParser\n",
        "from langchain_community.chat_models import ChatOpenAI\n",
        "from langchain_core.prompts import ChatPromptTemplate\n",
        "from langchain_core.runnables import RunnableLambda\n",
        "from langchain.chains import create_extraction_chain, create_extraction_chain_pydantic\n",
        "from langchain import hub\n",
        "from langchain_core.pydantic_v1 import BaseModel\n",
        "from langchain.output_parsers import PydanticOutputParser\n",
        "from langchain.prompts import PromptTemplate\n",
        "from langchain_core.prompts import (\n",
        "    ChatPromptTemplate,\n",
        "    FewShotChatMessagePromptTemplate,\n",
        ")\n",
        "\n",
        "# Pydantic + Typing\n",
        "from pydantic import BaseModel\n",
        "from typing import Optional, List\n"
      ],
      "metadata": {
        "id": "9NvUa8v5Ln5S"
      },
      "execution_count": 117,
      "outputs": []
    },
    {
      "cell_type": "code",
      "source": [
        "if not os.environ.get(\"OPENAI_API_KEY\"):\n",
        "  os.environ[\"OPENAI_API_KEY\"] = getpass.getpass(\"Enter API key for OpenAI: \")"
      ],
      "metadata": {
        "id": "YS1gRamHfY1c",
        "colab": {
          "base_uri": "https://localhost:8080/"
        },
        "outputId": "c49c262a-789d-4163-d60e-30e360407458"
      },
      "execution_count": 15,
      "outputs": [
        {
          "name": "stdout",
          "output_type": "stream",
          "text": [
            "Enter API key for OpenAI: ··········\n"
          ]
        }
      ]
    },
    {
      "cell_type": "code",
      "source": [
        "from google.colab import drive\n",
        "drive.mount('/content/drive')\n",
        "\n",
        "%cd  /content/drive/MyDrive/ECE1508_Project/Codes"
      ],
      "metadata": {
        "colab": {
          "base_uri": "https://localhost:8080/"
        },
        "id": "pKEpu0O6fgMx",
        "outputId": "7ee3b059-c374-4b62-8a9d-0b52f8121a04"
      },
      "execution_count": 16,
      "outputs": [
        {
          "output_type": "stream",
          "name": "stdout",
          "text": [
            "Mounted at /content/drive\n",
            "/content/drive/MyDrive/ECE1508_Project/Codes\n"
          ]
        }
      ]
    },
    {
      "cell_type": "markdown",
      "source": [
        "# Helpers"
      ],
      "metadata": {
        "id": "s5eNbOcwD6o9"
      }
    },
    {
      "cell_type": "markdown",
      "source": [
        "## Load Test Doc"
      ],
      "metadata": {
        "id": "MuhooPOlrhK1"
      }
    },
    {
      "cell_type": "code",
      "source": [
        "def metadata_fuc(example: dict, _: dict) -> dict:\n",
        "    return {\n",
        "        \"question_text\": example.get(\"question_text\"),\n",
        "        \"Title\": example.get(\"title\", \"Untitled\"),\n",
        "        \"gold_answer\": example.get(\"gold_answer\", \"\")\n",
        "    }"
      ],
      "metadata": {
        "id": "2fF2ggfE0Vue"
      },
      "execution_count": 17,
      "outputs": []
    },
    {
      "cell_type": "code",
      "source": [
        "def load_documents(file_path):\n",
        "  loader=JSONLoader(\n",
        "    file_path=file_path,\n",
        "    jq_schema=\".[]\",\n",
        "    content_key=\"document_text\",\n",
        "    metadata_func=metadata_fuc\n",
        "  )\n",
        "  documents=loader.load()\n",
        "\n",
        "  return documents"
      ],
      "metadata": {
        "id": "AKoIS4oc9LFJ"
      },
      "execution_count": 18,
      "outputs": []
    },
    {
      "cell_type": "markdown",
      "source": [
        "## Vector Store Helpers"
      ],
      "metadata": {
        "id": "zIcK9WKO48gk"
      }
    },
    {
      "cell_type": "code",
      "source": [
        "def create_faiss_vec_store(elemnts_to_emb, folder_name):\n",
        "  vectorstore=FAISS.from_documents(elemnts_to_emb,embedding=OpenAIEmbeddings())\n",
        "  vectorstore.save_local(folder_name)\n",
        "  return vectorstore"
      ],
      "metadata": {
        "id": "VkWWcJwu4_mh"
      },
      "execution_count": 19,
      "outputs": []
    },
    {
      "cell_type": "markdown",
      "source": [
        "## Retriver Helpers"
      ],
      "metadata": {
        "id": "o7-Cx6fN6Off"
      }
    },
    {
      "cell_type": "code",
      "source": [
        "# retrieve the top K contents\n",
        "def retrieve_section(in_retriever,query):\n",
        "  results=in_retriever.get_relevant_documents(query)\n",
        "  if not results:\n",
        "    return None\n",
        "  # top_K_match=results[:top_k]\n",
        "\n",
        "\n",
        "  return results\n"
      ],
      "metadata": {
        "id": "b5gC4gab6QCC"
      },
      "execution_count": 160,
      "outputs": []
    },
    {
      "cell_type": "code",
      "source": [
        "#Run retriver for the input query\n",
        "def get_retrieve_section(in_retriever,in_query):\n",
        "  relevant_sections=retrieve_section(in_retriever,in_query)\n",
        "  return relevant_sections"
      ],
      "metadata": {
        "id": "z-N6Hacn6SPI"
      },
      "execution_count": 142,
      "outputs": []
    },
    {
      "cell_type": "markdown",
      "source": [
        "\n",
        "## Level 1 Helpers"
      ],
      "metadata": {
        "id": "XrOFCx9fqrn4"
      }
    },
    {
      "cell_type": "markdown",
      "source": [
        "**Document Chunking**"
      ],
      "metadata": {
        "id": "kiNotLnAurs6"
      }
    },
    {
      "cell_type": "code",
      "source": [
        "def get_element_chunk(split_header_list,doc_to_chunk):\n",
        "\n",
        "  #Wrap the the original HTML content in a temporary Document object\n",
        "  html_doc = Document(page_content=doc_to_chunk.page_content, metadata=doc_to_chunk.metadata)\n",
        "\n",
        "  #Only split the HTML part\n",
        "  html_splitter = HTMLSectionSplitter(headers_to_split_on=split_header_list)\n",
        "  elements_chunked = html_splitter.split_documents([html_doc])\n",
        "  return elements_chunked\n"
      ],
      "metadata": {
        "id": "927QAUBXtetL"
      },
      "execution_count": 22,
      "outputs": []
    },
    {
      "cell_type": "markdown",
      "source": [
        "## L2 Proposition Helpers\n",
        "\n",
        "Reference:https://github.com/FullStackRetrieval-com/RetrievalTutorials/blob/main/tutorials/LevelsOfTextSplitting/5_Levels_Of_Text_Splitting.ipynb\n",
        "\n",
        "\n",
        " The proposition promt come from: https://smith.langchain.com/hub/wfh/proposal-indexing?organizationId=50995362-9ea0-4378-ad97-b4edae2f9f22\n"
      ],
      "metadata": {
        "id": "iZwwrmv1hFya"
      }
    },
    {
      "cell_type": "markdown",
      "source": [
        "### Setup proposition models"
      ],
      "metadata": {
        "id": "-71C2WjY2dsk"
      }
    },
    {
      "cell_type": "code",
      "source": [
        "class Sentences(BaseModel):\n",
        "    sentences: List[str]\n",
        "\n",
        "parser = PydanticOutputParser(pydantic_object=Sentences)\n"
      ],
      "metadata": {
        "id": "nQoBmAYvlqqN"
      },
      "execution_count": 116,
      "outputs": []
    },
    {
      "cell_type": "code",
      "source": [
        "proposition_examples = [\n",
        "    {\n",
        "        \"document\": \"Title: ¯Eostre. Section: Theories and interpretations, Connection to Easter Hares. Content: The earliest evidence for the Easter Hare (Osterhase) was recorded in south-west Germany in 1678 by the professor of medicine Georg Franck von Franckenau, but it remained unknown in other parts of Germany until the 18th century. Scholar Richard Sermon writes that \\\"hares were frequently seen in gardens in spring, and thus may have served as a convenient explanation for the origin of the colored eggs hidden there for children. Alternatively, there is a European tradition that hares laid eggs, since a hare’s scratch or form and a lapwing’s nest look very similar, and both occur on grassland and are first seen in the spring. In the nineteenth century the influence of Easter cards, toys, and books was to make the Easter Hare/Rabbit popular throughout Europe. German immigrants then exported the custom to Britain and America where it evolved into the Easter Bunny.\",\n",
        "        \"propositions\": \"['The earliest evidence for the Easter Hare was recorded in south-west Germany in 1678 by Georg Franck von Franckenau.', 'Georg Franck von Franckenau was a professor of medicine.', 'The evidence for the Easter Hare remained unknown in other parts of Germany until the 18th century.', 'Richard Sermon was a scholar.', 'Richard Sermon writes a hypothesis about the possible explanation for the connection between hares and the tradition during Easter.', 'Hares were frequently seen in gardens in spring.', 'Hares may have served as a convenient explanation for the origin of the colored eggs hidden in gardens for children.', 'There is a European tradition that hares laid eggs.', 'A hare’s scratch or form and a lapwing’s nest look very similar.', 'Both hares and lapwing’s nests occur on grassland and are first seen in the spring.', 'In the nineteenth century the influence of Easter cards, toys, and books was to make the Easter Hare/Rabbit popular throughout Europe.', 'German immigrants exported the custom of the Easter Hare/Rabbit to Britain and America.', 'The custom of the Easter Hare/Rabbit evolved into the Easter Bunny in Britain and America.']\"\n",
        "    }\n",
        "]\n",
        "\n",
        "example_proposition_prompt = ChatPromptTemplate.from_messages(\n",
        "    [\n",
        "        (\"human\", \"{document}\"),\n",
        "        (\"ai\", \"{propositions}\"),\n",
        "    ]\n",
        ")\n",
        "prop_few_shot_prompt = FewShotChatMessagePromptTemplate(\n",
        "    example_prompt = example_proposition_prompt,\n",
        "    examples = proposition_examples,\n",
        ")\n"
      ],
      "metadata": {
        "id": "Xqcun4KmPu9K"
      },
      "execution_count": 120,
      "outputs": []
    },
    {
      "cell_type": "code",
      "source": [
        "prop_system  = '''Decompose the Passage below into clear and simple propositions, ensuring they are interpretable out of\n",
        "context.\n",
        "1. Split compound sentence into simple sentences. Maintain the original phrasing from the input\n",
        "whenever possible.\n",
        "2. For any named entity that is accompanied by additional descriptive information, separate this\n",
        "information into its own distinct proposition.\n",
        "3. Decontextualize the proposition by adding necessary modifier to nouns or entire sentences\n",
        "and replacing pronouns (e.g., \"it\", \"he\", \"she\", \"they\", \"this\", \"that\") with the full name of the\n",
        "entities they refer to.\n",
        "4. Present the results as a list of strings, formatted in JSON.\n",
        "\n",
        "Output format:\n",
        "1. Present the results as a JSON object with a key `\"sentences\"`, and the value should be an array of strings.\n",
        "'''\n",
        "\n",
        "proposition_prompt = ChatPromptTemplate.from_messages(\n",
        "    [\n",
        "        (\"system\", prop_system),\n",
        "        prop_few_shot_prompt,\n",
        "        (\"human\", \"{document}\"),\n",
        "    ]\n",
        ")\n"
      ],
      "metadata": {
        "id": "Vojah1udQY_J"
      },
      "execution_count": 121,
      "outputs": []
    },
    {
      "cell_type": "code",
      "source": [
        "#Put propositioned result into a new doc\n",
        "def get_new_prop_doc(relevant_sections, prop_results):\n",
        "  proposition_docs = []\n",
        "  for original_doc, result in zip(relevant_sections, prop_results):\n",
        "      for sentence in result.sentences:\n",
        "        proposition_docs.append(Document(\n",
        "              page_content=sentence,\n",
        "              metadata={}\n",
        "          ))\n",
        "  return proposition_docs"
      ],
      "metadata": {
        "id": "JLfPGZO33R_F"
      },
      "execution_count": 122,
      "outputs": []
    },
    {
      "cell_type": "markdown",
      "source": [
        "# Main RAG end to end: Generation\n"
      ],
      "metadata": {
        "id": "E8JCYikZ7Vi9"
      }
    },
    {
      "cell_type": "code",
      "source": [
        "#Vector stpre folder path\n",
        "#Recheck pwd\n",
        "!ls\n",
        "L1_vector_folder = 'L1_vector_test'\n",
        "L2_vector_folder = 'L2_vector_prop'"
      ],
      "metadata": {
        "colab": {
          "base_uri": "https://localhost:8080/"
        },
        "id": "nI2GBr_cECn7",
        "outputId": "79e1e302-ac45-4e1f-c391-0b161c359ff2"
      },
      "execution_count": 45,
      "outputs": [
        {
          "output_type": "stream",
          "name": "stdout",
          "text": [
            " Baseline.ipynb\t\t 'L1_Process_Chunk&Save.ipynb'\t Proposition_Light.ipynb\n",
            " Baseline_vector\t  L1_vector\t\t\t Proposition_Sample.ipynb\n",
            " dense_pack\t\t  L1_vector_test\t\t rag_sw_ver2.ipynb\n",
            " evaluation\t\t  L1_vector_test_2\t\t rag_sw_ver3.ipynb\n",
            " Evaluation.ipynb\t  L2_vector_prop\t\t test_single_doc.json\n",
            " gold_test_file_30.json   Proposition_Complete.ipynb\n"
          ]
        }
      ]
    },
    {
      "cell_type": "code",
      "source": [
        "file_path=\"gold_test_file_30.json\"\n",
        "test_documents = load_documents(file_path)"
      ],
      "metadata": {
        "id": "HwvSRP-o8zCr"
      },
      "execution_count": 46,
      "outputs": []
    },
    {
      "cell_type": "markdown",
      "source": [
        "## Step 1: Load L1 local vectorstore"
      ],
      "metadata": {
        "id": "2moeWDVrztam"
      }
    },
    {
      "cell_type": "code",
      "source": [
        "embeddings = OpenAIEmbeddings()"
      ],
      "metadata": {
        "id": "vvaAm15Xz0xJ"
      },
      "execution_count": 47,
      "outputs": []
    },
    {
      "cell_type": "code",
      "source": [
        "L1_vectorstore = Chroma(\n",
        "    persist_directory=L1_vector_folder,\n",
        "    embedding_function=embeddings\n",
        ")"
      ],
      "metadata": {
        "id": "g7q8aDgEzyVB"
      },
      "execution_count": 48,
      "outputs": []
    },
    {
      "cell_type": "code",
      "source": [
        "#Verify local load result\n",
        "total_docs = L1_vectorstore._collection.count()\n",
        "if total_docs > 0:\n",
        "    print(f\"Vectorstore contains {total_docs} documents\")\n",
        "else:\n",
        "    print(\"Vectorstore is empty\")"
      ],
      "metadata": {
        "colab": {
          "base_uri": "https://localhost:8080/"
        },
        "id": "snuinIXx2GBC",
        "outputId": "bf1deaa8-5c81-4939-e7aa-0cdf1a9002e8"
      },
      "execution_count": 49,
      "outputs": [
        {
          "output_type": "stream",
          "name": "stdout",
          "text": [
            "Vectorstore contains 808 documents\n"
          ]
        }
      ]
    },
    {
      "cell_type": "markdown",
      "source": [
        "## Step 2: When user input a query, start L1 Retrival + L2 Chunking"
      ],
      "metadata": {
        "id": "IOFPdoFqAGuM"
      }
    },
    {
      "cell_type": "markdown",
      "source": [
        "### variable definition"
      ],
      "metadata": {
        "id": "Snl20XuTdvyf"
      }
    },
    {
      "cell_type": "code",
      "source": [
        "L1_top_k =3\n",
        "result_top_k =10\n",
        "temp=0.2\n",
        "topp=0.9\n",
        "L2_model = 'gpt-4-turbo'\n",
        "#gpt-4-turbo\n",
        "#gpt-3.5-turbo\n",
        "\n",
        "#Set L1 retriever\n",
        "L1_retriever=L1_vectorstore.as_retriever(search_type=\"mmr\",search_kwargs={\"k\":L1_top_k})\n",
        "#L2 Model setup\n",
        "llm = ChatOpenAI(model=L2_model, openai_api_key =  os.environ[\"OPENAI_API_KEY\"])\n",
        "\n",
        "L2_runnable = proposition_prompt | llm | parser"
      ],
      "metadata": {
        "id": "RFzjnDzVdP6D"
      },
      "execution_count": 161,
      "outputs": []
    },
    {
      "cell_type": "code",
      "source": [
        "#Collect All questions from All documents\n",
        "test_questions = [\n",
        "    eachDoc.metadata[\"question_text\"]\n",
        "    for eachDoc in test_documents\n",
        "    if \"question_text\" in eachDoc.metadata\n",
        "]\n",
        "\n",
        "print(test_questions)"
      ],
      "metadata": {
        "colab": {
          "base_uri": "https://localhost:8080/"
        },
        "id": "Px1iWBk1HyM4",
        "outputId": "110da550-aa0e-4c1f-c1f7-606e3285a538"
      },
      "execution_count": 162,
      "outputs": [
        {
          "output_type": "stream",
          "name": "stdout",
          "text": [
            "['who sang the theme tune to absolutely fabulous', 'where did the annual wife carrying world championships take place', 'when was figure skating introduced to the olympics', 'who sings in the eye of the storm', 'who won the primary for governor of illinois', 'where did they film american horror story coven', 'what is the main job of the pharynx', \"what film has the song don't you forget about me\", 'where is archangel raphael mentioned in the bible', 'who sings the theme song to one tree hill', 'who fired the first shot of the civil war at fort sumter', 'who plays amy on the secret life of an american teenager', 'when is the second sound of the heartbeat produced', 'who plays chuck on the tv show chuck', 'which olsen twin was in full house more', 'how much money does argentina make from tourism', 'who did the french revolt against in 1789', 'who is the kicker for the new york giants', 'who played the mom in lost in space 2018', 'who recorded the song do you love me', 'how is the energy generated in a main sequence star', 'where is the best farming soil in the us and where did all the dirt come from', 'when did humans first occupy the international space station', 'who played darth vader in the original trilogy', 'what is the difference between priest and bishop', 'what does c class stand for in mercedes benz', 'how many episodes will prison break season 5 have', 'when was the 1913 natives land act repealed', 'where was best years of our lives filmed', 'summary of philip sidney an apology for poetry']\n"
          ]
        }
      ]
    },
    {
      "cell_type": "markdown",
      "source": [
        "### L2 Main codes"
      ],
      "metadata": {
        "id": "1kF1zDqud0fx"
      }
    },
    {
      "cell_type": "code",
      "source": [
        "# call remaining processing part + print result\n",
        "def get_L2_retrival_result(in_query,top_k,result_top_k):\n",
        "  L2_result = L1_Retrival_L2_Complete(in_query,result_top_k)\n",
        "  print(f\"--L2 Retrieved {len(L2_result)} relavant sections\")\n",
        "  #Debug\n",
        "  # print(L2_result)\n",
        "  return L2_result"
      ],
      "metadata": {
        "id": "9WzxcGD3Aq9r"
      },
      "execution_count": 190,
      "outputs": []
    },
    {
      "cell_type": "code",
      "source": [
        "#The main funciton that complete L1 retrival + L2 chunking&retrieval\n",
        "def L1_Retrival_L2_Complete(in_query,result_top_k):\n",
        "\n",
        "  #Step 1: Get L1 relavant section based on the input question\n",
        "  L1_relevant_sections= retrieve_section(L1_retriever,in_query)\n",
        "  print(f\"--- L1 Retrieved {len(L1_relevant_sections)} relavant sections\")\n",
        "  L1_relevant_sections_texts = [doc.page_content for doc in L1_relevant_sections]\n",
        "\n",
        "  #For Debug\n",
        "  # print(L1_relevant_sections_texts)\n",
        "\n",
        "  # Step 2: Start L2 based on L1 result\n",
        "  #Run Proposition Model\n",
        "  print(f\"Running Proposition...\")\n",
        "  L2_prop_results = [L2_runnable.invoke({\"document\": text}) for text in L1_relevant_sections_texts]\n",
        "  if not L2_prop_results:\n",
        "    return 'No Found'\n",
        "  # print(L2_prop_results)\n",
        "  proposition_docs = get_new_prop_doc(L1_relevant_sections, L2_prop_results)\n",
        "  print(f\"{len(proposition_docs)} proposition docs to be embeded\")\n",
        "  print(proposition_docs)\n",
        "\n",
        "  if len(proposition_docs)>1:\n",
        "  #Save L2 result to vector database\n",
        "    L2_vectorstore=create_faiss_vec_store(proposition_docs,L2_vector_folder)\n",
        "    L2_retriever=L2_vectorstore.as_retriever(search_type=\"similarity\", search_kwargs={\"k\": result_top_k} )\n",
        "\n",
        "    #L2 Retrieval\n",
        "    L2_relevant_sections=retrieve_section(L2_retriever,in_query)\n",
        "    L2_relevant_sec_text = [eachL2Doc.page_content for eachL2Doc in L2_relevant_sections]\n",
        "  else:\n",
        "    return 'No Found'\n",
        "\n",
        "  return L2_relevant_sec_text\n"
      ],
      "metadata": {
        "id": "CSJuyBBvArtm"
      },
      "execution_count": 191,
      "outputs": []
    },
    {
      "cell_type": "code",
      "source": [
        "def get_API_response(client,sys_prompt,user_prompt,temp,topp):\n",
        "  completion=client.chat.completions.create(\n",
        "      model=\"gpt-4o\",\n",
        "      temperature=temp,\n",
        "      top_p=topp,\n",
        "      messages=[\n",
        "          {\"role\":\"system\",\"content\":sys_prompt},\n",
        "          {\"role\":\"user\",\"content\":user_prompt}\n",
        "      ],\n",
        "  )\n",
        "  response=completion.choices[0].message.content\n",
        "  return response"
      ],
      "metadata": {
        "id": "sUiYsnUA8Nkx"
      },
      "execution_count": 192,
      "outputs": []
    },
    {
      "cell_type": "code",
      "source": [
        "def build_question_to_gold_answer_map(in_documents):\n",
        "\n",
        "    question_to_gold = {}\n",
        "\n",
        "    for doc in in_documents:\n",
        "        question = doc.metadata.get(\"question_text\", \"\").strip()\n",
        "        gold = doc.metadata.get(\"gold_answer\", {})\n",
        "        question_to_gold[question] = gold\n",
        "\n",
        "    return question_to_gold\n"
      ],
      "metadata": {
        "id": "PHRo-2p0Ab7m"
      },
      "execution_count": 193,
      "outputs": []
    },
    {
      "cell_type": "code",
      "source": [
        "def RAG_generation(questions,top_k,result_top_k,question_to_gold_map,mode='test'):\n",
        "  answer_NQ_client=OpenAI(api_key=os.environ.get(\"OPENAI_API_KEY\"))\n",
        "\n",
        "\n",
        "  run_results = []\n",
        "\n",
        "  for i in range(len(questions)):\n",
        "    question_curr = questions[i]\n",
        "    print(f\"============={i+1} Question:{question_curr}=============\")\n",
        "\n",
        "    relevant_content = get_L2_retrival_result(question_curr,top_k,result_top_k)\n",
        "\n",
        "    #Convert document into text before pass into the prompt!\n",
        "    relevant_content_text = \"\\n\\n\".join(relevant_content)\n",
        "\n",
        "    sys_prompt=\"\"\n",
        "    user_prompt=f\"\"\"\n",
        "    Answer the question **directly and concisely** using only the provided context.\n",
        "      - Do not repeat the question.\n",
        "      - Do not include information not in the context.\n",
        "      - If the answer is unclear or not found, say 'I don't have the answer.'\n",
        "\n",
        "    Question: {question_curr}\n",
        "    Relevant contents:{relevant_content_text}\n",
        "    \"\"\"\n",
        "    # print(user_prompt)\n",
        "    response=get_API_response(answer_NQ_client,sys_prompt,user_prompt,temp,topp)\n",
        "    print('-------Final Answer:-------------')\n",
        "    print(f\"Question: {question_curr}\\n Response: {response}\")\n",
        "\n",
        "    #save to output file\n",
        "    gold_answer = question_to_gold_map.get(question_curr.strip(), \"\")\n",
        "    run_results.append({\n",
        "      \"input_question\": question_curr,\n",
        "      \"retrieved_contexts\": relevant_content,\n",
        "      \"response\": response,\n",
        "      \"gold_answer\": gold_answer\n",
        "    })\n",
        "\n",
        "    if mode == 'test':\n",
        "      break\n",
        "    else:\n",
        "      continue\n",
        "\n",
        "  return run_results\n"
      ],
      "metadata": {
        "id": "lsZHGQIh7XIF"
      },
      "execution_count": 194,
      "outputs": []
    },
    {
      "cell_type": "markdown",
      "source": [
        "### Run Main Proposition"
      ],
      "metadata": {
        "id": "qzH2_Zv6d7Hp"
      }
    },
    {
      "cell_type": "code",
      "source": [
        "question_to_gold_map = build_question_to_gold_answer_map(test_documents)\n",
        "run_results = RAG_generation(test_questions,L1_top_k,result_top_k,question_to_gold_map,mode='test')"
      ],
      "metadata": {
        "colab": {
          "base_uri": "https://localhost:8080/"
        },
        "id": "21DvOtdV8ZCc",
        "outputId": "e4196ce0-f982-422f-f061-93192860a311"
      },
      "execution_count": 195,
      "outputs": [
        {
          "output_type": "stream",
          "name": "stdout",
          "text": [
            "=============1 Question:who sang the theme tune to absolutely fabulous=============\n",
            "--- L1 Retrieved 3 relavant sections\n",
            "Running Proposition...\n",
            "53 proposition docs to be embeded\n",
            "[Document(metadata={}, page_content=\"The theme song for Absolutely Fabulous is 'This Wheel's on Fire'.\"), Document(metadata={}, page_content=\"'This Wheel's on Fire' was written by Bob Dylan and Rick Danko.\"), Document(metadata={}, page_content=\"'This Wheel's on Fire' was performed by Julie Driscoll and Adrian Edmondson.\"), Document(metadata={}, page_content=\"Adrian Edmondson is Saunders' husband.\"), Document(metadata={}, page_content=\"Marianne Faithfull and P.P. Arnold also sang 'This Wheel's on Fire' for the 'Last Shout' special in 1996.\"), Document(metadata={}, page_content=\"Hermine Demoriane sang a French version of 'This Wheel's on Fire' over the closing credits of the episode 'Paris'.\"), Document(metadata={}, page_content=\"At the end of the episode 'Birthday', Edina and Patsy sang 'This Wheel's on Fire' together using a karaoke machine.\"), Document(metadata={}, page_content=\"Debbie Harry sang 'This Wheel's on Fire' and guest-starred in the 2002 Christmas special 'Gay'.\"), Document(metadata={}, page_content=\"For series four of Absolutely Fabulous, a line from the song 'Ziggy Stardust' by David Bowie, 'Ziggy played guitar', played at the end of each episode.\"), Document(metadata={}, page_content=\"The theme song 'This Wheel's on Fire' is missing from many of the US Region 1 DVDs of Absolutely Fabulous.\"), Document(metadata={}, page_content=\"An instrumental version of 'This Wheel's on Fire' replaced the original theme song on many of the US Region 1 DVDs.\"), Document(metadata={}, page_content=\"A musical number from Chicago performed by Horrocks, Gaffney, and Ryan during a dream sequence in the series 5 episode 'Birthin'' was excised from the US DVD release.\"), Document(metadata={}, page_content='In 1994, Pet Shop Boys recorded a song for Comic Relief using excerpts of dialogue from Absolutely Fabulous put to dance music.'), Document(metadata={}, page_content=\"The single from 1994 was attributed to 'Absolutely Fabulous produced by Pet Shop Boys'.\"), Document(metadata={}, page_content='The single peaked at number 6 in the UK Singles Chart in July 1994.'), Document(metadata={}, page_content='The music video for the 1994 single featured clips from Absolutely Fabulous and specially recorded footage of the Pet Shop Boys with Patsy and Edina.'), Document(metadata={}, page_content=\"On 10 June 2016, Kylie Minogue released her version of 'This Wheel's on Fire' for Absolutely Fabulous: The Movie.\"), Document(metadata={}, page_content='Absolutely Fabulous: The Movie was released in July 2016.'), Document(metadata={}, page_content=\"Absolutely Fabulous evolved from a sketch called 'Modern Mother and Daughter'.\"), Document(metadata={}, page_content=\"'Modern Mother and Daughter' is a sketch from the French & Saunders series 3 episode 6.\"), Document(metadata={}, page_content=\"In the sketch 'Modern Mother and Daughter', Saunders starred as the mother named 'Adrianna'.\"), Document(metadata={}, page_content=\"In the sketch 'Modern Mother and Daughter', French starred as the daughter already named Saffron.\"), Document(metadata={}, page_content=\"The sketch 'Modern Mother and Daughter' revolved around a middle-aged, single mother who acted like a teenager.\"), Document(metadata={}, page_content=\"The mother in the sketch 'Modern Mother and Daughter' was reliant upon the emotional and financial support of her teenage daughter.\"), Document(metadata={}, page_content=\"The daughter in the sketch 'Modern Mother and Daughter' behaved like a middle-aged woman.\"), Document(metadata={}, page_content=\"Absolutely Fabulous has no connection to the earlier film 'Eddie Monsoon: A Life?', other than the character's name.\"), Document(metadata={}, page_content=\"'Eddie Monsoon: A Life?' is a comedy play written by Saunders' husband Adrian Edmondson in 1984.\"), Document(metadata={}, page_content=\"'Eddie Monsoon: A Life?' was written for the TV series 'The Comic Strip Presents...'.\"), Document(metadata={}, page_content=\"The name 'Edina Monsoon' in Absolutely Fabulous is derived from Adrian Edmondson's name.\"), Document(metadata={}, page_content=\"'Eddy Monsoon' is a nickname of Adrian Edmondson.\"), Document(metadata={}, page_content='According to an article published in The Times, the character of Edina in Absolutely Fabulous was based on Lynne Franks.'), Document(metadata={}, page_content='Lynne Franks believed Saunders had observed her and her children in detail after joining them on a family holiday.'), Document(metadata={}, page_content='Josh Howie, son of Lynne Franks, reported that his mother was upset because one of her best friends had taken the piss out of her in a TV show.'), Document(metadata={}, page_content='Saunders revealed in 2012 that she was also inspired by the pop band Bananarama.'), Document(metadata={}, page_content='Saunders and Dawn French became friends with Bananarama after their Comic Relief collaboration in 1989.'), Document(metadata={}, page_content='Saunders described the nights with Bananarama as some of the best nights of her life.'), Document(metadata={}, page_content='Bananarama were big vodka drinkers.'), Document(metadata={}, page_content='Saunders got a lot of gags from Bananarama.'), Document(metadata={}, page_content='Saunders remembered all of the falls that she saw Bananarama do when she started doing Absolutely Fabulous.'), Document(metadata={}, page_content='Saunders once saw one of the members of Bananarama coming out of a cab bottom first and hitting the road.'), Document(metadata={}, page_content='Saunders thought that the incident with the member of Bananarama was class.'), Document(metadata={}, page_content=\"Absolutely Fabulous was produced by Saunders and French's production company.\"), Document(metadata={}, page_content=\"Dawn French appeared on Absolutely Fabulous only once, in a cameo in the first series episode 'Magazine'.\"), Document(metadata={}, page_content='Dawn French made a brief cameo in the 2016 film of Absolutely Fabulous.'), Document(metadata={}, page_content=\"Three new specials of Absolutely Fabulous were announced to celebrate the show's 20th anniversary.\"), Document(metadata={}, page_content=\"The first special of the new Absolutely Fabulous specials was titled 'Identity'.\"), Document(metadata={}, page_content=\"The special 'Identity' aired on 25 December 2011.\"), Document(metadata={}, page_content='Jon Plowman, executive producer and original producer of Absolutely Fabulous, commented on the loyalty of the viewers.'), Document(metadata={}, page_content='Jon Plowman said that it was thrilling that Absolutely Fabulous was coming back for three new shows to celebrate the 20th anniversary.'), Document(metadata={}, page_content='Jon Plowman mentioned that all of the original cast members were back together for the new specials.'), Document(metadata={}, page_content='Jon Plowman said that the new adventures of Edina, Patsy, Saffy, Bubble, and Mother in Absolutely Fabulous, along with some surprising guests, would be a treat for viewers.'), Document(metadata={}, page_content='Saunders announced in November 2011 that she had begun work on a film version of Absolutely Fabulous.'), Document(metadata={}, page_content='Absolutely Fabulous is a topic on Wikipedia.')]\n",
            "--L2 Retrieved 10 relavant sections\n",
            "-------Final Answer:-------------\n",
            "Question: who sang the theme tune to absolutely fabulous\n",
            " Response: I don't have the answer.\n"
          ]
        }
      ]
    },
    {
      "cell_type": "code",
      "source": [
        "#mmr\n",
        "run_results"
      ],
      "metadata": {
        "colab": {
          "base_uri": "https://localhost:8080/"
        },
        "id": "BpkkiXl0m6lG",
        "outputId": "4c4164c9-5dcf-486e-e1e6-705e9e60bf01"
      },
      "execution_count": 188,
      "outputs": [
        {
          "output_type": "execute_result",
          "data": {
            "text/plain": [
              "[{'input_question': 'who sang the theme tune to absolutely fabulous',\n",
              "  'retrieved_contexts': [\"The theme song for 'Absolutely Fabulous' is 'This Wheel's on Fire'.\",\n",
              "   \"In 1994, Pet Shop Boys recorded a song for Comic Relief using excerpts of dialogue from 'Absolutely Fabulous' put to dance music.\",\n",
              "   'Dawn French appeared on Absolutely Fabulous only once.',\n",
              "   'Jon Plowman expressed excitement that Absolutely Fabulous was returning for three new shows.',\n",
              "   \"Absolutely Fabulous was produced by Saunders and French's production company.\",\n",
              "   \"The theme song is missing from many of the US Region 1 DVDs of 'Absolutely Fabulous' due to copyright issues.\",\n",
              "   \"For series four, a line from 'Ziggy Stardust' by David Bowie, 'Ziggy played guitar', played at the end of each episode.\",\n",
              "   \"Absolutely Fabulous has no connection, other than the character's name, to the earlier film 'Eddie Monsoon: A Life?'.\",\n",
              "   'Saunders remembered the falls that she saw Bananarama do when she started doing Absolutely Fabulous.',\n",
              "   'Absolutely Fabulous is an entry on Wikipedia.'],\n",
              "  'response': \"I don't have the answer.\",\n",
              "  'gold_answer': {'long_answer': \"The theme song for Absolutely Fabulous is `` This Wheel 's on Fire '' , written by Bob Dylan and Rick Danko and performed by Julie Driscoll and Saunders ' husband Adrian Edmondson . The song was also sung by Marianne Faithfull and P.P. Arnold for the `` Last Shout '' special in 1996 . Hermine Demoriane sang a French version of the theme song over the closing credits of the episode `` Paris '' . At the end of the episode `` Birthday '' , Edina and Patsy sang the song together using a karaoke machine . More recently , it has been sung by Debbie Harry , who also guest - starred in the 2002 Christmas special `` Gay '' . For series four , a line sung by David Bowie , `` Ziggy played guitar '' , from the song `` Ziggy Stardust '' played at the end of each episode .\",\n",
              "   'short_answers': []}}]"
            ]
          },
          "metadata": {},
          "execution_count": 188
        }
      ]
    },
    {
      "cell_type": "code",
      "source": [
        "#similarity\n",
        "run_results"
      ],
      "metadata": {
        "colab": {
          "base_uri": "https://localhost:8080/"
        },
        "id": "8hYdGIf_jAsJ",
        "outputId": "5228c077-2837-42e0-9a83-18c98a4a79fa"
      },
      "execution_count": 197,
      "outputs": [
        {
          "output_type": "execute_result",
          "data": {
            "text/plain": [
              "[{'input_question': 'who sang the theme tune to absolutely fabulous',\n",
              "  'retrieved_contexts': [\"The theme song for Absolutely Fabulous is 'This Wheel's on Fire'.\",\n",
              "   'In 1994, Pet Shop Boys recorded a song for Comic Relief using excerpts of dialogue from Absolutely Fabulous put to dance music.',\n",
              "   \"The single from 1994 was attributed to 'Absolutely Fabulous produced by Pet Shop Boys'.\",\n",
              "   'The music video for the 1994 single featured clips from Absolutely Fabulous and specially recorded footage of the Pet Shop Boys with Patsy and Edina.',\n",
              "   \"For series four of Absolutely Fabulous, a line from the song 'Ziggy Stardust' by David Bowie, 'Ziggy played guitar', played at the end of each episode.\",\n",
              "   \"Absolutely Fabulous was produced by Saunders and French's production company.\",\n",
              "   \"The first special of the new Absolutely Fabulous specials was titled 'Identity'.\",\n",
              "   \"The theme song 'This Wheel's on Fire' is missing from many of the US Region 1 DVDs of Absolutely Fabulous.\",\n",
              "   'Jon Plowman said that it was thrilling that Absolutely Fabulous was coming back for three new shows to celebrate the 20th anniversary.',\n",
              "   \"Three new specials of Absolutely Fabulous were announced to celebrate the show's 20th anniversary.\"],\n",
              "  'response': \"I don't have the answer.\",\n",
              "  'gold_answer': {'long_answer': \"The theme song for Absolutely Fabulous is `` This Wheel 's on Fire '' , written by Bob Dylan and Rick Danko and performed by Julie Driscoll and Saunders ' husband Adrian Edmondson . The song was also sung by Marianne Faithfull and P.P. Arnold for the `` Last Shout '' special in 1996 . Hermine Demoriane sang a French version of the theme song over the closing credits of the episode `` Paris '' . At the end of the episode `` Birthday '' , Edina and Patsy sang the song together using a karaoke machine . More recently , it has been sung by Debbie Harry , who also guest - starred in the 2002 Christmas special `` Gay '' . For series four , a line sung by David Bowie , `` Ziggy played guitar '' , from the song `` Ziggy Stardust '' played at the end of each episode .\",\n",
              "   'short_answers': []}}]"
            ]
          },
          "metadata": {},
          "execution_count": 197
        }
      ]
    },
    {
      "cell_type": "code",
      "source": [
        "def save_test_output(run_results):\n",
        "  today = datetime.today().strftime(\"%Y-%m-%d\")\n",
        "  output_path = f\"./evaluation/run_results_proposition_{L2_model}_{today}.json\"\n",
        "\n",
        "  with open(output_path, \"w\", encoding=\"utf-8\") as f:\n",
        "      json.dump(run_results, f, indent=4, ensure_ascii=False)\n",
        "\n",
        "  print(f\"Saved {len(run_results)} results to {output_path}\")"
      ],
      "metadata": {
        "id": "98ft_FWKEB9E"
      },
      "execution_count": 135,
      "outputs": []
    },
    {
      "cell_type": "code",
      "source": [
        "save_test_output(run_results)"
      ],
      "metadata": {
        "colab": {
          "base_uri": "https://localhost:8080/"
        },
        "id": "RK5xF4BXEXMW",
        "outputId": "b7a2fe66-8a2d-4655-be3c-b4afc56d15db"
      },
      "execution_count": 136,
      "outputs": [
        {
          "output_type": "stream",
          "name": "stdout",
          "text": [
            "Saved 30 results to ./evaluation/run_results_proposition_gpt3.5_2025-04-05.json\n"
          ]
        }
      ]
    },
    {
      "cell_type": "markdown",
      "source": [
        "**Note**: When run with GPT4, the response is pretty accurate.\n",
        "when L1_top_k =3, result_top_k =5, the first example results in 12 proposition, and the cost is around $0.04, the result is accurate."
      ],
      "metadata": {
        "id": "ncDDgCU7E7ny"
      }
    },
    {
      "cell_type": "markdown",
      "source": [
        "For 1 data sample with 40 proposition, it takes $0.01\n",
        "\n",
        "**For GPT3.5 Turbo, 30 data samples(on average each has 40 proposition) takes $0.1**\n",
        "\n",
        "for GPT4.0Turbo, 30 data sample take $3.6-"
      ],
      "metadata": {
        "id": "OUe0k9GAGL0k"
      }
    }
  ]
}