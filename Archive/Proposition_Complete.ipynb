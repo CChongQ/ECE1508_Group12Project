{
  "nbformat": 4,
  "nbformat_minor": 0,
  "metadata": {
    "colab": {
      "provenance": [],
      "gpuType": "T4"
    },
    "kernelspec": {
      "name": "python3",
      "display_name": "Python 3"
    },
    "language_info": {
      "name": "python"
    },
    "accelerator": "GPU"
  },
  "cells": [
    {
      "cell_type": "markdown",
      "source": [
        "# Environmetn Setup"
      ],
      "metadata": {
        "id": "JGEI9OjIrbA2"
      }
    },
    {
      "cell_type": "code",
      "execution_count": null,
      "metadata": {
        "id": "NCc9CdAkexQA"
      },
      "outputs": [],
      "source": [
        "!pip install --quiet --upgrade langchain-text-splitters langchain-community langgraph\n",
        "!pip install -qU \"langchain[openai]\" # select chat model OpenAI\n",
        "!pip install -U langchain langchain-core langchain-community"
      ]
    },
    {
      "cell_type": "code",
      "source": [
        "!pip install -qU langchain-openai # select embeddings model OpenAI\n",
        "!pip install -qU langchain-community # select vector store FAISS\n",
        "!pip install jq\n",
        "!pip install faiss-cpu"
      ],
      "metadata": {
        "id": "EIJKBWd_fQrV"
      },
      "execution_count": null,
      "outputs": []
    },
    {
      "cell_type": "code",
      "source": [
        "from openai import OpenAI\n",
        "import json\n",
        "import faiss\n",
        "import re\n",
        "import getpass\n",
        "import os"
      ],
      "metadata": {
        "id": "Qy3MpCwZFR8L"
      },
      "execution_count": 172,
      "outputs": []
    },
    {
      "cell_type": "code",
      "source": [
        "\n",
        "from langchain_community.document_loaders import JSONLoader\n",
        "from langchain_text_splitters import HTMLSectionSplitter\n",
        "from langchain_core.documents import Document\n",
        "from langchain.vectorstores import FAISS\n",
        "from langchain.embeddings import OpenAIEmbeddings\n",
        "from langchain.output_parsers.openai_tools import JsonOutputToolsParser\n",
        "from langchain_community.chat_models import ChatOpenAI\n",
        "from langchain_core.prompts import ChatPromptTemplate\n",
        "from langchain_core.runnables import RunnableLambda\n",
        "from langchain.chains import create_extraction_chain\n",
        "from langchain.chains import create_extraction_chain_pydantic\n",
        "from langchain import hub\n",
        "from langchain_core.pydantic_v1 import BaseModel\n",
        "from langchain.output_parsers import PydanticOutputParser\n",
        "from langchain.prompts import PromptTemplate\n",
        "from pydantic import BaseModel\n",
        "from typing import Optional, List\n"
      ],
      "metadata": {
        "id": "ClKCfdTSGZgQ"
      },
      "execution_count": 173,
      "outputs": []
    },
    {
      "cell_type": "code",
      "source": [
        "if not os.environ.get(\"OPENAI_API_KEY\"):\n",
        "  os.environ[\"OPENAI_API_KEY\"] = getpass.getpass(\"Enter API key for OpenAI: \")"
      ],
      "metadata": {
        "id": "YS1gRamHfY1c"
      },
      "execution_count": 174,
      "outputs": []
    },
    {
      "cell_type": "code",
      "source": [
        "from google.colab import drive\n",
        "drive.mount('/content/drive')\n",
        "\n",
        "%cd  /content/drive/MyDrive/ECE1508_Project/Codes"
      ],
      "metadata": {
        "colab": {
          "base_uri": "https://localhost:8080/"
        },
        "id": "pKEpu0O6fgMx",
        "outputId": "286e825a-1e57-40ce-9962-812760dc0d43"
      },
      "execution_count": 175,
      "outputs": [
        {
          "output_type": "stream",
          "name": "stdout",
          "text": [
            "Drive already mounted at /content/drive; to attempt to forcibly remount, call drive.mount(\"/content/drive\", force_remount=True).\n",
            "/content/drive/MyDrive/ECE1508_Project/Codes\n"
          ]
        }
      ]
    },
    {
      "cell_type": "markdown",
      "source": [
        "# Helpers"
      ],
      "metadata": {
        "id": "s5eNbOcwD6o9"
      }
    },
    {
      "cell_type": "markdown",
      "source": [
        "## Load Test Doc"
      ],
      "metadata": {
        "id": "MuhooPOlrhK1"
      }
    },
    {
      "cell_type": "code",
      "source": [
        "def metadata_fuc(record:dict,metadata:dict)->dict:\n",
        "  questions=record.get(\"questions\",[])\n",
        "  metadata[\"question_texts\"]=[q.get(\"question_text\") for q in questions]\n",
        "  metadata[\"document_url\"]=record.get(\"document_url\")\n",
        "  metadata[\"Title\"] = record.get(\"title\", \"Untitled Document\")\n",
        "  return metadata"
      ],
      "metadata": {
        "id": "cFP1-rLTgr11"
      },
      "execution_count": 176,
      "outputs": []
    },
    {
      "cell_type": "code",
      "source": [
        "def load_documents(file_path):\n",
        "  loader=JSONLoader(\n",
        "    file_path=file_path,\n",
        "    jq_schema=\".\",\n",
        "    content_key=\"document_text\",\n",
        "    metadata_func=metadata_fuc\n",
        "  )\n",
        "  documents=loader.load()\n",
        "\n",
        "  return documents"
      ],
      "metadata": {
        "id": "AKoIS4oc9LFJ"
      },
      "execution_count": 177,
      "outputs": []
    },
    {
      "cell_type": "markdown",
      "source": [
        "## Vector Store Helpers"
      ],
      "metadata": {
        "id": "zIcK9WKO48gk"
      }
    },
    {
      "cell_type": "code",
      "source": [
        "def create_faiss_vec_store(elemnts_to_emb, folder_name):\n",
        "  vectorstore=FAISS.from_documents(elemnts_to_emb,embedding=OpenAIEmbeddings())\n",
        "  vectorstore.save_local(folder_name)\n",
        "  return vectorstore"
      ],
      "metadata": {
        "id": "VkWWcJwu4_mh"
      },
      "execution_count": 178,
      "outputs": []
    },
    {
      "cell_type": "markdown",
      "source": [
        "## Retriver Helpers"
      ],
      "metadata": {
        "id": "o7-Cx6fN6Off"
      }
    },
    {
      "cell_type": "code",
      "source": [
        "# retrieve the top K contents\n",
        "def retrieve_section(in_retriever,query,top_k):\n",
        "  results=in_retriever.get_relevant_documents(query)\n",
        "  if not results:\n",
        "    return None\n",
        "  top_5_match=results[:top_k]\n",
        "  # for i in range(5):\n",
        "  #   print(f\"No.{i+1} chunk: {top_5_match[i]}\")\n",
        "\n",
        "  return top_5_match\n"
      ],
      "metadata": {
        "id": "b5gC4gab6QCC"
      },
      "execution_count": 179,
      "outputs": []
    },
    {
      "cell_type": "code",
      "source": [
        "#Run retriver for the input query\n",
        "def get_retrieve_section(in_retriever,in_query,top_k):\n",
        "  print(f\"Retrieving answer for query: {in_query}\")\n",
        "  relevant_sections=retrieve_section(in_retriever,in_query,top_k)\n",
        "  return relevant_sections"
      ],
      "metadata": {
        "id": "z-N6Hacn6SPI"
      },
      "execution_count": 180,
      "outputs": []
    },
    {
      "cell_type": "markdown",
      "source": [
        "\n",
        "## Level 1 Helpers"
      ],
      "metadata": {
        "id": "XrOFCx9fqrn4"
      }
    },
    {
      "cell_type": "markdown",
      "source": [
        "**Document Chunking**"
      ],
      "metadata": {
        "id": "kiNotLnAurs6"
      }
    },
    {
      "cell_type": "code",
      "source": [
        "def get_element_chunk(split_header_list,doc_to_chunk):\n",
        "\n",
        "  #Wrap the the original HTML content in a temporary Document object\n",
        "  html_doc = Document(page_content=doc_to_chunk.page_content, metadata=doc_to_chunk.metadata)\n",
        "\n",
        "  #Only split the HTML part\n",
        "  html_splitter = HTMLSectionSplitter(headers_to_split_on=split_header_list)\n",
        "  elements_chunked = html_splitter.split_documents([html_doc])\n",
        "  return elements_chunked\n",
        ""
      ],
      "metadata": {
        "id": "927QAUBXtetL"
      },
      "execution_count": 181,
      "outputs": []
    },
    {
      "cell_type": "markdown",
      "source": [
        "## L2 Proposition Helpers\n",
        "\n",
        "Reference:https://github.com/FullStackRetrieval-com/RetrievalTutorials/blob/main/tutorials/LevelsOfTextSplitting/5_Levels_Of_Text_Splitting.ipynb\n",
        "\n",
        "\n",
        " The proposition promt come from: https://smith.langchain.com/hub/wfh/proposal-indexing?organizationId=50995362-9ea0-4378-ad97-b4edae2f9f22\n"
      ],
      "metadata": {
        "id": "iZwwrmv1hFya"
      }
    },
    {
      "cell_type": "markdown",
      "source": [
        "### Setup proposition models"
      ],
      "metadata": {
        "id": "-71C2WjY2dsk"
      }
    },
    {
      "cell_type": "code",
      "source": [
        "class Sentences(BaseModel):\n",
        "    sentences: List[str]\n",
        "\n",
        "parser = PydanticOutputParser(pydantic_object=Sentences)\n",
        "\n",
        "prompt = PromptTemplate.from_template(\"\"\"\n",
        "Decompose the Passage below into clear and simple propositions, ensuring they are interpretable out of\n",
        "context.\n",
        "Note:  **If you think the input cannot be break down into proposition, provide an empty return list, don't provide an error output**\n",
        "1. Split compound sentence into simple sentences. Maintain the original phrasing from the input\n",
        "whenever possible.\n",
        "2. For any named entity that is accompanied by additional descriptive information, separate this\n",
        "information into its own distinct proposition.\n",
        "3. Decontextualize the proposition by adding necessary modifier to nouns or entire sentences\n",
        "and replacing pronouns (e.g., \"it\", \"he\", \"she\", \"they\", \"this\", \"that\") with the full name of the\n",
        "entities they refer to.\n",
        "4. Present the results as a list of strings, formatted in JSON.\n",
        "\n",
        "\n",
        "Passage:\n",
        "{input}\n",
        "\n",
        "Example:\n",
        "\n",
        "Input: Title: ¯Eostre. Section: Theories and interpretations, Connection to Easter Hares. Content:\n",
        "The earliest evidence for the Easter Hare (Osterhase) was recorded in south-west Germany in\n",
        "1678 by the professor of medicine Georg Franck von Franckenau, but it remained unknown in\n",
        "other parts of Germany until the 18th century. Scholar Richard Sermon writes that \"hares were\n",
        "frequently seen in gardens in spring, and thus may have served as a convenient explanation for the\n",
        "origin of the colored eggs hidden there for children. Alternatively, there is a European tradition\n",
        "that hares laid eggs, since a hare’s scratch or form and a lapwing’s nest look very similar, and\n",
        "both occur on grassland and are first seen in the spring. In the nineteenth century the influence\n",
        "of Easter cards, toys, and books was to make the Easter Hare/Rabbit popular throughout Europe.\n",
        "German immigrants then exported the custom to Britain and America where it evolved into the\n",
        "Easter Bunny.\"\n",
        "Output: [ \"The earliest evidence for the Easter Hare was recorded in south-west Germany in\n",
        "1678 by Georg Franck von Franckenau.\", \"Georg Franck von Franckenau was a professor of\n",
        "medicine.\", \"The evidence for the Easter Hare remained unknown in other parts of Germany until\n",
        "the 18th century.\", \"Richard Sermon was a scholar.\", \"Richard Sermon writes a hypothesis about\n",
        "the possible explanation for the connection between hares and the tradition during Easter\", \"Hares\n",
        "were frequently seen in gardens in spring.\", \"Hares may have served as a convenient explanation\n",
        "for the origin of the colored eggs hidden in gardens for children.\", \"There is a European tradition\n",
        "that hares laid eggs.\", \"A hare’s scratch or form and a lapwing’s nest look very similar.\", \"Both\n",
        "hares and lapwing’s nests occur on grassland and are first seen in the spring.\", \"In the nineteenth\n",
        "century the influence of Easter cards, toys, and books was to make the Easter Hare/Rabbit popular\n",
        "throughout Europe.\", \"German immigrants exported the custom of the Easter Hare/Rabbit to\n",
        "Britain and America.\", \"The custom of the Easter Hare/Rabbit evolved into the Easter Bunny in\n",
        "Britain and America.\"]\n",
        "\n",
        "Return the result in the following JSON format :\n",
        "{{\"sentences\": [\"sentence1\", \"sentence2\", ...]}}\n",
        "\n",
        "Important: If you cannot extract any propositions from the input, return only an empty list like this: []. Do not return any explanation, message, or error. You must always return a valid JSON list of strings — even if it’s empty\n",
        "\n",
        "\"\"\")\n",
        "\n"
      ],
      "metadata": {
        "id": "nQoBmAYvlqqN"
      },
      "execution_count": 182,
      "outputs": []
    },
    {
      "cell_type": "code",
      "source": [
        "#Put propositioned result into a new doc\n",
        "def get_new_prop_doc(relevant_sections, prop_results):\n",
        "  proposition_docs = []\n",
        "  for original_doc, result in zip(relevant_sections, prop_results):\n",
        "      for sentence in result.sentences:\n",
        "        proposition_docs.append(Document(\n",
        "              page_content=sentence,\n",
        "              metadata=original_doc.metadata  # retain the original metadata\n",
        "          ))\n",
        "  return proposition_docs"
      ],
      "metadata": {
        "id": "JLfPGZO33R_F"
      },
      "execution_count": 183,
      "outputs": []
    },
    {
      "cell_type": "markdown",
      "source": [
        "# Main RAG end to end: Generation\n"
      ],
      "metadata": {
        "id": "E8JCYikZ7Vi9"
      }
    },
    {
      "cell_type": "code",
      "source": [
        "#Vector stpre folder path\n",
        "#Recheck pwd\n",
        "!ls\n",
        "L1_vector_folder = 'L1_vector'\n",
        "L2_vector_folder = 'L2_vector_prop'"
      ],
      "metadata": {
        "colab": {
          "base_uri": "https://localhost:8080/"
        },
        "id": "nI2GBr_cECn7",
        "outputId": "c9e5b0a2-28d4-4b49-d690-86a55729881e"
      },
      "execution_count": 184,
      "outputs": [
        {
          "output_type": "stream",
          "name": "stdout",
          "text": [
            "L1_vector\tProposition_Complete.ipynb  test_single_doc.json\n",
            "L2_vector_prop\tProposition_Sample.ipynb\n"
          ]
        }
      ]
    },
    {
      "cell_type": "code",
      "source": [
        "file_path=\"test_single_doc.json\"\n",
        "test_documents = load_documents(file_path)"
      ],
      "metadata": {
        "id": "HwvSRP-o8zCr"
      },
      "execution_count": 185,
      "outputs": []
    },
    {
      "cell_type": "markdown",
      "source": [
        "## Step 1: L1 basic chunking\n",
        "\n",
        "Chunk all documents in the input json and save into vector database"
      ],
      "metadata": {
        "id": "Dq01zDhb_5e7"
      }
    },
    {
      "cell_type": "code",
      "source": [
        "def L1_process_document(doc):\n",
        "  headers_to_split_on = [\n",
        "    (\"h1\", \"Header 1\"),\n",
        "    (\"h2\", \"Header 2\"),\n",
        "    (\"h3\", \"Header 3\"),\n",
        "  ]\n",
        "\n",
        "  all_chunks = []\n",
        "  for idx,eachDoc in enumerate(doc):\n",
        "      chunks = get_element_chunk(headers_to_split_on, eachDoc)\n",
        "      all_chunks.extend(chunks)\n",
        "      print(f\"Split document {idx+1} into {len(chunks)} sub-documents.\")\n",
        "      print(f\"Example 1: {chunks[1]}\")\n",
        "\n",
        "  #Embed and Vector store\n",
        "  L1_vectorstore=create_faiss_vec_store(all_chunks,L1_vector_folder)\n",
        "\n",
        "  print(f\"{len(doc)} documents sucessfully processed and saved to {L1_vector_folder}\")\n",
        "\n",
        "  return L1_vectorstore\n",
        "\n",
        ""
      ],
      "metadata": {
        "id": "Mjd2YDe39G83"
      },
      "execution_count": 186,
      "outputs": []
    },
    {
      "cell_type": "code",
      "source": [
        "L1_vectorstore = L1_process_document(test_documents)"
      ],
      "metadata": {
        "id": "o8iy3A38AYi7"
      },
      "execution_count": null,
      "outputs": []
    },
    {
      "cell_type": "markdown",
      "source": [
        "#Step 2: When user input a query, start L1 Retrival + L2 Chunking"
      ],
      "metadata": {
        "id": "IOFPdoFqAGuM"
      }
    },
    {
      "cell_type": "code",
      "source": [
        "#Collect All questions from All documents\n",
        "test_questions = [\n",
        "    q for doc in test_documents\n",
        "    for q in doc.metadata.get(\"question_texts\", [])\n",
        "]\n",
        "print(test_questions)"
      ],
      "metadata": {
        "colab": {
          "base_uri": "https://localhost:8080/"
        },
        "id": "Px1iWBk1HyM4",
        "outputId": "a258e76b-116d-4a81-cec6-3194ad29ebd0"
      },
      "execution_count": 188,
      "outputs": [
        {
          "output_type": "stream",
          "name": "stdout",
          "text": [
            "['when did the new maze runner movie come out', 'when is the death cure coming out in ireland', 'when is the death cure released in the uk']\n"
          ]
        }
      ]
    },
    {
      "cell_type": "code",
      "source": [
        "#Get L1 retriever\n",
        "L1_retriever=L1_vectorstore.as_retriever(search_type=\"similarity\",search_kwargs={\"k\":10})"
      ],
      "metadata": {
        "id": "KsrGLTb3AW44"
      },
      "execution_count": 189,
      "outputs": []
    },
    {
      "cell_type": "code",
      "source": [
        "#L2 Model setup\n",
        "obj = hub.pull(\"wfh/proposal-indexing\")\n",
        "llm = ChatOpenAI(model='gpt-3.5-turbo', openai_api_key =  os.environ[\"OPENAI_API_KEY\"])\n",
        "L2_runnable = prompt | llm | parser"
      ],
      "metadata": {
        "colab": {
          "base_uri": "https://localhost:8080/"
        },
        "id": "Dr7zjyszBMPR",
        "outputId": "6fb27761-dd8d-441e-bfb6-7efc7f7c7778"
      },
      "execution_count": 190,
      "outputs": [
        {
          "output_type": "stream",
          "name": "stderr",
          "text": [
            "/usr/local/lib/python3.11/dist-packages/langsmith/client.py:278: LangSmithMissingAPIKeyWarning: API key must be provided when using hosted LangSmith API\n",
            "  warnings.warn(\n"
          ]
        }
      ]
    },
    {
      "cell_type": "code",
      "source": [
        "# call remaining processing part + print result\n",
        "def get_retrival_result(in_query,top_k,result_top_k):\n",
        "  L2_result = L1_Retrival_L2_Complete(in_query,top_k,result_top_k)\n",
        "  print(f\"--L2 Retrieved {len(L2_result)} relavant sections\")\n",
        "  return L2_result"
      ],
      "metadata": {
        "id": "9WzxcGD3Aq9r"
      },
      "execution_count": 191,
      "outputs": []
    },
    {
      "cell_type": "code",
      "source": [
        "#The main funciton that complete L1 retrival + L2 chunking&retrieval\n",
        "def L1_Retrival_L2_Complete(in_query,top_k,result_top_k):\n",
        "\n",
        "  #Step 1: Get L1 relavant section based on the input question\n",
        "  L1_relevant_sections=get_retrieve_section(L1_retriever,in_query,top_k)\n",
        "  print(f\"--L1 Retrieved {len(L1_relevant_sections)} relavant sections\")\n",
        "  L1_relevant_sections_texts = [doc.page_content for doc in L1_relevant_sections]\n",
        "  print(L1_relevant_sections_texts)\n",
        "\n",
        "  # Step 2: Start L2 based on L1 result\n",
        "  #Run Proposition Model\n",
        "  print(f\"Running Proposition...\")\n",
        "  L2_prop_results = [L2_runnable.invoke({\"input\": text}) for text in L1_relevant_sections_texts]\n",
        "  if not L2_prop_results:\n",
        "    return 'No Found'\n",
        "  proposition_docs = get_new_prop_doc(L1_relevant_sections, L2_prop_results)\n",
        "  print(f\"{len(proposition_docs)} proposition docs to be embeded\")\n",
        "\n",
        "  if len(proposition_docs)>1:\n",
        "\n",
        "  #Save L2 result to vector database\n",
        "    L2_vectorstore=create_faiss_vec_store(proposition_docs,L2_vector_folder)\n",
        "    L2_retriever=L2_vectorstore.as_retriever(search_type=\"similarity\",search_kwargs={\"k\":10})\n",
        "\n",
        "    #L2 Retrieval\n",
        "    L2_relevant_sections=get_retrieve_section(L2_retriever,in_query,result_top_k)\n",
        "    L2_relevant_sec_text = [eachL2Doc.page_content for eachL2Doc in L2_relevant_sections]\n",
        "  else:\n",
        "    return 'No Found'\n",
        "\n",
        "  return L2_relevant_sec_text\n",
        ""
      ],
      "metadata": {
        "id": "CSJuyBBvArtm"
      },
      "execution_count": 192,
      "outputs": []
    },
    {
      "cell_type": "code",
      "source": [
        "def get_API_response(client,sys_prompt,user_prompt,temp,topp):\n",
        "  completion=client.chat.completions.create(\n",
        "      model=\"gpt-4o\",\n",
        "      temperature=temp,\n",
        "      top_p=topp,\n",
        "      messages=[\n",
        "          {\"role\":\"system\",\"content\":sys_prompt},\n",
        "          {\"role\":\"user\",\"content\":user_prompt}\n",
        "      ],\n",
        "  )\n",
        "  response=completion.choices[0].message.content\n",
        "  return response"
      ],
      "metadata": {
        "id": "sUiYsnUA8Nkx"
      },
      "execution_count": 193,
      "outputs": []
    },
    {
      "cell_type": "code",
      "source": [
        "def RAG_generation(questions,top_k,result_top_k):\n",
        "  answer_NQ_client=OpenAI(api_key=os.environ.get(\"OPENAI_API_KEY\"))\n",
        "  temp=1.0\n",
        "  topp=1.0\n",
        "\n",
        "  for i in range(len(questions)):\n",
        "    print(f\"=============Question:{questions[i]}=============\")\n",
        "    relevant_content = get_retrival_result(questions[i],top_k,result_top_k)\n",
        "    sys_prompt=\"\"\n",
        "    user_prompt=f\"\"\"\n",
        "    Answer the question based on the relevent contents.\n",
        "    Question: {questions[i]}\n",
        "    Relevant contents:{relevant_content}\n",
        "    \"\"\"\n",
        "    response=get_API_response(answer_NQ_client,sys_prompt,user_prompt,temp,topp)\n",
        "    print('-------Final Answer:-------------')\n",
        "    print(f\"Question: {questions[i]}\\n Response: {response}\")"
      ],
      "metadata": {
        "id": "lsZHGQIh7XIF"
      },
      "execution_count": 194,
      "outputs": []
    },
    {
      "cell_type": "code",
      "source": [
        "top_k =3\n",
        "result_top_k =3\n",
        "RAG_generation(test_questions,top_k,result_top_k)"
      ],
      "metadata": {
        "colab": {
          "base_uri": "https://localhost:8080/"
        },
        "id": "21DvOtdV8ZCc",
        "outputId": "b43a3681-a8eb-4054-d864-d7fcbfe816ae"
      },
      "execution_count": 195,
      "outputs": [
        {
          "output_type": "stream",
          "name": "stdout",
          "text": [
            "=============Question:when did the new maze runner movie come out=============\n",
            "Retrieving answer for query: when did the new maze runner movie come out\n",
            "--L1 Retrieved 3 relavant sections\n",
            "['Production ( edit )     In March 2015 , it was confirmed that T.S. Nowlin , who co-wrote the first and wrote the second film , would adapt Maze Runner : The Death Cure . On September 16 , 2015 , it was confirmed that Ball would return to direct the final film .', \"Maze Runner : the Death Cure   Jump to : navigation , search For the book the film is based on , see The Death Cure .       Maze Runner : The Death Cure   \\n      Theatrical release poster   \\n      Directed by     Wes Ball         Produced by         Ellen Goldsmith - Vein     Wyck Godfrey     Marty Bowen     Joe Hartwick , Jr .     Wes Ball     Lee Stollman             Screenplay by     T.S. Nowlin         Based on     The Death Cure by James Dashner         Starring         Dylan O'Brien     Kaya Scodelario     Thomas Brodie - Sangster     Nathalie Emmanuel     Giancarlo Esposito     Aidan Gillen     Walton Goggins     Ki Hong Lee     Barry Pepper     Will Poulter     Patricia Clarkson             Music by     John Paesano         Cinematography     Gyula Pados         Edited by     Dan Zimmerman         Production company         Gotham Group     Temple Hill Entertainment     Oddball Entertainment             Distributed by     20th Century Fox         Release date         January 11 , 2018 ( 2018 - 01 - 11 ) ( Seoul )     January 26 , 2018 ( 2018 - 01 - 26 ) ( United States )                         Running time     142 minutes         Country     United States         Budget     $62 million         Box office     $272.6 million         Maze Runner : The Death Cure ( also known simply as The Death Cure ) is a 2018 American dystopian science fiction action film directed by Wes Ball and written by T.S. Nowlin , based on the novel The Death Cure written by James Dashner . It is the sequel to the 2015 film Maze Runner : The Scorch Trials and the third and final installment in the Maze Runner film series . The film stars Dylan O'Brien , Kaya Scodelario , Thomas Brodie - Sangster , Dexter Darden , Nathalie Emmanuel , Giancarlo Esposito , Aidan Gillen , Walton Goggins , Ki Hong Lee , Jacob Lofland , Katherine McNamara , Barry Pepper , Will Poulter , Rosa Salazar , and Patricia Clarkson .     Maze Runner : The Death Cure was originally set to be released on February 17 , 2017 , in the United States by 20th Century Fox , but the studio rescheduled the film 's release for January 26 , 2018 in theatres and IMAX , allowing time for O'Brien to recover from injuries he sustained during filming . The film received mixed reviews from critics and has grossed over $272 million worldwide .\", \"References ( edit )       Jump up ^ `` MAZE RUNNER : THE DEATH CURE ( 2018 ) ( 12A ) '' . British Board of Film Classification . January 17 , 2018 . Retrieved January 17 , 2018 .     ^ Jump up to : `` Maze Runner : The Death Cure ( 2018 ) '' . Box Office Mojo . Retrieved March 1 , 2018 .     Jump up ^ Busch , Anita ( March 4 , 2015 ) . `` ' Maze Runner : The Death Cure ' Sets T.S. Nowlin To Pen '' . Deadline Hollywood . Retrieved March 10 , 2015 .     Jump up ^ `` The Maze Runner 3 to begin filming in Vancouver in March '' . Vancity Buzz . January 18 , 2016 . Retrieved February 8 , 2016 .     Jump up ^ A. , Aliza ( March 9 , 2016 ) . `` ' The Maze Runner : Death Cure ' News And Updates : Filming Confirmed ; Release Date Set On February '' . jobsnhire.com . Retrieved March 12 , 2016 .     Jump up ^ Defy Media ( @ ClevverTV ) ( July 9 , 2015 ) . `` The script for Death Cure is currently being worked on & will begin filming in February # ScorchTrials # ScorchSneakPeek '' ( Tweet ) . Retrieved July 10 , 2015 -- via Twitter .     Jump up ^ Zumberge , Marianne ( March 18 , 2016 ) . `` ' Maze Runner ' Star Dylan O'Brien Injured on Set '' . Variety . Retrieved March 18 , 2016 .     Jump up ^ `` Maze Runner Star Dylan O'Brien Healing Very Well After On - Set Accident , Will Return to Work in About Six Weeks -- E ! '' . E !. April 5 , 2016 . Retrieved May 1 , 2016 .     ^ Jump up to : `` Dylan O'Brien's Injuries Force ' Maze Runner ' Sequel to Extend Production Shut Down '' . Yahoo . Retrieved May 1 , 2016 .     Jump up ^ `` Maze Runner : The Death Cure Resumes Filming In February '' . August 29 , 2016 . Retrieved August 31 , 2016 .     Jump up ^ Ian Bailey ( September 4 , 2016 ) . `` Maze Runner film production leaving B.C. for South Africa '' . The Globe and Mail . Retrieved September 5 , 2016 .     Jump up ^ @ wesball ( March 2 , 2017 ) . `` Big day today . Shot two scenes in 7 hours ( that 's a short day for me ) . Also prelit a set for tomorrow . Then watched dailies ... Pretty stuff '' ( Tweet ) -- via Twitter .     Jump up ^ Hipes , Patrick ( May 10 , 2017 ) . `` Walton Goggins Set For ' Maze Runner : The Death Cure ' '' . Deadline Hollywood .     Jump up ^ @ wesball ( June 4 , 2017 ) . `` That 's a wrap ! Thanks to a great cast and crew for a hell of an experience '' ( Tweet ) -- via Twitter .     Jump up ^ Chitwood , Adam ( April 18 , 2015 ) . `` MAZE RUNNER : THE DEATH CURE Set for 2017 Release ; Miraculously Not Being Split into Two Movies '' . Collider.com . Retrieved June 29 , 2015 .     Jump up ^ `` Past , present and future releases to Past , Present and Future Releases UK Recent and Upcoming Movie '' . www.launchingfilms.com . Retrieved April 1 , 2017 .     Jump up ^ McNary , Dave ( May 28 , 2016 ) . `` Dylan O'Brien's ' Maze Runner : Death Cure ' Release Pushed Back to 2018 '' . Retrieved August 31 , 2016 .     Jump up ^ @ wesball ( April 22 , 2017 ) . `` Hey maze fans . Do n't worry . Release date shifted 4 weeks . It 's a good thing . I get four more weeks of vfx finals , sound mixing , editing '' ( Tweet ) -- via Twitter .     Jump up ^ Anthony , D'Allessandro ( April 22 , 2017 ) . `` ' Deadpool 2 ' , ' New Mutants ' & ' Dark Phoenix ' Find 2018 Dates Among Fox 's Slew of Release Changes & Additions '' . Retrieved April 23 , 2017 .     Jump up ^ Dave , McNary ( August 25 , 2017 ) . `` Steven Spielberg 's Pentagon Papers Movie Re-Titled ' The Post ' '' . Variety . Retrieved August 26 , 2017 .     ^ Jump up to : McNary , Dave ( January 23 , 2018 ) . `` Box Office : ' Maze Runner : The Death Cure ' Races Toward $20 Million Opening '' . Variety . Retrieved January 23 , 2018 .     ^ Jump up to : D'Alessandro , Anthony ( January 28 , 2018 ) . `` Fox Controls Close To 40 % Of Weekend B.O. Led By ' Maze Runner ' & Oscar Holdovers ; ' Hostiles ' Gallops Past $10 M '' . Deadline Hollywood . Retrieved January 28 , 2018 .     Jump up ^ D'Alessandro , Anthony ( February 4 , 2018 ) . `` ' Jumanji ' Poised To Be Dwayne Johnson 's\"]\n",
            "Running Proposition...\n",
            "13 proposition docs to be embeded\n",
            "Retrieving answer for query: when did the new maze runner movie come out\n",
            "--L2 Retrieved 3 relavant sections\n",
            "Question: when did the new maze runner movie come out\n",
            " Response: The new Maze Runner movie, \"Maze Runner: The Death Cure,\" came out on January 26, 2018.\n",
            "=============Question:when is the death cure coming out in ireland=============\n",
            "Retrieving answer for query: when is the death cure coming out in ireland\n",
            "--L1 Retrieved 3 relavant sections\n",
            "[\"Maze Runner : the Death Cure   Jump to : navigation , search For the book the film is based on , see The Death Cure .       Maze Runner : The Death Cure   \\n      Theatrical release poster   \\n      Directed by     Wes Ball         Produced by         Ellen Goldsmith - Vein     Wyck Godfrey     Marty Bowen     Joe Hartwick , Jr .     Wes Ball     Lee Stollman             Screenplay by     T.S. Nowlin         Based on     The Death Cure by James Dashner         Starring         Dylan O'Brien     Kaya Scodelario     Thomas Brodie - Sangster     Nathalie Emmanuel     Giancarlo Esposito     Aidan Gillen     Walton Goggins     Ki Hong Lee     Barry Pepper     Will Poulter     Patricia Clarkson             Music by     John Paesano         Cinematography     Gyula Pados         Edited by     Dan Zimmerman         Production company         Gotham Group     Temple Hill Entertainment     Oddball Entertainment             Distributed by     20th Century Fox         Release date         January 11 , 2018 ( 2018 - 01 - 11 ) ( Seoul )     January 26 , 2018 ( 2018 - 01 - 26 ) ( United States )                         Running time     142 minutes         Country     United States         Budget     $62 million         Box office     $272.6 million         Maze Runner : The Death Cure ( also known simply as The Death Cure ) is a 2018 American dystopian science fiction action film directed by Wes Ball and written by T.S. Nowlin , based on the novel The Death Cure written by James Dashner . It is the sequel to the 2015 film Maze Runner : The Scorch Trials and the third and final installment in the Maze Runner film series . The film stars Dylan O'Brien , Kaya Scodelario , Thomas Brodie - Sangster , Dexter Darden , Nathalie Emmanuel , Giancarlo Esposito , Aidan Gillen , Walton Goggins , Ki Hong Lee , Jacob Lofland , Katherine McNamara , Barry Pepper , Will Poulter , Rosa Salazar , and Patricia Clarkson .     Maze Runner : The Death Cure was originally set to be released on February 17 , 2017 , in the United States by 20th Century Fox , but the studio rescheduled the film 's release for January 26 , 2018 in theatres and IMAX , allowing time for O'Brien to recover from injuries he sustained during filming . The film received mixed reviews from critics and has grossed over $272 million worldwide .\", 'Maze Runner : the Death Cure - wikipedia', \"References ( edit )       Jump up ^ `` MAZE RUNNER : THE DEATH CURE ( 2018 ) ( 12A ) '' . British Board of Film Classification . January 17 , 2018 . Retrieved January 17 , 2018 .     ^ Jump up to : `` Maze Runner : The Death Cure ( 2018 ) '' . Box Office Mojo . Retrieved March 1 , 2018 .     Jump up ^ Busch , Anita ( March 4 , 2015 ) . `` ' Maze Runner : The Death Cure ' Sets T.S. Nowlin To Pen '' . Deadline Hollywood . Retrieved March 10 , 2015 .     Jump up ^ `` The Maze Runner 3 to begin filming in Vancouver in March '' . Vancity Buzz . January 18 , 2016 . Retrieved February 8 , 2016 .     Jump up ^ A. , Aliza ( March 9 , 2016 ) . `` ' The Maze Runner : Death Cure ' News And Updates : Filming Confirmed ; Release Date Set On February '' . jobsnhire.com . Retrieved March 12 , 2016 .     Jump up ^ Defy Media ( @ ClevverTV ) ( July 9 , 2015 ) . `` The script for Death Cure is currently being worked on & will begin filming in February # ScorchTrials # ScorchSneakPeek '' ( Tweet ) . Retrieved July 10 , 2015 -- via Twitter .     Jump up ^ Zumberge , Marianne ( March 18 , 2016 ) . `` ' Maze Runner ' Star Dylan O'Brien Injured on Set '' . Variety . Retrieved March 18 , 2016 .     Jump up ^ `` Maze Runner Star Dylan O'Brien Healing Very Well After On - Set Accident , Will Return to Work in About Six Weeks -- E ! '' . E !. April 5 , 2016 . Retrieved May 1 , 2016 .     ^ Jump up to : `` Dylan O'Brien's Injuries Force ' Maze Runner ' Sequel to Extend Production Shut Down '' . Yahoo . Retrieved May 1 , 2016 .     Jump up ^ `` Maze Runner : The Death Cure Resumes Filming In February '' . August 29 , 2016 . Retrieved August 31 , 2016 .     Jump up ^ Ian Bailey ( September 4 , 2016 ) . `` Maze Runner film production leaving B.C. for South Africa '' . The Globe and Mail . Retrieved September 5 , 2016 .     Jump up ^ @ wesball ( March 2 , 2017 ) . `` Big day today . Shot two scenes in 7 hours ( that 's a short day for me ) . Also prelit a set for tomorrow . Then watched dailies ... Pretty stuff '' ( Tweet ) -- via Twitter .     Jump up ^ Hipes , Patrick ( May 10 , 2017 ) . `` Walton Goggins Set For ' Maze Runner : The Death Cure ' '' . Deadline Hollywood .     Jump up ^ @ wesball ( June 4 , 2017 ) . `` That 's a wrap ! Thanks to a great cast and crew for a hell of an experience '' ( Tweet ) -- via Twitter .     Jump up ^ Chitwood , Adam ( April 18 , 2015 ) . `` MAZE RUNNER : THE DEATH CURE Set for 2017 Release ; Miraculously Not Being Split into Two Movies '' . Collider.com . Retrieved June 29 , 2015 .     Jump up ^ `` Past , present and future releases to Past , Present and Future Releases UK Recent and Upcoming Movie '' . www.launchingfilms.com . Retrieved April 1 , 2017 .     Jump up ^ McNary , Dave ( May 28 , 2016 ) . `` Dylan O'Brien's ' Maze Runner : Death Cure ' Release Pushed Back to 2018 '' . Retrieved August 31 , 2016 .     Jump up ^ @ wesball ( April 22 , 2017 ) . `` Hey maze fans . Do n't worry . Release date shifted 4 weeks . It 's a good thing . I get four more weeks of vfx finals , sound mixing , editing '' ( Tweet ) -- via Twitter .     Jump up ^ Anthony , D'Allessandro ( April 22 , 2017 ) . `` ' Deadpool 2 ' , ' New Mutants ' & ' Dark Phoenix ' Find 2018 Dates Among Fox 's Slew of Release Changes & Additions '' . Retrieved April 23 , 2017 .     Jump up ^ Dave , McNary ( August 25 , 2017 ) . `` Steven Spielberg 's Pentagon Papers Movie Re-Titled ' The Post ' '' . Variety . Retrieved August 26 , 2017 .     ^ Jump up to : McNary , Dave ( January 23 , 2018 ) . `` Box Office : ' Maze Runner : The Death Cure ' Races Toward $20 Million Opening '' . Variety . Retrieved January 23 , 2018 .     ^ Jump up to : D'Alessandro , Anthony ( January 28 , 2018 ) . `` Fox Controls Close To 40 % Of Weekend B.O. Led By ' Maze Runner ' & Oscar Holdovers ; ' Hostiles ' Gallops Past $10 M '' . Deadline Hollywood . Retrieved January 28 , 2018 .     Jump up ^ D'Alessandro , Anthony ( February 4 , 2018 ) . `` ' Jumanji ' Poised To Be Dwayne Johnson 's\"]\n",
            "Running Proposition...\n",
            "23 proposition docs to be embeded\n",
            "Retrieving answer for query: when is the death cure coming out in ireland\n",
            "--L2 Retrieved 3 relavant sections\n",
            "Question: when is the death cure coming out in ireland\n",
            " Response: \"Maze Runner: The Death Cure\" was originally set to release on February 17, 2017, in the United States. However, the film was eventually released in 2018. As release dates can vary by country, I don't have the specific release date for Ireland, but \"Maze Runner: The Death Cure\" was generally released around January 2018 in several international markets. You might want to check specific Irish cinema release data or sources for the exact date in Ireland.\n",
            "=============Question:when is the death cure released in the uk=============\n",
            "Retrieving answer for query: when is the death cure released in the uk\n",
            "--L1 Retrieved 3 relavant sections\n",
            "[\"Maze Runner : the Death Cure   Jump to : navigation , search For the book the film is based on , see The Death Cure .       Maze Runner : The Death Cure   \\n      Theatrical release poster   \\n      Directed by     Wes Ball         Produced by         Ellen Goldsmith - Vein     Wyck Godfrey     Marty Bowen     Joe Hartwick , Jr .     Wes Ball     Lee Stollman             Screenplay by     T.S. Nowlin         Based on     The Death Cure by James Dashner         Starring         Dylan O'Brien     Kaya Scodelario     Thomas Brodie - Sangster     Nathalie Emmanuel     Giancarlo Esposito     Aidan Gillen     Walton Goggins     Ki Hong Lee     Barry Pepper     Will Poulter     Patricia Clarkson             Music by     John Paesano         Cinematography     Gyula Pados         Edited by     Dan Zimmerman         Production company         Gotham Group     Temple Hill Entertainment     Oddball Entertainment             Distributed by     20th Century Fox         Release date         January 11 , 2018 ( 2018 - 01 - 11 ) ( Seoul )     January 26 , 2018 ( 2018 - 01 - 26 ) ( United States )                         Running time     142 minutes         Country     United States         Budget     $62 million         Box office     $272.6 million         Maze Runner : The Death Cure ( also known simply as The Death Cure ) is a 2018 American dystopian science fiction action film directed by Wes Ball and written by T.S. Nowlin , based on the novel The Death Cure written by James Dashner . It is the sequel to the 2015 film Maze Runner : The Scorch Trials and the third and final installment in the Maze Runner film series . The film stars Dylan O'Brien , Kaya Scodelario , Thomas Brodie - Sangster , Dexter Darden , Nathalie Emmanuel , Giancarlo Esposito , Aidan Gillen , Walton Goggins , Ki Hong Lee , Jacob Lofland , Katherine McNamara , Barry Pepper , Will Poulter , Rosa Salazar , and Patricia Clarkson .     Maze Runner : The Death Cure was originally set to be released on February 17 , 2017 , in the United States by 20th Century Fox , but the studio rescheduled the film 's release for January 26 , 2018 in theatres and IMAX , allowing time for O'Brien to recover from injuries he sustained during filming . The film received mixed reviews from critics and has grossed over $272 million worldwide .\", 'Maze Runner : the Death Cure - wikipedia', \"References ( edit )       Jump up ^ `` MAZE RUNNER : THE DEATH CURE ( 2018 ) ( 12A ) '' . British Board of Film Classification . January 17 , 2018 . Retrieved January 17 , 2018 .     ^ Jump up to : `` Maze Runner : The Death Cure ( 2018 ) '' . Box Office Mojo . Retrieved March 1 , 2018 .     Jump up ^ Busch , Anita ( March 4 , 2015 ) . `` ' Maze Runner : The Death Cure ' Sets T.S. Nowlin To Pen '' . Deadline Hollywood . Retrieved March 10 , 2015 .     Jump up ^ `` The Maze Runner 3 to begin filming in Vancouver in March '' . Vancity Buzz . January 18 , 2016 . Retrieved February 8 , 2016 .     Jump up ^ A. , Aliza ( March 9 , 2016 ) . `` ' The Maze Runner : Death Cure ' News And Updates : Filming Confirmed ; Release Date Set On February '' . jobsnhire.com . Retrieved March 12 , 2016 .     Jump up ^ Defy Media ( @ ClevverTV ) ( July 9 , 2015 ) . `` The script for Death Cure is currently being worked on & will begin filming in February # ScorchTrials # ScorchSneakPeek '' ( Tweet ) . Retrieved July 10 , 2015 -- via Twitter .     Jump up ^ Zumberge , Marianne ( March 18 , 2016 ) . `` ' Maze Runner ' Star Dylan O'Brien Injured on Set '' . Variety . Retrieved March 18 , 2016 .     Jump up ^ `` Maze Runner Star Dylan O'Brien Healing Very Well After On - Set Accident , Will Return to Work in About Six Weeks -- E ! '' . E !. April 5 , 2016 . Retrieved May 1 , 2016 .     ^ Jump up to : `` Dylan O'Brien's Injuries Force ' Maze Runner ' Sequel to Extend Production Shut Down '' . Yahoo . Retrieved May 1 , 2016 .     Jump up ^ `` Maze Runner : The Death Cure Resumes Filming In February '' . August 29 , 2016 . Retrieved August 31 , 2016 .     Jump up ^ Ian Bailey ( September 4 , 2016 ) . `` Maze Runner film production leaving B.C. for South Africa '' . The Globe and Mail . Retrieved September 5 , 2016 .     Jump up ^ @ wesball ( March 2 , 2017 ) . `` Big day today . Shot two scenes in 7 hours ( that 's a short day for me ) . Also prelit a set for tomorrow . Then watched dailies ... Pretty stuff '' ( Tweet ) -- via Twitter .     Jump up ^ Hipes , Patrick ( May 10 , 2017 ) . `` Walton Goggins Set For ' Maze Runner : The Death Cure ' '' . Deadline Hollywood .     Jump up ^ @ wesball ( June 4 , 2017 ) . `` That 's a wrap ! Thanks to a great cast and crew for a hell of an experience '' ( Tweet ) -- via Twitter .     Jump up ^ Chitwood , Adam ( April 18 , 2015 ) . `` MAZE RUNNER : THE DEATH CURE Set for 2017 Release ; Miraculously Not Being Split into Two Movies '' . Collider.com . Retrieved June 29 , 2015 .     Jump up ^ `` Past , present and future releases to Past , Present and Future Releases UK Recent and Upcoming Movie '' . www.launchingfilms.com . Retrieved April 1 , 2017 .     Jump up ^ McNary , Dave ( May 28 , 2016 ) . `` Dylan O'Brien's ' Maze Runner : Death Cure ' Release Pushed Back to 2018 '' . Retrieved August 31 , 2016 .     Jump up ^ @ wesball ( April 22 , 2017 ) . `` Hey maze fans . Do n't worry . Release date shifted 4 weeks . It 's a good thing . I get four more weeks of vfx finals , sound mixing , editing '' ( Tweet ) -- via Twitter .     Jump up ^ Anthony , D'Allessandro ( April 22 , 2017 ) . `` ' Deadpool 2 ' , ' New Mutants ' & ' Dark Phoenix ' Find 2018 Dates Among Fox 's Slew of Release Changes & Additions '' . Retrieved April 23 , 2017 .     Jump up ^ Dave , McNary ( August 25 , 2017 ) . `` Steven Spielberg 's Pentagon Papers Movie Re-Titled ' The Post ' '' . Variety . Retrieved August 26 , 2017 .     ^ Jump up to : McNary , Dave ( January 23 , 2018 ) . `` Box Office : ' Maze Runner : The Death Cure ' Races Toward $20 Million Opening '' . Variety . Retrieved January 23 , 2018 .     ^ Jump up to : D'Alessandro , Anthony ( January 28 , 2018 ) . `` Fox Controls Close To 40 % Of Weekend B.O. Led By ' Maze Runner ' & Oscar Holdovers ; ' Hostiles ' Gallops Past $10 M '' . Deadline Hollywood . Retrieved January 28 , 2018 .     Jump up ^ D'Alessandro , Anthony ( February 4 , 2018 ) . `` ' Jumanji ' Poised To Be Dwayne Johnson 's\"]\n",
            "Running Proposition...\n",
            "22 proposition docs to be embeded\n",
            "Retrieving answer for query: when is the death cure released in the uk\n",
            "--L2 Retrieved 3 relavant sections\n",
            "Question: when is the death cure released in the uk\n",
            " Response: Maze Runner: The Death Cure was released in the UK on January 26, 2018.\n"
          ]
        }
      ]
    }
  ]
}