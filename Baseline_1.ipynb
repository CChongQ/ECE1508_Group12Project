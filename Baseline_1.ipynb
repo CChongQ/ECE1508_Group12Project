{
  "nbformat": 4,
  "nbformat_minor": 0,
  "metadata": {
    "colab": {
      "provenance": [],
      "gpuType": "T4",
      "collapsed_sections": [
        "MuhooPOlrhK1",
        "zIcK9WKO48gk",
        "o7-Cx6fN6Off"
      ]
    },
    "kernelspec": {
      "name": "python3",
      "display_name": "Python 3"
    },
    "language_info": {
      "name": "python"
    },
    "accelerator": "GPU"
  },
  "cells": [
    {
      "cell_type": "markdown",
      "source": [
        "# Environmetn Setup"
      ],
      "metadata": {
        "id": "JGEI9OjIrbA2"
      }
    },
    {
      "cell_type": "code",
      "execution_count": null,
      "metadata": {
        "id": "NCc9CdAkexQA"
      },
      "outputs": [],
      "source": [
        "!pip install -U \"langchain[openai]\" langchain-core langgraph langchain-text-splitters langchain_community"
      ]
    },
    {
      "cell_type": "code",
      "source": [
        "!pip install faiss-cpu jq"
      ],
      "metadata": {
        "id": "EIJKBWd_fQrV"
      },
      "execution_count": null,
      "outputs": []
    },
    {
      "cell_type": "code",
      "source": [
        "!pip install -qU \"langchain-chroma>=0.1.2\""
      ],
      "metadata": {
        "id": "3vIDQZvnx96M"
      },
      "execution_count": null,
      "outputs": []
    },
    {
      "cell_type": "code",
      "source": [
        "from openai import OpenAI\n",
        "import json\n",
        "import faiss\n",
        "import re\n",
        "import getpass\n",
        "import os\n",
        "import time"
      ],
      "metadata": {
        "id": "Qy3MpCwZFR8L"
      },
      "execution_count": null,
      "outputs": []
    },
    {
      "cell_type": "code",
      "source": [
        "\n",
        "from langchain_community.document_loaders import JSONLoader\n",
        "from langchain_text_splitters import HTMLSectionSplitter\n",
        "from langchain_core.documents import Document\n",
        "from langchain.vectorstores import FAISS\n",
        "from langchain.embeddings import OpenAIEmbeddings\n",
        "from langchain.output_parsers.openai_tools import JsonOutputToolsParser\n",
        "from langchain_community.chat_models import ChatOpenAI\n",
        "from langchain_core.prompts import ChatPromptTemplate\n",
        "from langchain_core.runnables import RunnableLambda\n",
        "from langchain.chains import create_extraction_chain\n",
        "from langchain.chains import create_extraction_chain_pydantic\n",
        "from langchain import hub\n",
        "from langchain_core.pydantic_v1 import BaseModel\n",
        "from langchain.output_parsers import PydanticOutputParser\n",
        "from langchain.prompts import PromptTemplate\n",
        "from pydantic import BaseModel\n",
        "from typing import Optional, List\n"
      ],
      "metadata": {
        "id": "ClKCfdTSGZgQ"
      },
      "execution_count": null,
      "outputs": []
    },
    {
      "cell_type": "code",
      "source": [
        "from langchain_openai import OpenAIEmbeddings\n",
        "from langchain_chroma import Chroma"
      ],
      "metadata": {
        "id": "swkkAqnxxNkj"
      },
      "execution_count": null,
      "outputs": []
    },
    {
      "cell_type": "code",
      "source": [
        "os.environ[\"OPENAI_API_KEY\"]=''\n",
        "if not os.environ.get(\"OPENAI_API_KEY\"):\n",
        "  os.environ[\"OPENAI_API_KEY\"] = getpass.getpass(\"Enter API key for OpenAI: \")"
      ],
      "metadata": {
        "id": "YS1gRamHfY1c",
        "colab": {
          "base_uri": "https://localhost:8080/"
        },
        "outputId": "70a8200a-cf6a-411b-969d-0bdde4189c3e"
      },
      "execution_count": null,
      "outputs": [
        {
          "name": "stdout",
          "output_type": "stream",
          "text": [
            "Enter API key for OpenAI: ··········\n"
          ]
        }
      ]
    },
    {
      "cell_type": "code",
      "source": [
        "from google.colab import drive\n",
        "drive.mount('/content/drive')\n",
        "\n",
        "%cd  /content/drive/MyDrive/ECE1508_Project/Codes"
      ],
      "metadata": {
        "colab": {
          "base_uri": "https://localhost:8080/"
        },
        "id": "pKEpu0O6fgMx",
        "outputId": "c0548e21-2cb5-49a1-d8e4-9c6529553084"
      },
      "execution_count": null,
      "outputs": [
        {
          "output_type": "stream",
          "name": "stdout",
          "text": [
            "Drive already mounted at /content/drive; to attempt to forcibly remount, call drive.mount(\"/content/drive\", force_remount=True).\n",
            "/content/drive/MyDrive/ECE1508_Project/Codes\n"
          ]
        }
      ]
    },
    {
      "cell_type": "markdown",
      "source": [
        "# Helpers"
      ],
      "metadata": {
        "id": "s5eNbOcwD6o9"
      }
    },
    {
      "cell_type": "markdown",
      "source": [
        "## Load Test Doc"
      ],
      "metadata": {
        "id": "MuhooPOlrhK1"
      }
    },
    {
      "cell_type": "code",
      "source": [
        "def metadata_func(example: dict, _: dict) -> dict:\n",
        "    return {\n",
        "        \"question_text\": example.get(\"question_text\"),\n",
        "        \"Title\": example.get(\"title\", \"Untitled\")\n",
        "    }"
      ],
      "metadata": {
        "id": "cFP1-rLTgr11"
      },
      "execution_count": null,
      "outputs": []
    },
    {
      "cell_type": "code",
      "source": [
        "def metadata_func_2(example: dict, _: dict) -> dict:\n",
        "    return {\n",
        "        \"question_text\": example.get(\"question_text\"),\n",
        "        \"gold_answer\": example.get(\"gold_answer\"),\n",
        "        \"Title\": example.get(\"title\", \"Untitled\")\n",
        "    }"
      ],
      "metadata": {
        "id": "ahZqsH4MHyMR"
      },
      "execution_count": null,
      "outputs": []
    },
    {
      "cell_type": "code",
      "source": [
        "def load_documents(file_path):\n",
        "  loader=JSONLoader(\n",
        "    file_path=file_path,\n",
        "    jq_schema=\".[]\",\n",
        "    content_key=\"document_text\",\n",
        "    metadata_func=metadata_func\n",
        "  )\n",
        "  documents=loader.load()\n",
        "\n",
        "  return documents"
      ],
      "metadata": {
        "id": "AKoIS4oc9LFJ"
      },
      "execution_count": null,
      "outputs": []
    },
    {
      "cell_type": "code",
      "source": [
        "def load_documents_2(file_path):\n",
        "  loader=JSONLoader(\n",
        "    file_path=file_path,\n",
        "    jq_schema=\".[]\",\n",
        "    content_key=\"document_text\",\n",
        "    metadata_func=metadata_func_2\n",
        "  )\n",
        "  documents=loader.load()\n",
        "\n",
        "  return documents"
      ],
      "metadata": {
        "id": "abFAzLq-NmlH"
      },
      "execution_count": null,
      "outputs": []
    },
    {
      "cell_type": "markdown",
      "source": [
        "## Vector Store Helpers"
      ],
      "metadata": {
        "id": "zIcK9WKO48gk"
      }
    },
    {
      "cell_type": "code",
      "source": [
        "def create_faiss_vec_store(elemnts_to_emb, folder_name):\n",
        "  vectorstore=FAISS.from_documents(elemnts_to_emb,embedding=OpenAIEmbeddings())\n",
        "  vectorstore.save_local(folder_name)\n",
        "  return vectorstore"
      ],
      "metadata": {
        "id": "VkWWcJwu4_mh"
      },
      "execution_count": null,
      "outputs": []
    },
    {
      "cell_type": "markdown",
      "source": [
        "## Retriver Helpers"
      ],
      "metadata": {
        "id": "o7-Cx6fN6Off"
      }
    },
    {
      "cell_type": "code",
      "source": [
        "# retrieve the top K contents\n",
        "def retrieve_section(in_retriever,query,top_k):\n",
        "  results=in_retriever.get_relevant_documents(query)\n",
        "  if not results:\n",
        "    return None\n",
        "  top_5_match=results[:top_k]\n",
        "\n",
        "  return top_5_match\n"
      ],
      "metadata": {
        "id": "b5gC4gab6QCC"
      },
      "execution_count": null,
      "outputs": []
    },
    {
      "cell_type": "code",
      "source": [
        "#Run retriver for the input query\n",
        "def get_retrieve_section(in_retriever,in_query,top_k):\n",
        "  print(f\"Retrieving answer for query: {in_query}\")\n",
        "  relevant_sections=retrieve_section(in_retriever,in_query,top_k)\n",
        "  return relevant_sections"
      ],
      "metadata": {
        "id": "z-N6Hacn6SPI"
      },
      "execution_count": null,
      "outputs": []
    },
    {
      "cell_type": "markdown",
      "source": [
        "# Baseline Chunking & Save to Vector\n"
      ],
      "metadata": {
        "id": "E8JCYikZ7Vi9"
      }
    },
    {
      "cell_type": "code",
      "source": [
        "#Vector stpre folder path\n",
        "#Recheck pwd\n",
        "!ls\n",
        "baseline_vector_folder = './Baseline_vector'"
      ],
      "metadata": {
        "id": "nI2GBr_cECn7"
      },
      "execution_count": null,
      "outputs": []
    },
    {
      "cell_type": "code",
      "source": [
        "file_path=\"gold_test_file_30.json\"\n",
        "test_documents = load_documents(file_path)\n",
        "print(f\"{len(test_documents)} Documents\")"
      ],
      "metadata": {
        "id": "HwvSRP-o8zCr",
        "colab": {
          "base_uri": "https://localhost:8080/"
        },
        "outputId": "0e9ef2cc-faf7-43be-fcf2-f0f0f55e5e88"
      },
      "execution_count": null,
      "outputs": [
        {
          "output_type": "stream",
          "name": "stdout",
          "text": [
            "30 Documents\n"
          ]
        }
      ]
    },
    {
      "cell_type": "code",
      "source": [
        "file_path=\"gold_test_file_30.json\"\n",
        "test_documents_gold = load_documents_2(file_path)\n",
        "print(f\"{len(test_documents)} Documents\")"
      ],
      "metadata": {
        "colab": {
          "base_uri": "https://localhost:8080/"
        },
        "id": "sUz_g2ztNkXL",
        "outputId": "1abdc3b3-2b47-4945-955f-b8f93a51dacd"
      },
      "execution_count": null,
      "outputs": [
        {
          "output_type": "stream",
          "name": "stdout",
          "text": [
            "30 Documents\n"
          ]
        }
      ]
    },
    {
      "cell_type": "code",
      "source": [
        "from langchain_text_splitters import RecursiveCharacterTextSplitter\n",
        "import shutil\n",
        "import time"
      ],
      "metadata": {
        "id": "nO1DUS2mIlb-"
      },
      "execution_count": null,
      "outputs": []
    },
    {
      "cell_type": "code",
      "source": [
        "def baseline_chunk(documents):\n",
        "\n",
        "  text_splitter = RecursiveCharacterTextSplitter(\n",
        "    chunk_size=256,\n",
        "    chunk_overlap=20,\n",
        "    add_start_index=True\n",
        "  )\n",
        "  all_splits = text_splitter.split_documents(documents)\n",
        "\n",
        "  return all_splits"
      ],
      "metadata": {
        "id": "9rmMz5AYIocS"
      },
      "execution_count": null,
      "outputs": []
    },
    {
      "cell_type": "code",
      "source": [
        "def base_process_document(doc):\n",
        "\n",
        "\n",
        "  chunks = baseline_chunk(doc)\n",
        "  print(f\"Split document into {len(chunks)} sub-documents.\")\n",
        "\n",
        "  # Embed and save to Chroma DB\n",
        "  if os.path.exists(baseline_vector_folder):\n",
        "    shutil.rmtree(baseline_vector_folder)\n",
        "    time.sleep(5)\n",
        "\n",
        "  embeddings = OpenAIEmbeddings()\n",
        "  base_vectorstore = Chroma.from_documents(documents=chunks,\n",
        "                                      embedding=embeddings,\n",
        "                                      persist_directory=baseline_vector_folder)\n",
        "\n",
        "  print(f\"{len(doc)} documents {len(chunks)} chunks sucessfully processed and saved to {baseline_vector_folder}\")\n",
        "\n",
        "  return base_vectorstore\n",
        "\n"
      ],
      "metadata": {
        "id": "Mjd2YDe39G83"
      },
      "execution_count": null,
      "outputs": []
    },
    {
      "cell_type": "code",
      "source": [
        "start = time.time()\n",
        "base_vectorstore = base_process_document(test_documents)\n",
        "end = time.time()\n",
        "\n",
        "print(f\"Chunking&Store took {end - start:.4f} seconds to run.\")"
      ],
      "metadata": {
        "id": "o8iy3A38AYi7",
        "colab": {
          "base_uri": "https://localhost:8080/"
        },
        "outputId": "adba5e95-8fbf-4e95-8763-6088ba0e8b24"
      },
      "execution_count": null,
      "outputs": [
        {
          "output_type": "stream",
          "name": "stdout",
          "text": [
            "Split document into 5901 sub-documents.\n",
            "30 documents 5901 chunks sucessfully processed and saved to ./Baseline_vector\n",
            "Chunking&Store took 45.4330 seconds to run.\n"
          ]
        }
      ]
    },
    {
      "cell_type": "markdown",
      "source": [
        "## Retrieve & Generate\n"
      ],
      "metadata": {
        "id": "SdmRg8hTLm7X"
      }
    },
    {
      "cell_type": "code",
      "source": [
        "embeddings = OpenAIEmbeddings()\n",
        "base_vectorstore = Chroma(\n",
        "    persist_directory=baseline_vector_folder,\n",
        "    embedding_function=embeddings\n",
        ")\n",
        "#Verify local load result\n",
        "total_docs = base_vectorstore._collection.count()\n",
        "if total_docs > 0:\n",
        "    print(f\"Vectorstore contains {total_docs} documents\")\n",
        "else:\n",
        "    print(\"Vectorstore is empty\")\n"
      ],
      "metadata": {
        "colab": {
          "base_uri": "https://localhost:8080/"
        },
        "id": "BBCaIh-TLq1M",
        "outputId": "f8eb0787-cf2c-4eb8-f529-98824460a426"
      },
      "execution_count": null,
      "outputs": [
        {
          "output_type": "stream",
          "name": "stdout",
          "text": [
            "Vectorstore contains 5901 documents\n"
          ]
        }
      ]
    },
    {
      "cell_type": "code",
      "source": [
        "top_k = 10\n",
        "temp=0.2\n",
        "topp=0.9\n",
        "base_retriever=base_vectorstore.as_retriever(search_type=\"similarity\",search_kwargs={\"k\":top_k})"
      ],
      "metadata": {
        "id": "NjGDcdkIL2w0"
      },
      "execution_count": null,
      "outputs": []
    },
    {
      "cell_type": "code",
      "source": [
        "def get_API_response(client,sys_prompt,user_prompt,temp,topp):\n",
        "  completion=client.chat.completions.create(\n",
        "      model=\"gpt-4o\",\n",
        "      temperature=temp,\n",
        "      top_p=topp,\n",
        "      messages=[\n",
        "          {\"role\":\"system\",\"content\":sys_prompt},\n",
        "          {\"role\":\"user\",\"content\":user_prompt}\n",
        "      ],\n",
        "  )\n",
        "  response=completion.choices[0].message.content\n",
        "  return response"
      ],
      "metadata": {
        "id": "iGUXn0aHL7J8"
      },
      "execution_count": null,
      "outputs": []
    },
    {
      "cell_type": "code",
      "source": [
        "def retrieve_page_content(query):\n",
        "  results=base_retriever.get_relevant_documents(query)\n",
        "  if not results:\n",
        "    return None\n",
        "\n",
        "  # print(results)\n",
        "\n",
        "  return results"
      ],
      "metadata": {
        "id": "o-cvmKHXMHPq"
      },
      "execution_count": null,
      "outputs": []
    },
    {
      "cell_type": "code",
      "source": [
        "def build_question_to_gold_answer_map(in_documents):\n",
        "\n",
        "    question_to_gold = {}\n",
        "\n",
        "    for doc in in_documents:\n",
        "        question = doc.metadata.get(\"question_text\", \"\").strip()\n",
        "        gold = doc.metadata.get(\"gold_answer\", {})\n",
        "        question_to_gold[question] = gold\n",
        "\n",
        "    return question_to_gold\n"
      ],
      "metadata": {
        "id": "3vucxVmHNZ5O"
      },
      "execution_count": null,
      "outputs": []
    },
    {
      "cell_type": "code",
      "source": [
        "def RAG_base(questions,question_to_gold_map,mode='test'):\n",
        "\n",
        "  answer_NQ_client=OpenAI(api_key=os.environ.get(\"OPENAI_API_KEY\"))\n",
        "\n",
        "  run_results = []\n",
        "\n",
        "  for i in range(len(questions)):\n",
        "    question_curr = questions[i]\n",
        "    # if question_curr != 'which olsen twin was in full house more':\n",
        "\n",
        "    #     continue\n",
        "    print(f\"============={i+1} Question:{question_curr}=============\")\n",
        "\n",
        "    relevant_content = retrieve_page_content(question_curr)\n",
        "\n",
        "    #Convert document into text before pass into the prompt!\n",
        "    relevant_content = [doc.page_content for doc in relevant_content]\n",
        "    relevant_content_text = \"\\n\\n\".join(relevant_content)\n",
        "\n",
        "    sys_prompt=\"\"\n",
        "    user_prompt=f\"\"\"\n",
        "    Answer the question **directly and concisely** using only the provided context.\n",
        "      - Do not repeat the question.\n",
        "      - Do not include information not in the context.\n",
        "      - If the answer is unclear or not found, say 'I don't have the answer.'\n",
        "\n",
        "    Question: {question_curr}\n",
        "    Relevant contents:{relevant_content_text}\n",
        "    \"\"\"\n",
        "    # print(user_prompt)\n",
        "    response=get_API_response(answer_NQ_client,sys_prompt,user_prompt,temp,topp)\n",
        "\n",
        "    print('-------Final Answer:-------------')\n",
        "    print(f\"Question: {question_curr}\\n Response: {response}\")\n",
        "\n",
        "    #save to output file\n",
        "    gold_answer = question_to_gold_map.get(question_curr.strip(), \"\")\n",
        "    run_results.append({\n",
        "      \"input_question\": question_curr,\n",
        "      \"retrieved_contexts\": relevant_content,\n",
        "      \"response\": response,\n",
        "      \"gold_answer\": gold_answer\n",
        "    })\n",
        "\n",
        "    if mode == 'test':\n",
        "      break\n",
        "    else:\n",
        "      continue\n",
        "\n",
        "  return run_results\n"
      ],
      "metadata": {
        "id": "4Wiy7v_VL9vM"
      },
      "execution_count": null,
      "outputs": []
    },
    {
      "cell_type": "code",
      "source": [
        "test_questions = [\n",
        "    eachDoc.metadata[\"question_text\"]\n",
        "    for eachDoc in test_documents\n",
        "    if \"question_text\" in eachDoc.metadata\n",
        "]\n",
        "\n",
        "print(test_questions)"
      ],
      "metadata": {
        "colab": {
          "base_uri": "https://localhost:8080/"
        },
        "id": "Ka71-x4COFui",
        "outputId": "86cbdb59-bdfb-4b52-e99b-04db66d8c1d2"
      },
      "execution_count": null,
      "outputs": [
        {
          "output_type": "stream",
          "name": "stdout",
          "text": [
            "['who sang the theme tune to absolutely fabulous', 'where did the annual wife carrying world championships take place', 'when was figure skating introduced to the olympics', 'who sings in the eye of the storm', 'who won the primary for governor of illinois', 'where did they film american horror story coven', 'what is the main job of the pharynx', \"what film has the song don't you forget about me\", 'where is archangel raphael mentioned in the bible', 'who sings the theme song to one tree hill', 'who fired the first shot of the civil war at fort sumter', 'who plays amy on the secret life of an american teenager', 'when is the second sound of the heartbeat produced', 'who plays chuck on the tv show chuck', 'which olsen twin was in full house more', 'how much money does argentina make from tourism', 'who did the french revolt against in 1789', 'who is the kicker for the new york giants', 'who played the mom in lost in space 2018', 'who recorded the song do you love me', 'how is the energy generated in a main sequence star', 'where is the best farming soil in the us and where did all the dirt come from', 'when did humans first occupy the international space station', 'who played darth vader in the original trilogy', 'what is the difference between priest and bishop', 'what does c class stand for in mercedes benz', 'how many episodes will prison break season 5 have', 'when was the 1913 natives land act repealed', 'where was best years of our lives filmed', 'summary of philip sidney an apology for poetry']\n"
          ]
        }
      ]
    },
    {
      "cell_type": "code",
      "source": [
        "question_to_gold_map = build_question_to_gold_answer_map(test_documents_gold)\n",
        "\n",
        "start = time.time()\n",
        "baseline_run_results = RAG_base(test_questions,question_to_gold_map,mode='prod')\n",
        "end = time.time()\n",
        "\n",
        "print(f\"RAG_base took {end - start:.4f} seconds to run.\")"
      ],
      "metadata": {
        "colab": {
          "base_uri": "https://localhost:8080/"
        },
        "id": "4l3S3hmGNd7C",
        "outputId": "efc8dc2f-f0e7-4802-9f98-70cadcf1ad03"
      },
      "execution_count": null,
      "outputs": [
        {
          "output_type": "stream",
          "name": "stdout",
          "text": [
            "=============1 Question:who sang the theme tune to absolutely fabulous=============\n"
          ]
        },
        {
          "output_type": "stream",
          "name": "stderr",
          "text": [
            "<ipython-input-27-7e16fc2d090d>:2: LangChainDeprecationWarning: The method `BaseRetriever.get_relevant_documents` was deprecated in langchain-core 0.1.46 and will be removed in 1.0. Use :meth:`~invoke` instead.\n",
            "  results=base_retriever.get_relevant_documents(query)\n"
          ]
        },
        {
          "output_type": "stream",
          "name": "stdout",
          "text": [
            "[Document(id='37356ebd-9f87-4df9-9362-5c2896c16412', metadata={'Title': 'Untitled', 'question_text': 'who sang the theme tune to absolutely fabulous', 'start_index': 21026}, page_content=\"Dickson Wright </Li> </Ul> <H2> Theme song ( edit ) </H2> <P> The theme song for Absolutely Fabulous is `` This Wheel 's on Fire '' , written by Bob Dylan and Rick Danko and performed by Julie Driscoll and Saunders ' husband Adrian Edmondson . The song\"), Document(id='d5e058b7-f426-474b-834d-52b081c7ee19', metadata={'Title': 'Untitled', 'question_text': 'who sang the theme tune to absolutely fabulous', 'start_index': 22231}, page_content=\"theme song , in 1994 , Pet Shop Boys recorded a song for Comic Relief using excerpts of dialogue from the series put to dance music . The single was attributed to `` Absolutely Fabulous produced by Pet Shop Boys '' . It peaked at number 6 in the UK\"), Document(id='d0c0e10c-1be5-47e3-9ac3-b5c02857e6d8', metadata={'Title': 'Untitled', 'question_text': 'who sang the theme tune to absolutely fabulous', 'start_index': 0}, page_content='Absolutely Fabulous - wikipedia <H1> Absolutely Fabulous </H1> Jump to : navigation , search This article is about the TV sitcom . For the movie , see Absolutely Fabulous : The Movie . For the 1994 song by Pet Shop Boys , see Absolutely Fabulous ( song ) .'), Document(id='8403ac39-0194-44bb-b14f-836889fd540e', metadata={'Title': 'Untitled', 'question_text': 'who sang the theme tune to absolutely fabulous', 'start_index': 25051}, page_content='( edit ) </H2> <P> Absolutely Fabulous inspired a French feature film , called Absolument fabuleux , in 2001 . It was written and directed by Gabriel Aghion , and starred Josiane Balasko as Eddy and Nathalie Baye as Patsy . Saunders had a small cameo'), Document(id='b69a0cac-98e1-4a8f-af46-87f3be4f8340', metadata={'Title': 'Untitled', 'question_text': 'who sang the theme tune to absolutely fabulous', 'start_index': 6609}, page_content='. </P> <P> Absolutely Fabulous is ranked as the 17th greatest British TV show of all time by the British Film Institute . A scene from the show was included in the 100 Greatest TV Moments programme broadcast by Channel 4 . In 1997 , the pilot episode , ``'), Document(id='ca4fc4d9-903e-4cc2-b3d9-bed9a3c8eb22', metadata={'Title': 'Untitled', 'question_text': 'who sang the theme tune to absolutely fabulous', 'start_index': 26698}, page_content='in Ab Fab is now used as the stage for the shop in the British comedy Miranda . Miranda Hart , creator of the show , had previously appeared on Absolutely Fabulous . </P> <H3> Mirrorball ( edit ) </H3> <P> Mirrorball was a pilot set in the London theatre'), Document(id='263e37ec-606c-445d-84e4-24293db520b3', metadata={'Title': 'Untitled', 'question_text': 'who sang the theme tune to absolutely fabulous', 'start_index': 14413}, page_content='Episodes ( edit ) </H2> Main article : List of Absolutely Fabulous episodes <P> Absolutely Fabulous first aired on 12 November 1992 and ran for three series , until 4 May 1995 , when the sixth episode of series 3 was billed as the last ever episode .'), Document(id='ca875e6a-ee03-48b4-9167-9fa3529c55ee', metadata={'Title': 'Untitled', 'question_text': 'who sang the theme tune to absolutely fabulous', 'start_index': 237}, page_content='Fabulous ( song ) . <Table> <Tr> <Th_colspan=\"2\"> Absolutely Fabulous </Th> </Tr> <Tr> <Td_colspan=\"2\"> Title card ( 2011 -- 2012 ) </Td> </Tr> <Tr> <Th> Genre </Th> <Td> Sitcom </Td> </Tr> <Tr> <Th> Created by </Th> <Td> Jennifer Saunders Dawn French ('), Document(id='b829dfa1-1ed9-4c2a-b17b-7ac3d853c755', metadata={'Title': 'Untitled', 'question_text': 'who sang the theme tune to absolutely fabulous', 'start_index': 25993}, page_content=', also adapted elements of Absolutely Fabulous for the American audience . </P> <P> It was announced on 7 October 2008 that an American version of the series was in the works . The series was to be relocated to Los Angeles . Saturday Night Live writer'), Document(id='736bba8b-4d6e-4134-ac06-0e4214321fd5', metadata={'Title': 'Untitled', 'question_text': 'who sang the theme tune to absolutely fabulous', 'start_index': 2123}, page_content='series : 31 August 2001 -- 25 December 2004 20th anniversary specials : 25 December 2011 -- 23 July 2012 </Td> </Tr> <Tr> <Th_colspan=\"2\"> External links </Th> </Tr> <Tr> <Td_colspan=\"2\"> Website </Td> </Tr> </Table> <P> Absolutely Fabulous , also known')]\n",
            "-------Final Answer:-------------\n",
            "Question: who sang the theme tune to absolutely fabulous\n",
            " Response: Julie Driscoll and Adrian Edmondson performed the theme song for Absolutely Fabulous.\n",
            "=============2 Question:where did the annual wife carrying world championships take place=============\n",
            "[Document(id='bceabe78-10ec-448b-8fc3-747155b2e21c', metadata={'Title': 'Untitled', 'question_text': 'where did the annual wife carrying world championships take place', 'start_index': 721}, page_content=\"the husband 's shoulders , holding onto his waist ) . </P> <P> Wife Carrying World Championships are held annually in Sonkajärvi , Finland , since 1992 ( where the prize depends on the wife 's weight in beer ) . </P> <P> </P> <H2> Contents </H2> ( hide )\"), Document(id='a5218faa-6515-4181-8741-001292d77bb1', metadata={'Title': 'Untitled', 'question_text': 'where did the annual wife carrying world championships take place', 'start_index': 10643}, page_content='Wife Carrying World Championship </Li> <Li> Jump up ^ Maine couple wins North American Wife Carrying Championship at Sunday River Ski Resort </Li> <Li> Jump up ^ The Daily Telegraph , 10 July 2013 , Finland hosts annual wife - carrying world championships'), Document(id='e85fe70c-6c1d-4e22-980f-ba83a78c8a43', metadata={'Title': 'Untitled', 'question_text': 'where did the annual wife carrying world championships take place', 'start_index': 10879}, page_content=\"world championships , retrieved 10 July 2013 . </Li> <Li> Jump up ^ `` Wife - carrying team defends title '' . Melbourne : The Age . 2011 - 07 - 03 . Retrieved 2011 - 07 - 03 . </Li> <Li> ^ Jump up to : `` Wife - carrying championships : Finnish pair\"), Document(id='9198ff4f-bd9c-41d5-a183-1c2db2948584', metadata={'Title': 'Untitled', 'question_text': 'where did the annual wife carrying world championships take place', 'start_index': 7349}, page_content='The North American Wife Carrying Championships take place every year on Columbus Day Weekend in October at Sunday River Ski Resort in Newry , Maine . </P> <H3> United Kingdom ( edit ) </H3> <P> The United Kingdom Wife Carrying Race was established in 2008'), Document(id='b019f13a-e498-4528-83d3-2aa863405000', metadata={'Title': 'Untitled', 'question_text': 'where did the annual wife carrying world championships take place', 'start_index': 8757}, page_content='<P> The US final takes place the second weekend of July in Menahga Minnesota ( MN - St. Urho Wife Carry for Charity Challenge ) . Major wife - carrying competitions are also held in Monona , Wisconsin , Minocqua , Wisconsin and Marquette , Michigan . </P>'), Document(id='a289cbb5-b199-49cf-b034-785405d156f0', metadata={'Title': 'Untitled', 'question_text': 'where did the annual wife carrying world championships take place', 'start_index': 12298}, page_content=\"at wife - carrying '' . BBC News . 2000 - 07 - 02 . Retrieved 2010 - 07 - 11 . </Li> <Li> Jump up ^ Huuhtanen , Matti ( 1998 - 07 - 04 ) . `` Estonians take double victory in international wife carrying contest '' . Highbeam.com . Associated Press .\"), Document(id='16d7cddc-0f5a-46af-a766-a0cdd41e4fda', metadata={'Title': 'Untitled', 'question_text': 'where did the annual wife carrying world championships take place', 'start_index': 0}, page_content=\"Wife - carrying - wikipedia <H1> Wife - carrying </H1> Jump to : navigation , search An Estonian pair competing at a World Championships in Sonkajärvi using the `` Estonian carry '' technique <P> Wife carrying ( Finnish : eukonkanto or akankanto , Estonian\"), Document(id='eebdb92d-e35c-4937-bcdf-6c3a2fe77842', metadata={'Title': 'Untitled', 'question_text': 'where did the annual wife carrying world championships take place', 'start_index': 6879}, page_content=') and Tiina Jussila ( Finland ) , 65 seconds . </Li> </Ul> <H2> Countries ( edit ) </H2> <H3> Australia ( edit ) </H3> <P> Australian Wife Carrying Championships are held annually since 2005 . </P> <Ul> <Li> 2016 -- Australian Champions : Adrian and'), Document(id='30a549ed-b74b-42d5-9005-5312fdf53b1c', metadata={'Title': 'Untitled', 'question_text': 'where did the annual wife carrying world championships take place', 'start_index': 2862}, page_content='this sport has been considered by some as a joke , competitors take it very seriously , just like any other sport . </P> <P> Wife carrying contests are now seen in Australia , the United States , Hong Kong , Estonia , the UK and other parts of the world'), Document(id='08bd7dc8-aa8f-4f3b-8112-c0498fdac595', metadata={'Title': 'Untitled', 'question_text': 'where did the annual wife carrying world championships take place', 'start_index': 13457}, page_content='</H2> <Table> <Tr> <Td> </Td> <Td> Wikimedia Commons has media related to Wife carrying . </Td> </Tr> </Table> <Ul> <Li> Sonkajärvi -- Wife Carrying World Championships </Li> <Li> Wife carrying competition in the UK </Li> </Ul> Retrieved from ``')]\n",
            "-------Final Answer:-------------\n",
            "Question: where did the annual wife carrying world championships take place\n",
            " Response: Sonkajärvi, Finland.\n",
            "=============3 Question:when was figure skating introduced to the olympics=============\n",
            "[Document(id='f14028b7-41f0-4136-b97e-26a5cdf91656', metadata={'Title': 'Untitled', 'question_text': 'when was figure skating introduced to the olympics', 'start_index': 1187}, page_content='singles , and pair skating have been held most often . Ice dance joined as a medal sport in 1976 and a team event debuted at the 2014 Olympics . Special figures were contested at only one Olympics , in 1908 . Synchronized skating has never appeared at the'), Document(id='5b3a8b23-5972-4347-87a1-8935423a985d', metadata={'Title': 'Untitled', 'question_text': 'when was figure skating introduced to the olympics', 'start_index': 2135}, page_content=\"Games , after which it was permanently transferred to the program of the Winter Olympic Games , first held in 1924 in Chamonix , France . </P> <P> In London , figure skating was presented in four events : men 's singles , women 's singles , men 's special\"), Document(id='9e387471-b0e1-475d-985a-dbfab9f35b2a', metadata={'Title': 'Untitled', 'question_text': 'when was figure skating introduced to the olympics', 'start_index': 950}, page_content=\"Medalists </Li> </Ul> </Td> </Tr> </Table> <P> Figure skating was first contested in the Olympic Games at the 1908 Summer Olympics . Since 1924 , the sport has been a part of the Winter Olympic Games . </P> <P> Men 's singles , ladies ' singles , and pair\"), Document(id='24ce7d80-0fc0-4d7d-acf0-d1080bdda876', metadata={'Title': 'Untitled', 'question_text': 'when was figure skating introduced to the olympics', 'start_index': 55383}, page_content='Figure skating at the Olympic Games </Th> </Tr> <Tr> <Td> </Td> <Td_colspan=\"2\"> <Ul> <Li> 1908 </Li> <Li> 1912 </Li> <Li> 1920 </Li> <Li> 1924 </Li> <Li> 1928 </Li> <Li> 1932 </Li> <Li> 1936 </Li> <Li> 1948 </Li> <Li> 1952 </Li> <Li> 1956 </Li> <Li> 1960'), Document(id='66f4b95b-b640-4d4e-9474-0f6824cf7144', metadata={'Title': 'Untitled', 'question_text': 'when was figure skating introduced to the olympics', 'start_index': 1666}, page_content='per year </Li> </Ul> </Li> <Li> 6 See also </Li> <Li> 7 References </Li> <Li> 8 External links </Li> </Ul> <P> </P> <H2> History ( edit ) </H2> <P> Figure skating was first contested as an Olympic sport at the 1908 Summer Olympics , in London , United'), Document(id='2207e667-0742-4209-a6c4-fc9c605ce374', metadata={'Title': 'Untitled', 'question_text': 'when was figure skating introduced to the olympics', 'start_index': 0}, page_content='Figure skating at the Olympic Games - wikipedia <H1> Figure skating at the Olympic Games </H1> Jump to : navigation , search <Table> <Tr> <Th_colspan=\"2\"> Figure skating at the Olympic Games </Th> </Tr> <Tr> <Td_colspan=\"2\"> </Td> </Tr> <Tr> <Th> Governing'), Document(id='4209ac55-e448-4f96-b0d2-19a9fbd03e8b', metadata={'Title': 'Untitled', 'question_text': 'when was figure skating introduced to the olympics', 'start_index': 58876}, page_content=\"Retrieved from `` https://en.wikipedia.org/w/index.php?title=Figure_skating_at_the_Olympic_Games&oldid=843330906 '' Categories : <Ul> <Li> Figure skating at the Olympic Games </Li> <Li> Figure skating at multi-sport events </Li> <Li> Sports at the Winter\"), Document(id='9dc06fe7-1b34-4b6f-881e-deecf6e58e8c', metadata={'Title': 'Untitled', 'question_text': 'when was figure skating introduced to the olympics', 'start_index': 2608}, page_content='from the program . </P> <P> Ice dance joined as a medal sport in 1976 , after appearing as a demonstration event at Grenoble 1968 . </P> <P> A team event debuted at the 2014 Olympics . It consists of two segments : qualification and finals . During'), Document(id='55f28bb7-0568-439e-a0de-169cb83d5169', metadata={'Title': 'Untitled', 'question_text': 'when was figure skating introduced to the olympics', 'start_index': 50913}, page_content=\"( 1 ) : 35 -- 44 . Retrieved July 15 , 2009 . </Li> <Li> Jump up ^ Sarkar , Pritha ( 29 March 2012 ) . `` Figure skating - New team event at Sochi Olympics will begin early '' . Reuters . Retrieved 12 November 2012 . </Li> <Li> Jump up ^\"), Document(id='952d73c1-f0eb-454d-87ed-709def6f74a4', metadata={'Title': 'Untitled', 'question_text': 'when was figure skating introduced to the olympics', 'start_index': 2374}, page_content=\", men 's special figures , and mixed pairs . The special figures contest was won by Russian Nikolai Panin , who gave his country its first ever Olympic gold medal . He remains the event 's sole winner , as it was subsequently dropped from the program .\")]\n",
            "-------Final Answer:-------------\n",
            "Question: when was figure skating introduced to the olympics\n",
            " Response: Figure skating was first contested in the Olympic Games at the 1908 Summer Olympics.\n",
            "=============4 Question:who sings in the eye of the storm=============\n",
            "[Document(id='618f26f4-4f02-4672-9fb1-c7971a6f27f6', metadata={'Title': 'Untitled', 'question_text': 'who sings in the eye of the storm', 'start_index': 0}, page_content='Eye of the Storm ( Ryan Stevenson song ) - Wikipedia <H1> Eye of the Storm ( Ryan Stevenson song ) </H1> <Table> <Tr> <Th_colspan=\"2\"> `` Eye of the Storm \\'\\' </Th> </Tr> <Tr> <Th_colspan=\"2\"> Single by Ryan Stevenson </Th> </Tr> <Tr> <Th_colspan=\"2\"> from'), Document(id='a85bf770-3699-4b2d-8d5e-a3ade9277b3f', metadata={'Title': 'Untitled', 'question_text': 'who sings in the eye of the storm', 'start_index': 2136}, page_content=\"</Ul> </Td> </Tr> </Table> Retrieved from `` https://en.wikipedia.org/w/index.php?title=Eye_of_the_Storm_(Ryan_Stevenson_song)&oldid=845639956 '' Categories : <Ul> <Li> 2015 songs </Li> <Li> Gotee Records singles </Li> <Li> Contemporary Christian songs\"), Document(id='11397fcd-4621-4c96-a7f9-f7b398f66234', metadata={'Title': 'Untitled', 'question_text': 'who sings in the eye of the storm', 'start_index': 969}, page_content=\"<P> </P> <Table> <Tr> <Td> `` All Yours '' ( 2015 ) </Td> <Td> `` Eye of the Storm '' ( 2016 ) </Td> <Td> `` The Gospel '' ( 2017 ) </Td> </Tr> </Table> </Td> </Tr> </Table> <P> `` Eye of the Storm '' is a song recorded by Christian musician Ryan\"), Document(id='d21fbd73-67ce-4ac0-94ea-327d94304061', metadata={'Title': 'Untitled', 'question_text': 'who sings in the eye of the storm', 'start_index': 1675}, page_content=\"Jump up ^ Asker , Jim ( 27 July 2016 ) . `` Ryan Stevenson Earns His First No. 1 on Hot Christian Songs Chart with Eye of the Storm '' . Billboard . Retrieved 18 August 2016 . </Li> <Li> Jump up ^ `` Ryan Stevenson chart history on Billboard '' .\"), Document(id='ec989361-d1a5-4254-a5f3-d2ae8f97792f', metadata={'Title': 'Untitled', 'question_text': 'who sings in the eye of the storm', 'start_index': 728}, page_content='Stevenson singles chronology </Th> </Tr> <Tr> <Td_colspan=\"2\"> <Table> <Tr> <Td> `` All Yours \\'\\' ( 2015 ) </Td> <Td> `` Eye of the Storm \\'\\' ( 2016 ) </Td> <Td> `` The Gospel \\'\\' ( 2017 ) </Td> </Tr> </Table> </Td> </Tr> <Tr> <Td_colspan=\"2\"> <P> </P>'), Document(id='8ea91e45-f0b3-4dc6-aaa3-79f54fef9ae1', metadata={'Title': 'Untitled', 'question_text': 'who recorded the song do you love me', 'start_index': 4956}, page_content=\"album mud rock ( 1974 ) . The song was one of the highlights of The Blues Brothers ' live set . Bruce Springsteen frequently ended his shows in the mid-1980s with the song , as part of a medley with `` Twist and Shout '' . Alvin and the Chipmunks covered\"), Document(id='6a7e2d4a-4f98-4c4b-a451-4157294d1e6d', metadata={'Title': 'Untitled', 'question_text': 'how many episodes will prison break season 5 have', 'start_index': 12985}, page_content=\"to a trap , where Michael blinds Cyclops ' remaining eye but he is able to wound Michael with a poisoned blade . Ja helps the others find Phaecia , where they use fireworks to lead Michael to them , who falls unconscious after arriving . A&W and Van Gogh\"), Document(id='a750aaa1-95e6-4a92-817d-61e9732bb870', metadata={'Title': 'Untitled', 'question_text': 'who sings the theme song to one tree hill', 'start_index': 4022}, page_content=\"the song with Jackson Brundage . In the 8th season of the aforementioned TV series , several artists covered it for the season 's theme music , including Spinnerette , Against Me ! , Kate Voegele , Susie Suh and Patrick Stump . DeGraw also performed the\"), Document(id='32eb9c80-54df-4694-8030-d81af45b8829', metadata={'Title': 'Untitled', 'question_text': \"what film has the song don't you forget about me\", 'start_index': 10635}, page_content=\"song played in an episode of the American crime drama series Cold Case on 2nd May 2010 . </Li> <Li> This song played in an episode of the American television series The Handmaid 's Tale on 26th April 2017 . </Li> </Ul> <H2> See also ( edit ) </H2> <Ul>\"), Document(id='3cf1aee5-1e31-4099-a971-81f6e88bfde1', metadata={'Title': 'Untitled', 'question_text': 'how many episodes will prison break season 5 have', 'start_index': 15811}, page_content=\"agent , and Van Gogh expresses disdain for Jacob 's methods and vows to leave 21 - Void when the job with Michael is done . </Td> </Tr> <Tr> <Th> 90 </Th> <Td> 9 </Td> <Td> `` Behind the Eyes '' </Td> <Td> Nelson McCormick </Td> <Td> Paul Scheuring </Td>\")]\n",
            "-------Final Answer:-------------\n",
            "Question: who sings in the eye of the storm\n",
            " Response: Ryan Stevenson sings \"Eye of the Storm.\"\n",
            "=============5 Question:who won the primary for governor of illinois=============\n",
            "[Document(id='6958c4af-5436-43bd-b650-a6473dfc967e', metadata={'Title': 'Untitled', 'question_text': 'who won the primary for governor of illinois', 'start_index': 4993}, page_content='the Governor of Illinois . The Democratic and Republican general primary elections took place on March 20 , 2018 , and the general election will take place on November 6 , 2018 . </P> <P> Incumbent Republican Governor Bruce Rauner is running for'), Document(id='a89cce3d-bd75-4dd8-bcbd-f10e22c3edf0', metadata={'Title': 'Untitled', 'question_text': 'who won the primary for governor of illinois', 'start_index': 55973}, page_content=\"`` Illinois Primary Election Results '' . Retrieved May 22 , 2018 -- via NYTimes.com . </Li> <Li> Jump up ^ Pearson , Rick ( 20 March 2017 ) . `` State Sen. Daniel Biss announces Democratic bid for governor '' . Chicago Tribune . Retrieved 20 March 2017 .\"), Document(id='46adc0ea-4382-4216-8c06-85b2a8489abd', metadata={'Title': 'Untitled', 'question_text': 'who won the primary for governor of illinois', 'start_index': 54567}, page_content=\"endorse Rauner for governor ahead of March primary '' . The Daily Northwestern . Retrieved February 4 , 2018 . </Li> <Li> Jump up ^ Pohlman , Bill ( February 8 , 2018 ) . `` Palatine Township Republicans hold endorsement session '' . Chicago Tribune .\"), Document(id='d9a0f915-1584-4778-8f0c-30cc53d4d35c', metadata={'Title': 'Untitled', 'question_text': 'who won the primary for governor of illinois', 'start_index': 55509}, page_content=\"wo n't endorse in gubernatorial primary '' . Capitol Fax . Retrieved November 21 , 2017 . </Li> <Li> Jump up ^ Geiger , Rick Pearson , Kim . `` Rauner challenger Ives goes on attack during only forum of Republican governor race '' . Retrieved May 22 ,\"), Document(id='04e35c8b-949f-4c61-aa9e-10330f07774a', metadata={'Title': 'Untitled', 'question_text': 'who won the primary for governor of illinois', 'start_index': 55742}, page_content=\"Retrieved May 22 , 2018 . </Li> <Li> ^ Jump up to : report , Staff . `` Democratic candidates for governor debate Wednesday at UIS '' . Retrieved May 22 , 2018 . </Li> <Li> ^ Jump up to : Times , The New York ( March 20 , 2018 ) . `` Illinois Primary\"), Document(id='92d77d34-a885-4499-9e7e-477174f1c0f2', metadata={'Title': 'Untitled', 'question_text': 'who won the primary for governor of illinois', 'start_index': 55035}, page_content=\"Rauner '' . Chicago Tribune . February 16 , 2018 . Retrieved February 16 , 2018 . </Li> <Li> Jump up ^ `` ENDORSEMENT : Bruce Rauner for governor in the Republican primary '' . Chicago Sun - Times . February 20 , 2018 . Retrieved February 21 , 2018 .\"), Document(id='eb5301c0-7f08-4889-8954-cdaff0b39c9e', metadata={'Title': 'Untitled', 'question_text': 'who won the primary for governor of illinois', 'start_index': 86889}, page_content=\"for Governor '' . springfielddaily.com . Retrieved May 22 , 2018 . </Li> <Li> Jump up ^ Monack , Joseph ( March 16 , 2018 ) . `` Illinois Constitution Party Selects William J. Kelly for Governor '' . Springfield Daily . Retrieved April 27 , 2018 . </Li>\"), Document(id='94a445e5-f004-48a2-9d0e-9c5c1a2f56ae', metadata={'Title': 'Untitled', 'question_text': 'who won the primary for governor of illinois', 'start_index': 89733}, page_content='Hardiman ( D ) for Governor </Li> <Li> Jeanne Ives ( R ) for Governor </Li> <Li> Kash Jackson ( L ) for Governor </Li> <Li> William J. Kelly ( C ) for Governor </Li> <Li> Chris Kennedy ( D ) for Governor </Li> <Li> J.B. Pritzker ( D ) for Governor </Li>'), Document(id='8a90a00d-8a2c-4290-8736-cf2aeeb4a25d', metadata={'Title': 'Untitled', 'question_text': 'who won the primary for governor of illinois', 'start_index': 57644}, page_content=\"September 14 , 2017 . </Li> <Li> Jump up ^ Sfondeles , Tina ( August 11 , 2017 ) . `` Pritzker wins key Dem nod for gov , vows victory ' up and down ' ticket '' . Chicago Sun Times . Chicago , Illinois . Retrieved August 21 , 2017 . </Li> <Li> Jump up ^\"), Document(id='2e43abfc-0bfe-4e20-9ada-02421257b86a', metadata={'Title': 'Untitled', 'question_text': 'who won the primary for governor of illinois', 'start_index': 57883}, page_content=\"<Li> Jump up ^ Pearson , Rick ( April 6 , 2017 ) . `` J.B. Pritzker joins Illinois governor race , facing big Democratic field to take on Rauner '' . Chicago Tribune . Retrieved 6 April 2017 . </Li> <Li> Jump up ^ Miller , Rich ( August 9 , 2017 ) . ``\")]\n",
            "-------Final Answer:-------------\n",
            "Question: who won the primary for governor of illinois\n",
            " Response: I don't have the answer.\n",
            "=============6 Question:where did they film american horror story coven=============\n",
            "[Document(id='2c26f5fd-ee21-4c63-828e-c5718f6c7855', metadata={'Title': 'Untitled', 'question_text': 'where did they film american horror story coven', 'start_index': 67102}, page_content=\"10 , 2013 ) . `` ' American Horror Story : Coven ' Cast Is Fabulous In Creepy New Teaser ( VIDEO ) '' . The Huffington Post . Retrieved September 10 , 2013 . </Li> <Li> Jump up ^ `` American Horror Story : Coven '' . Rotten Tomatoes . Retrieved February 9\"), Document(id='4da2a8c0-4164-4795-8a51-2ccc8a785d1d', metadata={'Title': 'Untitled', 'question_text': 'where did they film american horror story coven', 'start_index': 65211}, page_content=\"Crew , Casting Call : Coven Cast Travel To Louisiana To Begin Shooting '' . KPopStarz.com . July 16 , 2013 . Retrieved July 17 , 2013 . </Li> <Li> Jump up ^ Prudom , Laura ( March 15 , 2013 ) . `` ' American Horror Story : Coven ' : Kathy Bates To Star In\"), Document(id='822bf94d-bd92-4775-9546-829f0fec240b', metadata={'Title': 'Untitled', 'question_text': 'where did they film american horror story coven', 'start_index': 65690}, page_content=\"Storyline , Confirms Coven Shooting Schedule '' . KPopStarz.com . July 23 , 2013 . Retrieved September 1 , 2015 . </Li> <Li> Jump up ^ Martin , Denise ( August 5 , 2013 ) . `` Ryan Murphy Reveals More American Horror Story : Coven Plot Details '' .\"), Document(id='f24d9833-8c34-4009-8bcc-b52e77cfd2c3', metadata={'Title': 'Untitled', 'question_text': 'where did they film american horror story coven', 'start_index': 0}, page_content='American Horror Story : Coven - wikipedia <H1> American Horror Story : Coven </H1> Jump to : navigation , search <Table> <Tr> <Th_colspan=\"2\"> American Horror Story : Coven </Th> </Tr> <Tr> <Td_colspan=\"2\"> Promotional poster and home media cover art </Td>'), Document(id='45c8308f-fcb7-4201-8f27-df7b6e775c4a', metadata={'Title': 'Untitled', 'question_text': 'where did they film american horror story coven', 'start_index': 75760}, page_content=\"Retrieved from `` https://en.wikipedia.org/w/index.php?title=American_Horror_Story:_Coven&oldid=805176004 '' Categories : <Ul> <Li> 1830s in fiction </Li> <Li> 2013 American television seasons </Li> <Li> 2014 American television seasons </Li> <Li>\"), Document(id='7db69983-4bb0-432a-9014-6d0e0808d64f', metadata={'Title': 'Untitled', 'question_text': 'where did they film american horror story coven', 'start_index': 64976}, page_content=\"( September 5 , 2013 ) . `` ' American Horror Story : Coven ' & ' Horizon ' Add To Casts '' . Deadline.com . Retrieved September 9 , 2013 . </Li> <Li> Jump up ^ `` American Horror Story Season 3 Supports New Orleans Film Industry With Crew , Casting Call\"), Document(id='b8c4169b-6179-43ea-a22f-2cdd85a32549', metadata={'Title': 'Untitled', 'question_text': 'where did they film american horror story coven', 'start_index': 67823}, page_content=\"<Li> Jump up ^ Jensen , Jeff ( February 5 , 2014 ) . `` American Horror Story : Coven '' . Entertainment Weekly . Retrieved February 7 , 2014 . </Li> <Li> Jump up ^ `` American Horror Story : Coven '' . Rotten Tomatoes . Retrieved November 24 , 2016 .\"), Document(id='4f9e9c83-501c-4870-909b-b1c62afd0319', metadata={'Title': 'Untitled', 'question_text': 'where did they film american horror story coven', 'start_index': 64269}, page_content=\"Story ' : Alexandra Breckenridge Returns for ' Coven ' '' . The Hollywood Reporter . Retrieved September 1 , 2015 . </Li> <Li> Jump up ^ Hetrick , Adam ( August 15 , 2013 ) . `` Christine Ebersole Joins Cast of `` American Horror Story : Coven '' `` .\"), Document(id='8bee3b23-36f6-4dc9-a18b-01f6dfd88d2b', metadata={'Title': 'Untitled', 'question_text': 'where did they film american horror story coven', 'start_index': 43450}, page_content=\"with creepy storytelling and campy , outrageous thrills make American Horror Story : Coven a potently structured fright-fest . '' The season scored 71 out of 100 on Metacritic , based on 24 reviews . </P> <P> In contrast , Coven was also met with negative\"), Document(id='8f29d4bb-a5f3-4f35-b155-161064585134', metadata={'Title': 'Untitled', 'question_text': 'where did they film american horror story coven', 'start_index': 956}, page_content='Asylum Next → Freak Show </Td> </Tr> <Tr> <Td_colspan=\"2\"> List of American Horror Story episodes </Td> </Tr> </Table> <P> American Horror Story : Coven is the third season of the FX horror anthology television series American Horror Story . It premiered')]\n",
            "-------Final Answer:-------------\n",
            "Question: where did they film american horror story coven\n",
            " Response: I don't have the answer.\n",
            "=============7 Question:what is the main job of the pharynx=============\n",
            "[Document(id='243d89c0-4ee9-4759-93e5-01179c91fb75', metadata={'Title': 'Untitled', 'question_text': 'what is the main job of the pharynx', 'start_index': 1643}, page_content='structure is not universally the same across all of those species . </P> <P> In humans the pharynx is part of the digestive system and also of the conducting zone of the respiratory system . ( The conducting zone also includes the nostrils of the nose ,'), Document(id='2382cee3-b122-4599-b53c-b2b8719cb328', metadata={'Title': 'Untitled', 'question_text': 'what is the main job of the pharynx', 'start_index': 1411}, page_content='part of the throat that is behind the mouth and nasal cavity and above the esophagus and the larynx , or the tubes going down to the stomach and the lungs . The pharynx is an area found in vertebrates and invertebrates , though the structure is not'), Document(id='a6309608-573e-4e60-b6b5-81154bec0724', metadata={'Title': 'Untitled', 'question_text': 'what is the main job of the pharynx', 'start_index': 6597}, page_content='pharyngis ) , also known as hypopharynx , is the caudal part of pharynx ; it is the part of the throat that connects to the esophagus . It lies inferior to the epiglottis and extends to the location where this common pathway diverges into the respiratory'), Document(id='f66ba733-e320-4838-8a25-88ba141cd79a', metadata={'Title': 'Untitled', 'question_text': 'what is the main job of the pharynx', 'start_index': 9178}, page_content='the air and food passages and this helps in the defense mechanism of the respiratory and alimentary systems . </P> <H2> History ( edit ) </H2> <H3> Etymology ( edit ) </H3> <P> The word pharynx ( / ˈfærɪŋks / ) is derived from the Greek φάρυγξ phárynx ,'), Document(id='1fb56d31-7b04-4c28-86bb-e902cc52acbf', metadata={'Title': 'Untitled', 'question_text': 'what is the main job of the pharynx', 'start_index': 5882}, page_content='both food and air pass through the pharynx , a flap of connective tissue called the epiglottis closes over the glottis when food is swallowed to prevent aspiration . The oropharynx is lined by non-keratinised squamous stratified epithelium . </P> <P> The'), Document(id='29473734-d940-41ad-b798-8dedb3a830a8', metadata={'Title': 'Untitled', 'question_text': 'what is the main job of the pharynx', 'start_index': 1178}, page_content='</Tr> <Tr> <Th> TA </Th> <Td> A05. 3.01. 001 </Td> </Tr> <Tr> <Th> FMA </Th> <Td> 46688 </Td> </Tr> <Tr> <Td_colspan=\"2\"> Anatomical terminology ( edit on Wikidata ) </Td> </Tr> </Table> <P> The pharynx ( plural : pharynges ) is the part of the throat'), Document(id='8a3ffb44-d998-479f-ac63-bc15803638ab', metadata={'Title': 'Untitled', 'question_text': 'what is the main job of the pharynx', 'start_index': 473}, page_content='Pharynx </Td> </Tr> <Tr> <Th_colspan=\"2\"> Details </Th> </Tr> <Tr> <Th> Part of </Th> <Td> Throat </Td> </Tr> <Tr> <Th> System </Th> <Td> Respiratory system , digestive system </Td> </Tr> <Tr> <Th> Artery </Th> <Td> pharyngeal branches of ascending'), Document(id='33cd62b7-108b-44b5-9aa3-9a69705501dd', metadata={'Title': 'Untitled', 'question_text': 'what is the main job of the pharynx', 'start_index': 1883}, page_content='of the nose , larynx , trachea , bronchi , and bronchioles , and their function is to filter , warm , and moisten air and conduct it into the lungs . ) The pharynx makes up the part of the throat situated immediately behind the nasal cavity , behind the'), Document(id='a1e771ff-4e72-40f4-b255-5e6d6a825fb9', metadata={'Title': 'Untitled', 'question_text': 'what is the main job of the pharynx', 'start_index': 9649}, page_content='An illustration of the pharyngeal jaws of a moray eel <P> All vertebrates have a pharynx , used in both feeding and respiration . The pharynx arises during development in all vertebrates through a series of six or more outpocketings on the lateral sides'), Document(id='a970f2cb-7b4a-478a-95b0-45b604dc8b54', metadata={'Title': 'Untitled', 'question_text': 'what is the main job of the pharynx', 'start_index': 12502}, page_content='the pharynx in the animal body . </P> </Li> <Li> <P> Microscopic cross section through the pharynx of a larva from an unknown lamprey species . </P> </Li> </Ul> <H2> Additional images ( edit ) </H2> <Ul> <Li> <P> Nose and nasal </P> </Li> <Li> <P> Coronal')]\n",
            "-------Final Answer:-------------\n",
            "Question: what is the main job of the pharynx\n",
            " Response: The main job of the pharynx is to serve as a part of both the digestive system and the conducting zone of the respiratory system, allowing both food and air to pass through it.\n",
            "=============8 Question:what film has the song don't you forget about me=============\n",
            "[Document(id='d9869cb3-3c29-496c-aef0-807cb93a28dc', metadata={'Title': 'Untitled', 'question_text': \"what film has the song don't you forget about me\", 'start_index': 4721}, page_content=\"from Spin wrote that `` ' Do n't You Forget About Me , ' a romantic and melancholy dance track , therefore cuts ice both in the living room and on the dance floor . '' </P> <H2> Music video ( edit ) </H2> <P> The music video , directed by Daniel Kleinman\"), Document(id='c7861399-f860-47b8-8a0a-d50ffb372c45', metadata={'Title': 'Untitled', 'question_text': \"what film has the song don't you forget about me\", 'start_index': 11812}, page_content=\"2015 . </Li> <Li> Jump up ^ Leland , John ( June 1985 ) . `` Singles '' . Spin. 1 ( 2 ) : 37 . Retrieved 15 September 2011 . </Li> <Li> Jump up ^ SimpleMindsVEVO ( 2010 - 12 - 03 ) , Simple Minds - Do n't You ( Forget About Me ) , retrieved 2017 - 03 - 08\"), Document(id='ce861fd6-b4c7-45bc-a1af-f34f9a6ac263', metadata={'Title': 'Untitled', 'question_text': \"what film has the song don't you forget about me\", 'start_index': 17947}, page_content=\"27 November 2016 . Enter Do n't You Forget About Me in the search field and then press Enter . </Li> </Ol> <H2> External links ( edit ) </H2> <Ul> <Li> AllMusic : Keith Forsey </Li> <Li> Lyrics of this song at MetroLyrics </Li> </Ul> <Table> <Tr> <Td>\"), Document(id='ed4bdb44-1188-413c-b8ab-05e8d823310f', metadata={'Title': 'Untitled', 'question_text': \"what film has the song don't you forget about me\", 'start_index': 14407}, page_content=\"Simple Minds -- Do n't You ( Forget About Me ) '' . Swiss Singles Chart . Retrieved 27 November 2016 . </Li> <Li> Jump up ^ `` Official Singles Chart Top 100 '' . Official Charts Company . Retrieved 27 November 2016 . </Li> <Li> Jump up ^ `` Simple Minds\"), Document(id='6dfa82ae-8bde-4eae-80d2-12c014cfd21e', metadata={'Title': 'Untitled', 'question_text': \"what film has the song don't you forget about me\", 'start_index': 14171}, page_content=\"Rock Encyclopedia . Retrieved 27 November 2016 . </Li> <Li> Jump up ^ `` Swedishcharts.com -- Simple Minds -- Do n't You ( Forget About Me ) '' . Singles Top 100 . Retrieved 27 November 2016 . </Li> <Li> Jump up ^ `` Swisscharts.com -- Simple Minds -- Do\"), Document(id='9e91bc18-6b5f-42b8-95c8-f5ac3d898266', metadata={'Title': 'Untitled', 'question_text': \"what film has the song don't you forget about me\", 'start_index': 1188}, page_content='`` Do n\\'t You ( Forget About Me ) \\'\\' ( 1985 ) </Td> <Td> `` Alive and Kicking \\'\\' ( 1985 ) </Td> </Tr> </Table> </Td> </Tr> <Tr> <Td_colspan=\"2\"> <Table> <Tr> <Td> `` Up on the Catwalk \\'\\' ( 1984 ) </Td> <Td> `` Do n\\'t You ( Forget About Me ) \\'\\' ( 1985 )'), Document(id='fce60bd9-0ba4-4902-8970-d2c7d0d67d2f', metadata={'Title': 'Untitled', 'question_text': \"what film has the song don't you forget about me\", 'start_index': 17715}, page_content=\"Minds -- Do n't You Forget About Me '' . Music Canada . Retrieved 27 November 2016 . </Li> <Li> Jump up ^ `` British single certifications -- Simple Minds -- Do n't You Forget About Me '' . British Phonographic Industry . Retrieved 27 November 2016 .\"), Document(id='570daea2-1a87-4f92-bc4e-feda06591f5f', metadata={'Title': 'Untitled', 'question_text': \"what film has the song don't you forget about me\", 'start_index': 13709}, page_content=\"'' ( in Dutch ) . Dutch Top 40 Retrieved 27 November 2016 . </Li> <Li> Jump up ^ `` Dutchcharts.nl -- Simple Minds -- Do n't You ( Forget About Me ) '' ( in Dutch ) . Single Top 100 . Retrieved 27 November 2016 . </Li> <Li> Jump up ^ `` Charts.org.nz --\"), Document(id='e43fbe65-b95c-4228-9e8f-7199bcc368eb', metadata={'Title': 'Untitled', 'question_text': \"what film has the song don't you forget about me\", 'start_index': 12293}, page_content=\"<Li> Jump up ^ `` Austriancharts.at -- Simple Minds -- Do n't You ( Forget About Me ) '' ( in German ) . Ö3 Austria Top 40 . Retrieved 27 November 2016 . </Li> <Li> Jump up ^ `` Ultratop.be -- Simple Minds -- Do n't You ( Forget About Me ) '' ( in Dutch )\"), Document(id='c957f028-4ed8-41b5-8eb4-81b19c6bdee3', metadata={'Title': 'Untitled', 'question_text': \"what film has the song don't you forget about me\", 'start_index': 13235}, page_content=\"</Li> <Li> Jump up ^ `` Offiziellecharts.de -- Simple Minds -- Do n't You ( Forget About Me ) '' . GfK Entertainment Charts . Retrieved 27 November 2016 . </Li> <Li> Jump up ^ `` The Irish Charts -- Search Results -- Do n't You ( Forget About Me ) '' .\")]\n",
            "-------Final Answer:-------------\n",
            "Question: what film has the song don't you forget about me\n",
            " Response: I don't have the answer.\n",
            "=============9 Question:where is archangel raphael mentioned in the bible=============\n",
            "[Document(id='aef53f1a-0a79-4e1f-9af6-a91578e79e2e', metadata={'Title': 'Untitled', 'question_text': 'where is archangel raphael mentioned in the bible', 'start_index': 3537}, page_content=', only Michael , mentioned as archangel ( Daniel 12 : 1 ) , and Gabriel are mentioned by name in canonical books . </P> <H2> In catholicism and the Orthodox church ( edit ) </H2> Tobias and the Angel by Gustave Doré <P> The name of the angel Raphael'), Document(id='4e02cccf-5f03-42fe-8a2f-dcaf2d3aaf9a', metadata={'Title': 'Untitled', 'question_text': 'where is archangel raphael mentioned in the bible', 'start_index': 3769}, page_content=\"the angel Raphael appears in the Biblical Book of Tobit . The Book of Tobit is considered deuterocanonical by Catholics , Orthodox , and some Anglicans . Raphael first appears disguised in human form as the travelling companion of Tobit 's son , Tobiah (\"), Document(id='34fd5832-e875-499e-b8a5-994470d9dc0d', metadata={'Title': 'Untitled', 'question_text': 'where is archangel raphael mentioned in the bible', 'start_index': 1653}, page_content=', Orthodox , and some Anglo - Catholics , as useful for public teaching by Anglicans and considered useful and good to read by Lutherans . Raphael is generally associated with the angel mentioned in the Gospel of John as stirring the water at the healing'), Document(id='321328d4-ce4e-4f3f-9403-1534f0129a1a', metadata={'Title': 'Untitled', 'question_text': 'where is archangel raphael mentioned in the bible', 'start_index': 1893}, page_content='at the healing pool of Bethesda . Raphael is also an angel in Mormonism , as he is briefly mentioned in the Doctrine and Covenants . </P> <P> </P> <H2> Contents </H2> ( hide ) <Ul> <Li> 1 In Judaism <Ul> <Li> 1.1 In the Book of Enoch </Li> </Ul> </Li>'), Document(id='890f0ab3-278f-4b8f-9a71-f02fce9bc86b', metadata={'Title': 'Untitled', 'question_text': 'where is archangel raphael mentioned in the bible', 'start_index': 4242}, page_content=\"the desert of upper Egypt . After returning and healing the blind Tobit , Azarias makes himself known as `` the angel Raphael , one of the seven , who stand before the Lord '' Tobit 12 : 15 . He is venerated as Saint Raphael the Archangel . </P> <P>\"), Document(id='1da2f5b3-ebe4-486a-9ae1-28275c883f17', metadata={'Title': 'Untitled', 'question_text': 'where is archangel raphael mentioned in the bible', 'start_index': 10854}, page_content='in reference to Raphael . </P> <H2> See also ( edit ) </H2> <Ul> <Li> List of angels in theology </Li> <Li> Angels in Judaism </Li> <Li> Archangel </Li> <Li> Feast of Saint Raphael , Ollur </Li> <Li> Gabriel </Li> <Li> Michael ( archangel ) </Li> </Ul>'), Document(id='df6b33e3-bdf4-44d6-b843-9e8449b56292', metadata={'Title': 'Untitled', 'question_text': 'where is archangel raphael mentioned in the bible', 'start_index': 1413}, page_content='Christian tradition performs all manners of healing . In Islam , Raphael is the fourth major angel ; in the Muslim tradition , he is known as Israfil . Raphael is mentioned in the Book of Tobit , which is accepted as canonical by Catholics , Orthodox ,'), Document(id='4ec96d87-492a-4dbf-bf55-974f28b4e528', metadata={'Title': 'Untitled', 'question_text': 'where is archangel raphael mentioned in the bible', 'start_index': 12036}, page_content='Editrice Vaticana , 1969 ) , p. 143 ) </Li> <Li> Jump up ^ Eisenbichler , Konrad . The Boys of the Archangel Raphael , University of Toronto Press , 1998 ISBN 9781442613034 </Li> <Li> Jump up ^ http://www.indianchristianity.com/html/menachery.htm </Li>'), Document(id='0f0df0d2-2b7d-4c8b-986c-8a4af2665923', metadata={'Title': 'Untitled', 'question_text': 'where is archangel raphael mentioned in the bible', 'start_index': 0}, page_content='Raphael ( archangel ) - wikipedia <H1> Raphael ( archangel ) </H1> Jump to : navigation , search For other uses , see Raphael ( disambiguation ) . <Table> <Tr> <Th_colspan=\"2\"> Raphael </Th> </Tr> <Tr> <Td_colspan=\"2\"> Saint Raphael the Archangel by'), Document(id='3ece7f23-cf70-4c3d-adaf-1a77f1177b1c', metadata={'Title': 'Untitled', 'question_text': 'where is archangel raphael mentioned in the bible', 'start_index': 5424}, page_content='with the archangel . </P> <H3> Veneration ( edit ) </H3> Patronage ( edit ) Raphael , Palazzo Ducale , Venice , detail <P> Due to his actions in the Book of Tobit and the Gospel of John , Saint Raphael is accounted patron of travelers , the blind , happy')]\n",
            "-------Final Answer:-------------\n",
            "Question: where is archangel raphael mentioned in the bible\n",
            " Response: The angel Raphael is mentioned in the Biblical Book of Tobit.\n",
            "=============10 Question:who sings the theme song to one tree hill=============\n",
            "[Document(id='66d929db-2402-4fa9-9ae3-164500dbfe4b', metadata={'Title': 'Untitled', 'question_text': 'who sings the theme song to one tree hill', 'start_index': 6845}, page_content='Television theme songs </Li> <Li> One Tree Hill ( TV series ) </Li> <Li> Songs written by Gavin DeGraw </Li> <Li> 2003 songs </Li> <Li> J Records singles </Li> </Ul> Hidden categories : <Ul> <Li> CS1 Dutch - language sources ( nl ) </Li> <Li> Articles'), Document(id='d775840f-7b8d-4a02-abf9-74303d48ed11', metadata={'Title': 'Untitled', 'question_text': 'who sings the theme song to one tree hill', 'start_index': 3783}, page_content='content in the game Karaoke Revolution : American Idol Encore . </Li> <Li> The song is the opening theme to One Tree Hill . DeGraw performs the song on a Season 1 episode of One Tree Hill . He returned for the season 5 premiere to perform the song with'), Document(id='b3727719-3f35-47eb-be02-1466056a14e9', metadata={'Title': 'Untitled', 'question_text': 'who sings the theme song to one tree hill', 'start_index': 1412}, page_content=\"2003 debut album , Chariot . It was released as a single in Australia in 2003 , and in the UK in 2004 . The single became DeGraw 's biggest hit to date , mainly due to the premiere of One Tree Hill , of which the song is the opening theme ; peaking at\"), Document(id='d132ebbc-435c-4a3b-b0ce-cd198424f16d', metadata={'Title': 'Untitled', 'question_text': 'who sings the theme song to one tree hill', 'start_index': 1890}, page_content=\"UK charts reaching number 27 , due to the finale of One Tree Hill 's 9th and final season airing , which featured DeGraw . </P> <H2> Contents </H2> <Ul> <Li> 1 Track listing </Li> <Li> 2 Charts and certifications <Ul> <Li> 2.1 Weekly charts </Li> <Li> 2.2\"), Document(id='64bb2a86-e7bb-4633-ac77-e92550b4ee34', metadata={'Title': 'Untitled', 'question_text': 'who plays chuck on the tv show chuck', 'start_index': 32070}, page_content=\"Chuck was also a contestant in E ! 's online Save One Show contest for the second year running , where it won with 52 % of the vote . The runner up was One Tree Hill , which garnered 20 % of the vote . </P> <P> On May 13 , 2010 , it was announced that\"), Document(id='a6949b2b-697a-42ed-a1ee-edc2b2b4a987', metadata={'Title': 'Untitled', 'question_text': 'who sang the theme tune to absolutely fabulous', 'start_index': 21989}, page_content=\"version of the song . Also excised from the US DVD release is the musical number from Chicago performed by Horrocks , Gaffney , and Ryan , during a dream sequence in the series 5 episode `` Birthin ' '' . </P> <P> In addition to the official theme song ,\"), Document(id='a750aaa1-95e6-4a92-817d-61e9732bb870', metadata={'Title': 'Untitled', 'question_text': 'who sings the theme song to one tree hill', 'start_index': 4022}, page_content=\"the song with Jackson Brundage . In the 8th season of the aforementioned TV series , several artists covered it for the season 's theme music , including Spinnerette , Against Me ! , Kate Voegele , Susie Suh and Patrick Stump . DeGraw also performed the\"), Document(id='501d40e7-2c2e-4957-9341-fe116937d889', metadata={'Title': 'Untitled', 'question_text': \"what film has the song don't you forget about me\", 'start_index': 10163}, page_content='of the American comedy series 30 Rock on 4th December 2008 . </Li> <Li> This song played in an episode of the British television soap Hollyoaks on 22nd May 2009 . </Li> <Li> This song played in an episode of the British chat show Loose Women on 15th July'), Document(id='6cb61dd1-ce57-42aa-8fca-2bee12820872', metadata={'Title': 'Untitled', 'question_text': 'who plays chuck on the tv show chuck', 'start_index': 34880}, page_content=\"episode treatment . The theme song is `` Short Skirt / Long Jacket '' by Cake . </P> <P> On February 2 , 2009 , Chuck broadcast a full - length 3D television episode . The episode was broadcast using the ColorCode 3 - D stereoscopy system , and could be\"), Document(id='32eb9c80-54df-4694-8030-d81af45b8829', metadata={'Title': 'Untitled', 'question_text': \"what film has the song don't you forget about me\", 'start_index': 10635}, page_content=\"song played in an episode of the American crime drama series Cold Case on 2nd May 2010 . </Li> <Li> This song played in an episode of the American television series The Handmaid 's Tale on 26th April 2017 . </Li> </Ul> <H2> See also ( edit ) </H2> <Ul>\")]\n",
            "-------Final Answer:-------------\n",
            "Question: who sings the theme song to one tree hill\n",
            " Response: Gavin DeGraw sings the theme song to One Tree Hill.\n",
            "=============11 Question:who fired the first shot of the civil war at fort sumter=============\n",
            "[Document(id='62ec79f1-3fe3-4be9-bd7b-178c88e70bd2', metadata={'Title': 'Untitled', 'question_text': 'who fired the first shot of the civil war at fort sumter', 'start_index': 24778}, page_content=\"Fort Johnson . ( James had offered the first shot to Roger Pryor , a noted Virginia secessionist , who declined , saying , `` I could not fire the first gun of the war . '' ) The shell exploded over Fort Sumter as a signal to open the general bombardment\"), Document(id='1263de61-e247-4cf0-bc97-e35feccbc17b', metadata={'Title': 'Untitled', 'question_text': 'who fired the first shot of the civil war at fort sumter', 'start_index': 25482}, page_content=\"war , and fired one of the first shots at Sumter after the signal round , a 64 - pound shell from the Iron Battery at Cummings Point . The shelling of Fort Sumter from the batteries ringing the harbor awakened Charleston 's residents ( including diarist\"), Document(id='358cd358-71d6-47e7-a54f-cbe039d40ccf', metadata={'Title': 'Untitled', 'question_text': 'who fired the first shot of the civil war at fort sumter', 'start_index': 33741}, page_content=\"the 1861 surrender <H2> Aftermath </H2> <P> The bombardment of Fort Sumter was the first military action of the American Civil War . Following the surrender , Northerners rallied behind Lincoln 's call for all states to send troops to recapture the forts\"), Document(id='a5c815e6-c82b-494b-9ad4-46feb28a53e1', metadata={'Title': 'Untitled', 'question_text': 'who fired the first shot of the civil war at fort sumter', 'start_index': 14633}, page_content='his guns at Sumter when he heard the Confederate fire , but the secrecy of the operation had kept him unaware that a relief expedition was in progress and he chose not to start a general engagement . </P> <P> In a letter delivered January 31 , 1861 ,'), Document(id='faa9234e-817b-4c7b-8681-2d366180e466', metadata={'Title': 'Untitled', 'question_text': 'who fired the first shot of the civil war at fort sumter', 'start_index': 14399}, page_content=', among them William Stewart Simkins , who were the only trained artillerymen in the service of South Carolina at the time . Batteries from Fort Moultrie joined in and Star of the West was forced to withdraw . Major Anderson prepared his guns at Sumter'), Document(id='f7dfcd6d-f235-47bb-a715-5f73f52a3c78', metadata={'Title': 'Untitled', 'question_text': 'who fired the first shot of the civil war at fort sumter', 'start_index': 231}, page_content='<Td_colspan=\"2\"> Bombardment of Fort Sumter by Currier & Ives </Td> </Tr> <Tr> <Td_colspan=\"2\"> <Table> <Tr> <Th> Date </Th> <Td> April 12 -- 13 , 1861 </Td> </Tr> <Tr> <Th> Location </Th> <Td> Charleston , South Carolina 32 ° 45 ′ 8 \\'\\' N 79 ° 52 ′ 29 \\'\\''), Document(id='d4308d86-2820-42b2-8703-f3ea064e5888', metadata={'Title': 'Untitled', 'question_text': 'who fired the first shot of the civil war at fort sumter', 'start_index': 29974}, page_content=\"pause its firing , the Confederates often cheered and applauded after the firing resumed and they shouted epithets at some of the nearby Union ships for failing to come to the fort 's aid . </P> <H2> Surrender </H2> Fort Sumter Flag <Table> <Tr> <Td>\"), Document(id='2701b9bb-5c19-4246-b83b-d26db2925960', metadata={'Title': 'Untitled', 'question_text': 'who fired the first shot of the civil war at fort sumter', 'start_index': 4951}, page_content='was fired upon by shore batteries on January 9 , 1861 . South Carolina authorities then seized all Federal property in the Charleston area except for Fort Sumter . </P> <P> During the early months of 1861 , the situation around Fort Sumter increasingly'), Document(id='70341248-b71f-442e-925a-cb3365ece742', metadata={'Title': 'Untitled', 'question_text': 'who fired the first shot of the civil war at fort sumter', 'start_index': 32565}, page_content='Hough and Edward Galloway , and seriously wounding the other four members of the gun crew ; these were the first military fatalities of the war . The salute was stopped at fifty shots . Hough was buried in the Fort Sumter parade ground within two hours'), Document(id='0a902698-b41e-4b62-8771-77de1d84e62f', metadata={'Title': 'Untitled', 'question_text': 'who fired the first shot of the civil war at fort sumter', 'start_index': 36580}, page_content='as the first in the series of five stamps marking the Civil War Centennial on April 12 , 1961 , at the Charleston post office . </P> <P> The stamp was designed by Charles R. Chickering . It illustrates a seacoast gun from Fort Sumter aimed by an officer')]\n",
            "-------Final Answer:-------------\n",
            "Question: who fired the first shot of the civil war at fort sumter\n",
            " Response: I don't have the answer.\n",
            "=============12 Question:who plays amy on the secret life of an american teenager=============\n",
            "[Document(id='1b1017b7-67c6-444c-8239-32af5c95f1eb', metadata={'Title': 'Untitled', 'question_text': 'who plays amy on the secret life of an american teenager', 'start_index': 1404}, page_content='independent films , Eisley gained a major role in 2008 in The Secret Life of the American Teenager . She played Ashley Juergens , younger sister of teen mother Amy Juergens . </P> <P> Eisley starred as Sawa in the 2014 action film Kite , opposite Samuel'), Document(id='d2395c63-ed83-4706-946a-3adc313715a9', metadata={'Title': 'Untitled', 'question_text': 'who plays amy on the secret life of an american teenager', 'start_index': 3536}, page_content='Title </Th> <Th> Role </Th> <Th> Notes </Th> </Tr> <Tr> <Td> 2008 -- 2013 </Td> <Td> The Secret Life of the American Teenager </Td> <Td> Ashley Juergens </Td> <Td> Main role ; 120 episodes </Td> </Tr> <Tr> <Td> 2014 </Td> <Td> Nanny Cam </Td> <Td> Heather'), Document(id='be419465-6c2b-4f51-82a0-c7a2bd56fca1', metadata={'Title': 'Untitled', 'question_text': 'who plays amy on the secret life of an american teenager', 'start_index': 708}, page_content='Ashley Juergens in the ABC Family television series The Secret Life of the American Teenager , and her roles as Eve in 2012 film Underworld : Awakening , Sawa in the 2014 film Kite , and Audrina in the 2016 television film My Sweet Audrina . </P> <H2>'), Document(id='c5b77d73-e5ca-42fe-be25-761698fac7b9', metadata={'Title': 'Untitled', 'question_text': 'where did they film american horror story coven', 'start_index': 63814}, page_content=\"'' . Broadway.com . June 4 , 2013 . Retrieved June 7 , 2013 . </Li> <Li> Jump up ^ Keveney , Bill ( April 29 , 2013 ) . `` Gabourey Sidibe joins ' American Horror Story : Coven ' '' . USA Today . Retrieved April 29 , 2013 . </Li> <Li> Jump up ^ Webb\"), Document(id='4c13e561-f6f2-42ea-acb9-7bc59707d662', metadata={'Title': 'Untitled', 'question_text': 'who plays amy on the secret life of an american teenager', 'start_index': 2119}, page_content='of Maria in the psychological thriller film Look Away opposite Jason Isaacs . </P> <P> Author Jessica Brody has expressed a desire for Eisley to portray her character Seraphina in the film adaptation of her novel Unremembered . Hollywood casting director'), Document(id='16875530-008a-4c8a-ad18-8171a0f49977', metadata={'Title': 'Untitled', 'question_text': 'who plays chuck on the tv show chuck', 'start_index': 10858}, page_content='<Li> Mini Andén as Carina Miller ( season 1 , 3 and 4 ) </Li> <Li> Tony Hale as Emmett Milbarge ( season 2 and 3 ) </Li> <Li> John Larroquette as Roan Montgomery ( seasons 2 and 4 ) </Li> <Li> Nicole Richie as Heather Chandler ( seasons 2 and 4 ) </Li>'), Document(id='bb643d34-042f-4f62-9dd1-c4cb3da77f28', metadata={'Title': 'Untitled', 'question_text': 'where did they film american horror story coven', 'start_index': 52262}, page_content='in a TV Series -- Guest Starring Young Actor 11 -- 13 </Td> <Td> Toby Nichols </Td> <Td> Nominated </Td> </Tr> <Tr> <Td> BET Awards 2014 </Td> <Td> Best Actress </Td> <Td> Angela Bassett </Td> <Td> Nominated </Td> </Tr> <Tr> <Td> 50th CAS Awards </Td>'), Document(id='febdf57c-c814-4207-873b-f644d3a22ac4', metadata={'Title': 'Untitled', 'question_text': 'where did they film american horror story coven', 'start_index': 63341}, page_content=\", 2013 . </Li> <Li> Jump up ^ Webb Mitovich , Matt ( May 22 , 2013 ) . `` Emma Roberts Joins FX 's ' American Horror Story ' '' . Deadline.com . Retrieved August 2 , 2014 . </Li> <Li> Jump up ^ Stack , Tim ( May 13 , 2013 ) . `` ' American Horror Story '\"), Document(id='3f63d569-a795-4dd8-ace7-a24748533803', metadata={'Title': 'Untitled', 'question_text': 'who plays amy on the secret life of an american teenager', 'start_index': 1882}, page_content=\"as Briar Rose . In 2016 Eisley starred in the titular role in the television film adaptation of the V.C. Andrews ' book My Sweet Audrina . In 2017 she starred in the Netflix original film Clinical . In 2018 , Eisley played the lead role of Maria in the\"), Document(id='f63d3393-c062-454c-96cd-f82b7eaf6831', metadata={'Title': 'Untitled', 'question_text': 'who plays amy on the secret life of an american teenager', 'start_index': 474}, page_content='<Td> David Glen Eisley Olivia Hussey </Td> </Tr> <Tr> <Th> Relatives </Th> <Td> Anthony Eisley ( grandfather ) </Td> </Tr> </Table> <P> India Joy Eisley ( born October 29 , 1993 ) is an American actress . She is known for her role as Ashley Juergens in')]\n",
            "-------Final Answer:-------------\n",
            "Question: who plays amy on the secret life of an american teenager\n",
            " Response: I don't have the answer.\n",
            "=============13 Question:when is the second sound of the heartbeat produced=============\n",
            "[Document(id='5e1f6461-ba97-42c1-a52e-b2d165bc5754', metadata={'Title': 'Untitled', 'question_text': 'when is the second sound of the heartbeat produced', 'start_index': 1651}, page_content='sound ( S ) and second heart sound ( S ) , produced by the closing of the atrioventricular valves and semilunar valves , respectively . In addition to these normal sounds , a variety of other sounds may be present including heart murmurs , adventitious'), Document(id='5591fed4-daf9-4212-8d6a-e161e16eb6a9', metadata={'Title': 'Untitled', 'question_text': 'when is the second sound of the heartbeat produced', 'start_index': 6803}, page_content='overload . </P> <P> It occurs at the beginning of diastole after S2 and is lower in pitch than S1 or S2 as it is not of valvular origin . The third heart sound is benign in youth , some trained athletes , and sometimes in pregnancy but if it re-emerges'), Document(id='f0839968-8bb5-4b3c-9498-9702041f0be4', metadata={'Title': 'Untitled', 'question_text': 'when is the second sound of the heartbeat produced', 'start_index': 7273}, page_content='of the ventricles initiated by blood rushing in from the atria . The reason the third heart sound does not occur until the middle third of diastole is probably that during the early part of diastole , the ventricles are not filled sufficiently to create'), Document(id='d7b0cbde-2848-40a2-b40a-94e185a1d516', metadata={'Title': 'Untitled', 'question_text': 'when is the second sound of the heartbeat produced', 'start_index': 1414}, page_content='auditory data regarding the condition of the heart . </P> <P> In healthy adults , there are two normal heart sounds , often described as a lub and a dub ( or dup ) , that occur in sequence with each heartbeat . These are the first heart sound ( S ) and'), Document(id='e0672acc-4b65-4811-a3fd-0c4a5b2d4d73', metadata={'Title': 'Untitled', 'question_text': 'when is the second sound of the heartbeat produced', 'start_index': 6332}, page_content=\"are heard in both normal and abnormal situations . </P> <H3> </H3> Main article : Third heart sound <P> Rarely , there may be a third heart sound also called a protodiastolic gallop , ventricular gallop , or informally the `` Kentucky '' gallop as an\"), Document(id='e39b2f59-a303-43eb-9a8f-0e620f845b67', metadata={'Title': 'Untitled', 'question_text': 'when is the second sound of the heartbeat produced', 'start_index': 8916}, page_content='hypertrophic left ventricle , as in systemic hypertension , severe valvular aortic stenosis , and hypertrophic cardiomyopathy . The sound occurs just after atrial contraction at the end of diastole and immediately before S1 , producing a rhythm sometimes'), Document(id='043ddf2d-833b-4469-abbb-6c232d60ac5a', metadata={'Title': 'Untitled', 'question_text': 'when is the second sound of the heartbeat produced', 'start_index': 5639}, page_content='the pressure in the pulmonary artery , the pulmonary valve closes . The S sound results from reverberation within the blood associated with the sudden block of flow reversal . </P> <P> Splitting of S2 , also known as physiological split , normally occurs'), Document(id='0e6fea0c-b6f3-4ecb-970d-374d5010128e', metadata={'Title': 'Untitled', 'question_text': 'when is the second sound of the heartbeat produced', 'start_index': 472}, page_content=\"are labeled with `` M '' , `` T '' , `` A '' , and `` P '' . First heart sound : caused by atrioventricular valves - Mitral ( M ) and Tricuspid ( T ) . Second heart sound caused by semilunar valves -- Aortic ( A ) and Pulmonary / Pulmonic ( P ) . Diagram\"), Document(id='5cdcc436-06ec-4942-af6b-fab8d4a8d089', metadata={'Title': 'Untitled', 'question_text': 'when is the second sound of the heartbeat produced', 'start_index': 4709}, page_content=\"associated with the sudden block of flow reversal by the valves . The delay of T1 even more than normally causes the split S1 which is heard in a right bundle branch blockage . </P> <H3> </H3> <P> The second heart sound , or S , forms the `` dub '' of ``\"), Document(id='d1070496-ddae-4bd7-87e1-fe7983906006', metadata={'Title': 'Untitled', 'question_text': 'when is the second sound of the heartbeat produced', 'start_index': 12214}, page_content=\"; may not be heard in all positions . Only heard if the patient `` bears down '' or performs the Valsalva maneuver . </Td> </Tr> <Tr> <Td> Grade 2 </Td> <Td> Quiet , but heard immediately after placing the stethoscope on the chest . </Td> </Tr> <Tr> <Td>\")]\n",
            "-------Final Answer:-------------\n",
            "Question: when is the second sound of the heartbeat produced\n",
            " Response: The second heart sound is produced by the closing of the semilunar valves.\n",
            "=============14 Question:who plays chuck on the tv show chuck=============\n",
            "[Document(id='ab9cd648-2d70-4619-9d60-7a50364390fe', metadata={'Title': 'Untitled', 'question_text': 'who plays chuck on the tv show chuck', 'start_index': 32542}, page_content=\"current timeslot . The premiere episode of the fourth season was titled `` Chuck Versus the Anniversary '' , and aired on September 20 . Season four guest starred Linda Hamilton , Dolph Lundgren , Harry Dean Stanton , Olivia Munn , Steve Austin , Dave\"), Document(id='1227d43b-7985-444f-8228-beb969dbb698', metadata={'Title': 'Untitled', 'question_text': 'who plays chuck on the tv show chuck', 'start_index': 21230}, page_content=\"award . Chuck was also nominated for `` Best New TV Comedy Series '' at the 2008 People 's Choice Awards , which aired on January 8 , 2008 , but lost to Samantha Who ? The series stunt coordinator Merritt Yohnka won the 2007 -- 2008 Primetime Emmy for ``\"), Document(id='fa012435-e10a-4cf2-9dcd-dc3fa73267b0', metadata={'Title': 'Untitled', 'question_text': 'who plays chuck on the tv show chuck', 'start_index': 5906}, page_content=\"McPartlin ) , are doctors who constantly encourage Chuck to make progress in his professional and romantic life . </P> <P> Bryce Larkin ( Matthew Bomer ) , Chuck 's former Stanford University roommate and now a Central Intelligence Agency ( CIA ) agent ,\"), Document(id='64bb2a86-e7bb-4633-ac77-e92550b4ee34', metadata={'Title': 'Untitled', 'question_text': 'who plays chuck on the tv show chuck', 'start_index': 32070}, page_content=\"Chuck was also a contestant in E ! 's online Save One Show contest for the second year running , where it won with 52 % of the vote . The runner up was One Tree Hill , which garnered 20 % of the vote . </P> <P> On May 13 , 2010 , it was announced that\"), Document(id='e1da8199-7187-4c2d-ab92-e5874b818339', metadata={'Title': 'Untitled', 'question_text': 'who plays chuck on the tv show chuck', 'start_index': 27595}, page_content=\"'s cast and crew participated in a special `` rally cry '' episode of Chuck vs the Podcast on April 24 , 2009 , just before the season finale , to encourage fans to keep the campaign going and thank them for their support . On the campaign , co-creator\"), Document(id='1e9067f0-0725-4d6d-ae9d-e3a386c66b8d', metadata={'Title': 'Untitled', 'question_text': 'who plays chuck on the tv show chuck', 'start_index': 32303}, page_content=\"was announced that Chuck had been renewed by NBC for a fourth season . The season received a 13 - episode order with an option of an additional nine episodes . The fourth season premiered during NBC 's fall 2010 schedule . It retained its current timeslot\"), Document(id='9d9271c6-0478-4a19-a55f-1a6f79508864', metadata={'Title': 'Untitled', 'question_text': 'who plays chuck on the tv show chuck', 'start_index': 56822}, page_content=\"Variety . Retrieved May 18 , 2009 . </Li> <Li> Jump up ^ Adalian , Josef ( August 27 , 2008 ) . `` NBC Goes All the Way With ' Chuck ' '' . TVWeek.com . Retrieved May 18 , 2009 . </Li> <Li> Jump up ^ Tedesco , Richard ( January 7 , 2009 ) . `` DreamWorks\"), Document(id='97d1a4b9-cc2b-4eb0-86f5-04ff61649d85', metadata={'Title': 'Untitled', 'question_text': 'who plays chuck on the tv show chuck', 'start_index': 0}, page_content='Chuck ( TV series ) - wikipedia <H1> Chuck ( TV series ) </H1> <P> </P> <Table> <Tr> <Th_colspan=\"2\"> Chuck </Th> </Tr> <Tr> <Td_colspan=\"2\"> </Td> </Tr> <Tr> <Th> Created by </Th> <Td> <Ul> <Li> Josh Schwartz </Li> <Li> Chris Fedak </Li> </Ul> </Td> </Tr>'), Document(id='63f9f35e-6508-44ee-a709-cfa75245f9d3', metadata={'Title': 'Untitled', 'question_text': 'who plays chuck on the tv show chuck', 'start_index': 17710}, page_content=\"Chuck has received critical acclaim . Rolling Stone magazine included the show on its fall 2007 `` We Like to Watch '' list , saying the show `` wipes the floor with the other fall debuts '' . Chuck landed on USA Today 's list of the `` 10 Picks for 2007\"), Document(id='76d70b42-47f5-456b-bf11-917863171765', metadata={'Title': 'Untitled', 'question_text': 'who plays chuck on the tv show chuck', 'start_index': 44080}, page_content=\"The Futon Critic . March 16 , 2007 . </Li> <Li> Jump up ^ `` NBC star `` Chuck '' lives it up in old Hollywood `` . Reuters / Hollywood Reporter . November 9 , 2007 . </Li> <Li> Jump up ^ `` Hollywood On Location - TV Locations - Chuck '' . Seeing Stars\")]\n",
            "-------Final Answer:-------------\n",
            "Question: who plays chuck on the tv show chuck\n",
            " Response: I don't have the answer.\n",
            "=============15 Question:which olsen twin was in full house more=============\n",
            "[Document(id='66b37ebb-ee96-444d-bdad-e8637401430c', metadata={'Title': 'Untitled', 'question_text': 'which olsen twin was in full house more', 'start_index': 11335}, page_content='. </P> <H2> Fuller House ( edit ) </H2> <P> The twins declined to reprise their role for Fuller House , the 2016 Netflix sequel to Full House . Ashley cited their 12 years away from acting and Mary - Kate said the timing was bad . In the series , their'), Document(id='d2caadd8-6145-4ea1-a8f2-c29e9b877171', metadata={'Title': 'Untitled', 'question_text': 'which olsen twin was in full house more', 'start_index': 12493}, page_content=\"on March 4 , 2011 . Retrieved May 1 , 2013 . </Li> <Li> Jump up ^ `` * * Full House Michelle Book Series * * '' . Amazon.com . Retrieved 2012 - 03 - 11 . </Li> <Li> Jump up ^ `` ' We Finally Know Why The Olsen Twins Are n't On Fuller House ' '' .\"), Document(id='741811bb-bfe8-4bcf-871d-c08478002795', metadata={'Title': 'Untitled', 'question_text': 'which olsen twin was in full house more', 'start_index': 2137}, page_content=\". The character of Michelle was the Olsen twins ' first acting role ; the two were infants when they started working on the series . </P> <H2> Contents </H2> ( hide ) <Ul> <Li> 1 Character <Ul> <Li> 1.1 Friendships </Li> </Ul> </Li> <Li> 2 Comet the dog\"), Document(id='e3c602d6-132f-43ab-96c0-edd389fc59c5', metadata={'Title': 'Untitled', 'question_text': 'which olsen twin was in full house more', 'start_index': 9217}, page_content=\"<H2> Crediting ( edit ) </H2> <P> The production team behind Full House did not want people to know that Michelle was played by a set of twins , so the girls were credited as `` Mary - Kate Ashley Olsen '' for most of the show 's run ( making it appear as\"), Document(id='dccb59c1-f4bf-4959-abeb-f903f174235e', metadata={'Title': 'Untitled', 'question_text': 'which olsen twin was in full house more', 'start_index': 14148}, page_content='people in fashion </Li> <Li> Full House </Li> <Li> Mary - Kate and Ashley Olsen </Li> <Li> Sitcom characters </Li> </Ul> Hidden categories : <Ul> <Li> Pages using infobox character with unknown parameters </Li> </Ul> <H2> </H2> <H3> </H3> <Ul> <Li> </Li>'), Document(id='5cf2cf5f-a601-4cc1-897e-44f3c75dc545', metadata={'Title': 'Untitled', 'question_text': 'which olsen twin was in full house more', 'start_index': 9933}, page_content=\"as `` Mary - Kate and Ashley Olsen '' in the opening titles . Despite the fact that the Olsens are fraternal twins , their physical appearances were nonetheless similar enough so that few could tell the difference between the two over the course of the\"), Document(id='f75dc397-352a-4d76-be53-d73a7caa78e5', metadata={'Title': 'Untitled', 'question_text': 'which olsen twin was in full house more', 'start_index': 10405}, page_content='Artist Award for Best Young Actor / Actress Under Five Years of Age for their portrayal of Michelle . In 1990 , they were also awarded Young Artist Awards for their work on Full House , in the category of Outstanding Performance by an Actress Under Nine'), Document(id='e1736107-bc15-4a8b-afb8-629f73934370', metadata={'Title': 'Untitled', 'question_text': 'which olsen twin was in full house more', 'start_index': 4022}, page_content=\"Donaldson in the season four episode `` Fuller House '' . She holds a tendency to scheme when met with a new desire as an enhancement to the comedy of the series , but she eventually realizes the errors of her ways by the episode 's conclusion . </P> <P>\"), Document(id='a9c3ec92-c9bd-46df-b787-1c3e3b0405a4', metadata={'Title': 'Untitled', 'question_text': 'which olsen twin was in full house more', 'start_index': 12957}, page_content='House at the ABC Family website </Li> <Li> Michelle Tanner on IMDb </Li> </Ul> <Table> <Tr> <Th_colspan=\"2\"> <Ul> <Li> </Li> <Li> </Li> <Li> </Li> </Ul> Full House </Th> </Tr> <Tr> <Td_colspan=\"2\"> <Ul> <Li> Characters <Ul> <Li> Michelle Tanner </Li>'), Document(id='bc7595b6-4667-402e-b8ca-11a792ee1e7a', metadata={'Title': 'Untitled', 'question_text': 'which olsen twin was in full house more', 'start_index': 1904}, page_content=\"by Mary - Kate and Ashley Olsen . She first appeared in the show 's pilot , `` Our Very First Show '' , which aired in 1987 , and continued to appear throughout up to the two - part series finale , `` Michelle Rides Again '' in 1995 . The character of\")]\n",
            "-------Final Answer:-------------\n",
            "Question: which olsen twin was in full house more\n",
            " Response: I don't have the answer.\n",
            "=============16 Question:how much money does argentina make from tourism=============\n",
            "[Document(id='b7475ecc-1af4-4015-89d7-c418b1213074', metadata={'Title': 'Untitled', 'question_text': 'how much money does argentina make from tourism', 'start_index': 23635}, page_content='exports in 2013 and US $19 billion in imports . Business Process Outsourcing became the leading Argentine service export , and reached US $3 billion . Advertising revenues from contracts abroad were estimated at over US $1.2 billion . </P> <P> Tourism is'), Document(id='9fc63a91-1e5a-4790-8967-3c3ce024b932', metadata={'Title': 'Untitled', 'question_text': 'how much money does argentina make from tourism', 'start_index': 23870}, page_content='</P> <P> Tourism is an increasingly important sector and provided 4 % of direct economic output ( over US $17 billion ) in 2012 ; around 70 % of tourism sector activity by value is domestic . </P> Banking ( edit ) View of Buenos Aires Central Business'), Document(id='3c900897-9dab-4616-990a-c1c80f8eea63', metadata={'Title': 'Untitled', 'question_text': 'how much money does argentina make from tourism', 'start_index': 27162}, page_content='the third largest source of foreign exchange in 2004 . Around 5.7 million foreign visitors arrived in 2017 , reflecting a doubling in visitors since 2002 despite a relative appreciation of the peso . </P> <P> Argentines , who have long been active'), Document(id='088eb304-8fc0-43b6-a704-c999f1f7cfcb', metadata={'Title': 'Untitled', 'question_text': 'how much money does argentina make from tourism', 'start_index': 27628}, page_content='in the last few years , and visitors are flocking to a country seen as affordable , exceptionally diverse , and safe . </P> <P> Foreign tourism , both to and from Argentina , is increasing as well . INDEC recorded 5.2 million foreign tourist arrivals and'), Document(id='af06f153-bb52-43bd-8c03-f83183920c8b', metadata={'Title': 'Untitled', 'question_text': 'how much money does argentina make from tourism', 'start_index': 26688}, page_content=\"exceeded the domestic monetary base ( M3 ) by nearly US $10 billion in 2012 . </P> Tourism ( edit ) Main article : Tourism in Argentina Tour bus in Buenos Aires . <P> According to World Economic Forum 's 2017 Travel & Tourism Competitiveness Report ,\"), Document(id='42aeff83-7640-4b95-af44-06e4de379f2b', metadata={'Title': 'Untitled', 'question_text': 'how much money does argentina make from tourism', 'start_index': 62285}, page_content=\". </Li> <Li> Jump up ^ `` Gran número de turistas eligieron la ciudad de Mar del Plata '' . Hostnews.com.ar . </Li> <Li> Jump up ^ Luongo , Michael . Frommer 's Argentina . Wiley Publishing , 2007 . </Li> <Li> Jump up ^ `` Evolución del Turismo\"), Document(id='b1caa8ee-1b7e-4705-b885-88e377c2a7aa', metadata={'Title': 'Untitled', 'question_text': 'how much money does argentina make from tourism', 'start_index': 28108}, page_content='world . Around 48 % of visitors arrived by commercial flight , 40 % by motor travel ( mainly from neighboring Brazil ) , and 12 % by sea . Cruise liner arrivals are the fastest growing type of foreign tourism to Argentina ; a total of 160 liners carrying'), Document(id='e56a20d2-d49c-48a8-8075-1fa50d1d4a82', metadata={'Title': 'Untitled', 'question_text': 'how much money does argentina make from tourism', 'start_index': 39166}, page_content=') and mining ( 5 % ) , in natural resources ; telecommunications ( 6 % ) , finance ( 5 % ) , and retail trade ( 4 % ) , in services . Spain was the leading source of foreign direct investment in Argentina , accounting for US $22 billion ( 28 % ) in 2009 ;'), Document(id='3ca0ecaa-f456-48f6-972b-9518be9454ee', metadata={'Title': 'Untitled', 'question_text': 'how much money does argentina make from tourism', 'start_index': 65835}, page_content=\"transportados en Argentina '' . HostelTur. 17 January 2014 . </Li> <Li> ^ Jump up to : INDEC : foreign trade Archived 24 July 2011 at the Wayback Machine . </Li> <Li> Jump up ^ `` El 75 % del rojo comercial de la industria , en cinco rubros '' . Clarín .\"), Document(id='c5cafef7-9f53-4e01-b291-24d809ecf87e', metadata={'Title': 'Untitled', 'question_text': 'how much money does argentina make from tourism', 'start_index': 26930}, page_content='Report , tourism generated over US $22 billion , or 3.9 % of GDP , and the industry employed more than 671,000 people , or approximately 3.7 % of the total workforce . Tourism from abroad contributed US $5.3 billion , having become the third largest')]\n",
            "-------Final Answer:-------------\n",
            "Question: how much money does argentina make from tourism\n",
            " Response: Tourism generated over US $22 billion, or 3.9% of GDP.\n",
            "=============17 Question:who did the french revolt against in 1789=============\n",
            "[Document(id='912ad0cb-7792-48ed-996a-d6b5053006c1', metadata={'Title': 'Untitled', 'question_text': 'who did the french revolt against in 1789', 'start_index': 77276}, page_content='. </P> <P> North of the Loire , similar revolts were started by the so - called Chouans ( royalist rebels ) . In March 1793 , France also declared war on Spain , the Vendée rebels won some victories against Paris , and the French army was defeated in'), Document(id='a4f2cf44-ac71-494c-95ae-7486eef4924e', metadata={'Title': 'Untitled', 'question_text': 'who did the french revolt against in 1789', 'start_index': 42813}, page_content='the Revolt in the Vendée . </P> <P> Historians Lynn Hunt and Jack Censer argue that some French Protestants , the Huguenots , wanted an anti-Catholic regime , and that Enlightenment thinkers such as Voltaire helped fuel this resentment . Historian John'), Document(id='d649c900-8b63-4860-a05f-837c1a1c129f', metadata={'Title': 'Untitled', 'question_text': 'who did the french revolt against in 1789', 'start_index': 83893}, page_content=\"- Girondins . </P> Suppressing and retaliating the revolts Mass shootings at Nantes in 1793 Shootings and massacres by the Infernal columns under Louis Marie Turreau <P> 17 October 1793 , the ' blue ' Republican army near Cholet defeated the ' white '\"), Document(id='4d68aad2-55c6-4f1c-8533-05aba29c57cc', metadata={'Title': 'Untitled', 'question_text': 'who did the french revolt against in 1789', 'start_index': 80346}, page_content=\"1790 had taken to a guerrilla warfare known as Chouannerie . But generally , the French opposition against ' Paris ' had now evolved into a plain struggle for power over the country against the ' Montagnards ' around Robespierre and Marat now dominating\"), Document(id='889d2b9f-a209-436f-b817-cb781013976a', metadata={'Title': 'Untitled', 'question_text': 'who did the french revolt against in 1789', 'start_index': 60067}, page_content=': 10 August ( French Revolution ) , September Massacres , and Proclamation of the abolition of the monarchy On 10 August 1792 the Paris Commune stormed the Tuileries Palace and killed the Swiss Guards <P> In the summer of 1792 , all of Paris was against'), Document(id='77f94773-344b-41bf-aa71-c274a427bec6', metadata={'Title': 'Untitled', 'question_text': 'who did the french revolt against in 1789', 'start_index': 60303}, page_content='Paris was against the king , and hoped that the Assembly would depose the king , but the Assembly hesitated . </P> <P> At dawn of 10 August 1792 , a large , angry crowd of Parisians and soldiers from all over France , insurgents and popular militias ,'), Document(id='5f942f6c-376a-48d5-96f7-eda2ffd1ebea', metadata={'Title': 'Untitled', 'question_text': 'who did the french revolt against in 1789', 'start_index': 48255}, page_content='General Bouillé , who condemned both the emigration and the Assembly , and promised him refuge and support in his camp at Montmédy . On the night of 20 June 1791 the royal family fled the Tuileries Palace dressed as servants , while their servants dressed'), Document(id='7b1893d7-f272-4835-ae40-fc532e6a30d8', metadata={'Title': 'Untitled', 'question_text': 'who did the french revolt against in 1789', 'start_index': 152546}, page_content=\"the French monarchy ( summer 1791 -- summer 1792 ) . </Li> <Li> Jump up ^ Schama 2004 , p. 500 </Li> <Li> Jump up ^ Soboul ( 1975 ) , pp. 226 -- 27 . </Li> <Li> Jump up ^ Lefebvre , p. 212 . </Li> <Li> Jump up ^ ( German ) ' Die Französische Revolution\"), Document(id='4771e05e-f286-4d43-88c1-f2bfa3a69a4e', metadata={'Title': 'Untitled', 'question_text': 'who did the french revolt against in 1789', 'start_index': 78447}, page_content=\"' versus ' Montagnards ' party strife in the Convention . </P> <P> Jacques Hébert , Convention member leaning to the ' Montagnards ' group , on 24 May 1793 called on the sans - culottes to rise in revolt against the `` henchmen of Capet ( the ex-king )\"), Document(id='56013ce2-8e64-4eac-9e8b-f6147f733712', metadata={'Title': 'Untitled', 'question_text': 'who did the french revolt against in 1789', 'start_index': 147105}, page_content='The Oxford History of the French Revolution ( 1989 ) pp. 99 -- 101 </Li> <Li> Jump up ^ Albert Soboul , The French Revolution 1787 -- 1799 ( 1975 ) pp. 127 -- 29 . </Li> <Li> Jump up ^ Frey , pp. 4 , 5 </Li> <Li> Jump up ^ Doyle 2001 , p. 38 </Li> <Li>')]\n",
            "-------Final Answer:-------------\n",
            "Question: who did the french revolt against in 1789\n",
            " Response: I don't have the answer.\n",
            "=============18 Question:who is the kicker for the new york giants=============\n",
            "[Document(id='174e2a74-fe60-4c49-ba47-ce093841848b', metadata={'Title': 'Untitled', 'question_text': 'who is the kicker for the new york giants', 'start_index': 3537}, page_content=\"( January 19 , 2017 ) . `` New York Giants sign kicker Aldrick Rosas to reserve / futures deal '' . GiantsWire.USAToday.com . Retrieved June 17 , 2017 . </Li> <Li> Jump up ^ `` Giants sign veteran kicker Mike Nugent '' . Retrieved August 30 , 2017 . </Li>\"), Document(id='763fa75f-0193-4ab9-a124-822041a5235c', metadata={'Title': 'Untitled', 'question_text': 'who is the kicker for the new york giants', 'start_index': 2127}, page_content=', Rosas was waived by the Titans . </P> <H3> New York Giants ( edit ) </H3> <P> On January 19 , 2017 , Rosas signed a reserve / future contract with the New York Giants . Rosas was the only kicker on the Giants roster after Robbie Gould left via free'), Document(id='4d40a70d-cca2-4f74-9bd5-9bf2bf5d705a', metadata={'Title': 'Untitled', 'question_text': 'who is the kicker for the new york giants', 'start_index': 2358}, page_content=\"Gould left via free agency , until veteran Mike Nugent signed a contract with the team on August 1 , 2017 . Rosas ultimately won the starting kicker job after Nugent was released during final roster cuts . </P> <P> On September 10 , 2017 , in the Giants '\"), Document(id='bb24a6f3-8035-4bc6-a354-e911c744498d', metadata={'Title': 'Untitled', 'question_text': 'who is the kicker for the new york giants', 'start_index': 2830}, page_content=\"via FaceTime . </P> <P> In Week 6 , against the Denver Broncos , he converted three of four field goal attempts and two extra points in the 23 -- 10 victory . </P> <H2> References ( edit ) </H2> <Ol> <Li> Jump up ^ `` New York Giants : Aldrick Rosas '' .\"), Document(id='7bb5bf89-c775-464e-88d6-4d8ee7badaac', metadata={'Title': 'Untitled', 'question_text': 'who is the kicker for the new york giants', 'start_index': 2596}, page_content=\", in the Giants ' season - opening 19 -- 3 loss to the Dallas Cowboys , Rosas converted his first NFL career field goal , which was a 25 - yard attempt , in the third quarter . Prior to the game , he watched his girlfriend give birth via FaceTime . </P>\"), Document(id='5f534e83-d1b5-4770-8308-bbef511a6607', metadata={'Title': 'Untitled', 'question_text': 'who is the kicker for the new york giants', 'start_index': 1418}, page_content='</Table> </Td> </Tr> </Table> <P> Aldrick Rosas ( born December 30 , 1994 ) is an American football placekicker for the New York Giants of the National Football League ( NFL ) . He is of Mexican descent . </P> <P> </P> <H2> Contents </H2> ( hide ) <Ul>'), Document(id='ae7c9784-5ae4-4283-87a4-cdef7b3e16e3', metadata={'Title': 'Untitled', 'question_text': 'who is the kicker for the new york giants', 'start_index': 8288}, page_content='<Li> Living people </Li> <Li> American football placekickers </Li> <Li> New York Giants players </Li> <Li> Southern Oregon Raiders football players </Li> <Li> Tennessee Titans players </Li> <Li> Players of American football from California </Li> <Li>'), Document(id='0b2832f8-d010-4f86-81e5-4525bbb93ef6', metadata={'Title': 'Untitled', 'question_text': 'who is the kicker for the new york giants', 'start_index': 4269}, page_content='. Retrieved 2017 - 11 - 07 . </Li> </Ol> <Table> <Tr> <Th_colspan=\"2\"> ( hide ) <Ul> <Li> </Li> <Li> </Li> <Li> </Li> </Ul> New York Giants current roster </Th> </Tr> <Tr> <Th> Active roster </Th> <Td> <Ul> <Li> 2 Aldrick Rosas </Li> <Li> 5 Davis Webb'), Document(id='6a6fd103-f2c5-4f6e-b08f-7e6b3d8ed826', metadata={'Title': 'Untitled', 'question_text': 'who is the kicker for the new york giants', 'start_index': 8528}, page_content='</Li> <Li> People from Orland , California </Li> <Li> American players of American football of Mexican descent </Li> <Li> American football placekicker stubs </Li> </Ul> Hidden categories : <Ul> <Li> New York Giants currentteam parameter articles </Li>'), Document(id='91618a69-2d03-4898-a19b-b91f8e8f1044', metadata={'Title': 'Untitled', 'question_text': 'who is the kicker for the new york giants', 'start_index': 237}, page_content='Position : </Th> <Td> Placekicker </Td> </Tr> <Tr> <Th_colspan=\"2\"> </Th> </Tr> <Tr> <Th> Born : </Th> <Td> ( 1994 - 12 - 30 ) December 30 , 1994 ( age 23 ) Orland , California </Td> </Tr> <Tr> <Th> Height : </Th> <Td> 6 ft 3 in ( 1.91 m ) </Td> </Tr>')]\n",
            "-------Final Answer:-------------\n",
            "Question: who is the kicker for the new york giants\n",
            " Response: Aldrick Rosas\n",
            "=============19 Question:who played the mom in lost in space 2018=============\n",
            "[Document(id='ce0ef1b3-ab3e-4fa4-91e3-d664139e53d2', metadata={'Title': 'Untitled', 'question_text': 'who played the mom in lost in space 2018', 'start_index': 31398}, page_content=\"2 at Netflix '' . The Hollywood Reporter . Retrieved May 14 , 2018 . </Li> <Li> Jump up ^ Andreeva , Nellie ( September 28 , 2016 ) . `` Lost In Space : Molly Parker To Star In Netflix Series Remake '' . Deadline Hollywood . Retrieved October 8 , 2017 .\"), Document(id='4a473382-8154-4714-b67a-290d7841ccdd', metadata={'Title': 'Untitled', 'question_text': 'who played the mom in lost in space 2018', 'start_index': 32821}, page_content=\"Netflix Series Remake '' . Deadline Hollywood . Retrieved November 22 , 2016 . </Li> <Li> Jump up ^ Debnath , Neela ( April 17 , 2018 ) . `` Lost in Space 2018 robot actor : Who plays the robot in Lost in Space 2018 ? '' . Daily Express . Retrieved April\"), Document(id='ee0fb452-6383-4834-8929-05ce9fc66024', metadata={'Title': 'Untitled', 'question_text': 'who played the mom in lost in space 2018', 'start_index': 0}, page_content='Lost in Space ( 2018 TV series ) - Wikipedia <H1> Lost in Space ( 2018 TV series ) </H1> Jump to : navigation , search <Table> <Tr> <Th_colspan=\"2\"> Lost in Space </Th> </Tr> <Tr> <Td_colspan=\"2\"> Series logotype </Td> </Tr> <Tr> <Th> Genre </Th> <Td> <Ul>'), Document(id='b742be69-6b1a-4e0c-95e3-edcc8940e220', metadata={'Title': 'Untitled', 'question_text': 'who played the mom in lost in space 2018', 'start_index': 32339}, page_content=\"Penny Robinson In Netflix Remake '' . Deadline Hollywood . Retrieved December 16 , 2016 . </Li> <Li> Jump up ^ Andreeva , Nellie ( December 13 , 2016 ) . `` Lost In Space : Ignacio Serricchio To Play Don West In Netflix Remake '' . Deadline Hollywood .\"), Document(id='43368255-37f2-459e-a481-bb57f74be388', metadata={'Title': 'Untitled', 'question_text': 'who played the mom in lost in space 2018', 'start_index': 32105}, page_content=\"2016 ) . `` Lost in Space : Netflix Remake Casts Falling Skies Alum as Judy Robinson '' . TVLine . Retrieved September 16 , 2016 . </Li> <Li> Jump up ^ Petski , Denise ( December 15 , 2016 ) . `` Lost In Space : Mina Sundwall To Play Penny Robinson In\"), Document(id='21066bf3-71bd-4e87-86d8-df0aa6eb1094', metadata={'Title': 'Untitled', 'question_text': 'who played the mom in lost in space 2018', 'start_index': 32580}, page_content=\"Hollywood . Retrieved December 13 , 2016 . </Li> <Li> Jump up ^ `` What Dr. Smith Is Hiding On Netflix 's Lost in Space '' . 14 April 2018 . </Li> <Li> Jump up ^ Petski , Denise ( November 22 , 2016 ) . `` Lost In Space : Parker Posey Joins Netflix Series\"), Document(id='2c18c4f0-0424-4944-acbf-efdf353ab560', metadata={'Title': 'Untitled', 'question_text': 'who played the mom in lost in space 2018', 'start_index': 31633}, page_content=\"October 8 , 2017 . </Li> <Li> ^ Jump up to : `` Transmission '' . Lost in Space ( 2018 ) . Series 1 . Episode 5 . 13 April 2018 . Event occurs at 00 : 18 : 46 . Netflix . He came into the picture after I was born . </Li> <Li> Jump up ^ Andreeva , Nellie (\"), Document(id='65898079-c9a5-41ca-91be-34fa81e8741f', metadata={'Title': 'Untitled', 'question_text': 'who played the mom in lost in space 2018', 'start_index': 31869}, page_content=\"Andreeva , Nellie ( September 20 , 2016 ) . `` Toby Stephens To Topline Lost in Space Netflix Remake , Maxwell Jenkins To Co-Star '' . Deadline.com . Retrieved October 8 , 2017 . </Li> <Li> Jump up ^ Ausiello , Michael ( September 16 , 2016 ) . `` Lost in\"), Document(id='9723055b-465a-48c7-b473-1287ed687c20', metadata={'Title': 'Untitled', 'question_text': 'who played the mom in lost in space 2018', 'start_index': 34006}, page_content=\". Retrieved October 8 , 2017 . </Li> <Li> Jump up ^ Leane , Rob ( April 3 , 2017 ) . `` Lost In Space : Toby Stephens teases Netflix 's ' modern ' retelling '' . Den of Geek ! . Retrieved October 8 , 2017 . </Li> <Li> Jump up ^ Takeuchi , Craig ( January\"), Document(id='d2feed1e-36da-4fa5-a6f5-064f08c9cdc8', metadata={'Title': 'Untitled', 'question_text': 'who played the mom in lost in space 2018', 'start_index': 4259}, page_content='Parker as Maureen Robinson , a fearless and brilliant aerospace engineer taking her family on the mission to colonize Alpha Centauri for a new life on a better world . She is a mission commander . She is married to John Robinson and is the mother of three')]\n",
            "-------Final Answer:-------------\n",
            "Question: who played the mom in lost in space 2018\n",
            " Response: Molly Parker played the mom in \"Lost in Space\" 2018.\n",
            "=============20 Question:who recorded the song do you love me=============\n",
            "[Document(id='6050ddb2-ade0-4218-93a8-bfa84e2b2da2', metadata={'Title': 'Untitled', 'question_text': 'who recorded the song do you love me', 'start_index': 6151}, page_content=\", reviving the record 's popularity . Re-issued as a single from the More Dirty Dancing soundtrack album , `` Do You Love Me '' became a hit for the second time , peaking at number eleven on the Billboard Hot 100 in August 1988 . The Contours , by then\"), Document(id='fd4f9ca3-cfe9-4d4d-940f-3649da9ed850', metadata={'Title': 'Untitled', 'question_text': 'who recorded the song do you love me', 'start_index': 1412}, page_content=\"label . Written and produced by Motown CEO Berry Gordy , Jr. , `` Do You Love Me ? '' was the Contours ' only Top 40 single on the Billboard Hot 100 chart in the United States . Notably , the record achieved this feat twice , once in 1962 and again in\"), Document(id='e617a9ce-e298-4b9f-b551-7928a5295b6b', metadata={'Title': 'Untitled', 'question_text': 'who recorded the song do you love me', 'start_index': 7327}, page_content='of the album Do You Love Me ( Now That I Can Dance ) on Motown 37463 - 5415 - 2 . This remix only appears on the CD and Cassette tape issues , as the Vinyl LP of the same release has the original 2 : 54 minute hit version . </P> <H2> Soundtrack ( edit )'), Document(id='4c848c16-1fc1-4a23-beca-2506156bd149', metadata={'Title': 'Untitled', 'question_text': 'who recorded the song do you love me', 'start_index': 3539}, page_content=\"<P> `` Do You Love Me , '' the fifth release on Gordy Records , became a notably successful dance record , built around Gordon 's screaming vocals . Selling over a million copies , `` Do You Love Me '' peaked at number three on the Billboard Hot 100 for\"), Document(id='44dff207-29b8-4782-a36a-607e6244fab0', metadata={'Title': 'Untitled', 'question_text': 'who recorded the song do you love me', 'start_index': 4253}, page_content=\"of the 1960s , `` Do You Love Me ? '' was covered by a number of British Invasion groups . Three British groups who recorded their own versions of the song were Brian Poole and the Tremeloes ( who hit number one with it in the UK Singles Chart after\"), Document(id='28ff159c-6506-4652-9290-6f7bb8276bfd', metadata={'Title': 'Untitled', 'question_text': 'who recorded the song do you love me', 'start_index': 4016}, page_content=\"' future singles lived up to the success of `` Do You Love Me '' , although its success won the group a headlining position on Motown 's very first Motor Town Revue tour . </P> <H2> Covers ( edit ) </H2> <P> Like many American R&B songs of the 1960s , ``\"), Document(id='a7d91241-e088-4b3e-beb4-768c2968504d', metadata={'Title': 'Untitled', 'question_text': 'who recorded the song do you love me', 'start_index': 3781}, page_content=\"Hot 100 for three weeks starting on October 20 , 1962 , and was a number - one hit on the Billboard R&B Singles chart . An album featuring the single , Do You Love Me ( Now That I Can Dance ) , was also released . None of the Contours ' future singles\"), Document(id='dcfc81c4-21c4-4172-b98c-3d3da77a7469', metadata={'Title': 'Untitled', 'question_text': 'who recorded the song do you love me', 'start_index': 5669}, page_content=\"sang the song in an episode of Baywatch . In November 2013 , The Overtones covered the song for their album Saturday Night at the Movies . In February 2015 , Chester See & Andy Lange uploaded a cover of `` Do You Love Me '' to See 's YouTube channel . In\"), Document(id='f4772332-6b95-4984-a92e-c40435c17067', metadata={'Title': 'Untitled', 'question_text': 'who recorded the song do you love me', 'start_index': 6857}, page_content=\"performed `` Do You Love Me '' with Kids Incorporated in 1984 in the Season 1 episode `` School 's For Fools '' . Kids Incorporated covered `` Do You Love Me '' in 1991 during the Season 7 episode `` Teen Spotlight '' . </P> <H2> Remix ( edit ) </H2> <P>\"), Document(id='90d27154-8a2e-47de-ac3c-0dbf5ba5c501', metadata={'Title': 'Untitled', 'question_text': 'who recorded the song do you love me', 'start_index': 1175}, page_content=\"</Td> <Td> `` Shake Sherry '' ( 1962 ) </Td> </Tr> </Table> </Td> </Tr> </Table> For other uses , see Do You Love Me ( disambiguation ) . <P> `` Do You Love Me '' is a 1962 hit single recorded by The Contours for Motown 's Gordy Records label . Written\")]\n",
            "-------Final Answer:-------------\n",
            "Question: who recorded the song do you love me\n",
            " Response: The Contours recorded the song \"Do You Love Me.\"\n",
            "=============21 Question:how is the energy generated in a main sequence star=============\n",
            "[Document(id='ca468dcb-26ee-42a8-890f-23ad418e216f', metadata={'Title': 'Untitled', 'question_text': 'how is the energy generated in a main sequence star', 'start_index': 19330}, page_content='the dominant fusion process . In the lower main sequence , energy is primarily generated as the result of the proton - proton chain , which directly fuses hydrogen together in a series of stages to produce helium . Stars in the upper main sequence have'), Document(id='ff2cc565-1ae3-4553-b1c2-939aabfe5cb5', metadata={'Title': 'Untitled', 'question_text': 'how is the energy generated in a main sequence star', 'start_index': 20501}, page_content='with 1.8 M or above generate almost their entire energy output through the CNO cycle . </P> <P> The observed upper limit for a main - sequence star is 120 -- 200 M . The theoretical explanation for this limit is that stars above this mass can not radiate'), Document(id='c1633a59-7a24-443d-bcfe-53033ff2f8f0', metadata={'Title': 'Untitled', 'question_text': 'how is the energy generated in a main sequence star', 'start_index': 2357}, page_content='. The energy is carried by either radiation or convection , with the latter occurring in regions with steeper temperature gradients , higher opacity or both . </P> <P> The main sequence is sometimes divided into upper and lower parts , based on the'), Document(id='7cbdbd5f-f7ae-43ad-a786-38fa0ea9862c', metadata={'Title': 'Untitled', 'question_text': 'how is the energy generated in a main sequence star', 'start_index': 22385}, page_content='star to be consumed during the main - sequence lifetime . The outer regions of a massive star transport energy by radiation , with little or no convection . </P> <P> Intermediate - mass stars such as Sirius may transport energy primarily by radiation ,'), Document(id='38384755-df76-48e9-bcf7-1c5b17158893', metadata={'Title': 'Untitled', 'question_text': 'how is the energy generated in a main sequence star', 'start_index': 1648}, page_content=\"energy in the dense core region through nuclear fusion of hydrogen atoms into helium . During this stage of the star 's lifetime , it is located along the main sequence at a position determined primarily by its mass , but also based upon its chemical\"), Document(id='8ab2d898-db7f-47cb-bb1e-5fc9064b33c8', metadata={'Title': 'Untitled', 'question_text': 'how is the energy generated in a main sequence star', 'start_index': 10615}, page_content='process and the excess energy gained from gravitational contraction has been lost , the star lies along a curve on the Hertzsprung -- Russell diagram ( or HR diagram ) called the standard main sequence . Astronomers will sometimes refer to this stage as'), Document(id='5887b060-1ce4-4d2a-aba0-ca9361df59bc', metadata={'Title': 'Untitled', 'question_text': 'how is the energy generated in a main sequence star', 'start_index': 28080}, page_content='main sequence can be estimated by comparing it to solar evolutionary models . The Sun has been a main - sequence star for about 4.5 billion years and it will become a red giant in 6.5 billion years , for a total main sequence lifetime of roughly 10 years'), Document(id='79d1d747-7516-4a51-b7df-7be9e96c2afc', metadata={'Title': 'Untitled', 'question_text': 'how is the energy generated in a main sequence star', 'start_index': 20037}, page_content='upper main sequence consists of stars above this mass . Thus , roughly speaking , stars of spectral class F or cooler belong to the lower main sequence , while A-type stars or hotter are upper main - sequence stars . The transition in primary energy'), Document(id='71091a81-560d-41bd-8105-de2f84e6975a', metadata={'Title': 'Untitled', 'question_text': 'how is the energy generated in a main sequence star', 'start_index': 9915}, page_content='on the local conditions within the cloud . ( The mass distribution of newly formed stars is described empirically by the initial mass function . ) During the initial collapse , this pre-main - sequence star generates energy through gravitational'), Document(id='dca7efe2-7d3f-4654-a1b5-4396c5b71d60', metadata={'Title': 'Untitled', 'question_text': 'how is the energy generated in a main sequence star', 'start_index': 18163}, page_content=\"at different temperatures : The dashed line shows the combined energy generation of the PP and CNO processes within a star . At the Sun 's core temperature , the PP process is more efficient . See also : Stellar nucleosynthesis <P> All main - sequence\")]\n",
            "-------Final Answer:-------------\n",
            "Question: how is the energy generated in a main sequence star\n",
            " Response: Energy in a main sequence star is generated through nuclear fusion of hydrogen atoms into helium. In the lower main sequence, this occurs primarily via the proton-proton chain, while in stars with 1.8 solar masses or above, energy is generated almost entirely through the CNO cycle.\n",
            "=============22 Question:where is the best farming soil in the us and where did all the dirt come from=============\n",
            "[Document(id='c855c6e2-0b80-45a9-9a27-e47b1c7ed4a2', metadata={'Title': 'Untitled', 'question_text': 'where is the best farming soil in the us and where did all the dirt come from', 'start_index': 942}, page_content='River . The 26,000 acres ( 10,400 ha ) of muck left over is the largest concentration of such soil in the United States outside the Florida Everglades . </P> The Black Dirt Region , viewed looking south from a hill in the Town of Goshen . <P> </P> <H2>'), Document(id='5845bbc2-934f-4854-a380-a745d0115499', metadata={'Title': 'Untitled', 'question_text': 'where is the best farming soil in the us and where did all the dirt come from', 'start_index': 5834}, page_content=\"Retrieved from `` https://en.wikipedia.org/w/index.php?title=Black_Dirt_Region&oldid=793364067 '' Categories : <Ul> <Li> Agriculture in the United States </Li> <Li> Geography of Orange County , New York </Li> <Li> Economy of Orange County , New York </Li>\"), Document(id='0cabeae5-5271-4fbe-99c3-0e440f6f896f', metadata={'Title': 'Untitled', 'question_text': 'where is the best farming soil in the us and where did all the dirt come from', 'start_index': 0}, page_content='Black Dirt region - wikipedia <H1> Black Dirt region </H1> Jump to : navigation , search Black dirt field near the village of Florida <P> The Black Dirt Region is located in southern Orange County , New York , United States and northern Sussex County , New'), Document(id='07911121-7e90-431f-81a9-206380dc0492', metadata={'Title': 'Untitled', 'question_text': 'where is the best farming soil in the us and where did all the dirt come from', 'start_index': 3057}, page_content='prized black - dirt onion on the land , taking advantage of the relative proximity of New York City as a market . By the late 20th century the region was producing an average of 30,000 pounds of onion per acre . Today , due to changing popular tastes in'), Document(id='21c514ec-2547-434f-8d6a-904bdd4df87c', metadata={'Title': 'Untitled', 'question_text': 'where is the best farming soil in the us and where did all the dirt come from', 'start_index': 6309}, page_content='in New Jersey </Li> <Li> Soil in the United States </Li> <Li> Chernozemye </Li> </Ul> <H2> </H2> <H3> </H3> <Ul> <Li> </Li> <Li> Talk </Li> <Li> </Li> <Li> </Li> <Li> </Li> </Ul> <H3> </H3> <Ul> <Li> </Li> <Li> </Li> </Ul> <H3> </H3> <Ul> </Ul> <H3> </H3>'), Document(id='12569364-b355-4bc0-acc2-62c374e1ab0b', metadata={'Title': 'Untitled', 'question_text': 'where is the best farming soil in the us and where did all the dirt come from', 'start_index': 708}, page_content=\"known as the `` Drowned Lands of the Wallkill '' </P> <P> The Black Dirt Region takes its name from the dark , extremely fertile soil left over from an ancient glacial lake bottom augmented by decades of past flooding of the Wallkill River . The 26,000\"), Document(id='e8ecab7d-85c5-4ca3-a64f-f0499fc04549', metadata={'Title': 'Untitled', 'question_text': 'where is the best farming soil in the us and where did all the dirt come from', 'start_index': 2583}, page_content=\"parallel ) . Immigrants from Eastern Europe , particularly Poles and Volga Germans , had worked similar soils , known as `` chernozem '' , in their native countries and began farming the former swampland . In the mid-19th century they won a series of\"), Document(id='56c7f736-774f-4a9a-a61c-435fa3a8c13d', metadata={'Title': 'Untitled', 'question_text': 'where is the best farming soil in the us and where did all the dirt come from', 'start_index': 4022}, page_content='acres , had more of it in one spot than any place else in the United States except the Florida Everglades . </Li> <Li> Jump up ^ http://www.wikimapia.org/#lat=41.340828&lon=-74.4273769&z=12&l=0&m=b </Li> <Li> Jump up ^ Snell , James ( 1881 ) . History of'), Document(id='d0515218-8bec-4b5a-9da8-403c441a403d', metadata={'Title': 'Untitled', 'question_text': 'where is the best farming soil in the us and where did all the dirt come from', 'start_index': 3540}, page_content=', sod . Development of the farmland is considered unlikely since the soil is very poor for building . </P> <H2> See also ( edit ) </H2> <Ul> <Li> Hudson Valley portal </Li> </Ul> <Ul> <Li> Terra preta </Li> <Li> Vincent Kosuga </Li> </Ul> <H2> References'), Document(id='6a054c03-4262-4cfd-81b8-7127a68dca65', metadata={'Title': 'Untitled', 'question_text': 'where is the best farming soil in the us and where did all the dirt come from', 'start_index': 1885}, page_content='area is also very noticeable on satellite imagery by the color differential from its surroundings . </P> <H2> History ( edit ) </H2> <P> Farmers generally avoided the area in the early years of settlement , because the soil , although rich , was')]\n",
            "-------Final Answer:-------------\n",
            "Question: where is the best farming soil in the us and where did all the dirt come from\n",
            " Response: The best farming soil in the US, outside the Florida Everglades, is found in the Black Dirt Region located in southern Orange County, New York, and northern Sussex County, New Jersey. The dirt came from an ancient glacial lake bottom and was augmented by decades of past flooding of the Wallkill River.\n",
            "=============23 Question:when did humans first occupy the international space station=============\n",
            "[Document(id='4943fcc3-01e2-4cdb-891a-800be5618d95', metadata={'Title': 'Untitled', 'question_text': 'when did humans first occupy the international space station', 'start_index': 7519}, page_content='International Space Station for four and a half months , from early November 2000 to mid-March 2001 . Major events during this time include the three - week - long Space Shuttle visits , which occurred in early December , mid-February , and at the end of'), Document(id='c1f1a237-3fc7-487b-b934-d3654814795f', metadata={'Title': 'Untitled', 'question_text': 'when did humans first occupy the international space station', 'start_index': 1640}, page_content='ISS ) . The three - person crew stayed aboard the station for 136 days , from November 2000 to March 2001 . It was the beginning of an uninterrupted human presence on the station which continues as of November 2017 . Expedition 2 , which also had three'), Document(id='841e0a42-804c-409d-9628-e9688c1109f8', metadata={'Title': 'Untitled', 'question_text': 'when did humans first occupy the international space station', 'start_index': 33085}, page_content=\"NASA . Retrieved 27 September 2010 . </Li> <Li> Jump up ^ `` International Space Station Status Report # 00 - 54 '' . NASA . 9 November 2000 . Retrieved 27 September 2010 . </Li> <Li> ^ Jump up to : `` Expedition One February and March Crew Log '' . NASA\"), Document(id='e55d9b9c-ed78-4611-8507-825d07bea738', metadata={'Title': 'Untitled', 'question_text': 'when did humans first occupy the international space station', 'start_index': 11323}, page_content='docked with the ISS on 2 December 2000 , on mission STS - 97 , bringing four more Americans and a Canadian temporarily to the station . The shuttle also brought the first pair of U.S. provided photovoltaic arrays , which would provide crucial electricity'), Document(id='ef386c0a-2347-4713-852c-bbfe0327ec4f', metadata={'Title': 'Untitled', 'question_text': 'when did humans first occupy the international space station', 'start_index': 6347}, page_content='in November 1998 . Following this launch , and prior to Expedition 1 , there were five manned Space Shuttle flights and two unmanned Russian flights to the ISS . Some of these flights delivered large modules , such as the pressurized Unity and Zvezda'), Document(id='7819cae9-44cb-4b59-b98e-e7ba4a9c2908', metadata={'Title': 'Untitled', 'question_text': 'when did humans first occupy the international space station', 'start_index': 32373}, page_content=\"4 August 2010 . </Li> <Li> ^ Jump up to : `` Expedition One December Crew Log '' . NASA . Retrieved 6 August 2010 . </Li> <Li> Jump up ^ `` INTERNATIONAL SPACE STATION STATUS REPORT # 63 '' . NASA . 26 December 2000 . Retrieved 24 August 2010 . </Li> <Li>\"), Document(id='ddf0fd62-d0e4-439b-a41e-809b6768f376', metadata={'Title': 'Untitled', 'question_text': 'when did humans first occupy the international space station', 'start_index': 2112}, page_content='launched two days earlier . During their mission , the Expedition 1 crew activated various systems on board the station , unpacked equipment that had been delivered , and hosted three visiting Space Shuttle crews and two unmanned Russian Progress resupply'), Document(id='8d69db3f-d448-4c3c-8e37-37759017be42', metadata={'Title': 'Untitled', 'question_text': 'when did humans first occupy the international space station', 'start_index': 7052}, page_content='before the United States presidential election , so it got little attention in the United States . At the time of the mission , the station was expected to be completed in 2006 , and be continuously inhabited until at least 2015 . Due to several delays ,'), Document(id='703b0cfe-66ab-4526-8c94-77617b0ae63f', metadata={'Title': 'Untitled', 'question_text': 'when did humans first occupy the international space station', 'start_index': 30956}, page_content=\"2010 . </Li> <Li> Jump up ^ `` STS - 98 Delivers Destiny Lab to International Space Station '' . NASA . Retrieved 7 August 2010 . </Li> <Li> Jump up ^ `` STS - 102 Swaps International Space Station Crews '' . NASA . Retrieved 7 August 2010 . </Li> <Li> ^\"), Document(id='34dcdc6b-6e34-4e5c-af94-ae33701a48b0', metadata={'Title': 'Untitled', 'question_text': 'when did humans first occupy the international space station', 'start_index': 7994}, page_content=\"launched on 31 October 2000 , at 07 : 52 UTC , atop a Soyuz - U rocket on Soyuz TM - 31 from the Baikonur Cosmodrome in Kazakhstan ; they used launch pad Gagarin 's Start , from which the first human to fly in space , Yuri Gagarin , was launched in 1961 .\")]\n",
            "-------Final Answer:-------------\n",
            "Question: when did humans first occupy the international space station\n",
            " Response: In early November 2000.\n",
            "=============24 Question:who played darth vader in the original trilogy=============\n",
            "[Document(id='404b9443-11b0-4d95-b795-19a6637c144c', metadata={'Title': 'Untitled', 'question_text': 'who played darth vader in the original trilogy', 'start_index': 933}, page_content=\"in British film and television . Worldwide , he is best known for physically portraying Darth Vader in the original Star Wars trilogy ( with the character 's voice being performed by James Earl Jones ) , and in 2015 starred in a documentary concerning\"), Document(id='fe18a254-a24b-46e3-ab8b-cd6449866212', metadata={'Title': 'Untitled', 'question_text': 'who played darth vader in the original trilogy', 'start_index': 5660}, page_content=\"physical form of Darth Vader in the original Star Wars trilogy . Prowse spoke the dialogue during filming , but Lucas claimed he wanted a `` darker voice '' -- a deeper , more reverberating voice , and had James Earl Jones provide the voice instead ,\"), Document(id='2f85ec19-b09e-4ff5-bd48-3e5521166e80', metadata={'Title': 'Untitled', 'question_text': 'who played darth vader in the original trilogy', 'start_index': 700}, page_content='<Tr> <Th> Children </Th> <Td> </Td> </Tr> <Tr> <Th> Website </Th> <Td> www.darthvader-starwars.com </Td> </Tr> </Table> <P> David Charles Prowse , MBE ( born 1 July 1935 ) is an English bodybuilder , weightlifter and character actor in British film and'), Document(id='d711fd82-9d00-4402-a9ec-1efa9d5a8d88', metadata={'Title': 'Untitled', 'question_text': 'who played darth vader in the original trilogy', 'start_index': 19122}, page_content=\"on 2 October 2010 . Retrieved 30 December 2010 . </Li> <Li> Jump up ^ Lefort , Rebecca ( 17 July 2010 ) . `` Darth Vader actor David Prowse banned for annoying director George Lucas '' . Daily Telegraph . London . Retrieved 30 December 2010 . </Li> <Li>\"), Document(id='3e533bcc-6d91-4304-971f-a9a098f574ff', metadata={'Title': 'Untitled', 'question_text': 'who played darth vader in the original trilogy', 'start_index': 6841}, page_content='director Richard Marquand that he should be the one to throw the Emperor off the balcony after Marquand had tried and failed for a week to film the scene successfully without him . </P> <P> Prowse reprised his role of Darth Vader for the video games Star'), Document(id='5043c3bc-4217-413c-be89-7bfbd8fc3e96', metadata={'Title': 'Untitled', 'question_text': 'who played darth vader in the original trilogy', 'start_index': 5891}, page_content=\"the voice instead , deeming Prowse 's West Country accent unsuitable for the character . Prowse claims he was originally told that he would be seen and heard at the end of Return of the Jedi when Vader 's mask was removed . Instead , actor Sebastian Shaw\"), Document(id='9c84ec62-2088-4e6c-bf81-03c5f3b7a762', metadata={'Title': 'Untitled', 'question_text': 'who played darth vader in the original trilogy', 'start_index': 6365}, page_content=\"jibe regarding his urban Bristolian accent ) . In the lightsaber fight scenes between Vader and Luke Skywalker ( Mark Hamill ) , Prowse , who was n't a very skilled swordsman ( he kept breaking the poles that stood in for the lightsabers ) , was replaced\"), Document(id='d7175c40-cc0d-49ad-bc5d-3fcd1be85d36', metadata={'Title': 'Untitled', 'question_text': 'who played darth vader in the original trilogy', 'start_index': 22178}, page_content=\"2017 . </Li> <Li> Jump up ^ `` Darth Vader Actor Dave Prowse Retires From International Fan Conventions '' . </Li> <Li> Jump up ^ Kitchener , Shaun ( 7 October 2017 ) . `` Star Wars : Sad news as Darth Vader icon David Prowse RETIRES early with ' health\"), Document(id='e981e763-8716-4fb8-9545-1db970ea6c36', metadata={'Title': 'Untitled', 'question_text': 'who played darth vader in the original trilogy', 'start_index': 21238}, page_content=\"up ^ `` Darth Vader star David Prowse Clear of Cancer '' . Daily Mirror . Retrieved 30 December 2010 . </Li> <Li> Jump up ^ McPhee , Rod . `` Star Wars ' Darth Vader : I 'd have loved a part in the new film but I 'd forget my lines '' . Daily Mirror .\"), Document(id='d3041719-b3f7-4ca9-9ffc-6479780afaf1', metadata={'Title': 'Untitled', 'question_text': 'who played darth vader in the original trilogy', 'start_index': 8257}, page_content=\"for the prequel trilogy and opined that the new films were `` out of context in terms of special effects in comparison to the original trilogy '' . </P> <P> In July 2007 , Prowse joined many others from the Star Wars films for the first ever Star Wars\")]\n",
            "-------Final Answer:-------------\n",
            "Question: who played darth vader in the original trilogy\n",
            " Response: David Charles Prowse physically portrayed Darth Vader in the original Star Wars trilogy.\n",
            "=============25 Question:what is the difference between priest and bishop=============\n",
            "[Document(id='5ba344f4-eb6a-4bdc-ae5c-c904f87b2f2e', metadata={'Title': 'Untitled', 'question_text': 'what is the difference between priest and bishop', 'start_index': 12738}, page_content=\"offices do not require further ordination . </P> <P> Sacramentally , all bishops are equal . According to jurisdiction , office , and privileges , however , various ranks are distinguished , as indicated below . All bishops are `` vicars of Christ '' .\"), Document(id='471157d9-0670-48ae-84a9-7b41f3989812', metadata={'Title': 'Untitled', 'question_text': 'what is the difference between priest and bishop', 'start_index': 10842}, page_content=\"be the teachers of doctrine , the priests of sacred worship and the ministers of governance '' and `` represent the Church . '' In the year 2012 , there were 5,133 Catholic bishops ; at the end of 2014 , there were 5,237 Catholic bishops . The Pope\"), Document(id='437a6bc2-2c65-4896-9e13-b92c2017d52c', metadata={'Title': 'Untitled', 'question_text': 'what is the difference between priest and bishop', 'start_index': 38199}, page_content='Church <H3> In general ( edit ) </H3> <P> Bishops are assisted by priests and deacons . All priests and deacons are incardinated in a diocese or religious order . Parishes , whether territorial or person - based , within a diocese are normally in the'), Document(id='b3ca3ec6-4fa4-42d0-8f06-ae2c2da982a7', metadata={'Title': 'Untitled', 'question_text': 'what is the difference between priest and bishop', 'start_index': 9909}, page_content='of diocesan bishops in law </Li> </Ul> </Li> <Li> 1.9 Other bishops </Li> </Ul> </Li> <Li> 2 Ordinaries and local ordinaries </Li> <Li> 3 Presbyterate <Ul> <Li> 3.1 In general </Li> <Li> 3.2 Priests in service outside their diocese </Li> <Li> 3.3'), Document(id='0ab2bc32-5216-44e3-9c34-e46ecbbde618', metadata={'Title': 'Untitled', 'question_text': 'what is the difference between priest and bishop', 'start_index': 11072}, page_content=\"bishops . The Pope himself is a bishop ( the bishop of Rome ) and traditionally uses the title `` Venerable Brother '' when writing formally to another bishop . </P> <P> The typical role of a bishop is to provide pastoral governance for a diocese .\"), Document(id='5dbc1294-3983-4eb3-8b54-72e54c3f3c1c', metadata={'Title': 'Untitled', 'question_text': 'what is the difference between priest and bishop', 'start_index': 9429}, page_content='the sacrament of Holy Orders , by which men are ordained as bishops , priests or deacons . </P> <H2> Contents </H2> <Ul> <Li> 1 Bishop <Ul> <Li> 1.1 Pope ( Bishop of Rome ) <Ul> <Li> 1.1. 1 Offices and titles </Li> <Li> 1.1. 2 Election </Li> </Ul> </Li>'), Document(id='d9d3351b-f960-40f8-b2d6-1c8d488ecda4', metadata={'Title': 'Untitled', 'question_text': 'what is the difference between priest and bishop', 'start_index': 31375}, page_content='ordained bishop . </P> <P> Within each diocese , even if the Eucharist is celebrated by another bishop , the necessary communion with the Bishop of the diocese is signified by the mention of his name . In Eastern eparchies the name of the patriarch ,'), Document(id='5c39bfe9-e6c4-433f-b368-4e4132219748', metadata={'Title': 'Untitled', 'question_text': 'what is the difference between priest and bishop', 'start_index': 30680}, page_content='( edit ) </H3> <P> The bishop or eparch of a see , even if he does not also hold a title such as Archbishop , Metropolitan , Major Archbishop , Patriarch or Pope , is the centre of unity for his diocese or eparchy , and , as a member of the College of'), Document(id='55d3db99-969b-4d22-923e-eb9a5e9e629d', metadata={'Title': 'Untitled', 'question_text': 'what is the difference between priest and bishop', 'start_index': 31841}, page_content='the Eucharist has a mention of the Pope by name . </P> <P> Ordination to the episcopate is the fullness of the priesthood and the completion of the sacrament of Holy Orders . Bishops are considered the successors of the apostles . </P> <P> Within the'), Document(id='3634d6c5-1e68-4298-a55e-f6107bdab9de', metadata={'Title': 'Untitled', 'question_text': 'what is the difference between priest and bishop', 'start_index': 38430}, page_content='are normally in the charge of a priest , known as the parish priest or the pastor . </P> <P> In the Latin Church , only celibate men , as a rule , are ordained as priests , while the Eastern Churches , again as a rule , ordain both celibate and married')]\n",
            "-------Final Answer:-------------\n",
            "Question: what is the difference between priest and bishop\n",
            " Response: I don't have the answer.\n",
            "=============26 Question:what does c class stand for in mercedes benz=============\n",
            "[Document(id='603ee9a6-948b-47a1-af9b-42ddc10847b6', metadata={'Title': 'Untitled', 'question_text': 'what does c class stand for in mercedes benz', 'start_index': 19390}, page_content=\"100 , followed by an arrangement of alphabetical suffixes , indicating body style and engine type . </P> <Ul> <Li> `` C '' indicates a coupe or cabriolet body style ( for example , the CL and CLK models , though the C - Class is an exception , since it is\"), Document(id='7b3ce1e5-01fa-4b7c-abfc-6a181fc9eec7', metadata={'Title': 'Untitled', 'question_text': 'what does c class stand for in mercedes benz', 'start_index': 24360}, page_content='many confusing nomenclature and their placements in the model range such as CL - Class is now called the S - Class Coupé . The naming structure is divided into four categories : core , off - road vehicle / SUV , 4 - door coupé , and roadster . AMG GT ,'), Document(id='742fa19b-8534-4539-bd18-3d9fd86f2808', metadata={'Title': 'Untitled', 'question_text': 'what does c class stand for in mercedes benz', 'start_index': 15367}, page_content='. The Smart marque of city cars are also produced by Daimler AG . </P> <Ul> <Li> A-Class -- Subcompact luxury Hatchback / Sedan / Saloon </Li> <Li> B - Class -- Subcompact luxury Multi Purpose Vehicle ( MPV ) </Li> <Li> C - Class -- Compact executive'), Document(id='306a677a-d4e3-4a5f-aa60-9a54f8118f54', metadata={'Title': 'Untitled', 'question_text': 'what does c class stand for in mercedes benz', 'start_index': 14653}, page_content=') Mercedes - Benz B - Class ( Subcompact executive Tourers ) Mercedes - Benz C - Class ( Compact executive car ) Mercedes - Benz E-Class ( Executive car ) Mercedes - Benz S - Class ( full - size luxury sedan ) Mercedes - Benz SLC - Class ( Roadster )'), Document(id='ea54dbce-0e21-43b0-a706-3c67e7cca28b', metadata={'Title': 'Untitled', 'question_text': 'what does c class stand for in mercedes benz', 'start_index': 25537}, page_content='while the CLS sits between the E - and S - Classes . </P> <P> In addition to the revised nomenclature , Mercedes - Benz has new nomenclature for the drive systems . </P> <Table> <Tr> <Th> Current </Th> <Th> New </Th> <Th> Example </Th> </Tr> <Tr> <Td>'), Document(id='9c7ffb06-8b3e-4b47-b217-d6c39ee27b01', metadata={'Title': 'Untitled', 'question_text': 'what does c class stand for in mercedes benz', 'start_index': 14885}, page_content='Class ( Roadster ) Mercedes - Benz GLA - Class ( Subcompact luxury SUV ) Mercedes - Benz GLC - Class ( Compact luxury SUV ) Mercedes - Benz GLE - Class ( Mid-size luxury SUV ) Mercedes - Benz GLS - Class ( full - size luxury SUV ) Mercedes - Benz X-Class'), Document(id='73cee74e-76da-451c-8a18-be480de80068', metadata={'Title': 'Untitled', 'question_text': 'what does c class stand for in mercedes benz', 'start_index': 21766}, page_content=\"into `` classes '' denoted by an arrangement of up to three letters ( see `` Current model range '' above ) , followed by a three - digit ( or two - digit for AMG models , with the number approximately equal to the displacement in litres multiplied by 10\"), Document(id='7d250d34-cea5-4f6b-8078-6e9f704e7fa9', metadata={'Title': 'Untitled', 'question_text': 'what does c class stand for in mercedes benz', 'start_index': 18677}, page_content='C43 AMG </Li> <Li> 1995 : SL73 AMG , 7.3 V12 </Li> <Li> 1996 : SLK </Li> <Li> 1997 : A-Class and M - Class </Li> <Li> 2004 : SLR McLaren and CLS - Class </Li> <Li> 2007 : BlueTec E320 , GL320 Bluetec , ML320 Bluetec , R320 Bluetec </Li> <Li> 2010 : SLS'), Document(id='9a7c5b92-5a90-474d-a240-853632311b34', metadata={'Title': 'Untitled', 'question_text': 'what does c class stand for in mercedes benz', 'start_index': 15836}, page_content='/ Saloon , Estate , Coupé and Cabriolet </Li> <Li> G - Class -- Mid-size luxury Sports Utility Vehicle ( SUV ) </Li> <Li> GLA - Class -- Subcompact luxury Sports Utility Vehicle ( SUV ) </Li> <Li> GLC - Class -- Compact luxury Sports Utility Vehicle ( SUV'), Document(id='08e3e65a-1d27-481b-80d8-762405756ed8', metadata={'Title': 'Untitled', 'question_text': 'what does c class stand for in mercedes benz', 'start_index': 20578}, page_content=\") . </Li> <Li> `` S '' Sonderklasse `` Special class '' for flagship models , including the S - Class , and the SL - Class , SLR McLaren and SLS sports cars . </Li> <Li> `` T '' indicates `` Touring '' and an estate ( or station wagon ) body style . </Li>\")]\n",
            "-------Final Answer:-------------\n",
            "Question: what does c class stand for in mercedes benz\n",
            " Response: C-Class stands for Compact executive car.\n",
            "=============27 Question:how many episodes will prison break season 5 have=============\n",
            "[Document(id='ebc18f38-0887-4f48-959f-1c59a244b844', metadata={'Title': 'Untitled', 'question_text': 'how many episodes will prison break season 5 have', 'start_index': 0}, page_content='Prison Break ( season 5 ) - wikipedia <H1> Prison Break ( season 5 ) </H1> Jump to : navigation , search <Table> <Tr> <Th_colspan=\"2\"> Prison Break ( season 5 ) </Th> </Tr> <Tr> <Td_colspan=\"2\"> DVD cover </Td> </Tr> <Tr> <Th> Starring </Th> <Td> <Ul> <Li>'), Document(id='a2af4bc2-4a21-443f-aa14-f1f04da0bdec', metadata={'Title': 'Untitled', 'question_text': 'how many episodes will prison break season 5 have', 'start_index': 952}, page_content='4 </Td> </Tr> <Tr> <Td_colspan=\"2\"> List of Prison Break episodes </Td> </Tr> </Table> <P> The fifth season of Prison Break ( also known as Prison Break : Resurrection ) is a limited event television series and the continuation of the original series'), Document(id='04e33af3-eb67-4b97-84db-737e9e2c1792', metadata={'Title': 'Untitled', 'question_text': 'how many episodes will prison break season 5 have', 'start_index': 34472}, page_content=\"^ `` Prison Break : Season 5 ( 2017 ) '' . Rotten Tomatoes . Fandango . Retrieved April 4 , 2017 . </Li> <Li> Jump up ^ `` Prison Break : Season 5 reviews '' . Metacritic . Retrieved April 4 , 2017 . </Li> <Li> Jump up ^ Porter , Rick ( April 20 , 2017 )\"), Document(id='ec9cc35d-c246-4ea8-b34a-b7666d2fab01', metadata={'Title': 'Untitled', 'question_text': 'how many episodes will prison break season 5 have', 'start_index': 26899}, page_content=\"( March 6 , 2017 ) . `` The Prison Break revival officially has a title -- as show writers reveal why there are only nine episodes in the new series '' . Digital Spy . Retrieved March 8 , 2017 . </Li> <Li> Jump up ^ `` ROBERT KNEPPER , ROCKMOND DUNBAR AND\"), Document(id='d6a877c6-1fc6-442a-8c0b-6210c850fe44', metadata={'Title': 'Untitled', 'question_text': 'how many episodes will prison break season 5 have', 'start_index': 34008}, page_content=\"falls on his head '' . News.com.au . June 4 , 2016 . Retrieved June 5 , 2016 . </Li> <Li> Jump up ^ Debnath , Neela ( July 24 , 2015 ) . `` Prison Break season 5 : Ramin Djawadi says he would ' absolutely ' return to the show '' . Daily Express .\"), Document(id='908be6a2-5fc2-49be-9316-5712f9276881', metadata={'Title': 'Untitled', 'question_text': 'how many episodes will prison break season 5 have', 'start_index': 18402}, page_content=\"revival of Paul Scheuring 's Prison Break was in development at Fox . </P> <P> On August 6 , 2015 , Fox confirmed a 10 - episode order for the revival . The limited series is a sequel to the original series , taking place several years later , and\"), Document(id='2f32db69-3240-4533-8b61-c9ec214ce76f', metadata={'Title': 'Untitled', 'question_text': 'how many episodes will prison break season 5 have', 'start_index': 38711}, page_content=\"</Li> </Ul> </Td> </Tr> </Table> Retrieved from `` https://en.wikipedia.org/w/index.php?title=Prison_Break_(season_5)&oldid=807163375 '' Categories : <Ul> <Li> Prison Break </Li> <Li> Prison Break episodes </Li> <Li> 2017 American television seasons </Li>\"), Document(id='b281d9c2-56fe-41df-bcdc-189e2a136864', metadata={'Title': 'Untitled', 'question_text': 'how many episodes will prison break season 5 have', 'start_index': 30451}, page_content=\"August 6 , 2015 . </Li> <Li> ^ Jump up to : O'Connell , Michael ( January 15 , 2016 ) . `` Fox Greenlights ' Prison Break ' Event Series , Orders ' 24 ' Spinoff Pilot ' Legacy ' '' . The Hollywood Reporter . Retrieved January 15 , 2016 . </Li> <Li> Jump\"), Document(id='7073222f-6dbe-420e-89cb-5509cb1814db', metadata={'Title': 'Untitled', 'question_text': 'how many episodes will prison break season 5 have', 'start_index': 29984}, page_content=\", Michael ( June 2 , 2015 ) . `` Prison Break Limited Series In Development at Fox '' . TVLine . Retrieved June 2 , 2015 . </Li> <Li> Jump up ^ Rose , Lacey ( August 6 , 2015 ) . `` Fox Chiefs on ' Prison Break ' Revival , ' Empire ' Impact and Planned\"), Document(id='a0e97bd3-772c-48d2-a831-06b300a5a2ca', metadata={'Title': 'Untitled', 'question_text': 'how many episodes will prison break season 5 have', 'start_index': 4471}, page_content='<Li> TJ Ramini as Cross </Li> <Li> Akin Gazi as Omar </Li> <Li> Christian Michael Cooper as Mike Scofield </Li> </Ul> <H2> Episodes ( edit ) </H2> Main article : List of Prison Break episodes <Table> <Tr> <Th> No . overall </Th> <Th> No. in season </Th>')]\n",
            "-------Final Answer:-------------\n",
            "Question: how many episodes will prison break season 5 have\n",
            " Response: Nine episodes.\n",
            "=============28 Question:when was the 1913 natives land act repealed=============\n",
            "[Document(id='21006dd3-9016-4ed4-b4c7-5ddd711582a0', metadata={'Title': 'Untitled', 'question_text': 'when was the 1913 natives land act repealed', 'start_index': 0}, page_content='Natives land Act , 1913 - wikipedia <H1> Natives land Act , 1913 </H1> <Table> <Tr> <Th_colspan=\"2\"> Natives Land Act , 1913 </Th> </Tr> <Tr> <Td_colspan=\"2\"> </Td> </Tr> <Tr> <Td_colspan=\"2\"> Act to make further provision as to the purchase and leasing of'), Document(id='d878f602-3241-4bf1-aa99-d142ac7ea7a3', metadata={'Title': 'Untitled', 'question_text': 'when was the 1913 natives land act repealed', 'start_index': 1184}, page_content='Status : Repealed </Td> </Tr> </Table> <P> The Natives Land Act , 1913 ( subsequently renamed Bantu Land Act , 1913 and Black Land Act , 1913 ; Act No. 27 of 1913 ) was an Act of the Parliament of South Africa that was aimed at regulating the acquisition'), Document(id='93a901be-759c-41cf-b489-3a8448970ff2', metadata={'Title': 'Untitled', 'question_text': 'when was the 1913 natives land act repealed', 'start_index': 1663}, page_content='Overview ( edit ) </H2> <P> The Natives Land Act of 1913 was the first major piece of segregation legislation passed by the Union Parliament . It was replaced by the current policy of land restitution . The act decreed that whites were not allowed to buy'), Document(id='94b9ef06-701f-453f-b667-c3ee0e3dcec4', metadata={'Title': 'Untitled', 'question_text': 'when was the 1913 natives land act repealed', 'start_index': 716}, page_content='commenced </Th> <Td> 19 June 1913 </Td> </Tr> <Tr> <Th> Date repealed </Th> <Td> 30 June 1991 </Td> </Tr> <Tr> <Th> Administered by </Th> <Td> Minister of Native Affairs </Td> </Tr> <Tr> <Th_colspan=\"2\"> Repealing legislation </Th> </Tr> <Tr>'), Document(id='01adc6e9-66ec-42b7-962e-6e87267d7755', metadata={'Title': 'Untitled', 'question_text': 'when was the 1913 natives land act repealed', 'start_index': 9215}, page_content=\"( 1982 ) </Li> <Li> Republic of South Africa Constitution Act ( 1983 ) </Li> </Ul> </Td> </Tr> </Table> Retrieved from `` https://en.wikipedia.org/w/index.php?title=Natives_Land_Act,_1913&oldid=842598426 '' Categories : <Ul> <Li> Apartheid laws in South\"), Document(id='dffab259-a483-484a-bf62-435c0d72a79d', metadata={'Title': 'Untitled', 'question_text': 'when was the 1913 natives land act repealed', 'start_index': 6861}, page_content='of Natives Act ( 1936 ) </Li> <Li> Native Trust and Land Act ( 1936 ) </Li> <Li> Native ( Urban Areas ) Consolidation Act ( 1945 ) </Li> <Li> Asiatic Land Tenure Act ( 1946 ) </Li> </Ul> </Td> </Tr> <Tr> <Th> Malan to Verwoerd ( 1948 -- 1966 ) </Th> <Td>'), Document(id='75d94bfa-e41d-492c-92fa-850dcb802791', metadata={'Title': 'Untitled', 'question_text': 'when was the 1913 natives land act repealed', 'start_index': 6616}, page_content='Act ( 1909 ) </Li> <Li> Mines and Works Act ( 1911 ) </Li> <Li> Natives Land Act ( 1913 ) </Li> <Li> Natives ( Urban Areas ) Act ( 1923 ) </Li> <Li> Immorality Act ( 1927 ) </Li> <Li> Native Administration Act ( 1927 ) </Li> <Li> Representation of Natives'), Document(id='22a23066-2d2b-48c3-9f6c-f60a25aee789', metadata={'Title': 'Untitled', 'question_text': 'when was the 1913 natives land act repealed', 'start_index': 4966}, page_content=\") </Li> <Li> South Africa under apartheid </Li> </Ul> <H2> References ( edit ) </H2> <Ol> <Li> Jump up ^ `` 19 June 1913 Native Land Act '' , This day in history , publish date unknown ( accessed 20 December 2007 ) . </Li> <Li> Jump up ^ Collins , Robert\"), Document(id='9a3d1ee5-f42d-4668-8dde-226d572a5c09', metadata={'Title': 'Untitled', 'question_text': 'when was the 1913 natives land act repealed', 'start_index': 4026}, page_content='came into force in South Africa . </P> <P> Sol Plaatje traveled to Britain with the SANNC ( later the African National Congress ) to protest the Natives Land Act but to no avail . He collected transcripts of court deliberations on the Natives Land Act and'), Document(id='75304c89-e4fc-46cc-a14e-552f2387d28b', metadata={'Title': 'Untitled', 'question_text': 'when was the 1913 natives land act repealed', 'start_index': 7820}, page_content='Act ( 1953 ) </Li> <Li> Natives Resettlement Act ( 1954 ) </Li> <Li> Group Areas Development Act ( 1955 ) </Li> <Li> Riotous Assemblies Act ( 1956 ) </Li> <Li> Industrial Conciliation Act ( 1956 ) </Li> <Li> Natives ( Prohibition of Interdicts ) Act (')]\n",
            "-------Final Answer:-------------\n",
            "Question: when was the 1913 natives land act repealed\n",
            " Response: 30 June 1991\n",
            "=============29 Question:where was best years of our lives filmed=============\n",
            "[Document(id='f98d979e-708e-4597-a1c3-dc2d427a66da', metadata={'Title': 'Untitled', 'question_text': 'where was best years of our lives filmed', 'start_index': 18380}, page_content=\"<Li> Jump up ^ vhttps://archive.org/stream/variety165-1947-01#page/n85/mode/1up </Li> <Li> Jump up ^ `` ' Best Years of Our Lives ' ( 1946 ) . '' Box Office Mojo . Retrieved : February 4 , 2010 . </Li> <Li> Jump up ^ Kantor , MacKinlay ( 1945 ) . Glory\"), Document(id='2aefea76-cf50-44de-bc5b-5c3526b7e220', metadata={'Title': 'Untitled', 'question_text': 'where was best years of our lives filmed', 'start_index': 20262}, page_content=\"26 , 2007 . </Li> <Li> Jump up ^ Orriss 1984 , pp. 121 -- 122 . </Li> <Li> Jump up ^ `` Trivia : ' The Best Years of Our Lives ' . '' Turner Classic Movies . Retrieved : February 10 , 2015 . </Li> <Li> Jump up ^ Crowther , Bosley . The Best Years of our\"), Document(id='42072118-7953-4679-8934-fe1891fd8ff2', metadata={'Title': 'Untitled', 'question_text': 'where was best years of our lives filmed', 'start_index': 0}, page_content='The Best Years of Our Lives - wikipedia <H1> The Best Years of Our Lives </H1> Jump to : navigation , search For other uses , see The Best Years of Our Lives ( disambiguation ) . <Table> <Tr> <Th_colspan=\"2\"> The Best Years of Our Lives </Th> </Tr> <Tr>'), Document(id='13c36815-fa14-43d3-9a4e-c9a39005047c', metadata={'Title': 'Untitled', 'question_text': 'where was best years of our lives filmed', 'start_index': 11110}, page_content=', including the Los Angeles County Arboretum and Botanic Garden , Ontario International Airport , Ontario , California , Raleigh Studios , Hollywood , and the Samuel Goldwyn / Warner Hollywood Studios . The Best Years of Our Lives is notable for'), Document(id='b79dc7ae-56e9-404f-8ec0-ffd2dfce5086', metadata={'Title': 'Untitled', 'question_text': 'where was best years of our lives filmed', 'start_index': 35563}, page_content=\"Retrieved from `` https://en.wikipedia.org/w/index.php?title=The_Best_Years_of_Our_Lives&oldid=813980218 '' Categories : <Ul> <Li> 1946 films </Li> <Li> English - language films </Li> <Li> American films </Li> <Li> 1940s drama films </Li> <Li> 1940s war\"), Document(id='efa28f9b-075a-4fc0-a533-4a49da815148', metadata={'Title': 'Untitled', 'question_text': 'where was best years of our lives filmed', 'start_index': 20498}, page_content='Best Years of our Lives . The New York Times , November 22 , 1946 . Retrieved : April 26 , 2007 . </Li> <Li> Jump up ^ Thomson , 2002 , p. 949 . 4th Edition ; the first edition was published in 1975 . See Thomson , David ( 1975 ) . A Biographical'), Document(id='dc66e249-e059-4cc4-989a-00350cf4434b', metadata={'Title': 'Untitled', 'question_text': 'where was best years of our lives filmed', 'start_index': 20726}, page_content=\") . A Biographical Dictionary of the Cinema . London : Secker & Warburg . OCLC 1959828 . </Li> <Li> Jump up ^ `` ' The Best Years of Our Lives ' . '' Rotten Tomatoes . Retrieved : July 30 , 2010 . </Li> <Li> Jump up ^ Ebert , Roger . `` The Best Years of\"), Document(id='eae8b226-0a09-4b0f-8df2-6964fcea5105', metadata={'Title': 'Untitled', 'question_text': 'where was best years of our lives filmed', 'start_index': 20028}, page_content=\"up ^ `` Top 100 films . '' Channel 4 . Retrieved : October 25 , 2010 . </Li> <Li> ^ Jump up to : Orriss 1984 , p. 121 . </Li> <Li> Jump up ^ Kehr , Dave . `` ' The Best Years of Our Lives ' . '' The Chicago Reader . Retrieved : April 26 , 2007 . </Li>\"), Document(id='1f5a4d8a-db57-4ca6-bcc6-b0b0af772092', metadata={'Title': 'Untitled', 'question_text': 'where was best years of our lives filmed', 'start_index': 10875}, page_content='were more suited to camera positions . The impact for the audience was immediate , as each scene played out in a realistic , natural way . </P> <P> The Best Years of Our Lives began filming on April 15 , 1946 at a variety of locations , including the Los'), Document(id='e2b15b57-d34b-46ef-afff-fcd715bac489', metadata={'Title': 'Untitled', 'question_text': 'where was best years of our lives filmed', 'start_index': 23814}, page_content='Guild Theater : November 24 , 1947 </Li> <Li> The Best Years of Our Lives on Screen Directors Playhouse : April 17 , 1949 </Li> </Ul> <Table> <Tr> <Th_colspan=\"2\"> <Ul> <Li> </Li> <Li> </Li> <Li> </Li> </Ul> Films directed by William Wyler </Th> </Tr>')]\n",
            "-------Final Answer:-------------\n",
            "Question: where was best years of our lives filmed\n",
            " Response: The Best Years of Our Lives was filmed at locations including the Los Angeles County Arboretum and Botanic Garden, Ontario International Airport, Ontario, California, Raleigh Studios, Hollywood, and the Samuel Goldwyn/Warner Hollywood Studios.\n",
            "=============30 Question:summary of philip sidney an apology for poetry=============\n",
            "[Document(id='347035ea-58a7-4185-82d0-49461ad32b79', metadata={'Title': 'Untitled', 'question_text': 'summary of philip sidney an apology for poetry', 'start_index': 0}, page_content='An Apology for poetry - wikipedia <H1> An Apology for poetry </H1> Jump to : navigation , search Sidney <P> An Apology for Poetry ( or , The Defence of Poesy ) is a work of literary criticism by Elizabethan poet Philip Sidney . It was written in'), Document(id='99e5f749-81df-4762-b75f-c5e91fa9340b', metadata={'Title': 'Untitled', 'question_text': 'summary of philip sidney an apology for poetry', 'start_index': 10595}, page_content='requires the noble stirring of courage . </P> <P> Sidney writes An Apology for Poetry in the form of a judicial oration for the defense , and thus it is like a trial in structure . Crucial to his defense is the descriptive discourse and the idea that'), Document(id='4282f349-b0c8-4d3c-916d-495fb93e79c2', metadata={'Title': 'Untitled', 'question_text': 'summary of philip sidney an apology for poetry', 'start_index': 7065}, page_content=\": a study of Sidney 's works is a study of the man . </P> <H2> Significance ( edit ) </H2> <P> An Apology for Poetry is one of the most important contributions to literary theory written in English during the Renaissance . Sidney advocates a place for\"), Document(id='cf018d03-b543-49a9-95f1-6fa9b91dba55', metadata={'Title': 'Untitled', 'question_text': 'summary of philip sidney an apology for poetry', 'start_index': 7305}, page_content=\"a place for poetry within the framework of an aristocratic state , while showing concern for both literary and national identity . Sidney responds in Apology to an emerging antipathy to poetry as expressed in Stephen Gosson 's The Schoole of Abuse .\"), Document(id='133fe8c9-2ce4-4426-aa08-582d7e2f42af', metadata={'Title': 'Untitled', 'question_text': 'summary of philip sidney an apology for poetry', 'start_index': 14117}, page_content='Shepherd , Geoffrey ; Maslen , R.W. , eds. ( 2002 ) . An Apology For Poetry ( Or The Defence Of Poesy ) ( Revised and expanded Third ed . ) . Manchester : Manchester University Press . ISBN 978 - 0 - 7190 - 5376 - 4 . </Li> </Ul> <H2> Notes ( edit ) </H2>'), Document(id='db080b2e-7dcf-408f-a3c7-f355830ddd92', metadata={'Title': 'Untitled', 'question_text': 'summary of philip sidney an apology for poetry', 'start_index': 13646}, page_content=') . A Defence of Poesie and Poems . London : Cassel . </Li> <Li> Sidney , Philip ( 1901 ) . Arber , Edward , ed . Apologie for Poetrie . Westminster : A. Constable and Co. ( reprint ) </Li> <Li> van Dorsten , Jan A. , ed. ( 1966 ) . A Defence of Poetry .'), Document(id='e26120e4-d981-4e39-b7a2-a314c6b1cad2', metadata={'Title': 'Untitled', 'question_text': 'summary of philip sidney an apology for poetry', 'start_index': 13407}, page_content=', Edward , ed . An Apologie for Poetrie . London : A. Murray & Son . </Li> <Li> Cook , Albert , ed. ( 1890 ) . The Defense of Poesy ( Otherwise Known as an Apology for Poetry ) . Boston : Ginn & Co . </Li> <Li> Morley , Henry , ed. ( 1891 ) . A Defence of'), Document(id='088a645d-1481-4ebf-ba1e-fc0d868c583f', metadata={'Title': 'Untitled', 'question_text': 'summary of philip sidney an apology for poetry', 'start_index': 17857}, page_content=\"Retrieved from `` https://en.wikipedia.org/w/index.php?title=An_Apology_for_Poetry&oldid=829643521 '' Categories : <Ul> <Li> English literature </Li> <Li> Essays in literary theory </Li> <Li> 1579 works </Li> <Li> Essays about poetry </Li> </Ul> Hidden\"), Document(id='9bbbc120-01aa-4ec8-8ffd-c3d1d9ed38d8', metadata={'Title': 'Untitled', 'question_text': 'summary of philip sidney an apology for poetry', 'start_index': 10361}, page_content=\"that `` poetry is the companion of camps '' and by invoking the heroes of ages past . Sidney 's reverence for the poet as soldier is significant because he himself was a soldier at one time . Poetry , in Apology , becomes an art that requires the noble\"), Document(id='6b42f1d1-d98e-4a6a-8ed0-69d2051cc769', metadata={'Title': 'Untitled', 'question_text': 'summary of philip sidney an apology for poetry', 'start_index': 14829}, page_content=\". </Li> <Li> Bear , R.S. `` Defence of Poesie : Introduction . '' In Renascence Editions. 21 October 2005 . ( 1 ) . </Li> <Li> Craig , D.H. `` A Hybrid Growth : Sidney 's Theory of Poetry in An Apology for Poetry . '' Essential Articles for the Study of\")]\n",
            "-------Final Answer:-------------\n",
            "Question: summary of philip sidney an apology for poetry\n",
            " Response: I don't have the answer.\n",
            "RAG_base took 36.6266 seconds to run.\n"
          ]
        }
      ]
    },
    {
      "cell_type": "code",
      "source": [
        "def save_test_output(run_results):\n",
        "  output_path = \"./evaluation/run_results_baseline.json\"\n",
        "\n",
        "  with open(output_path, \"w\", encoding=\"utf-8\") as f:\n",
        "      json.dump(run_results, f, indent=4, ensure_ascii=False)\n",
        "\n",
        "  print(f\"Saved {len(run_results)} results to {output_path}\")"
      ],
      "metadata": {
        "id": "vplg4JHQQZm4"
      },
      "execution_count": null,
      "outputs": []
    },
    {
      "cell_type": "code",
      "source": [
        "save_test_output(baseline_run_results)"
      ],
      "metadata": {
        "id": "hjg4YtN8OSED"
      },
      "execution_count": null,
      "outputs": []
    }
  ]
}