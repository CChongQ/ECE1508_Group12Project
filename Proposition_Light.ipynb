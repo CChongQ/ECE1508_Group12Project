{
  "nbformat": 4,
  "nbformat_minor": 0,
  "metadata": {
    "colab": {
      "provenance": [],
      "collapsed_sections": [
        "MuhooPOlrhK1",
        "zIcK9WKO48gk",
        "o7-Cx6fN6Off"
      ]
    },
    "kernelspec": {
      "name": "python3",
      "display_name": "Python 3"
    },
    "language_info": {
      "name": "python"
    }
  },
  "cells": [
    {
      "cell_type": "markdown",
      "source": [
        "# Environmetn Setup"
      ],
      "metadata": {
        "id": "JGEI9OjIrbA2"
      }
    },
    {
      "cell_type": "code",
      "execution_count": null,
      "metadata": {
        "id": "NCc9CdAkexQA"
      },
      "outputs": [],
      "source": [
        "!pip install -U \"langchain[openai]\" langchain-core langgraph langchain-text-splitters langchain_community"
      ]
    },
    {
      "cell_type": "code",
      "source": [
        "!pip install faiss-cpu jq"
      ],
      "metadata": {
        "id": "EIJKBWd_fQrV"
      },
      "execution_count": null,
      "outputs": []
    },
    {
      "cell_type": "code",
      "source": [
        "!pip install -qU \"langchain-chroma>=0.1.2\""
      ],
      "metadata": {
        "id": "SDC_RMPazJ6h"
      },
      "execution_count": null,
      "outputs": []
    },
    {
      "cell_type": "code",
      "source": [
        "# External libraries\n",
        "import json\n",
        "import faiss\n",
        "import re\n",
        "import getpass\n",
        "import os\n",
        "from datetime import datetime\n",
        "import time\n",
        "import ast"
      ],
      "metadata": {
        "id": "t6s6YkCSLrUT"
      },
      "execution_count": null,
      "outputs": []
    },
    {
      "cell_type": "code",
      "source": [
        "# OpenAI SDK\n",
        "from openai import OpenAI\n",
        "\n",
        "# Langchain imports\n",
        "from langchain_openai import OpenAIEmbeddings\n",
        "from langchain_chroma import Chroma\n",
        "\n",
        "from langchain_community.document_loaders import JSONLoader\n",
        "from langchain_text_splitters import HTMLSectionSplitter\n",
        "from langchain_core.documents import Document\n",
        "from langchain.vectorstores import FAISS\n",
        "from langchain.embeddings import OpenAIEmbeddings\n",
        "from langchain.output_parsers.openai_tools import JsonOutputToolsParser\n",
        "from langchain_community.chat_models import ChatOpenAI\n",
        "from langchain_core.prompts import ChatPromptTemplate\n",
        "from langchain_core.runnables import RunnableLambda\n",
        "from langchain.chains import create_extraction_chain, create_extraction_chain_pydantic\n",
        "from langchain import hub\n",
        "from langchain_core.pydantic_v1 import BaseModel\n",
        "from langchain.output_parsers import PydanticOutputParser\n",
        "from langchain.prompts import PromptTemplate\n",
        "from langchain_core.prompts import (\n",
        "    ChatPromptTemplate,\n",
        "    FewShotChatMessagePromptTemplate,\n",
        ")\n",
        "\n",
        "# Pydantic + Typing\n",
        "from pydantic import BaseModel\n",
        "from typing import Optional, List\n"
      ],
      "metadata": {
        "id": "9NvUa8v5Ln5S"
      },
      "execution_count": null,
      "outputs": []
    },
    {
      "cell_type": "code",
      "source": [
        "if not os.environ.get(\"OPENAI_API_KEY\"):\n",
        "  os.environ[\"OPENAI_API_KEY\"] = getpass.getpass(\"Enter API key for OpenAI: \")"
      ],
      "metadata": {
        "id": "YS1gRamHfY1c",
        "colab": {
          "base_uri": "https://localhost:8080/"
        },
        "outputId": "e300b5b8-0653-472a-a685-0e9383ab571a"
      },
      "execution_count": null,
      "outputs": [
        {
          "name": "stdout",
          "output_type": "stream",
          "text": [
            "Enter API key for OpenAI: ··········\n"
          ]
        }
      ]
    },
    {
      "cell_type": "code",
      "source": [
        "#All codes below will use this embedding\n",
        "embeddings = OpenAIEmbeddings(model=\"text-embedding-3-large\")"
      ],
      "metadata": {
        "id": "jUscrPMMCCDN"
      },
      "execution_count": null,
      "outputs": []
    },
    {
      "cell_type": "code",
      "source": [
        "from google.colab import drive\n",
        "drive.mount('/content/drive')\n",
        "\n",
        "%cd  /content/drive/MyDrive/ECE1508_Project/Codes"
      ],
      "metadata": {
        "id": "pKEpu0O6fgMx",
        "colab": {
          "base_uri": "https://localhost:8080/"
        },
        "outputId": "fcc997e5-eced-4dba-eb40-d2cdc161fa85"
      },
      "execution_count": null,
      "outputs": [
        {
          "output_type": "stream",
          "name": "stdout",
          "text": [
            "Mounted at /content/drive\n",
            "/content/drive/MyDrive/ECE1508_Project/Codes\n"
          ]
        }
      ]
    },
    {
      "cell_type": "markdown",
      "source": [
        "# Helpers"
      ],
      "metadata": {
        "id": "s5eNbOcwD6o9"
      }
    },
    {
      "cell_type": "markdown",
      "source": [
        "## Load Test Doc"
      ],
      "metadata": {
        "id": "MuhooPOlrhK1"
      }
    },
    {
      "cell_type": "code",
      "source": [
        "def metadata_fuc(example: dict, _: dict) -> dict:\n",
        "    return {\n",
        "        \"question_text\": example.get(\"question_text\"),\n",
        "        \"Title\": example.get(\"title\", \"Untitled\"),\n",
        "        \"gold_answer\": example.get(\"gold_answer\", \"\")\n",
        "    }"
      ],
      "metadata": {
        "id": "2fF2ggfE0Vue"
      },
      "execution_count": null,
      "outputs": []
    },
    {
      "cell_type": "code",
      "source": [
        "def load_documents(file_path):\n",
        "  loader=JSONLoader(\n",
        "    file_path=file_path,\n",
        "    jq_schema=\".[]\",\n",
        "    content_key=\"document_text\",\n",
        "    metadata_func=metadata_fuc\n",
        "  )\n",
        "  documents=loader.load()\n",
        "\n",
        "  return documents"
      ],
      "metadata": {
        "id": "AKoIS4oc9LFJ"
      },
      "execution_count": null,
      "outputs": []
    },
    {
      "cell_type": "markdown",
      "source": [
        "## Vector Store Helpers"
      ],
      "metadata": {
        "id": "zIcK9WKO48gk"
      }
    },
    {
      "cell_type": "code",
      "source": [
        "def create_faiss_vec_store(elemnts_to_emb, folder_name):\n",
        "  vectorstore = FAISS.from_documents(elemnts_to_emb, embedding=embeddings)\n",
        "  vectorstore.save_local(folder_name)\n",
        "  return vectorstore"
      ],
      "metadata": {
        "id": "VkWWcJwu4_mh"
      },
      "execution_count": null,
      "outputs": []
    },
    {
      "cell_type": "markdown",
      "source": [
        "## Retriver Helpers"
      ],
      "metadata": {
        "id": "o7-Cx6fN6Off"
      }
    },
    {
      "cell_type": "code",
      "source": [
        "# retrieve the top K contents\n",
        "def retrieve_section(in_retriever,query):\n",
        "  results=in_retriever.get_relevant_documents(query)\n",
        "  if not results:\n",
        "    return None\n",
        "  return results\n"
      ],
      "metadata": {
        "id": "b5gC4gab6QCC"
      },
      "execution_count": null,
      "outputs": []
    },
    {
      "cell_type": "code",
      "source": [
        "#Run retriver for the input query\n",
        "def get_retrieve_section(in_retriever,in_query):\n",
        "  relevant_sections=retrieve_section(in_retriever,in_query)\n",
        "  return relevant_sections"
      ],
      "metadata": {
        "id": "z-N6Hacn6SPI"
      },
      "execution_count": null,
      "outputs": []
    },
    {
      "cell_type": "markdown",
      "source": [
        "## L2 Proposition Helpers\n",
        "\n",
        " The proposition promt come from: https://smith.langchain.com/hub/wfh/proposal-indexing?organizationId=50995362-9ea0-4378-ad97-b4edae2f9f22\n"
      ],
      "metadata": {
        "id": "iZwwrmv1hFya"
      }
    },
    {
      "cell_type": "markdown",
      "source": [
        "### Setup proposition models"
      ],
      "metadata": {
        "id": "-71C2WjY2dsk"
      }
    },
    {
      "cell_type": "code",
      "source": [
        "class Sentences(BaseModel):\n",
        "    sentences: List[str]\n",
        "\n",
        "parser = PydanticOutputParser(pydantic_object=Sentences)\n"
      ],
      "metadata": {
        "id": "nQoBmAYvlqqN"
      },
      "execution_count": null,
      "outputs": []
    },
    {
      "cell_type": "code",
      "source": [
        "proposition_examples = [\n",
        "    {\n",
        "        \"document\": \"Title: ¯Eostre. Section: Theories and interpretations, Connection to Easter Hares. Content: The earliest evidence for the Easter Hare (Osterhase) was recorded in south-west Germany in 1678 by the professor of medicine Georg Franck von Franckenau, but it remained unknown in other parts of Germany until the 18th century. Scholar Richard Sermon writes that \\\"hares were frequently seen in gardens in spring, and thus may have served as a convenient explanation for the origin of the colored eggs hidden there for children. Alternatively, there is a European tradition that hares laid eggs, since a hare’s scratch or form and a lapwing’s nest look very similar, and both occur on grassland and are first seen in the spring. In the nineteenth century the influence of Easter cards, toys, and books was to make the Easter Hare/Rabbit popular throughout Europe. German immigrants then exported the custom to Britain and America where it evolved into the Easter Bunny.\",\n",
        "        \"propositions\": \"['The earliest evidence for the Easter Hare was recorded in south-west Germany in 1678 by Georg Franck von Franckenau.', 'Georg Franck von Franckenau was a professor of medicine.', 'The evidence for the Easter Hare remained unknown in other parts of Germany until the 18th century.', 'Richard Sermon was a scholar.', 'Richard Sermon writes a hypothesis about the possible explanation for the connection between hares and the tradition during Easter.', 'Hares were frequently seen in gardens in spring.', 'Hares may have served as a convenient explanation for the origin of the colored eggs hidden in gardens for children.', 'There is a European tradition that hares laid eggs.', 'A hare’s scratch or form and a lapwing’s nest look very similar.', 'Both hares and lapwing’s nests occur on grassland and are first seen in the spring.', 'In the nineteenth century the influence of Easter cards, toys, and books was to make the Easter Hare/Rabbit popular throughout Europe.', 'German immigrants exported the custom of the Easter Hare/Rabbit to Britain and America.', 'The custom of the Easter Hare/Rabbit evolved into the Easter Bunny in Britain and America.']\"\n",
        "    }\n",
        "]\n",
        "\n",
        "example_proposition_prompt = ChatPromptTemplate.from_messages(\n",
        "    [\n",
        "        (\"human\", \"{document}\"),\n",
        "        (\"ai\", \"{propositions}\"),\n",
        "    ]\n",
        ")\n",
        "prop_few_shot_prompt = FewShotChatMessagePromptTemplate(\n",
        "    example_prompt = example_proposition_prompt,\n",
        "    examples = proposition_examples,\n",
        ")\n"
      ],
      "metadata": {
        "id": "Xqcun4KmPu9K"
      },
      "execution_count": null,
      "outputs": []
    },
    {
      "cell_type": "code",
      "source": [
        "prop_system  = '''\n",
        "Decompose the Passage below into clear and simple propositions, ensuring they are interpretable out of\n",
        "context.\n",
        "1. Split compound sentence into simple sentences. Maintain the original phrasing from the input whenever possible.\n",
        "2. For any named entity that is accompanied by additional descriptive information, separate this information into its own distinct proposition.\n",
        "3. Decontextualize the proposition by adding necessary modifier to nouns or entire sentences and replacing pronouns (e.g., \"it\", \"he\", \"she\", \"they\", \"this\", \"that\") with the full name of the entities they refer to.\n",
        "4. Present the results as a list of strings, formatted in valid JSON.\n",
        "\n",
        "Output format:\n",
        "1. Present the results as a JSON object with a key `\"sentences\"`, and the value should be an array of strings.Return **only** a valid JSON object with the following format (no additional text or explanation):\n",
        "{{\n",
        "  \"sentences\": [\n",
        "    \"sentence1\",\n",
        "    \"sentence2\",\n",
        "    \"sentence3\"\n",
        "  ]\n",
        "}}\n",
        "\n",
        "'''\n",
        "\n",
        "proposition_prompt = ChatPromptTemplate.from_messages(\n",
        "    [\n",
        "        (\"system\", prop_system),\n",
        "        prop_few_shot_prompt,\n",
        "        (\"human\", \"{document}\"),\n",
        "    ]\n",
        ")\n"
      ],
      "metadata": {
        "id": "Vojah1udQY_J"
      },
      "execution_count": null,
      "outputs": []
    },
    {
      "cell_type": "code",
      "source": [
        "#Put propositioned result into a new doc\n",
        "def get_new_prop_doc(relevant_sections, prop_results):\n",
        "  proposition_docs = []\n",
        "  for original_doc, result in zip(relevant_sections, prop_results):\n",
        "      for sentence in result.sentences:\n",
        "        proposition_docs.append(Document(\n",
        "              page_content=sentence,\n",
        "              metadata={}\n",
        "          ))\n",
        "  return proposition_docs"
      ],
      "metadata": {
        "id": "JLfPGZO33R_F"
      },
      "execution_count": null,
      "outputs": []
    },
    {
      "cell_type": "markdown",
      "source": [
        "# Main RAG end to end: Generation\n"
      ],
      "metadata": {
        "id": "E8JCYikZ7Vi9"
      }
    },
    {
      "cell_type": "code",
      "source": [
        "#Vector stpre folder path\n",
        "#Recheck pwd\n",
        "!ls\n",
        "L1_vector_folder = 'L1_vector_final'\n",
        "L2_vector_folder = 'L2_vector_prop'"
      ],
      "metadata": {
        "id": "nI2GBr_cECn7"
      },
      "execution_count": null,
      "outputs": []
    },
    {
      "cell_type": "code",
      "source": [
        "file_path=\"gold_test_file_30.json\"\n",
        "test_documents = load_documents(file_path)"
      ],
      "metadata": {
        "id": "HwvSRP-o8zCr"
      },
      "execution_count": null,
      "outputs": []
    },
    {
      "cell_type": "markdown",
      "source": [
        "## Step 1: Load L1 local vectorstore"
      ],
      "metadata": {
        "id": "2moeWDVrztam"
      }
    },
    {
      "cell_type": "code",
      "source": [
        "L1_vectorstore = Chroma(\n",
        "    persist_directory=L1_vector_folder,\n",
        "    embedding_function=embeddings\n",
        ")"
      ],
      "metadata": {
        "id": "g7q8aDgEzyVB"
      },
      "execution_count": null,
      "outputs": []
    },
    {
      "cell_type": "code",
      "source": [
        "#Verify local load result\n",
        "total_docs = L1_vectorstore._collection.count()\n",
        "if total_docs > 0:\n",
        "    print(f\"Vectorstore contains {total_docs} documents\")\n",
        "else:\n",
        "    print(\"Vectorstore is empty\")"
      ],
      "metadata": {
        "colab": {
          "base_uri": "https://localhost:8080/"
        },
        "id": "snuinIXx2GBC",
        "outputId": "580eb294-d63e-4fdb-ad09-9458bf80e8b5"
      },
      "execution_count": null,
      "outputs": [
        {
          "output_type": "stream",
          "name": "stdout",
          "text": [
            "Vectorstore contains 808 documents\n"
          ]
        }
      ]
    },
    {
      "cell_type": "markdown",
      "source": [
        "## Step 2: When user input a query, start L1 Retrival + L2 Chunking"
      ],
      "metadata": {
        "id": "IOFPdoFqAGuM"
      }
    },
    {
      "cell_type": "markdown",
      "source": [
        "### variable definition"
      ],
      "metadata": {
        "id": "Snl20XuTdvyf"
      }
    },
    {
      "cell_type": "code",
      "source": [
        "L1_top_k =3\n",
        "result_top_k =10\n",
        "temp=0.2\n",
        "topp=0.9\n",
        "L2_model = 'gpt-3.5-turbo'\n",
        "#gpt-4-turbo\n",
        "#gpt-3.5-turbo\n",
        "\n",
        "#Set L1 retriever\n",
        "L1_retriever = L1_vectorstore.as_retriever(\n",
        "    search_type=\"mmr\",\n",
        "    search_kwargs={\n",
        "        \"k\": L1_top_k,# Final results returned\n",
        "        \"fetch_k\": 10\n",
        "    }\n",
        ")\n",
        "\n",
        "#L2 Model setup\n",
        "llm = ChatOpenAI(model=L2_model, openai_api_key =  os.environ[\"OPENAI_API_KEY\"])\n",
        "\n",
        "L2_runnable = proposition_prompt | llm | parser"
      ],
      "metadata": {
        "id": "RFzjnDzVdP6D"
      },
      "execution_count": null,
      "outputs": []
    },
    {
      "cell_type": "code",
      "source": [
        "#Collect All questions from All documents\n",
        "test_questions = [\n",
        "    eachDoc.metadata[\"question_text\"]\n",
        "    for eachDoc in test_documents\n",
        "    if \"question_text\" in eachDoc.metadata\n",
        "]\n",
        "\n",
        "print(test_questions)"
      ],
      "metadata": {
        "colab": {
          "base_uri": "https://localhost:8080/"
        },
        "id": "Px1iWBk1HyM4",
        "outputId": "533a22a1-f47c-4576-de38-307ededcf0db"
      },
      "execution_count": null,
      "outputs": [
        {
          "output_type": "stream",
          "name": "stdout",
          "text": [
            "['who sang the theme tune to absolutely fabulous', 'where did the annual wife carrying world championships take place', 'when was figure skating introduced to the olympics', 'who sings in the eye of the storm', 'who won the primary for governor of illinois', 'where did they film american horror story coven', 'what is the main job of the pharynx', \"what film has the song don't you forget about me\", 'where is archangel raphael mentioned in the bible', 'who sings the theme song to one tree hill', 'who fired the first shot of the civil war at fort sumter', 'who plays amy on the secret life of an american teenager', 'when is the second sound of the heartbeat produced', 'who plays chuck on the tv show chuck', 'which olsen twin was in full house more', 'how much money does argentina make from tourism', 'who did the french revolt against in 1789', 'who is the kicker for the new york giants', 'who played the mom in lost in space 2018', 'who recorded the song do you love me', 'how is the energy generated in a main sequence star', 'where is the best farming soil in the us and where did all the dirt come from', 'when did humans first occupy the international space station', 'who played darth vader in the original trilogy', 'what is the difference between priest and bishop', 'what does c class stand for in mercedes benz', 'how many episodes will prison break season 5 have', 'when was the 1913 natives land act repealed', 'where was best years of our lives filmed', 'summary of philip sidney an apology for poetry']\n"
          ]
        }
      ]
    },
    {
      "cell_type": "markdown",
      "source": [
        "### L2 Main codes"
      ],
      "metadata": {
        "id": "1kF1zDqud0fx"
      }
    },
    {
      "cell_type": "code",
      "source": [
        "# call remaining processing part + print result\n",
        "def get_L2_retrival_result(in_query,top_k,result_top_k,mode):\n",
        "  L2_result = L1_Retrival_L2_Complete(in_query,result_top_k,mode)\n",
        "  print(f\"--L2 Retrieved {len(L2_result)} relavant sections\")\n",
        "\n",
        "  return L2_result"
      ],
      "metadata": {
        "id": "9WzxcGD3Aq9r"
      },
      "execution_count": null,
      "outputs": []
    },
    {
      "cell_type": "code",
      "source": [
        "#The main funciton that complete L1 retrival + L2 chunking&retrieval\n",
        "def L1_Retrival_L2_Complete(in_query,result_top_k, mode):\n",
        "\n",
        "  #Step 1: Get L1 relavant section based on the input question\n",
        "  L1_relevant_sections= retrieve_section(L1_retriever,in_query)\n",
        "  print(f\"--- L1 Retrieved {len(L1_relevant_sections)} relavant sections\")\n",
        "  L1_relevant_sections_texts = [doc.page_content for doc in L1_relevant_sections]\n",
        "\n",
        "  # Step 2: Start L2 based on L1 result\n",
        "  #Run Proposition Model\n",
        "  print(f\"Running Proposition...\")\n",
        "  L2_prop_results = [L2_runnable.invoke({\"document\": text}) for text in L1_relevant_sections_texts]\n",
        "  if not L2_prop_results:\n",
        "    return 'No Found'\n",
        "  # print(L2_prop_results)\n",
        "  proposition_docs = get_new_prop_doc(L1_relevant_sections, L2_prop_results)\n",
        "  print(f\"{len(proposition_docs)} proposition docs to be embeded\")\n",
        "  if mode == 'test':\n",
        "    for idx, eachDoc in enumerate(proposition_docs):\n",
        "      print(f'proposition {idx+1}: {eachDoc.page_content}')\n",
        "\n",
        "  if len(proposition_docs)>1:\n",
        "  #Save L2 result to vector database\n",
        "    L2_vectorstore=create_faiss_vec_store(proposition_docs,L2_vector_folder)\n",
        "    L2_retriever=L2_vectorstore.as_retriever(search_type=\"similarity\", search_kwargs={\"k\": result_top_k} )\n",
        "\n",
        "    #L2 Retrieval\n",
        "    L2_relevant_sections=retrieve_section(L2_retriever,in_query)\n",
        "    L2_relevant_sec_text = [eachL2Doc.page_content for eachL2Doc in L2_relevant_sections]\n",
        "  else:\n",
        "    return 'No Found'\n",
        "\n",
        "  return L2_relevant_sec_text\n"
      ],
      "metadata": {
        "id": "CSJuyBBvArtm"
      },
      "execution_count": null,
      "outputs": []
    },
    {
      "cell_type": "code",
      "source": [
        "def get_API_response(client,sys_prompt,user_prompt,temp,topp):\n",
        "  completion=client.chat.completions.create(\n",
        "      model=\"gpt-4o\",\n",
        "      temperature=temp,\n",
        "      top_p=topp,\n",
        "      messages=[\n",
        "          {\"role\":\"system\",\"content\":sys_prompt},\n",
        "          {\"role\":\"user\",\"content\":user_prompt}\n",
        "      ],\n",
        "  )\n",
        "  response=completion.choices[0].message.content\n",
        "  return response"
      ],
      "metadata": {
        "id": "sUiYsnUA8Nkx"
      },
      "execution_count": null,
      "outputs": []
    },
    {
      "cell_type": "code",
      "source": [
        "def build_question_to_gold_answer_map(in_documents):\n",
        "\n",
        "    question_to_gold = {}\n",
        "\n",
        "    for doc in in_documents:\n",
        "        question = doc.metadata.get(\"question_text\", \"\").strip()\n",
        "        gold = doc.metadata.get(\"gold_answer\", {})\n",
        "        question_to_gold[question] = gold\n",
        "\n",
        "    return question_to_gold\n"
      ],
      "metadata": {
        "id": "PHRo-2p0Ab7m"
      },
      "execution_count": null,
      "outputs": []
    },
    {
      "cell_type": "code",
      "source": [
        "def RAG_generation(questions,top_k,result_top_k,question_to_gold_map,mode='test'):\n",
        "  answer_NQ_client=OpenAI(api_key=os.environ.get(\"OPENAI_API_KEY\"))\n",
        "\n",
        "\n",
        "  run_results = []\n",
        "\n",
        "  for i in range(len(questions)):\n",
        "    question_curr = questions[i]\n",
        "    print(f\"============={i+1} Question:{question_curr}=============\")\n",
        "\n",
        "    relevant_content = get_L2_retrival_result(question_curr,top_k,result_top_k,mode)\n",
        "\n",
        "    #Convert document into text before pass into the prompt!\n",
        "    relevant_content_text = \"\\n\\n\".join(relevant_content)\n",
        "\n",
        "    sys_prompt=\"\"\n",
        "    user_prompt=f\"\"\"\n",
        "    Answer the question **directly and concisely** using only the provided context.\n",
        "      - Do not repeat the question.\n",
        "      - Do not include information not in the context.\n",
        "      - If the answer is unclear or not found, say 'I don't have the answer.'\n",
        "\n",
        "    Question: {question_curr}\n",
        "    Relevant contents:{relevant_content_text}\n",
        "    \"\"\"\n",
        "    # print(user_prompt)\n",
        "    response=get_API_response(answer_NQ_client,sys_prompt,user_prompt,temp,topp)\n",
        "    print('-------Final Answer:-------------')\n",
        "    print(f\"Question: {question_curr}\\n Response: {response}\")\n",
        "\n",
        "    #save to output file\n",
        "    gold_answer = question_to_gold_map.get(question_curr.strip(), \"\")\n",
        "    run_results.append({\n",
        "      \"input_question\": question_curr,\n",
        "      \"retrieved_contexts\": relevant_content,\n",
        "      \"response\": response,\n",
        "      \"gold_answer\": gold_answer\n",
        "    })\n",
        "\n",
        "    if mode == 'test':\n",
        "      break\n",
        "    else:\n",
        "      continue\n",
        "\n",
        "  return run_results\n"
      ],
      "metadata": {
        "id": "lsZHGQIh7XIF"
      },
      "execution_count": null,
      "outputs": []
    },
    {
      "cell_type": "markdown",
      "source": [
        "### Single Test & Confirm Proposition Reslt"
      ],
      "metadata": {
        "id": "NZ_rFXHsWYVo"
      }
    },
    {
      "cell_type": "code",
      "source": [
        "question_to_gold_map = build_question_to_gold_answer_map(test_documents)\n",
        "run_results = RAG_generation(test_questions,L1_top_k,result_top_k,question_to_gold_map,mode='test')"
      ],
      "metadata": {
        "colab": {
          "base_uri": "https://localhost:8080/"
        },
        "id": "LWNg7UknWZwQ",
        "outputId": "b46ee531-8aa4-47a9-fc3a-a27efb923139"
      },
      "execution_count": null,
      "outputs": [
        {
          "output_type": "stream",
          "name": "stdout",
          "text": [
            "=============1 Question:who sang the theme tune to absolutely fabulous=============\n",
            "--- L1 Retrieved 3 relavant sections\n",
            "Running Proposition...\n",
            "22 proposition docs to be embeded\n",
            "proposition 1: The theme song for Absolutely Fabulous is 'This Wheel's on Fire', written by Bob Dylan and Rick Danko and performed by Julie Driscoll and Adrian Edmondson.\n",
            "proposition 2: Julie Driscoll performed the theme song.\n",
            "proposition 3: Rick Danko was one of the writers of the theme song.\n",
            "proposition 4: The theme song was also sung by Marianne Faithfull and P.P. Arnold for the 'Last Shout' special in 1996.\n",
            "proposition 5: Marianne Faithfull sang the theme song for the 'Last Shout' special.\n",
            "proposition 6: P.P. Arnold also sang the theme song for the 'Last Shout' special.\n",
            "proposition 7: Hermine Demoriane sang a French version of the theme song over the closing credits of the episode 'Paris'.\n",
            "proposition 8: Edina and Patsy sang the theme song together using a karaoke machine at the end of the episode 'Birthday'.\n",
            "proposition 9: Debbie Harry sang the theme song and guest-starred in the 2002 Christmas special 'Gay'.\n",
            "proposition 10: David Bowie sang a line from the song 'Ziggy Stardust' for series four, which played at the end of each episode.\n",
            "proposition 11: Due to copyright issues, the theme song is missing from many of the US Region 1 DVDs and is replaced by an instrumental version.\n",
            "proposition 12: The musical number from Chicago performed by Horrocks, Gaffney, and Ryan in the series 5 episode 'Birthin'' is also excised from the US DVD release.\n",
            "proposition 13: In 1994, Pet Shop Boys recorded a song for Comic Relief using excerpts of dialogue from Absolutely Fabulous put to dance music.\n",
            "proposition 14: The single attributed to 'Absolutely Fabulous produced by Pet Shop Boys' peaked at number 6 in the UK Singles Chart in July 1994.\n",
            "proposition 15: The music video for the Pet Shop Boys' song featured clips from the show and specially recorded footage with Patsy and Edina.\n",
            "proposition 16: On 10 June 2016, Kylie Minogue released her version of 'This Wheel's on Fire' for Absolutely Fabulous: The Movie prior to the film's release in July 2016.\n",
            "proposition 17: Absolutely Fabulous - wikipedia\n",
            "proposition 18: Jane Horrocks is a cast member of Absolutely Fabulous.\n",
            "proposition 19: Julia Sawalha is a cast member of Absolutely Fabulous.\n",
            "proposition 20: Jennifer Saunders is a cast member of Absolutely Fabulous.\n",
            "proposition 21: June Whitfield is a cast member of Absolutely Fabulous.\n",
            "proposition 22: Joanna Lumley is a cast member of Absolutely Fabulous.\n",
            "--L2 Retrieved 10 relavant sections\n",
            "-------Final Answer:-------------\n",
            "Question: who sang the theme tune to absolutely fabulous\n",
            " Response: Julie Driscoll and Adrian Edmondson performed the theme tune to Absolutely Fabulous.\n"
          ]
        }
      ]
    },
    {
      "cell_type": "code",
      "source": [
        "run_results"
      ],
      "metadata": {
        "colab": {
          "base_uri": "https://localhost:8080/"
        },
        "id": "8Yrm3UHkWuX6",
        "outputId": "9f18f34c-e4af-45de-b1cd-1cdf2e3af3d7"
      },
      "execution_count": null,
      "outputs": [
        {
          "output_type": "execute_result",
          "data": {
            "text/plain": [
              "[{'input_question': 'who sang the theme tune to absolutely fabulous',\n",
              "  'retrieved_contexts': [\"The theme song for Absolutely Fabulous is 'This Wheel's on Fire', written by Bob Dylan and Rick Danko and performed by Julie Driscoll and Adrian Edmondson.\",\n",
              "   \"Edina and Patsy sang the theme song together using a karaoke machine at the end of the episode 'Birthday'.\",\n",
              "   \"The single attributed to 'Absolutely Fabulous produced by Pet Shop Boys' peaked at number 6 in the UK Singles Chart in July 1994.\",\n",
              "   'In 1994, Pet Shop Boys recorded a song for Comic Relief using excerpts of dialogue from Absolutely Fabulous put to dance music.',\n",
              "   \"The theme song was also sung by Marianne Faithfull and P.P. Arnold for the 'Last Shout' special in 1996.\",\n",
              "   'June Whitfield is a cast member of Absolutely Fabulous.',\n",
              "   'Jane Horrocks is a cast member of Absolutely Fabulous.',\n",
              "   'Absolutely Fabulous - wikipedia',\n",
              "   \"The music video for the Pet Shop Boys' song featured clips from the show and specially recorded footage with Patsy and Edina.\",\n",
              "   'Jennifer Saunders is a cast member of Absolutely Fabulous.'],\n",
              "  'response': 'Julie Driscoll and Adrian Edmondson performed the theme tune to Absolutely Fabulous.',\n",
              "  'gold_answer': {'long_answer': \"The theme song for Absolutely Fabulous is `` This Wheel 's on Fire '' , written by Bob Dylan and Rick Danko and performed by Julie Driscoll and Saunders ' husband Adrian Edmondson . The song was also sung by Marianne Faithfull and P.P. Arnold for the `` Last Shout '' special in 1996 . Hermine Demoriane sang a French version of the theme song over the closing credits of the episode `` Paris '' . At the end of the episode `` Birthday '' , Edina and Patsy sang the song together using a karaoke machine . More recently , it has been sung by Debbie Harry , who also guest - starred in the 2002 Christmas special `` Gay '' . For series four , a line sung by David Bowie , `` Ziggy played guitar '' , from the song `` Ziggy Stardust '' played at the end of each episode .\",\n",
              "   'short_answers': []}}]"
            ]
          },
          "metadata": {},
          "execution_count": 39
        }
      ]
    },
    {
      "cell_type": "markdown",
      "source": [
        "### Run All Tests"
      ],
      "metadata": {
        "id": "qzH2_Zv6d7Hp"
      }
    },
    {
      "cell_type": "code",
      "source": [
        "question_to_gold_map = build_question_to_gold_answer_map(test_documents)\n",
        "run_results = RAG_generation(test_questions,L1_top_k,result_top_k,question_to_gold_map,mode='prod')"
      ],
      "metadata": {
        "colab": {
          "base_uri": "https://localhost:8080/"
        },
        "id": "eFrwl6oTHaB8",
        "outputId": "b4158f3e-f6b2-4dd4-f66b-356742962cfd"
      },
      "execution_count": null,
      "outputs": [
        {
          "output_type": "stream",
          "name": "stdout",
          "text": [
            "=============1 Question:who sang the theme tune to absolutely fabulous=============\n",
            "--- L1 Retrieved 3 relavant sections\n",
            "Running Proposition...\n",
            "33 proposition docs to be embeded\n",
            "--L2 Retrieved 10 relavant sections\n",
            "-------Final Answer:-------------\n",
            "Question: who sang the theme tune to absolutely fabulous\n",
            " Response: Julie Driscoll performed the theme song for Absolutely Fabulous.\n",
            "=============2 Question:where did the annual wife carrying world championships take place=============\n",
            "--- L1 Retrieved 3 relavant sections\n",
            "Running Proposition...\n",
            "21 proposition docs to be embeded\n",
            "--L2 Retrieved 10 relavant sections\n",
            "-------Final Answer:-------------\n",
            "Question: where did the annual wife carrying world championships take place\n",
            " Response: Sonkajärvi, Finland.\n",
            "=============3 Question:when was figure skating introduced to the olympics=============\n",
            "--- L1 Retrieved 3 relavant sections\n",
            "Running Proposition...\n",
            "34 proposition docs to be embeded\n",
            "--L2 Retrieved 10 relavant sections\n",
            "-------Final Answer:-------------\n",
            "Question: when was figure skating introduced to the olympics\n",
            " Response: Figure skating was first contested as an Olympic sport at the 1908 Summer Olympics in London, United Kingdom.\n",
            "=============4 Question:who sings in the eye of the storm=============\n",
            "--- L1 Retrieved 3 relavant sections\n",
            "Running Proposition...\n",
            "26 proposition docs to be embeded\n",
            "--L2 Retrieved 10 relavant sections\n",
            "-------Final Answer:-------------\n",
            "Question: who sings in the eye of the storm\n",
            " Response: Lead vocal by Billy Hoggs.\n",
            "=============5 Question:who won the primary for governor of illinois=============\n",
            "--- L1 Retrieved 3 relavant sections\n",
            "Running Proposition...\n",
            "31 proposition docs to be embeded\n",
            "--L2 Retrieved 10 relavant sections\n",
            "-------Final Answer:-------------\n",
            "Question: who won the primary for governor of illinois\n",
            " Response: J.B. Pritzker won the Democratic primary for governor of Illinois.\n",
            "=============6 Question:where did they film american horror story coven=============\n",
            "--- L1 Retrieved 3 relavant sections\n",
            "Running Proposition...\n",
            "40 proposition docs to be embeded\n",
            "--L2 Retrieved 10 relavant sections\n",
            "-------Final Answer:-------------\n",
            "Question: where did they film american horror story coven\n",
            " Response: New Orleans, Louisiana.\n",
            "=============7 Question:what is the main job of the pharynx=============\n",
            "--- L1 Retrieved 3 relavant sections\n",
            "Running Proposition...\n",
            "28 proposition docs to be embeded\n",
            "--L2 Retrieved 10 relavant sections\n",
            "-------Final Answer:-------------\n",
            "Question: what is the main job of the pharynx\n",
            " Response: The pharynx plays a crucial role in the process of swallowing.\n",
            "=============8 Question:what film has the song don't you forget about me=============\n",
            "--- L1 Retrieved 3 relavant sections\n",
            "Running Proposition...\n",
            "13 proposition docs to be embeded\n",
            "--L2 Retrieved 10 relavant sections\n",
            "-------Final Answer:-------------\n",
            "Question: what film has the song don't you forget about me\n",
            " Response: The Breakfast Club\n",
            "=============9 Question:where is archangel raphael mentioned in the bible=============\n",
            "--- L1 Retrieved 3 relavant sections\n",
            "Running Proposition...\n",
            "20 proposition docs to be embeded\n",
            "--L2 Retrieved 10 relavant sections\n",
            "-------Final Answer:-------------\n",
            "Question: where is archangel raphael mentioned in the bible\n",
            " Response: The name of the angel Raphael appears in the Biblical Book of Tobit.\n",
            "=============10 Question:who sings the theme song to one tree hill=============\n",
            "--- L1 Retrieved 3 relavant sections\n",
            "Running Proposition...\n",
            "28 proposition docs to be embeded\n",
            "--L2 Retrieved 10 relavant sections\n",
            "-------Final Answer:-------------\n",
            "Question: who sings the theme song to one tree hill\n",
            " Response: I don't have the answer.\n",
            "=============11 Question:who fired the first shot of the civil war at fort sumter=============\n",
            "--- L1 Retrieved 3 relavant sections\n",
            "Running Proposition...\n",
            "46 proposition docs to be embeded\n",
            "--L2 Retrieved 10 relavant sections\n",
            "-------Final Answer:-------------\n",
            "Question: who fired the first shot of the civil war at fort sumter\n",
            " Response: I don't have the answer.\n",
            "=============12 Question:who plays amy on the secret life of an american teenager=============\n",
            "--- L1 Retrieved 3 relavant sections\n",
            "Running Proposition...\n",
            "37 proposition docs to be embeded\n",
            "--L2 Retrieved 10 relavant sections\n",
            "-------Final Answer:-------------\n",
            "Question: who plays amy on the secret life of an american teenager\n",
            " Response: I don't have the answer.\n",
            "=============13 Question:when is the second sound of the heartbeat produced=============\n",
            "--- L1 Retrieved 3 relavant sections\n",
            "Running Proposition...\n",
            "48 proposition docs to be embeded\n",
            "--L2 Retrieved 10 relavant sections\n",
            "-------Final Answer:-------------\n",
            "Question: when is the second sound of the heartbeat produced\n",
            " Response: The second heart sound is produced by the closure of the semilunar valves at the end of ventricular systole and the beginning of ventricular diastole.\n",
            "=============14 Question:who plays chuck on the tv show chuck=============\n",
            "--- L1 Retrieved 3 relavant sections\n",
            "Running Proposition...\n",
            "36 proposition docs to be embeded\n",
            "--L2 Retrieved 10 relavant sections\n",
            "-------Final Answer:-------------\n",
            "Question: who plays chuck on the tv show chuck\n",
            " Response: Zachary Levi plays Chuck on the TV show \"Chuck.\"\n",
            "=============15 Question:which olsen twin was in full house more=============\n",
            "--- L1 Retrieved 3 relavant sections\n",
            "Running Proposition...\n",
            "20 proposition docs to be embeded\n",
            "--L2 Retrieved 10 relavant sections\n",
            "-------Final Answer:-------------\n",
            "Question: which olsen twin was in full house more\n",
            " Response: Mary-Kate was used more often in season one.\n",
            "=============16 Question:how much money does argentina make from tourism=============\n",
            "--- L1 Retrieved 3 relavant sections\n",
            "Running Proposition...\n",
            "40 proposition docs to be embeded\n",
            "--L2 Retrieved 10 relavant sections\n",
            "-------Final Answer:-------------\n",
            "Question: how much money does argentina make from tourism\n",
            " Response: Tourism generated over US $22 billion, or 3.9% of GDP, according to the World Economic Forum's 2017 Travel & Tourism Competitiveness Report.\n",
            "=============17 Question:who did the french revolt against in 1789=============\n",
            "--- L1 Retrieved 3 relavant sections\n",
            "Running Proposition...\n",
            "26 proposition docs to be embeded\n",
            "--L2 Retrieved 10 relavant sections\n",
            "-------Final Answer:-------------\n",
            "Question: who did the french revolt against in 1789\n",
            " Response: King Louis XVI.\n",
            "=============18 Question:who is the kicker for the new york giants=============\n",
            "--- L1 Retrieved 3 relavant sections\n",
            "Running Proposition...\n",
            "36 proposition docs to be embeded\n",
            "--L2 Retrieved 10 relavant sections\n",
            "-------Final Answer:-------------\n",
            "Question: who is the kicker for the new york giants\n",
            " Response: Aldrick Rosas\n",
            "=============19 Question:who played the mom in lost in space 2018=============\n",
            "--- L1 Retrieved 3 relavant sections\n",
            "Running Proposition...\n",
            "56 proposition docs to be embeded\n",
            "--L2 Retrieved 10 relavant sections\n",
            "-------Final Answer:-------------\n",
            "Question: who played the mom in lost in space 2018\n",
            " Response: Molly Parker portrays Maureen Robinson.\n",
            "=============20 Question:who recorded the song do you love me=============\n",
            "--- L1 Retrieved 3 relavant sections\n",
            "Running Proposition...\n",
            "30 proposition docs to be embeded\n",
            "--L2 Retrieved 10 relavant sections\n",
            "-------Final Answer:-------------\n",
            "Question: who recorded the song do you love me\n",
            " Response: The Contours recorded the song 'Do You Love Me'.\n",
            "=============21 Question:how is the energy generated in a main sequence star=============\n",
            "--- L1 Retrieved 3 relavant sections\n",
            "Running Proposition...\n",
            "43 proposition docs to be embeded\n",
            "--L2 Retrieved 10 relavant sections\n",
            "-------Final Answer:-------------\n",
            "Question: how is the energy generated in a main sequence star\n",
            " Response: Energy in a main sequence star is generated by nuclear fusion, primarily through the proton-proton chain in the lower main sequence and the CNO cycle in the upper main sequence.\n",
            "=============22 Question:where is the best farming soil in the us and where did all the dirt come from=============\n",
            "--- L1 Retrieved 3 relavant sections\n",
            "Running Proposition...\n",
            "43 proposition docs to be embeded\n",
            "--L2 Retrieved 10 relavant sections\n",
            "-------Final Answer:-------------\n",
            "Question: where is the best farming soil in the us and where did all the dirt come from\n",
            " Response: I don't have the answer.\n",
            "=============23 Question:when did humans first occupy the international space station=============\n",
            "--- L1 Retrieved 3 relavant sections\n",
            "Running Proposition...\n",
            "40 proposition docs to be embeded\n",
            "--L2 Retrieved 10 relavant sections\n",
            "-------Final Answer:-------------\n",
            "Question: when did humans first occupy the international space station\n",
            " Response: Early November 2000.\n",
            "=============24 Question:who played darth vader in the original trilogy=============\n",
            "--- L1 Retrieved 3 relavant sections\n",
            "Running Proposition...\n",
            "51 proposition docs to be embeded\n",
            "--L2 Retrieved 10 relavant sections\n",
            "-------Final Answer:-------------\n",
            "Question: who played darth vader in the original trilogy\n",
            " Response: Dave Prowse physically portrayed Darth Vader in the original Star Wars trilogy.\n",
            "=============25 Question:what is the difference between priest and bishop=============\n",
            "--- L1 Retrieved 3 relavant sections\n",
            "Running Proposition...\n",
            "50 proposition docs to be embeded\n",
            "--L2 Retrieved 10 relavant sections\n",
            "-------Final Answer:-------------\n",
            "Question: what is the difference between priest and bishop\n",
            " Response: The bishops possess the fullness of both priesthood and diaconate, while priests do not.\n",
            "=============26 Question:what does c class stand for in mercedes benz=============\n",
            "--- L1 Retrieved 3 relavant sections\n",
            "Running Proposition...\n",
            "43 proposition docs to be embeded\n",
            "--L2 Retrieved 10 relavant sections\n",
            "-------Final Answer:-------------\n",
            "Question: what does c class stand for in mercedes benz\n",
            " Response: I don't have the answer.\n",
            "=============27 Question:how many episodes will prison break season 5 have=============\n",
            "--- L1 Retrieved 3 relavant sections\n",
            "Running Proposition...\n",
            "41 proposition docs to be embeded\n",
            "--L2 Retrieved 10 relavant sections\n",
            "-------Final Answer:-------------\n",
            "Question: how many episodes will prison break season 5 have\n",
            " Response: I don't have the answer.\n",
            "=============28 Question:when was the 1913 natives land act repealed=============\n",
            "--- L1 Retrieved 3 relavant sections\n",
            "Running Proposition...\n",
            "21 proposition docs to be embeded\n",
            "--L2 Retrieved 10 relavant sections\n",
            "-------Final Answer:-------------\n",
            "Question: when was the 1913 natives land act repealed\n",
            " Response: The Natives Land Act of 1913 was repealed on 30 June 1991.\n",
            "=============29 Question:where was best years of our lives filmed=============\n",
            "--- L1 Retrieved 3 relavant sections\n",
            "Running Proposition...\n",
            "36 proposition docs to be embeded\n",
            "--L2 Retrieved 10 relavant sections\n",
            "-------Final Answer:-------------\n",
            "Question: where was best years of our lives filmed\n",
            " Response: The Best Years of Our Lives was filmed at various locations including the Los Angeles County Arboretum and Botanic Garden, Ontario International Airport, Raleigh Studios, and the Samuel Goldwyn/Warner Hollywood Studios.\n",
            "=============30 Question:summary of philip sidney an apology for poetry=============\n",
            "--- L1 Retrieved 3 relavant sections\n",
            "Running Proposition...\n",
            "30 proposition docs to be embeded\n",
            "--L2 Retrieved 10 relavant sections\n",
            "-------Final Answer:-------------\n",
            "Question: summary of philip sidney an apology for poetry\n",
            " Response: An Apology for Poetry is a work of literary criticism by Philip Sidney that primarily addresses general objections to poetry, arguing that poetry is more effective than history or philosophy in inspiring virtue. It also offers important comments on Edmund Spenser and the Elizabethan stage, integrating classical and Italian precepts on fiction.\n"
          ]
        }
      ]
    },
    {
      "cell_type": "code",
      "source": [
        "def save_test_output(run_results):\n",
        "  today = datetime.today().strftime(\"%Y-%m-%d\")\n",
        "  output_path = f\"./evaluation/run_results_proposition_{L2_model}_{today}.json\"\n",
        "\n",
        "  with open(output_path, \"w\", encoding=\"utf-8\") as f:\n",
        "      json.dump(run_results, f, indent=4, ensure_ascii=False)\n",
        "\n",
        "  print(f\"Saved {len(run_results)} results to {output_path}\")"
      ],
      "metadata": {
        "id": "98ft_FWKEB9E"
      },
      "execution_count": null,
      "outputs": []
    },
    {
      "cell_type": "code",
      "source": [
        "save_test_output(run_results)"
      ],
      "metadata": {
        "id": "RK5xF4BXEXMW"
      },
      "execution_count": null,
      "outputs": []
    }
  ]
}