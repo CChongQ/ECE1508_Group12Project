{
  "nbformat": 4,
  "nbformat_minor": 0,
  "metadata": {
    "colab": {
      "provenance": [],
      "gpuType": "T4",
      "collapsed_sections": [
        "zIcK9WKO48gk",
        "o7-Cx6fN6Off"
      ]
    },
    "kernelspec": {
      "name": "python3",
      "display_name": "Python 3"
    },
    "language_info": {
      "name": "python"
    },
    "accelerator": "GPU"
  },
  "cells": [
    {
      "cell_type": "markdown",
      "source": [
        "# Environmetn Setup"
      ],
      "metadata": {
        "id": "JGEI9OjIrbA2"
      }
    },
    {
      "cell_type": "code",
      "execution_count": 111,
      "metadata": {
        "id": "NCc9CdAkexQA",
        "colab": {
          "base_uri": "https://localhost:8080/"
        },
        "outputId": "2ea7550b-48e9-4def-bfc7-eb1431cf2197"
      },
      "outputs": [
        {
          "output_type": "stream",
          "name": "stdout",
          "text": [
            "Requirement already satisfied: langchain in /usr/local/lib/python3.11/dist-packages (0.3.23)\n",
            "Requirement already satisfied: langchain-core in /usr/local/lib/python3.11/dist-packages (0.3.51)\n",
            "Requirement already satisfied: langchain-community in /usr/local/lib/python3.11/dist-packages (0.3.21)\n",
            "Requirement already satisfied: langchain-text-splitters<1.0.0,>=0.3.8 in /usr/local/lib/python3.11/dist-packages (from langchain) (0.3.8)\n",
            "Requirement already satisfied: langsmith<0.4,>=0.1.17 in /usr/local/lib/python3.11/dist-packages (from langchain) (0.3.22)\n",
            "Requirement already satisfied: pydantic<3.0.0,>=2.7.4 in /usr/local/lib/python3.11/dist-packages (from langchain) (2.11.1)\n",
            "Requirement already satisfied: SQLAlchemy<3,>=1.4 in /usr/local/lib/python3.11/dist-packages (from langchain) (2.0.40)\n",
            "Requirement already satisfied: requests<3,>=2 in /usr/local/lib/python3.11/dist-packages (from langchain) (2.32.3)\n",
            "Requirement already satisfied: PyYAML>=5.3 in /usr/local/lib/python3.11/dist-packages (from langchain) (6.0.2)\n",
            "Requirement already satisfied: tenacity!=8.4.0,<10.0.0,>=8.1.0 in /usr/local/lib/python3.11/dist-packages (from langchain-core) (9.1.2)\n",
            "Requirement already satisfied: jsonpatch<2.0,>=1.33 in /usr/local/lib/python3.11/dist-packages (from langchain-core) (1.33)\n",
            "Requirement already satisfied: packaging<25,>=23.2 in /usr/local/lib/python3.11/dist-packages (from langchain-core) (24.2)\n",
            "Requirement already satisfied: typing-extensions>=4.7 in /usr/local/lib/python3.11/dist-packages (from langchain-core) (4.13.0)\n",
            "Requirement already satisfied: aiohttp<4.0.0,>=3.8.3 in /usr/local/lib/python3.11/dist-packages (from langchain-community) (3.11.15)\n",
            "Requirement already satisfied: dataclasses-json<0.7,>=0.5.7 in /usr/local/lib/python3.11/dist-packages (from langchain-community) (0.6.7)\n",
            "Requirement already satisfied: pydantic-settings<3.0.0,>=2.4.0 in /usr/local/lib/python3.11/dist-packages (from langchain-community) (2.8.1)\n",
            "Requirement already satisfied: httpx-sse<1.0.0,>=0.4.0 in /usr/local/lib/python3.11/dist-packages (from langchain-community) (0.4.0)\n",
            "Requirement already satisfied: numpy<3,>=1.26.2 in /usr/local/lib/python3.11/dist-packages (from langchain-community) (1.26.4)\n",
            "Requirement already satisfied: aiohappyeyeballs>=2.3.0 in /usr/local/lib/python3.11/dist-packages (from aiohttp<4.0.0,>=3.8.3->langchain-community) (2.6.1)\n",
            "Requirement already satisfied: aiosignal>=1.1.2 in /usr/local/lib/python3.11/dist-packages (from aiohttp<4.0.0,>=3.8.3->langchain-community) (1.3.2)\n",
            "Requirement already satisfied: attrs>=17.3.0 in /usr/local/lib/python3.11/dist-packages (from aiohttp<4.0.0,>=3.8.3->langchain-community) (25.3.0)\n",
            "Requirement already satisfied: frozenlist>=1.1.1 in /usr/local/lib/python3.11/dist-packages (from aiohttp<4.0.0,>=3.8.3->langchain-community) (1.5.0)\n",
            "Requirement already satisfied: multidict<7.0,>=4.5 in /usr/local/lib/python3.11/dist-packages (from aiohttp<4.0.0,>=3.8.3->langchain-community) (6.3.1)\n",
            "Requirement already satisfied: propcache>=0.2.0 in /usr/local/lib/python3.11/dist-packages (from aiohttp<4.0.0,>=3.8.3->langchain-community) (0.3.1)\n",
            "Requirement already satisfied: yarl<2.0,>=1.17.0 in /usr/local/lib/python3.11/dist-packages (from aiohttp<4.0.0,>=3.8.3->langchain-community) (1.18.3)\n",
            "Requirement already satisfied: marshmallow<4.0.0,>=3.18.0 in /usr/local/lib/python3.11/dist-packages (from dataclasses-json<0.7,>=0.5.7->langchain-community) (3.26.1)\n",
            "Requirement already satisfied: typing-inspect<1,>=0.4.0 in /usr/local/lib/python3.11/dist-packages (from dataclasses-json<0.7,>=0.5.7->langchain-community) (0.9.0)\n",
            "Requirement already satisfied: jsonpointer>=1.9 in /usr/local/lib/python3.11/dist-packages (from jsonpatch<2.0,>=1.33->langchain-core) (3.0.0)\n",
            "Requirement already satisfied: httpx<1,>=0.23.0 in /usr/local/lib/python3.11/dist-packages (from langsmith<0.4,>=0.1.17->langchain) (0.28.1)\n",
            "Requirement already satisfied: orjson<4.0.0,>=3.9.14 in /usr/local/lib/python3.11/dist-packages (from langsmith<0.4,>=0.1.17->langchain) (3.10.16)\n",
            "Requirement already satisfied: requests-toolbelt<2.0.0,>=1.0.0 in /usr/local/lib/python3.11/dist-packages (from langsmith<0.4,>=0.1.17->langchain) (1.0.0)\n",
            "Requirement already satisfied: zstandard<0.24.0,>=0.23.0 in /usr/local/lib/python3.11/dist-packages (from langsmith<0.4,>=0.1.17->langchain) (0.23.0)\n",
            "Requirement already satisfied: annotated-types>=0.6.0 in /usr/local/lib/python3.11/dist-packages (from pydantic<3.0.0,>=2.7.4->langchain) (0.7.0)\n",
            "Requirement already satisfied: pydantic-core==2.33.0 in /usr/local/lib/python3.11/dist-packages (from pydantic<3.0.0,>=2.7.4->langchain) (2.33.0)\n",
            "Requirement already satisfied: typing-inspection>=0.4.0 in /usr/local/lib/python3.11/dist-packages (from pydantic<3.0.0,>=2.7.4->langchain) (0.4.0)\n",
            "Requirement already satisfied: python-dotenv>=0.21.0 in /usr/local/lib/python3.11/dist-packages (from pydantic-settings<3.0.0,>=2.4.0->langchain-community) (1.1.0)\n",
            "Requirement already satisfied: charset-normalizer<4,>=2 in /usr/local/lib/python3.11/dist-packages (from requests<3,>=2->langchain) (3.4.1)\n",
            "Requirement already satisfied: idna<4,>=2.5 in /usr/local/lib/python3.11/dist-packages (from requests<3,>=2->langchain) (3.10)\n",
            "Requirement already satisfied: urllib3<3,>=1.21.1 in /usr/local/lib/python3.11/dist-packages (from requests<3,>=2->langchain) (2.3.0)\n",
            "Requirement already satisfied: certifi>=2017.4.17 in /usr/local/lib/python3.11/dist-packages (from requests<3,>=2->langchain) (2025.1.31)\n",
            "Requirement already satisfied: greenlet>=1 in /usr/local/lib/python3.11/dist-packages (from SQLAlchemy<3,>=1.4->langchain) (3.1.1)\n",
            "Requirement already satisfied: anyio in /usr/local/lib/python3.11/dist-packages (from httpx<1,>=0.23.0->langsmith<0.4,>=0.1.17->langchain) (4.9.0)\n",
            "Requirement already satisfied: httpcore==1.* in /usr/local/lib/python3.11/dist-packages (from httpx<1,>=0.23.0->langsmith<0.4,>=0.1.17->langchain) (1.0.7)\n",
            "Requirement already satisfied: h11<0.15,>=0.13 in /usr/local/lib/python3.11/dist-packages (from httpcore==1.*->httpx<1,>=0.23.0->langsmith<0.4,>=0.1.17->langchain) (0.14.0)\n",
            "Requirement already satisfied: mypy-extensions>=0.3.0 in /usr/local/lib/python3.11/dist-packages (from typing-inspect<1,>=0.4.0->dataclasses-json<0.7,>=0.5.7->langchain-community) (1.0.0)\n",
            "Requirement already satisfied: sniffio>=1.1 in /usr/local/lib/python3.11/dist-packages (from anyio->httpx<1,>=0.23.0->langsmith<0.4,>=0.1.17->langchain) (1.3.1)\n"
          ]
        }
      ],
      "source": [
        "!pip install --quiet --upgrade langchain-text-splitters langchain-community langgraph\n",
        "!pip install -qU \"langchain[openai]\" # select chat model OpenAI\n",
        "!pip install -U langchain langchain-core langchain-community"
      ]
    },
    {
      "cell_type": "code",
      "source": [
        "!pip install -qU langchain-openai # select embeddings model OpenAI\n",
        "!pip install -qU langchain-community # select vector store FAISS\n",
        "!pip install jq\n",
        "!pip install faiss-cpu"
      ],
      "metadata": {
        "id": "EIJKBWd_fQrV",
        "colab": {
          "base_uri": "https://localhost:8080/"
        },
        "outputId": "d687dce4-94b2-4768-86aa-b8f5a4b31541"
      },
      "execution_count": 112,
      "outputs": [
        {
          "output_type": "stream",
          "name": "stdout",
          "text": [
            "Requirement already satisfied: jq in /usr/local/lib/python3.11/dist-packages (1.8.0)\n",
            "Requirement already satisfied: faiss-cpu in /usr/local/lib/python3.11/dist-packages (1.10.0)\n",
            "Requirement already satisfied: numpy<3.0,>=1.25.0 in /usr/local/lib/python3.11/dist-packages (from faiss-cpu) (1.26.4)\n",
            "Requirement already satisfied: packaging in /usr/local/lib/python3.11/dist-packages (from faiss-cpu) (24.2)\n"
          ]
        }
      ]
    },
    {
      "cell_type": "code",
      "source": [
        "!pip install -qU \"langchain-chroma>=0.1.2\""
      ],
      "metadata": {
        "id": "3vIDQZvnx96M",
        "colab": {
          "base_uri": "https://localhost:8080/"
        },
        "outputId": "705fabe1-4ed6-4551-9cd8-50f5eb1a5ca3"
      },
      "execution_count": null,
      "outputs": [
        {
          "output_type": "stream",
          "name": "stdout",
          "text": [
            "\u001b[2K     \u001b[90m━━━━━━━━━━━━━━━━━━━━━━━━━━━━━━━━━━━━━━━━\u001b[0m \u001b[32m61.0/61.0 kB\u001b[0m \u001b[31m2.3 MB/s\u001b[0m eta \u001b[36m0:00:00\u001b[0m\n",
            "\u001b[2K     \u001b[90m━━━━━━━━━━━━━━━━━━━━━━━━━━━━━━━━━━━━━━━━\u001b[0m \u001b[32m67.3/67.3 kB\u001b[0m \u001b[31m2.5 MB/s\u001b[0m eta \u001b[36m0:00:00\u001b[0m\n",
            "\u001b[?25h  Installing build dependencies ... \u001b[?25l\u001b[?25hdone\n",
            "  Getting requirements to build wheel ... \u001b[?25l\u001b[?25hdone\n",
            "  Preparing metadata (pyproject.toml) ... \u001b[?25l\u001b[?25hdone\n",
            "\u001b[33mWARNING: Retrying (Retry(total=4, connect=None, read=None, redirect=None, status=None)) after connection broken by 'ProtocolError('Connection aborted.', RemoteDisconnected('Remote end closed connection without response'))': /simple/overrides/\u001b[0m\u001b[33m\n",
            "\u001b[2K   \u001b[90m━━━━━━━━━━━━━━━━━━━━━━━━━━━━━━━━━━━━━━━━\u001b[0m \u001b[32m611.1/611.1 kB\u001b[0m \u001b[31m13.4 MB/s\u001b[0m eta \u001b[36m0:00:00\u001b[0m\n",
            "\u001b[2K   \u001b[90m━━━━━━━━━━━━━━━━━━━━━━━━━━━━━━━━━━━━━━━━\u001b[0m \u001b[32m2.4/2.4 MB\u001b[0m \u001b[31m49.6 MB/s\u001b[0m eta \u001b[36m0:00:00\u001b[0m\n",
            "\u001b[2K   \u001b[90m━━━━━━━━━━━━━━━━━━━━━━━━━━━━━━━━━━━━━━━━\u001b[0m \u001b[32m18.3/18.3 MB\u001b[0m \u001b[31m79.9 MB/s\u001b[0m eta \u001b[36m0:00:00\u001b[0m\n",
            "\u001b[2K   \u001b[90m━━━━━━━━━━━━━━━━━━━━━━━━━━━━━━━━━━━━━━━━\u001b[0m \u001b[32m284.2/284.2 kB\u001b[0m \u001b[31m16.0 MB/s\u001b[0m eta \u001b[36m0:00:00\u001b[0m\n",
            "\u001b[2K   \u001b[90m━━━━━━━━━━━━━━━━━━━━━━━━━━━━━━━━━━━━━━━━\u001b[0m \u001b[32m95.2/95.2 kB\u001b[0m \u001b[31m5.5 MB/s\u001b[0m eta \u001b[36m0:00:00\u001b[0m\n",
            "\u001b[2K   \u001b[90m━━━━━━━━━━━━━━━━━━━━━━━━━━━━━━━━━━━━━━━━\u001b[0m \u001b[32m2.0/2.0 MB\u001b[0m \u001b[31m54.9 MB/s\u001b[0m eta \u001b[36m0:00:00\u001b[0m\n",
            "\u001b[2K   \u001b[90m━━━━━━━━━━━━━━━━━━━━━━━━━━━━━━━━━━━━━━━━\u001b[0m \u001b[32m101.6/101.6 kB\u001b[0m \u001b[31m6.4 MB/s\u001b[0m eta \u001b[36m0:00:00\u001b[0m\n",
            "\u001b[2K   \u001b[90m━━━━━━━━━━━━━━━━━━━━━━━━━━━━━━━━━━━━━━━━\u001b[0m \u001b[32m16.0/16.0 MB\u001b[0m \u001b[31m74.5 MB/s\u001b[0m eta \u001b[36m0:00:00\u001b[0m\n",
            "\u001b[2K   \u001b[90m━━━━━━━━━━━━━━━━━━━━━━━━━━━━━━━━━━━━━━━━\u001b[0m \u001b[32m55.9/55.9 kB\u001b[0m \u001b[31m3.1 MB/s\u001b[0m eta \u001b[36m0:00:00\u001b[0m\n",
            "\u001b[2K   \u001b[90m━━━━━━━━━━━━━━━━━━━━━━━━━━━━━━━━━━━━━━━━\u001b[0m \u001b[32m85.0/85.0 kB\u001b[0m \u001b[31m5.3 MB/s\u001b[0m eta \u001b[36m0:00:00\u001b[0m\n",
            "\u001b[2K   \u001b[90m━━━━━━━━━━━━━━━━━━━━━━━━━━━━━━━━━━━━━━━━\u001b[0m \u001b[32m62.3/62.3 kB\u001b[0m \u001b[31m3.2 MB/s\u001b[0m eta \u001b[36m0:00:00\u001b[0m\n",
            "\u001b[2K   \u001b[90m━━━━━━━━━━━━━━━━━━━━━━━━━━━━━━━━━━━━━━━━\u001b[0m \u001b[32m459.8/459.8 kB\u001b[0m \u001b[31m22.2 MB/s\u001b[0m eta \u001b[36m0:00:00\u001b[0m\n",
            "\u001b[2K   \u001b[90m━━━━━━━━━━━━━━━━━━━━━━━━━━━━━━━━━━━━━━━━\u001b[0m \u001b[32m72.0/72.0 kB\u001b[0m \u001b[31m4.2 MB/s\u001b[0m eta \u001b[36m0:00:00\u001b[0m\n",
            "\u001b[2K   \u001b[90m━━━━━━━━━━━━━━━━━━━━━━━━━━━━━━━━━━━━━━━━\u001b[0m \u001b[32m4.0/4.0 MB\u001b[0m \u001b[31m67.6 MB/s\u001b[0m eta \u001b[36m0:00:00\u001b[0m\n",
            "\u001b[2K   \u001b[90m━━━━━━━━━━━━━━━━━━━━━━━━━━━━━━━━━━━━━━━━\u001b[0m \u001b[32m452.6/452.6 kB\u001b[0m \u001b[31m23.4 MB/s\u001b[0m eta \u001b[36m0:00:00\u001b[0m\n",
            "\u001b[2K   \u001b[90m━━━━━━━━━━━━━━━━━━━━━━━━━━━━━━━━━━━━━━━━\u001b[0m \u001b[32m46.0/46.0 kB\u001b[0m \u001b[31m2.3 MB/s\u001b[0m eta \u001b[36m0:00:00\u001b[0m\n",
            "\u001b[2K   \u001b[90m━━━━━━━━━━━━━━━━━━━━━━━━━━━━━━━━━━━━━━━━\u001b[0m \u001b[32m86.8/86.8 kB\u001b[0m \u001b[31m3.8 MB/s\u001b[0m eta \u001b[36m0:00:00\u001b[0m\n",
            "\u001b[?25h  Building wheel for pypika (pyproject.toml) ... \u001b[?25l\u001b[?25hdone\n"
          ]
        }
      ]
    },
    {
      "cell_type": "code",
      "source": [
        "from openai import OpenAI\n",
        "import json\n",
        "import faiss\n",
        "import re\n",
        "import getpass\n",
        "import os\n",
        "import time"
      ],
      "metadata": {
        "id": "Qy3MpCwZFR8L"
      },
      "execution_count": 115,
      "outputs": []
    },
    {
      "cell_type": "code",
      "source": [
        "\n",
        "from langchain_community.document_loaders import JSONLoader\n",
        "from langchain_text_splitters import HTMLSectionSplitter\n",
        "from langchain_core.documents import Document\n",
        "from langchain.vectorstores import FAISS\n",
        "from langchain.embeddings import OpenAIEmbeddings\n",
        "from langchain.output_parsers.openai_tools import JsonOutputToolsParser\n",
        "from langchain_community.chat_models import ChatOpenAI\n",
        "from langchain_core.prompts import ChatPromptTemplate\n",
        "from langchain_core.runnables import RunnableLambda\n",
        "from langchain.chains import create_extraction_chain\n",
        "from langchain.chains import create_extraction_chain_pydantic\n",
        "from langchain import hub\n",
        "from langchain_core.pydantic_v1 import BaseModel\n",
        "from langchain.output_parsers import PydanticOutputParser\n",
        "from langchain.prompts import PromptTemplate\n",
        "from pydantic import BaseModel\n",
        "from typing import Optional, List\n"
      ],
      "metadata": {
        "id": "ClKCfdTSGZgQ"
      },
      "execution_count": 114,
      "outputs": []
    },
    {
      "cell_type": "code",
      "source": [
        "from langchain_openai import OpenAIEmbeddings\n",
        "from langchain_chroma import Chroma"
      ],
      "metadata": {
        "id": "swkkAqnxxNkj"
      },
      "execution_count": null,
      "outputs": []
    },
    {
      "cell_type": "code",
      "source": [
        "if not os.environ.get(\"OPENAI_API_KEY\"):\n",
        "  os.environ[\"OPENAI_API_KEY\"] = getpass.getpass(\"Enter API key for OpenAI: \")"
      ],
      "metadata": {
        "id": "YS1gRamHfY1c",
        "colab": {
          "base_uri": "https://localhost:8080/"
        },
        "outputId": "2c224402-0c7a-4168-980d-7d6ce5b6854c"
      },
      "execution_count": null,
      "outputs": [
        {
          "name": "stdout",
          "output_type": "stream",
          "text": [
            "Enter API key for OpenAI: ··········\n"
          ]
        }
      ]
    },
    {
      "cell_type": "code",
      "source": [
        "from google.colab import drive\n",
        "drive.mount('/content/drive')\n",
        "\n",
        "%cd  /content/drive/MyDrive/ECE1508_Project/Codes"
      ],
      "metadata": {
        "colab": {
          "base_uri": "https://localhost:8080/"
        },
        "id": "pKEpu0O6fgMx",
        "outputId": "ee2478d2-a71a-4f65-9005-3482657fc0ba"
      },
      "execution_count": 116,
      "outputs": [
        {
          "output_type": "stream",
          "name": "stdout",
          "text": [
            "Drive already mounted at /content/drive; to attempt to forcibly remount, call drive.mount(\"/content/drive\", force_remount=True).\n",
            "/content/drive/MyDrive/ECE1508_Project/Codes\n"
          ]
        }
      ]
    },
    {
      "cell_type": "markdown",
      "source": [
        "# Helpers"
      ],
      "metadata": {
        "id": "s5eNbOcwD6o9"
      }
    },
    {
      "cell_type": "markdown",
      "source": [
        "## Load Test Doc"
      ],
      "metadata": {
        "id": "MuhooPOlrhK1"
      }
    },
    {
      "cell_type": "code",
      "source": [
        "def metadata_func(example: dict, _: dict) -> dict:\n",
        "    return {\n",
        "        \"question_text\": example.get(\"question_text\"),\n",
        "        \"Title\": example.get(\"title\", \"Untitled\")\n",
        "    }"
      ],
      "metadata": {
        "id": "cFP1-rLTgr11"
      },
      "execution_count": null,
      "outputs": []
    },
    {
      "cell_type": "code",
      "source": [
        "def metadata_func_2(example: dict, _: dict) -> dict:\n",
        "    return {\n",
        "        \"question_text\": example.get(\"question_text\"),\n",
        "        \"gold_answer\": example.get(\"gold_answer\"),\n",
        "        \"Title\": example.get(\"title\", \"Untitled\")\n",
        "    }"
      ],
      "metadata": {
        "id": "ahZqsH4MHyMR"
      },
      "execution_count": null,
      "outputs": []
    },
    {
      "cell_type": "code",
      "source": [
        "def load_documents(file_path):\n",
        "  loader=JSONLoader(\n",
        "    file_path=file_path,\n",
        "    jq_schema=\".[]\",\n",
        "    content_key=\"document_text\",\n",
        "    metadata_func=metadata_func\n",
        "  )\n",
        "  documents=loader.load()\n",
        "\n",
        "  return documents"
      ],
      "metadata": {
        "id": "AKoIS4oc9LFJ"
      },
      "execution_count": null,
      "outputs": []
    },
    {
      "cell_type": "code",
      "source": [
        "def load_documents_2(file_path):\n",
        "  loader=JSONLoader(\n",
        "    file_path=file_path,\n",
        "    jq_schema=\".[]\",\n",
        "    content_key=\"document_text\",\n",
        "    metadata_func=metadata_func_2\n",
        "  )\n",
        "  documents=loader.load()\n",
        "\n",
        "  return documents"
      ],
      "metadata": {
        "id": "abFAzLq-NmlH"
      },
      "execution_count": null,
      "outputs": []
    },
    {
      "cell_type": "markdown",
      "source": [
        "## Vector Store Helpers"
      ],
      "metadata": {
        "id": "zIcK9WKO48gk"
      }
    },
    {
      "cell_type": "code",
      "source": [
        "def create_faiss_vec_store(elemnts_to_emb, folder_name):\n",
        "  vectorstore=FAISS.from_documents(elemnts_to_emb,embedding=OpenAIEmbeddings())\n",
        "  vectorstore.save_local(folder_name)\n",
        "  return vectorstore"
      ],
      "metadata": {
        "id": "VkWWcJwu4_mh"
      },
      "execution_count": null,
      "outputs": []
    },
    {
      "cell_type": "markdown",
      "source": [
        "## Retriver Helpers"
      ],
      "metadata": {
        "id": "o7-Cx6fN6Off"
      }
    },
    {
      "cell_type": "code",
      "source": [
        "# retrieve the top K contents\n",
        "def retrieve_section(in_retriever,query,top_k):\n",
        "  results=in_retriever.get_relevant_documents(query)\n",
        "  if not results:\n",
        "    return None\n",
        "  top_5_match=results[:top_k]\n",
        "\n",
        "  return top_5_match\n"
      ],
      "metadata": {
        "id": "b5gC4gab6QCC"
      },
      "execution_count": null,
      "outputs": []
    },
    {
      "cell_type": "code",
      "source": [
        "#Run retriver for the input query\n",
        "def get_retrieve_section(in_retriever,in_query,top_k):\n",
        "  print(f\"Retrieving answer for query: {in_query}\")\n",
        "  relevant_sections=retrieve_section(in_retriever,in_query,top_k)\n",
        "  return relevant_sections"
      ],
      "metadata": {
        "id": "z-N6Hacn6SPI"
      },
      "execution_count": null,
      "outputs": []
    },
    {
      "cell_type": "markdown",
      "source": [
        "# Baseline Chunking & Save to Vector\n"
      ],
      "metadata": {
        "id": "E8JCYikZ7Vi9"
      }
    },
    {
      "cell_type": "code",
      "source": [
        "#Vector stpre folder path\n",
        "#Recheck pwd\n",
        "!ls\n",
        "baseline_vector_folder = './Baseline_vector'"
      ],
      "metadata": {
        "colab": {
          "base_uri": "https://localhost:8080/"
        },
        "id": "nI2GBr_cECn7",
        "outputId": "58a26904-fdd9-4613-f2a1-b7bad36d4299"
      },
      "execution_count": 130,
      "outputs": [
        {
          "output_type": "stream",
          "name": "stdout",
          "text": [
            " Baseline.ipynb\t\t        L1_vector\t\t     Proposition_Light.ipynb\n",
            " evaluation\t\t        L1_vector_test\t\t     Proposition_Sample.ipynb\n",
            " Evaluation.ipynb\t        L1_vector_test_2\t     rag_sw_ver2.ipynb\n",
            " gold_test_file_30.json         L2_vector_prop\t\t     test_single_doc.json\n",
            "'L1_Process_Chunk&Save.ipynb'   Proposition_Complete.ipynb\n"
          ]
        }
      ]
    },
    {
      "cell_type": "code",
      "source": [
        "file_path=\"gold_test_file_30.json\"\n",
        "test_documents = load_documents(file_path)\n",
        "print(f\"{len(test_documents)} Documents\")"
      ],
      "metadata": {
        "id": "HwvSRP-o8zCr",
        "colab": {
          "base_uri": "https://localhost:8080/"
        },
        "outputId": "03b17ab6-7de5-4259-f5f9-5bed8028afab"
      },
      "execution_count": 131,
      "outputs": [
        {
          "output_type": "stream",
          "name": "stdout",
          "text": [
            "30 Documents\n"
          ]
        }
      ]
    },
    {
      "cell_type": "code",
      "source": [
        "file_path=\"gold_test_file_30.json\"\n",
        "test_documents_gold = load_documents_2(file_path)\n",
        "print(f\"{len(test_documents)} Documents\")"
      ],
      "metadata": {
        "colab": {
          "base_uri": "https://localhost:8080/"
        },
        "id": "sUz_g2ztNkXL",
        "outputId": "d1f1ae20-c0bb-494c-dd76-bb7227cc6309"
      },
      "execution_count": 132,
      "outputs": [
        {
          "output_type": "stream",
          "name": "stdout",
          "text": [
            "30 Documents\n"
          ]
        }
      ]
    },
    {
      "cell_type": "code",
      "source": [
        "from langchain_text_splitters import RecursiveCharacterTextSplitter\n",
        "import shutil\n",
        "import time"
      ],
      "metadata": {
        "id": "nO1DUS2mIlb-"
      },
      "execution_count": 133,
      "outputs": []
    },
    {
      "cell_type": "code",
      "source": [
        "def baseline_chunk(documents):\n",
        "\n",
        "  text_splitter = RecursiveCharacterTextSplitter(\n",
        "    chunk_size=500,\n",
        "    chunk_overlap=50,\n",
        "    add_start_index=True\n",
        "  )\n",
        "  all_splits = text_splitter.split_documents(documents)\n",
        "\n",
        "  return all_splits"
      ],
      "metadata": {
        "id": "9rmMz5AYIocS"
      },
      "execution_count": 134,
      "outputs": []
    },
    {
      "cell_type": "code",
      "source": [
        "def base_process_document(doc):\n",
        "\n",
        "\n",
        "  chunks = baseline_chunk(doc)\n",
        "  print(f\"Split document into {len(chunks)} sub-documents.\")\n",
        "\n",
        "  # Embed and save to Chroma DB\n",
        "  if os.path.exists(baseline_vector_folder):\n",
        "    shutil.rmtree(baseline_vector_folder)\n",
        "    time.sleep(5)\n",
        "\n",
        "  embeddings = OpenAIEmbeddings()\n",
        "  base_vectorstore = Chroma.from_documents(documents=chunks,\n",
        "                                      embedding=embeddings,\n",
        "                                      persist_directory=baseline_vector_folder)\n",
        "\n",
        "  print(f\"{len(doc)} documents {len(chunks)} chunks sucessfully processed and saved to {baseline_vector_folder}\")\n",
        "\n",
        "  return base_vectorstore\n",
        "\n"
      ],
      "metadata": {
        "id": "Mjd2YDe39G83"
      },
      "execution_count": 135,
      "outputs": []
    },
    {
      "cell_type": "code",
      "source": [
        "start = time.time()\n",
        "base_vectorstore = base_process_document(test_documents)\n",
        "end = time.time()\n",
        "\n",
        "print(f\"Chunking&Store took {end - start:.4f} seconds to run.\")"
      ],
      "metadata": {
        "id": "o8iy3A38AYi7",
        "colab": {
          "base_uri": "https://localhost:8080/"
        },
        "outputId": "d9fe0c04-b611-48d3-b702-ae098606ef53"
      },
      "execution_count": 136,
      "outputs": [
        {
          "output_type": "stream",
          "name": "stdout",
          "text": [
            "Split document into 3103 sub-documents.\n",
            "30 documents 3103 chunks sucessfully processed and saved to ./Baseline_vector\n",
            "Chunking&Store took 37.9732 seconds to run.\n"
          ]
        }
      ]
    },
    {
      "cell_type": "markdown",
      "source": [
        "## Retrieve & Generate\n"
      ],
      "metadata": {
        "id": "SdmRg8hTLm7X"
      }
    },
    {
      "cell_type": "code",
      "source": [
        "embeddings = OpenAIEmbeddings()\n",
        "base_vectorstore = Chroma(\n",
        "    persist_directory=baseline_vector_folder,\n",
        "    embedding_function=embeddings\n",
        ")\n",
        "#Verify local load result\n",
        "total_docs = base_vectorstore._collection.count()\n",
        "if total_docs > 0:\n",
        "    print(f\"Vectorstore contains {total_docs} documents\")\n",
        "else:\n",
        "    print(\"Vectorstore is empty\")\n"
      ],
      "metadata": {
        "colab": {
          "base_uri": "https://localhost:8080/"
        },
        "id": "BBCaIh-TLq1M",
        "outputId": "da10e854-21cb-48a6-88d3-c93f5c2f7249"
      },
      "execution_count": 137,
      "outputs": [
        {
          "output_type": "stream",
          "name": "stdout",
          "text": [
            "Vectorstore contains 3103 documents\n"
          ]
        }
      ]
    },
    {
      "cell_type": "code",
      "source": [
        "top_k = 5\n",
        "base_retriever=base_vectorstore.as_retriever(search_type=\"similarity\",search_kwargs={\"k\":top_k})"
      ],
      "metadata": {
        "id": "NjGDcdkIL2w0"
      },
      "execution_count": 138,
      "outputs": []
    },
    {
      "cell_type": "code",
      "source": [
        "def get_API_response(client,sys_prompt,user_prompt,temp,topp):\n",
        "  completion=client.chat.completions.create(\n",
        "      model=\"gpt-4o\",\n",
        "      temperature=temp,\n",
        "      top_p=topp,\n",
        "      messages=[\n",
        "          {\"role\":\"system\",\"content\":sys_prompt},\n",
        "          {\"role\":\"user\",\"content\":user_prompt}\n",
        "      ],\n",
        "  )\n",
        "  response=completion.choices[0].message.content\n",
        "  return response"
      ],
      "metadata": {
        "id": "iGUXn0aHL7J8"
      },
      "execution_count": 139,
      "outputs": []
    },
    {
      "cell_type": "code",
      "source": [
        "def retrieve_page_content(query):\n",
        "  results=base_retriever.get_relevant_documents(query)\n",
        "  if not results:\n",
        "    return None\n",
        "\n",
        "  print(results)\n",
        "\n",
        "  return results"
      ],
      "metadata": {
        "id": "o-cvmKHXMHPq"
      },
      "execution_count": 140,
      "outputs": []
    },
    {
      "cell_type": "code",
      "source": [
        "def build_question_to_gold_answer_map(in_documents):\n",
        "\n",
        "    question_to_gold = {}\n",
        "\n",
        "    for doc in in_documents:\n",
        "        question = doc.metadata.get(\"question_text\", \"\").strip()\n",
        "        gold = doc.metadata.get(\"gold_answer\", {})\n",
        "        question_to_gold[question] = gold\n",
        "\n",
        "    return question_to_gold\n"
      ],
      "metadata": {
        "id": "3vucxVmHNZ5O"
      },
      "execution_count": 141,
      "outputs": []
    },
    {
      "cell_type": "code",
      "source": [
        "def RAG_base(questions,question_to_gold_map,mode='test'):\n",
        "\n",
        "  answer_NQ_client=OpenAI(api_key=os.environ.get(\"OPENAI_API_KEY\"))\n",
        "  temp=1.0\n",
        "  topp=1.0\n",
        "\n",
        "  run_results = []\n",
        "\n",
        "  for i in range(len(questions)):\n",
        "    question_curr = questions[i]\n",
        "    print(f\"============={i+1} Question:{question_curr}=============\")\n",
        "\n",
        "    relevant_content = retrieve_page_content(question_curr)\n",
        "\n",
        "    sys_prompt=\"\"\n",
        "    user_prompt=f\"\"\"\n",
        "    Answer the question based on the relevent contents. If you don't know the answer, say 'I don't have the answer'\n",
        "    Question: {question_curr}\n",
        "    Relevant contents:{relevant_content}\n",
        "    \"\"\"\n",
        "    response=get_API_response(answer_NQ_client,sys_prompt,user_prompt,temp,topp)\n",
        "\n",
        "    print('-------Final Answer:-------------')\n",
        "    print(f\"Question: {question_curr}\\n Response: {response}\")\n",
        "\n",
        "    #save to output file\n",
        "    gold_answer = question_to_gold_map.get(question_curr.strip(), \"\")\n",
        "    run_results.append({\n",
        "      \"input_question\": question_curr,\n",
        "      \"retrieved_contexts\": [doc.page_content for doc in relevant_content],\n",
        "      \"response\": response,\n",
        "      \"gold_answer\": gold_answer\n",
        "    })\n",
        "\n",
        "    if mode == 'test':\n",
        "      break\n",
        "    else:\n",
        "      continue\n",
        "\n",
        "  return run_results\n"
      ],
      "metadata": {
        "id": "4Wiy7v_VL9vM"
      },
      "execution_count": 142,
      "outputs": []
    },
    {
      "cell_type": "code",
      "source": [
        "test_questions = [\n",
        "    eachDoc.metadata[\"question_text\"]\n",
        "    for eachDoc in test_documents\n",
        "    if \"question_text\" in eachDoc.metadata\n",
        "]\n",
        "\n",
        "print(test_questions)"
      ],
      "metadata": {
        "colab": {
          "base_uri": "https://localhost:8080/"
        },
        "id": "Ka71-x4COFui",
        "outputId": "f8909bcf-0cac-4f3e-ba1b-7881a3413539"
      },
      "execution_count": 143,
      "outputs": [
        {
          "output_type": "stream",
          "name": "stdout",
          "text": [
            "['who sang the theme tune to absolutely fabulous', 'where did the annual wife carrying world championships take place', 'when was figure skating introduced to the olympics', 'who sings in the eye of the storm', 'who won the primary for governor of illinois', 'where did they film american horror story coven', 'what is the main job of the pharynx', \"what film has the song don't you forget about me\", 'where is archangel raphael mentioned in the bible', 'who sings the theme song to one tree hill', 'who fired the first shot of the civil war at fort sumter', 'who plays amy on the secret life of an american teenager', 'when is the second sound of the heartbeat produced', 'who plays chuck on the tv show chuck', 'which olsen twin was in full house more', 'how much money does argentina make from tourism', 'who did the french revolt against in 1789', 'who is the kicker for the new york giants', 'who played the mom in lost in space 2018', 'who recorded the song do you love me', 'how is the energy generated in a main sequence star', 'where is the best farming soil in the us and where did all the dirt come from', 'when did humans first occupy the international space station', 'who played darth vader in the original trilogy', 'what is the difference between priest and bishop', 'what does c class stand for in mercedes benz', 'how many episodes will prison break season 5 have', 'when was the 1913 natives land act repealed', 'where was best years of our lives filmed', 'summary of philip sidney an apology for poetry']\n"
          ]
        }
      ]
    },
    {
      "cell_type": "code",
      "source": [
        "question_to_gold_map = build_question_to_gold_answer_map(test_documents_gold)\n",
        "\n",
        "start = time.time()\n",
        "baseline_run_results = RAG_base(test_questions,question_to_gold_map,mode='prod')\n",
        "end = time.time()\n",
        "\n",
        "print(f\"RAG_base took {end - start:.4f} seconds to run.\")"
      ],
      "metadata": {
        "colab": {
          "base_uri": "https://localhost:8080/"
        },
        "id": "4l3S3hmGNd7C",
        "outputId": "ff8aa5bd-2366-45e8-dc54-4c098d787611"
      },
      "execution_count": 147,
      "outputs": [
        {
          "output_type": "stream",
          "name": "stdout",
          "text": [
            "=============1 Question:who sang the theme tune to absolutely fabulous=============\n",
            "[Document(id='9ddddf0e-f1cb-444d-947c-17ec20ca4356', metadata={'Title': 'Untitled', 'question_text': 'who sang the theme tune to absolutely fabulous', 'start_index': 20699}, page_content=\"Quatro </Li> <Li> Zandra Rhodes </Li> <Li> Mandy Rice - Davies </Li> <Li> Richard and Judy </Li> <Li> Miranda Richardson </Li> <Li> Kristin Scott Thomas </Li> <Li> Meera Syal </Li> <Li> Twiggy </Li> <Li> Rufus Wainwright </Li> <Li> Kirsty Wark </Li> <Li> Ruby Wax </Li> <Li> Dale Winton </Li> <Li> Katy Wix </Li> <Li> Clarissa Dickson Wright </Li> </Ul> <H2> Theme song ( edit ) </H2> <P> The theme song for Absolutely Fabulous is `` This Wheel 's on Fire '' , written by Bob Dylan and Rick Danko\"), Document(id='edb38aa1-8d81-409d-a8d5-b3a94e8cbcd7', metadata={'Title': 'Untitled', 'question_text': 'who sang the theme tune to absolutely fabulous', 'start_index': 22048}, page_content=\"is the musical number from Chicago performed by Horrocks , Gaffney , and Ryan , during a dream sequence in the series 5 episode `` Birthin ' '' . </P> <P> In addition to the official theme song , in 1994 , Pet Shop Boys recorded a song for Comic Relief using excerpts of dialogue from the series put to dance music . The single was attributed to `` Absolutely Fabulous produced by Pet Shop Boys '' . It peaked at number 6 in the UK Singles Chart in July 1994 . The music video featured clips from\"), Document(id='31138289-2966-43ae-a3b1-cc64cbea43d9', metadata={'Title': 'Untitled', 'question_text': 'who sang the theme tune to absolutely fabulous', 'start_index': 22497}, page_content=\"July 1994 . The music video featured clips from the show and specially recorded footage of the Pet Shop Boys with Patsy and Edina . </P> <P> On 10 June 2016 , Kylie Minogue released her version of `` This Wheel 's on Fire '' for Absolutely Fabulous : The Movie , prior to the film 's release in July 2016 . </P> <H2> Other countries ( edit ) </H2> <P> In the United States , Absolutely Fabulous has been broadcast on Comedy Central , some public television stations , but not as part of the PBS\"), Document(id='5f2964bf-5bb3-42ca-8cf5-b999a45ec767', metadata={'Title': 'Untitled', 'question_text': 'who sang the theme tune to absolutely fabulous', 'start_index': 0}, page_content='Absolutely Fabulous - wikipedia <H1> Absolutely Fabulous </H1> Jump to : navigation , search This article is about the TV sitcom . For the movie , see Absolutely Fabulous : The Movie . For the 1994 song by Pet Shop Boys , see Absolutely Fabulous ( song ) . <Table> <Tr> <Th_colspan=\"2\"> Absolutely Fabulous </Th> </Tr> <Tr> <Td_colspan=\"2\"> Title card ( 2011 -- 2012 ) </Td> </Tr> <Tr> <Th> Genre </Th> <Td> Sitcom </Td> </Tr> <Tr> <Th> Created by </Th> <Td> Jennifer Saunders Dawn French ( original'), Document(id='02c051a8-8e61-4dc9-af6c-3d12b94b38b0', metadata={'Title': 'Untitled', 'question_text': 'who sang the theme tune to absolutely fabulous', 'start_index': 45484}, page_content=\"Fabulous now looks absolutely prescient '' . The Guardian . London . Retrieved 5 September 2011 . </Li> <Li> Jump up ^ `` Jennifer Saunders ' definitely doing ' Absolutely Fabulous movie '' 29 December 2011 , Digital Spy </Li> <Li> Jump up ^ `` Stella McCartney to star in Absolutely Fabulous '' . </Li> <Li> Jump up ^ `` Special Collectors ' Issue : 100 Greatest Episodes of All Time '' . TV Guide ( 28 June -- 4 July ) . 1997 . </Li> <Li> Jump up ^ `` TV Guide Names the Top Cult Shows Ever '' .\")]\n",
            "-------Final Answer:-------------\n",
            "Question: who sang the theme tune to absolutely fabulous\n",
            " Response: The theme song for Absolutely Fabulous is \"This Wheel's on Fire,\" which was written by Bob Dylan and Rick Danko. However, the documents do not provide information on who specifically sang the theme for the TV series. I don't have the answer.\n",
            "=============2 Question:where did the annual wife carrying world championships take place=============\n",
            "[Document(id='c61e3848-61db-446a-b21b-5d9b723a4d76', metadata={'Title': 'Untitled', 'question_text': 'where did the annual wife carrying world championships take place', 'start_index': 7194}, page_content=\"2008 -- in Singleton , NSW </Li> <Li> 2007 -- Australian Champions : Anthony Partridge and Angela Moore </Li> </Ul> <H3> North American ( edit ) </H3> <P> The North American Wife Carrying Championships take place every year on Columbus Day Weekend in October at Sunday River Ski Resort in Newry , Maine . </P> <H3> United Kingdom ( edit ) </H3> <P> The United Kingdom Wife Carrying Race was established in 2008 , though the `` sport '' is claimed to have taken place `` with help from our\"), Document(id='7b5e881a-da35-4c31-a636-ca0557b73bc9', metadata={'Title': 'Untitled', 'question_text': 'where did the annual wife carrying world championships take place', 'start_index': 10777}, page_content=\"Resort </Li> <Li> Jump up ^ The Daily Telegraph , 10 July 2013 , Finland hosts annual wife - carrying world championships , retrieved 10 July 2013 . </Li> <Li> Jump up ^ `` Wife - carrying team defends title '' . Melbourne : The Age . 2011 - 07 - 03 . Retrieved 2011 - 07 - 03 . </Li> <Li> ^ Jump up to : `` Wife - carrying championships : Finnish pair clinch title for second year running '' . London : Daily Mail . 2010 - 05 - 07 . Retrieved 2010 - 07 - 05 . </Li> <Li> Jump up ^ `` Wives in\"), Document(id='94811724-b661-4d70-b445-72cc1b829c8d', metadata={'Title': 'Untitled', 'question_text': 'where did the annual wife carrying world championships take place', 'start_index': 0}, page_content=\"Wife - carrying - wikipedia <H1> Wife - carrying </H1> Jump to : navigation , search An Estonian pair competing at a World Championships in Sonkajärvi using the `` Estonian carry '' technique <P> Wife carrying ( Finnish : eukonkanto or akankanto , Estonian : naisekandmine , Swedish : kärringkånk ) is a contest in which male competitors race while each carrying a female teammate . The objective is for the male to carry the female through a special obstacle track in the fastest time . The sport\"), Document(id='25bcff3d-989d-4acc-ba04-684ccd18158a', metadata={'Title': 'Untitled', 'question_text': 'where did the annual wife carrying world championships take place', 'start_index': 6740}, page_content='. </Li> <Li> 1998 -- Imre Ambos ( Estonia ) and Annela Ojaste ( Estonia ) , 69.2 seconds . </Li> <Li> 1997 -- Mikkel Christensen ( Finland ) and Tiina Jussila ( Finland ) , 65 seconds . </Li> </Ul> <H2> Countries ( edit ) </H2> <H3> Australia ( edit ) </H3> <P> Australian Wife Carrying Championships are held annually since 2005 . </P> <Ul> <Li> 2016 -- Australian Champions : Adrian and Amanda Betts </Li> <Li> 2013 -- South Bank , Brisbane </Li> <Li> 2008 -- in Singleton , NSW </Li> <Li> 2007 --'), Document(id='8c820fb6-c4b2-4c42-8a26-4c0b98390e06', metadata={'Title': 'Untitled', 'question_text': 'where did the annual wife carrying world championships take place', 'start_index': 8531}, page_content='saw Joel Hicks carrying two wives simultaneously but coming last ) </Li> <Li> 2017 - Jack McKendrick carrying Kirsty Jones </Li> <Li> 2018 - Chris Hepworth carrying Tanisha Prince </Li> </Ul> <H3> United States ( edit ) </H3> <P> The US final takes place the second weekend of July in Menahga Minnesota ( MN - St. Urho Wife Carry for Charity Challenge ) . Major wife - carrying competitions are also held in Monona , Wisconsin , Minocqua , Wisconsin and Marquette , Michigan . </P> <H3> Asia ( edit')]\n",
            "-------Final Answer:-------------\n",
            "Question: where did the annual wife carrying world championships take place\n",
            " Response: I don't have the answer.\n",
            "=============3 Question:when was figure skating introduced to the olympics=============\n",
            "[Document(id='6e32c929-f404-4196-9c06-97d1085f29f0', metadata={'Title': 'Untitled', 'question_text': 'when was figure skating introduced to the olympics', 'start_index': 2245}, page_content=\"1924 in Chamonix , France . </P> <P> In London , figure skating was presented in four events : men 's singles , women 's singles , men 's special figures , and mixed pairs . The special figures contest was won by Russian Nikolai Panin , who gave his country its first ever Olympic gold medal . He remains the event 's sole winner , as it was subsequently dropped from the program . </P> <P> Ice dance joined as a medal sport in 1976 , after appearing as a demonstration event at Grenoble 1968 . </P>\"), Document(id='2d91fef3-23ff-4c72-9198-c13c3284db05', metadata={'Title': 'Untitled', 'question_text': 'when was figure skating introduced to the olympics', 'start_index': 1795}, page_content='( edit ) </H2> <P> Figure skating was first contested as an Olympic sport at the 1908 Summer Olympics , in London , United Kingdom . As this traditional winter sport could be conducted indoors , the International Olympic Committee ( IOC ) approved its inclusion in the Summer Olympics program . It was featured a second time at the Antwerp Games , after which it was permanently transferred to the program of the Winter Olympic Games , first held in 1924 in Chamonix , France . </P> <P> In London ,'), Document(id='7be21689-e6fc-44ad-820e-470bb95f21ff', metadata={'Title': 'Untitled', 'question_text': 'when was figure skating introduced to the olympics', 'start_index': 900}, page_content='</Ul> </Td> </Tr> <Tr> <Td_colspan=\"2\"> <Ul> <Li> Medalists </Li> </Ul> </Td> </Tr> </Table> <P> Figure skating was first contested in the Olympic Games at the 1908 Summer Olympics . Since 1924 , the sport has been a part of the Winter Olympic Games . </P> <P> Men \\'s singles , ladies \\' singles , and pair skating have been held most often . Ice dance joined as a medal sport in 1976 and a team event debuted at the 2014 Olympics . Special figures were contested at only one Olympics , in 1908 .'), Document(id='f48171ad-9157-405c-b207-b1cd66736a19', metadata={'Title': 'Untitled', 'question_text': 'when was figure skating introduced to the olympics', 'start_index': 0}, page_content='Figure skating at the Olympic Games - wikipedia <H1> Figure skating at the Olympic Games </H1> Jump to : navigation , search <Table> <Tr> <Th_colspan=\"2\"> Figure skating at the Olympic Games </Th> </Tr> <Tr> <Td_colspan=\"2\"> </Td> </Tr> <Tr> <Th> Governing body </Th> <Td> ISU </Td> </Tr> <Tr> <Th> Events </Th> <Td> 5 ( men : 1 ; women : 1 ; mixed : 3 ) </Td> </Tr> <Tr> <Th_colspan=\"2\"> Games </Th> </Tr> <Tr> <Td_colspan=\"2\"> <Ul> <Li> 1908 </Li> <Li> 1920 ( at the Summer Olympics ) </Li> </Ul>'), Document(id='410b0dcf-9e60-453c-b0cb-d64cb2c33cb4', metadata={'Title': 'Untitled', 'question_text': 'when was figure skating introduced to the olympics', 'start_index': 55344}, page_content='<Li> </Li> <Li> </Li> <Li> </Li> </Ul> Figure skating at the Olympic Games </Th> </Tr> <Tr> <Td> </Td> <Td_colspan=\"2\"> <Ul> <Li> 1908 </Li> <Li> 1912 </Li> <Li> 1920 </Li> <Li> 1924 </Li> <Li> 1928 </Li> <Li> 1932 </Li> <Li> 1936 </Li> <Li> 1948 </Li> <Li> 1952 </Li> <Li> 1956 </Li> <Li> 1960 </Li> <Li> 1964 </Li> <Li> 1968 </Li> <Li> 1972 </Li> <Li> 1976 </Li> <Li> 1980 </Li> <Li> 1984 </Li> <Li> 1988 </Li> <Li> 1992 </Li> <Li> 1994 </Li> <Li> 1998 </Li> <Li> 2002 </Li> <Li> 2006 </Li> <Li>')]\n",
            "-------Final Answer:-------------\n",
            "Question: when was figure skating introduced to the olympics\n",
            " Response: Figure skating was first contested as an Olympic sport at the 1908 Summer Olympics in London, United Kingdom.\n",
            "=============4 Question:who sings in the eye of the storm=============\n",
            "[Document(id='7900fff0-2faa-4129-83a7-7f6756b61f53', metadata={'Title': 'Untitled', 'question_text': 'who sings in the eye of the storm', 'start_index': 0}, page_content='Eye of the Storm ( Ryan Stevenson song ) - Wikipedia <H1> Eye of the Storm ( Ryan Stevenson song ) </H1> <Table> <Tr> <Th_colspan=\"2\"> `` Eye of the Storm \\'\\' </Th> </Tr> <Tr> <Th_colspan=\"2\"> Single by Ryan Stevenson </Th> </Tr> <Tr> <Th_colspan=\"2\"> from the album Fresh Start </Th> </Tr> <Tr> <Th> Released </Th> <Td> 2016 </Td> </Tr> <Tr> <Th> Format </Th> <Td> Digital download </Td> </Tr> <Tr> <Th> Genre </Th> <Td> CCM </Td> </Tr> <Tr> <Th> Length </Th> <Td> <Ul> <Li> 5 : 31 ( album version )'), Document(id='ae5cae63-b0de-4676-9c8a-6dcd477fbc17', metadata={'Title': 'Untitled', 'question_text': 'who sings in the eye of the storm', 'start_index': 1801}, page_content=\"Storm '' . Billboard . Retrieved 18 August 2016 . </Li> <Li> Jump up ^ `` Ryan Stevenson chart history on Billboard '' . Billboard . Retrieved 18 August 2016 . </Li> </Ol> <P> </P> <Table> <Tr> <Td> </Td> <Td> This 2010s song - related article is a stub . You can help Wikipedia by expanding it . <Ul> <Li> </Li> <Li> </Li> <Li> </Li> </Ul> </Td> </Tr> </Table> Retrieved from `` https://en.wikipedia.org/w/index.php?title=Eye_of_the_Storm_(Ryan_Stevenson_song)&oldid=845639956 '' Categories : <Ul>\"), Document(id='1d305af8-f66e-4f72-aa3f-3bb6be980005', metadata={'Title': 'Untitled', 'question_text': 'who sings in the eye of the storm', 'start_index': 902}, page_content='\\'\\' ( 2017 ) </Td> </Tr> </Table> </Td> </Tr> <Tr> <Td_colspan=\"2\"> <P> </P> <Table> <Tr> <Td> `` All Yours \\'\\' ( 2015 ) </Td> <Td> `` Eye of the Storm \\'\\' ( 2016 ) </Td> <Td> `` The Gospel \\'\\' ( 2017 ) </Td> </Tr> </Table> </Td> </Tr> </Table> <P> `` Eye of the Storm \\'\\' is a song recorded by Christian musician Ryan Stevenson for his 2015 studio album Fresh Start . It peaked at number one on both the Billboard Hot Christian Songs and Christian Airplay charts , his first single to reach such feat .'), Document(id='1349e948-163a-47af-ac69-baaebf267b3f', metadata={'Title': 'Untitled', 'question_text': 'who sings in the eye of the storm', 'start_index': 1354}, page_content=\"charts , his first single to reach such feat . </P> <H2> Chart history ( edit ) </H2> <Table> <Tr> <Th> Chart </Th> <Th> Peak position </Th> </Tr> <Tr> <Td> Billboard Hot Christian Songs </Td> <Td> </Td> </Tr> <Tr> <Td> Billboard Christian Airplay </Td> <Td> </Td> </Tr> </Table> <H2> References ( edit ) </H2> <Ol> <Li> Jump up ^ Asker , Jim ( 27 July 2016 ) . `` Ryan Stevenson Earns His First No. 1 on Hot Christian Songs Chart with Eye of the Storm '' . Billboard . Retrieved 18 August 2016 .\"), Document(id='c7a8cec3-8b85-482b-94fd-d0f05e6917fe', metadata={'Title': 'Untitled', 'question_text': \"what film has the song don't you forget about me\", 'start_index': 2697}, page_content=\"Ferry and Billy Idol to record the song , but all three declined ; Idol did later perform a cover of it on his 2001 compilation album Greatest Hits . Schiff then suggested Forsey ask Simple Minds who , after refusing as well , agreed under the encouragement of their label , A&M . According to frontman Jim Kerr , the band was reluctant to record the song as they felt they should only record their own material , relenting after persuasion from Kerr 's wife at the time , Chrissie Hynde of The\")]\n",
            "-------Final Answer:-------------\n",
            "Question: who sings in the eye of the storm\n",
            " Response: The song \"Eye of the Storm\" is sung by Ryan Stevenson.\n",
            "=============5 Question:who won the primary for governor of illinois=============\n",
            "[Document(id='31da78ac-4a3b-4a45-a868-fa2b133830ab', metadata={'Title': 'Untitled', 'question_text': 'who won the primary for governor of illinois', 'start_index': 55344}, page_content=\"in Republican primary '' . Daily Herald . February 16 , 2018 . Retrieved February 16 , 2018 . </Li> <Li> Jump up ^ Miller , Rich ( November 21 , 2017 ) . `` Shimkus wo n't endorse in gubernatorial primary '' . Capitol Fax . Retrieved November 21 , 2017 . </Li> <Li> Jump up ^ Geiger , Rick Pearson , Kim . `` Rauner challenger Ives goes on attack during only forum of Republican governor race '' . Retrieved May 22 , 2018 . </Li> <Li> ^ Jump up to : report , Staff . `` Democratic candidates for\"), Document(id='f01070f7-cb4d-4122-a546-20cb212884d8', metadata={'Title': 'Untitled', 'question_text': 'who won the primary for governor of illinois', 'start_index': 4947}, page_content='the 2018 Illinois general election and elects the Governor of Illinois . The Democratic and Republican general primary elections took place on March 20 , 2018 , and the general election will take place on November 6 , 2018 . </P> <P> Incumbent Republican Governor Bruce Rauner is running for re-election to a second term in office against Democratic Party candidate J.B. Pritzker and Libertarian Party candidate Kash Jackson . </P> <P> </P> <H2> Contents </H2> ( hide ) <Ul> <Li> 1 Republican'), Document(id='956593a5-e070-4faf-8606-a59ba6448675', metadata={'Title': 'Untitled', 'question_text': 'who won the primary for governor of illinois', 'start_index': 14388}, page_content='over conservative Ives . It is worth noting that Rauner faced three other people in the primaries in 2014 and just one in this election . </P> <H2> Democratic primary ( edit ) </H2> Democratic candidates listed on a blank ballot <H3> Candidates ( edit ) </H3> Declared ( edit ) <Ul> <Li> Daniel Biss , State Senator </Li> </Ul> <Dl> <Dd> <Ul> <Li> Running mate : Litesa Wallace , State Representative </Li> <Li> Former running mate : Carlos Ramirez - Rosa , Chicago Alderman </Li> </Ul> </Dd> </Dl>'), Document(id='d997edce-678c-441b-9858-be6bd8e3c00a', metadata={'Title': 'Untitled', 'question_text': 'who won the primary for governor of illinois', 'start_index': 54447}, page_content=\"7 , 2018 . Retrieved February 7 , 2018 . </Li> <Li> Jump up ^ Baim , Nikki ( January 30 , 2018 ) . `` Local Republicans endorse Rauner for governor ahead of March primary '' . The Daily Northwestern . Retrieved February 4 , 2018 . </Li> <Li> Jump up ^ Pohlman , Bill ( February 8 , 2018 ) . `` Palatine Township Republicans hold endorsement session '' . Chicago Tribune . </Li> <Li> Jump up ^ Miller , Rich ( November 15 , 2017 ) . `` Ives files D - 1 to run for governor '' . Capitol Fax .\"), Document(id='d9860837-ec7b-4a5e-8ded-6fad6617a3fa', metadata={'Title': 'Untitled', 'question_text': 'who won the primary for governor of illinois', 'start_index': 57585}, page_content=\"'' , Chicago Sun - Times , September 14 , 2017 . Retrieved September 14 , 2017 . </Li> <Li> Jump up ^ Sfondeles , Tina ( August 11 , 2017 ) . `` Pritzker wins key Dem nod for gov , vows victory ' up and down ' ticket '' . Chicago Sun Times . Chicago , Illinois . Retrieved August 21 , 2017 . </Li> <Li> Jump up ^ Pearson , Rick ( April 6 , 2017 ) . `` J.B. Pritzker joins Illinois governor race , facing big Democratic field to take on Rauner '' . Chicago Tribune . Retrieved 6 April 2017 . </Li>\")]\n",
            "-------Final Answer:-------------\n",
            "Question: who won the primary for governor of illinois\n",
            " Response: I don't have the answer.\n",
            "=============6 Question:where did they film american horror story coven=============\n",
            "[Document(id='2dd41f73-5cfe-4c81-81f7-93df95b1739b', metadata={'Title': 'Untitled', 'question_text': 'where did they film american horror story coven', 'start_index': 65149}, page_content=\"Horror Story Season 3 Supports New Orleans Film Industry With Crew , Casting Call : Coven Cast Travel To Louisiana To Begin Shooting '' . KPopStarz.com . July 16 , 2013 . Retrieved July 17 , 2013 . </Li> <Li> Jump up ^ Prudom , Laura ( March 15 , 2013 ) . `` ' American Horror Story : Coven ' : Kathy Bates To Star In Season 3 , Featuring Witches And Filming In New Orleans '' . The Huffington Post . Retrieved March 16 , 2013 . </Li> <Li> Jump up ^ `` American Horror Story Season 3 Plot Spoilers ?\"), Document(id='f37c419c-db36-420e-939a-fcb6a8915bfc', metadata={'Title': 'Untitled', 'question_text': 'where did they film american horror story coven', 'start_index': 0}, page_content='American Horror Story : Coven - wikipedia <H1> American Horror Story : Coven </H1> Jump to : navigation , search <Table> <Tr> <Th_colspan=\"2\"> American Horror Story : Coven </Th> </Tr> <Tr> <Td_colspan=\"2\"> Promotional poster and home media cover art </Td> </Tr> <Tr> <Th> Starring </Th> <Td> <Ul> <Li> Sarah Paulson </Li> <Li> Taissa Farmiga </Li> <Li> Frances Conroy </Li> <Li> Evan Peters </Li> <Li> Lily Rabe </Li> <Li> Emma Roberts </Li> <Li> Denis O\\'Hare </Li> <Li> Kathy Bates </Li> <Li>'), Document(id='61621dd6-3c1c-476a-80d5-14027a15e4bb', metadata={'Title': 'Untitled', 'question_text': 'where did they film american horror story coven', 'start_index': 900}, page_content='chronology </Th> </Tr> <Tr> <Td_colspan=\"2\"> ← Previous Asylum Next → Freak Show </Td> </Tr> <Tr> <Td_colspan=\"2\"> List of American Horror Story episodes </Td> </Tr> </Table> <P> American Horror Story : Coven is the third season of the FX horror anthology television series American Horror Story . It premiered on October 9 , 2013 , and concluded on January 29 , 2014 . The season takes place in 2013 , in New Orleans , and follows a Coven of Salem witches as they fight for survival . It also'), Document(id='b9c046f4-1ba6-46c3-8dd2-9641ff22aab9', metadata={'Title': 'Untitled', 'question_text': 'where did they film american horror story coven', 'start_index': 67845}, page_content=\", Jeff ( February 5 , 2014 ) . `` American Horror Story : Coven '' . Entertainment Weekly . Retrieved February 7 , 2014 . </Li> <Li> Jump up ^ `` American Horror Story : Coven '' . Rotten Tomatoes . Retrieved November 24 , 2016 . </Li> <Li> Jump up ^ `` Best TV Horror Series '' . IGN . Retrieved September 5 , 2015 . </Li> <Li> Jump up ^ `` Past Winners '' . Dorian Awards . Archived from the original on March 3 , 2016 . Retrieved September 5 , 2015 . </Li> <Li> Jump up ^ `` 2014 Golden Reel\"), Document(id='c6096291-3288-4fc9-bfc7-03cdbe1ce0e3', metadata={'Title': 'Untitled', 'question_text': 'where did they film american horror story coven', 'start_index': 65599}, page_content=\"`` American Horror Story Season 3 Plot Spoilers ? Casting Info Reveals Potential Character Storyline , Confirms Coven Shooting Schedule '' . KPopStarz.com . July 23 , 2013 . Retrieved September 1 , 2015 . </Li> <Li> Jump up ^ Martin , Denise ( August 5 , 2013 ) . `` Ryan Murphy Reveals More American Horror Story : Coven Plot Details '' . Vulture . Retrieved November 20 , 2016 . </Li> <Li> Jump up ^ Tim Minear ( writer ) ( December 11 , 2013 ) . `` Head '' . American Horror Story . Season 3 .\")]\n",
            "-------Final Answer:-------------\n",
            "Question: where did they film american horror story coven\n",
            " Response: The filming of \"American Horror Story: Coven\" took place in New Orleans.\n",
            "=============7 Question:what is the main job of the pharynx=============\n",
            "[Document(id='076d2397-1d21-462e-bb6d-1e8bb87fcf17', metadata={'Title': 'Untitled', 'question_text': 'what is the main job of the pharynx', 'start_index': 1356}, page_content='</Table> <P> The pharynx ( plural : pharynges ) is the part of the throat that is behind the mouth and nasal cavity and above the esophagus and the larynx , or the tubes going down to the stomach and the lungs . The pharynx is an area found in vertebrates and invertebrates , though the structure is not universally the same across all of those species . </P> <P> In humans the pharynx is part of the digestive system and also of the conducting zone of the respiratory system . ( The conducting zone'), Document(id='8823a4ae-eff5-4ef3-846d-710e7e0699c8', metadata={'Title': 'Untitled', 'question_text': 'what is the main job of the pharynx', 'start_index': 1806}, page_content='of the respiratory system . ( The conducting zone also includes the nostrils of the nose , larynx , trachea , bronchi , and bronchioles , and their function is to filter , warm , and moisten air and conduct it into the lungs . ) The pharynx makes up the part of the throat situated immediately behind the nasal cavity , behind the mouth and above the esophagus and larynx . The human pharynx is conventionally divided into three sections : the nasopharynx , the oropharynx and the laryngopharynx .'), Document(id='ada8ec78-87a9-4308-81c9-1797cb854c7e', metadata={'Title': 'Untitled', 'question_text': 'what is the main job of the pharynx', 'start_index': 9017}, page_content=\"some below the soft palate ( and to the back of the oral cavity ) . It is believed that Waldeyer 's ring prevents the invasion of microorganisms from going into the air and food passages and this helps in the defense mechanism of the respiratory and alimentary systems . </P> <H2> History ( edit ) </H2> <H3> Etymology ( edit ) </H3> <P> The word pharynx ( / ˈfærɪŋks / ) is derived from the Greek φάρυγξ phárynx , meaning `` throat '' . Its plural form is pharynges / fəˈrɪndʒiːz / or pharynxes /\"), Document(id='f6e392b9-43b1-4040-a7c2-ed600dd3b3a3', metadata={'Title': 'Untitled', 'question_text': 'what is the main job of the pharynx', 'start_index': 0}, page_content='Pharynx - wikipedia <H1> Pharynx </H1> <Table> <Tr> <Td> </Td> <Td> This article needs additional citations for verification . Please help improve this article by adding citations to reliable sources . Unsourced material may be challenged and removed . ( November 2015 ) ( Learn how and when to remove this template message ) </Td> </Tr> </Table> <Table> <Tr> <Th_colspan=\"2\"> Pharynx </Th> </Tr> <Tr> <Td_colspan=\"2\"> Head and inner neck </Td> </Tr> <Tr> <Td_colspan=\"2\"> Pharynx </Td> </Tr> <Tr>'), Document(id='1cef027e-50ba-4ebb-9d86-59b0d090f613', metadata={'Title': 'Untitled', 'question_text': 'what is the main job of the pharynx', 'start_index': 6757}, page_content=\"epiglottis and extends to the location where this common pathway diverges into the respiratory ( larynx ) and digestive ( esophagus ) pathways . At that point , the laryngopharynx is continuous with the esophagus posteriorly . The esophagus conducts food and fluids to the stomach ; air enters the larynx anteriorly . During swallowing , food has the `` right of way '' , and air passage temporarily stops . Corresponding roughly to the area located between the 4th and 6th cervical vertebrae , the\")]\n",
            "-------Final Answer:-------------\n",
            "Question: what is the main job of the pharynx\n",
            " Response: The main job of the pharynx is to serve as a part of both the digestive system and the conducting zone of the respiratory system. In the digestive system, it aids in directing food from the mouth to the esophagus, and in the respiratory system, it serves as a pathway for air and helps to filter, warm, and moisten the air before it enters the lungs.\n",
            "=============8 Question:what film has the song don't you forget about me=============\n",
            "[Document(id='26b42ca9-6733-4c6a-8bad-d44d2be122d8', metadata={'Title': 'Untitled', 'question_text': \"what film has the song don't you forget about me\", 'start_index': 1792}, page_content='</Td> </Tr> <Tr> <Td_colspan=\"2\"> </Td> </Tr> </Table> <P> `` Do n\\'t You ( Forget About Me ) \\'\\' is a 1985 pop song performed by Scottish rock band Simple Minds . The song is best known for being played during the opening and closing credits of the John Hughes film The Breakfast Club . It was written and composed by producer Keith Forsey and Steve Schiff , the latter of whom was a guitarist and songwriter from the Nina Hagen band . </P> <P> </P> <H2> Contents </H2> ( hide ) <Ul> <Li> 1 Recording'), Document(id='93040fa0-ba01-4cc8-a2b0-a64b220c1832', metadata={'Title': 'Untitled', 'question_text': \"what film has the song don't you forget about me\", 'start_index': 4493}, page_content=\"The Breakfast Club . A longer version , 6 : 32 in duration , was released as a 12 '' single . This version contains longer breakdowns and drum fills , a second appearance of the bridge and a longer ending . </P> <P> John Leland from Spin wrote that `` ' Do n't You Forget About Me , ' a romantic and melancholy dance track , therefore cuts ice both in the living room and on the dance floor . '' </P> <H2> Music video ( edit ) </H2> <P> The music video , directed by Daniel Kleinman , takes place on\"), Document(id='03f49f49-b307-44ef-bd9b-a195441c49f6', metadata={'Title': 'Untitled', 'question_text': \"what film has the song don't you forget about me\", 'start_index': 3143}, page_content=\"Kerr 's wife at the time , Chrissie Hynde of The Pretenders , and a phone call from Forsey in which he expressed his admiration for the band . According to one account , the band `` rearranged and recorded ' Do n't You ( Forget About Me ) ' in three hours in a north London studio and promptly forgot about it . '' </P> <P> Continuing the rock direction recently taken on Sparkle in the Rain but also glancing back at their melodic synthpop past , it caught the band at their commercial peak and ,\"), Document(id='17c45fef-7472-486e-a90d-cdef8757eb09', metadata={'Title': 'Untitled', 'question_text': \"what film has the song don't you forget about me\", 'start_index': 14404}, page_content=\"-- Simple Minds -- Do n't You ( Forget About Me ) '' . Swiss Singles Chart . Retrieved 27 November 2016 . </Li> <Li> Jump up ^ `` Official Singles Chart Top 100 '' . Official Charts Company . Retrieved 27 November 2016 . </Li> <Li> Jump up ^ `` Simple Minds -- Chart history '' Billboard Hot Dance Club Songs for Simple Minds . Retrieved 27 November 2016 . </Li> <Li> Jump up ^ `` Simple Minds -- Chart history '' Billboard Mainstream Rock Songs for Simple Minds . Retrieved 27 November 2016 . </Li>\"), Document(id='2c39e4e3-bf10-435c-a5bb-4f23e482b44c', metadata={'Title': 'Untitled', 'question_text': \"what film has the song don't you forget about me\", 'start_index': 0}, page_content='Do n\\'t You ( Forget About Me ) - wikipedia <H1> Do n\\'t You ( Forget About Me ) </H1> Jump to : navigation , search <Table> <Tr> <Th_colspan=\"2\"> `` Do n\\'t You ( Forget About Me ) \\'\\' </Th> </Tr> <Tr> <Td_colspan=\"2\"> Standard international artwork </Td> </Tr> <Tr> <Th_colspan=\"2\"> Single by Simple Minds </Th> </Tr> <Tr> <Th_colspan=\"2\"> from the album The Breakfast Club ( Original Motion Picture Soundtrack ) </Th> </Tr> <Tr> <Th> B - side </Th> <Td> `` A Brass Band in African Chimes \\'\\' </Td>')]\n",
            "-------Final Answer:-------------\n",
            "Question: what film has the song don't you forget about me\n",
            " Response: The song \"Don't You Forget About Me\" is best known for being played during the opening and closing credits of the John Hughes film \"The Breakfast Club.\"\n",
            "=============9 Question:where is archangel raphael mentioned in the bible=============\n",
            "[Document(id='4c767ff6-fd01-40fa-87f8-618254f1e63f', metadata={'Title': 'Untitled', 'question_text': 'where is archangel raphael mentioned in the bible', 'start_index': 4502}, page_content='the healing powers attributed to Raphael , there is his declaration to Tobit ( Tobit , 12 ) that he was sent by the Lord to heal him of his blindness and to deliver Sarah , his future daughter - in - law , from the demon Asmodeus , who kills every man she marries on their wedding night before the marriage can be consummated . </P> <P> In the New Testament , only the archangels Gabriel and Michael are mentioned by name ( Luke 1 : 9 -- 26 ; Jude 1 : 9 ) . Later manuscripts of John 5 : 1 -- 4'), Document(id='c3d15aab-331b-4c39-a723-58454c7f8ef3', metadata={'Title': 'Untitled', 'question_text': 'where is archangel raphael mentioned in the bible', 'start_index': 12128}, page_content='of the Archangel Raphael , University of Toronto Press , 1998 ISBN 9781442613034 </Li> <Li> Jump up ^ http://www.indianchristianity.com/html/menachery.htm </Li> </Ol> <P> </P> <H2> Further reading ( edit ) </H2> <Ul> <Li> Lovasik S.V.D. , Lawrence G. , Walking With St. Raphael </Li> </Ul> <H2> External links ( edit ) </H2> <Ul> <Li> Media related to Archangel Raphael at Wikimedia Commons </Li> </Ul> <Table> <Tr> <Th_colspan=\"2\"> <Ul> <Li> </Li> <Li> </Li> <Li> </Li> </Ul> Angels in Abrahamic'), Document(id='17614461-4fa5-49b3-93d1-2315743db0fd', metadata={'Title': 'Untitled', 'question_text': 'where is archangel raphael mentioned in the bible', 'start_index': 1346}, page_content=') is an archangel of Judaism , Christianity , and Islam who in the Christian tradition performs all manners of healing . In Islam , Raphael is the fourth major angel ; in the Muslim tradition , he is known as Israfil . Raphael is mentioned in the Book of Tobit , which is accepted as canonical by Catholics , Orthodox , and some Anglo - Catholics , as useful for public teaching by Anglicans and considered useful and good to read by Lutherans . Raphael is generally associated with the angel'), Document(id='2020e336-2255-4530-8c14-94f67340f12b', metadata={'Title': 'Untitled', 'question_text': 'where is archangel raphael mentioned in the bible', 'start_index': 1790}, page_content='. Raphael is generally associated with the angel mentioned in the Gospel of John as stirring the water at the healing pool of Bethesda . Raphael is also an angel in Mormonism , as he is briefly mentioned in the Doctrine and Covenants . </P> <P> </P> <H2> Contents </H2> ( hide ) <Ul> <Li> 1 In Judaism <Ul> <Li> 1.1 In the Book of Enoch </Li> </Ul> </Li> <Li> 2 In Catholicism and the Orthodox Church <Ul> <Li> 2.1 Veneration <Ul> <Li> 2.1. 1 Patronage </Li> <Li> 2.1. 2 Iconography </Li> <Li> 2.1.'), Document(id='3dd20db2-c4cf-4ca6-98d2-995e7d372abb', metadata={'Title': 'Untitled', 'question_text': 'where is archangel raphael mentioned in the bible', 'start_index': 2693}, page_content='( A.D. 230 -- 270 ) , asserted that all the specific names for the angels were brought back by the Jews from Babylon , and modern commentators would tend to agree . </P> <P> Raphael is named in several Jewish apocryphal books . </P> <H3> In the Book of Enoch ( edit ) </H3> <P> Raphael bound Azazel under a desert called Dudael according to Enoch 10 : 4 -- 6 : </P> <P> And again the Lord said to Raphael : `` Bind Azazel hand and foot , and cast him into the darkness : and make an opening in the')]\n",
            "-------Final Answer:-------------\n",
            "Question: where is archangel raphael mentioned in the bible\n",
            " Response: Archangel Raphael is mentioned in the Book of Tobit, which is included in the Bible by Catholics, Orthodox Christians, and some Anglo-Catholics. In Tobit 12, Raphael reveals that he was sent by God to heal Tobit of his blindness and to deliver Sarah from the demon Asmodeus. However, Raphael is not mentioned by name in the canonical books of the Bible recognized by most Protestant denominations.\n",
            "=============10 Question:who sings the theme song to one tree hill=============\n",
            "[Document(id='bb9404ca-642c-499e-9705-3a65c88560fc', metadata={'Title': 'Untitled', 'question_text': 'who sings the theme song to one tree hill', 'start_index': 1813}, page_content=\"'s only single to break the UK Top 40 . On May 27 , 2012 the song re-entered UK charts reaching number 27 , due to the finale of One Tree Hill 's 9th and final season airing , which featured DeGraw . </P> <H2> Contents </H2> <Ul> <Li> 1 Track listing </Li> <Li> 2 Charts and certifications <Ul> <Li> 2.1 Weekly charts </Li> <Li> 2.2 Certifications </Li> </Ul> </Li> <Li> 3 Use in media </Li> <Li> 4 References </Li> </Ul> <H2> Track listing ( edit ) </H2> <Ol> <Li> `` I Do n't Want to Be '' ( Album\"), Document(id='7cf737c5-aa71-4004-bbd5-9f39edc1c338', metadata={'Title': 'Untitled', 'question_text': 'who sings the theme song to one tree hill', 'start_index': 3616}, page_content='</Td> </Tr> </Table> <H2> Use in media ( edit ) </H2> <Ul> <Li> The song appears in the game , Karaoke Revolution Party , and is available as part of the downloadable content in the game Karaoke Revolution : American Idol Encore . </Li> <Li> The song is the opening theme to One Tree Hill . DeGraw performs the song on a Season 1 episode of One Tree Hill . He returned for the season 5 premiere to perform the song with Jackson Brundage . In the 8th season of the aforementioned TV series , several'), Document(id='79cd00fd-759f-4f62-a469-c4b3600ae41b', metadata={'Title': 'Untitled', 'question_text': 'who sings the theme song to one tree hill', 'start_index': 1360}, page_content=\"to Be '' is a song by Gavin DeGraw appearing on his 2003 debut album , Chariot . It was released as a single in Australia in 2003 , and in the UK in 2004 . The single became DeGraw 's biggest hit to date , mainly due to the premiere of One Tree Hill , of which the song is the opening theme ; peaking at number ten in the U.S. in early - 2005 . </P> <P> The song was certified 2x Platinum , having sold over 2,000,000 paid downloads . It is also DeGraw 's only single to break the UK Top 40 . On May\"), Document(id='84af3328-c2a9-4b2e-8f9b-d9ae30bccbe7', metadata={'Title': 'Untitled', 'question_text': 'who sings the theme song to one tree hill', 'start_index': 4066}, page_content=\"season of the aforementioned TV series , several artists covered it for the season 's theme music , including Spinnerette , Against Me ! , Kate Voegele , Susie Suh and Patrick Stump . DeGraw also performed the song for the series finale to celebrate their 10th anniversary of Tric . </Li> </Ul> <H2> References ( edit ) </H2> <Ol> <Li> ^ Jump up to : `` Top 100 Music Hits , Top 100 Music Charts , Top 100 Songs & The Hot 100 '' ( in Dutch ) . Billboard.com . Retrieved 2012 - 06 - 21 . </Li> <Li>\"), Document(id='ceb5dad3-00a9-432e-9c7e-7935deaf273e', metadata={'Title': 'Untitled', 'question_text': \"what film has the song don't you forget about me\", 'start_index': 10347}, page_content=\"played in an episode of the British chat show Loose Women on 15th July 2009 . </Li> <Li> This song played in an episiode of the American teen drama series Friday Night Lights on 16th December 2009 . </Li> <Li> This song played in the American comedy film Easy A in 2010 . </Li> <Li> This song played in an episode of the American crime drama series Cold Case on 2nd May 2010 . </Li> <Li> This song played in an episode of the American television series The Handmaid 's Tale on 26th April 2017 .\")]\n",
            "-------Final Answer:-------------\n",
            "Question: who sings the theme song to one tree hill\n",
            " Response: The theme song to \"One Tree Hill\" is \"I Don't Want to Be\" by Gavin DeGraw.\n",
            "=============11 Question:who fired the first shot of the civil war at fort sumter=============\n",
            "[Document(id='00c6a516-e87e-4728-9e65-4c850d0dba07', metadata={'Title': 'Untitled', 'question_text': 'who fired the first shot of the civil war at fort sumter', 'start_index': 24733}, page_content=\", fired a single 10 - inch mortar round from Fort Johnson . ( James had offered the first shot to Roger Pryor , a noted Virginia secessionist , who declined , saying , `` I could not fire the first gun of the war . '' ) The shell exploded over Fort Sumter as a signal to open the general bombardment from 43 guns and mortars at Fort Moultrie , Fort Johnson , the floating battery , and Cummings Point . Under orders from Beauregard , the guns fired in a counterclockwise sequence around the harbor ,\"), Document(id='106bf048-f1dd-4ec0-bd19-ab635f82871d', metadata={'Title': 'Untitled', 'question_text': 'who fired the first shot of the civil war at fort sumter', 'start_index': 25185}, page_content='a counterclockwise sequence around the harbor , with 2 minutes between each shot ; Beauregard wanted to conserve ammunition , which he calculated would last for only 48 hours . Edmund Ruffin , another noted Virginia secessionist , had traveled to Charleston to be present for the beginning of the war , and fired one of the first shots at Sumter after the signal round , a 64 - pound shell from the Iron Battery at Cummings Point . The shelling of Fort Sumter from the batteries ringing the harbor'), Document(id='abfabf80-a833-4346-9954-c55dfbb03ca4', metadata={'Title': 'Untitled', 'question_text': 'who fired the first shot of the civil war at fort sumter', 'start_index': 4951}, page_content='was fired upon by shore batteries on January 9 , 1861 . South Carolina authorities then seized all Federal property in the Charleston area except for Fort Sumter . </P> <P> During the early months of 1861 , the situation around Fort Sumter increasingly began to resemble a siege . In March , Brigadier General P.G.T. Beauregard , the first general officer of the newly formed Confederate States Army , was placed in command of Confederate forces in Charleston . Beauregard energetically directed the'), Document(id='b007f6fa-bf29-4907-a410-d92d29934c4d', metadata={'Title': 'Untitled', 'question_text': 'who fired the first shot of the civil war at fort sumter', 'start_index': 4056}, page_content='<Ul> <Li> </Li> <Li> </Li> <Li> </Li> </Ul> </Td> </Tr> </Table> <P> The Battle of Fort Sumter ( April 12 -- 13 , 1861 ) was the bombardment of Fort Sumter near Charleston , South Carolina by the Confederate States Army , and the return gunfire and subsequent surrender by the United States Army that started the American Civil War . Following declarations of secession by seven Southern states , South Carolina demanded that the U.S. Army abandon its facilities in Charleston Harbor . On December'), Document(id='77f30b58-0e7b-4099-b5c8-68bac6068163', metadata={'Title': 'Untitled', 'question_text': 'who fired the first shot of the civil war at fort sumter', 'start_index': 24287}, page_content=\"that he will open fire of his batteries on Fort Sumter in one hour from this time . '' Anderson escorted the officers back to their boat , shook hands with each one , and said `` If we never meet in this world again , God grant that we may meet in the next . '' </P> <H2> Bombardment </H2> Bombardment of the Fort by the Confederates <P> At 4 : 30 a.m. on April 12 , 1861 , Lt. Henry S. Farley , acting upon the command of Capt . George S. James , fired a single 10 - inch mortar round from Fort\")]\n",
            "-------Final Answer:-------------\n",
            "Question: who fired the first shot of the civil war at fort sumter\n",
            " Response: Lt. Henry S. Farley, acting upon the command of Capt. George S. James, fired the first shot of the Civil War at Fort Sumter.\n",
            "=============12 Question:who plays amy on the secret life of an american teenager=============\n",
            "[Document(id='f7f0eb40-1844-4095-9ed2-5788345d5d3a', metadata={'Title': 'Untitled', 'question_text': 'who plays amy on the secret life of an american teenager', 'start_index': 3616}, page_content='<Td> The Secret Life of the American Teenager </Td> <Td> Ashley Juergens </Td> <Td> Main role ; 120 episodes </Td> </Tr> <Tr> <Td> 2014 </Td> <Td> Nanny Cam </Td> <Td> Heather Lambert </Td> <Td> Television film ( Lifetime ) </Td> </Tr> <Tr> <Td> 2016 </Td> <Td> My Sweet Audrina </Td> <Td> Audrina Adare </Td> <Td> Television film ( Lifetime ) </Td> </Tr> <Tr> <Td> 2019 </Td> <Td> I Am the Night </Td> <Td> Fauna Hodel </Td> <Td> Main role ; in production </Td> </Tr> </Table> <H2> References ('), Document(id='a1fbcffd-9f33-4c59-a8c3-8b45ffd6a94d', metadata={'Title': 'Untitled', 'question_text': 'who plays amy on the secret life of an american teenager', 'start_index': 1348}, page_content='the 2005 movie Headspace . After small roles in various independent films , Eisley gained a major role in 2008 in The Secret Life of the American Teenager . She played Ashley Juergens , younger sister of teen mother Amy Juergens . </P> <P> Eisley starred as Sawa in the 2014 action film Kite , opposite Samuel L. Jackson . At the end of 2014 she filmed Social Suicide , a modern retelling of Romeo and Juliet , due for release in late 2015 . In the beginning of 2015 she also filmed the dark fantasy'), Document(id='3d31c472-4bc0-489f-b3a5-6c84c12405ac', metadata={'Title': 'Untitled', 'question_text': 'who plays amy on the secret life of an american teenager', 'start_index': 450}, page_content='<Th> Parent ( s ) </Th> <Td> David Glen Eisley Olivia Hussey </Td> </Tr> <Tr> <Th> Relatives </Th> <Td> Anthony Eisley ( grandfather ) </Td> </Tr> </Table> <P> India Joy Eisley ( born October 29 , 1993 ) is an American actress . She is known for her role as Ashley Juergens in the ABC Family television series The Secret Life of the American Teenager , and her roles as Eve in 2012 film Underworld : Awakening , Sawa in the 2014 film Kite , and Audrina in the 2016 television film My Sweet Audrina .'), Document(id='d95e31f5-d974-49f9-84c9-799dc19a80f3', metadata={'Title': 'Untitled', 'question_text': 'who plays amy on the secret life of an american teenager', 'start_index': 3162}, page_content='Penny </Td> <Td> </Td> </Tr> <Tr> <Td> 2017 </Td> <Td> Clinical </Td> <Td> Nora Green </Td> <Td> </Td> </Tr> <Tr> <Td> 2017 </Td> <Td> Adolescence </Td> <Td> Alice </Td> <Td> Post-production </Td> </Tr> <Tr> <Td> 2018 </Td> <Td> Look Away </Td> <Td> Maria </Td> <Td> originally titled Behind the Glass </Td> </Tr> </Table> <Table> Television roles <Tr> <Th> Year </Th> <Th> Title </Th> <Th> Role </Th> <Th> Notes </Th> </Tr> <Tr> <Td> 2008 -- 2013 </Td> <Td> The Secret Life of the American Teenager'), Document(id='71ade3ea-57f1-4985-89e9-5ee3a93261f6', metadata={'Title': 'Untitled', 'question_text': 'where did they film american horror story coven', 'start_index': 63348}, page_content=\". </Li> <Li> Jump up ^ Webb Mitovich , Matt ( May 22 , 2013 ) . `` Emma Roberts Joins FX 's ' American Horror Story ' '' . Deadline.com . Retrieved August 2 , 2014 . </Li> <Li> Jump up ^ Stack , Tim ( May 13 , 2013 ) . `` ' American Horror Story ' : Angela Bassett and Patti LuPone join season 3 's ' Coven ' '' . Entertainment Weekly . Retrieved September 1 , 2015 . </Li> <Li> Jump up ^ `` Patti LuPone Dishes on American Horror Story , Gypsy & More at NYPL Event '' . Broadway.com . June 4 , 2013\")]\n",
            "-------Final Answer:-------------\n",
            "Question: who plays amy on the secret life of an american teenager\n",
            " Response: I don't have the answer.\n",
            "=============13 Question:when is the second sound of the heartbeat produced=============\n",
            "[Document(id='baaf255b-36ab-4e9f-af7b-2233f20ccdd2', metadata={'Title': 'Untitled', 'question_text': 'when is the second sound of the heartbeat produced', 'start_index': 1347}, page_content='listen for these unique and distinct sounds that provide important auditory data regarding the condition of the heart . </P> <P> In healthy adults , there are two normal heart sounds , often described as a lub and a dub ( or dup ) , that occur in sequence with each heartbeat . These are the first heart sound ( S ) and second heart sound ( S ) , produced by the closing of the atrioventricular valves and semilunar valves , respectively . In addition to these normal sounds , a variety of other'), Document(id='78888332-3e3b-46fe-acbf-19e250011863', metadata={'Title': 'Untitled', 'question_text': 'when is the second sound of the heartbeat produced', 'start_index': 6295}, page_content=\"heart sounds form gallop rhythms and are heard in both normal and abnormal situations . </P> <H3> </H3> Main article : Third heart sound <P> Rarely , there may be a third heart sound also called a protodiastolic gallop , ventricular gallop , or informally the `` Kentucky '' gallop as an onomatopoeic reference to the rhythm and stress of S1 followed by S2 and S3 together ( S1 = Ken ; S2 = tuck ; S3 = y ) . </P> <P> `` lub - dub - ta '' or `` slosh - ing - in '' If new , indicates heart failure\"), Document(id='8de358e4-a253-4444-b653-91921d72eb62', metadata={'Title': 'Untitled', 'question_text': 'when is the second sound of the heartbeat produced', 'start_index': 8999}, page_content=\"stenosis , and hypertrophic cardiomyopathy . The sound occurs just after atrial contraction at the end of diastole and immediately before S1 , producing a rhythm sometimes referred to as the `` Tennessee '' gallop where S4 represents the `` Ten - '' syllable . It is best heard at the cardiac apex with the patient in the left lateral decubitus position and holding his breath . The combined presence of S3 and S4 is a quadruple gallop , also known as the `` Hello - Goodbye '' gallop . At rapid\"), Document(id='dde87ccd-cf2e-402b-8c20-f18466570efc', metadata={'Title': 'Untitled', 'question_text': 'when is the second sound of the heartbeat produced', 'start_index': 7199}, page_content='to be caused by the oscillation of blood back and forth between the walls of the ventricles initiated by blood rushing in from the atria . The reason the third heart sound does not occur until the middle third of diastole is probably that during the early part of diastole , the ventricles are not filled sufficiently to create enough tension for reverberation . </P> <P> It may also be a result of tensing of the chordae tendineae during rapid filling and expansion of the ventricle . In other'), Document(id='97454860-73e3-4288-ba23-7ae1397edd4b', metadata={'Title': 'Untitled', 'question_text': 'when is the second sound of the heartbeat produced', 'start_index': 8547}, page_content=\"heart failure . </P> <H3> </H3> Main article : Fourth heart sound <P> S4 when audible in an adult is called a presystolic gallop or atrial gallop . This gallop is produced by the sound of blood being forced into a stiff or hypertrophic ventricle . </P> <P> `` ta - lub - dub '' or `` a-stiff - wall '' </P> <P> It is a sign of a pathologic state , usually a failing or hypertrophic left ventricle , as in systemic hypertension , severe valvular aortic stenosis , and hypertrophic cardiomyopathy .\")]\n",
            "-------Final Answer:-------------\n",
            "Question: when is the second sound of the heartbeat produced\n",
            " Response: The second sound of the heartbeat, known as \"dub\" or \"dup,\" is produced by the closing of the semilunar valves.\n",
            "=============14 Question:who plays chuck on the tv show chuck=============\n",
            "[Document(id='0d7cff8b-2757-419d-8145-7d04c4b8e41f', metadata={'Title': 'Untitled', 'question_text': 'who plays chuck on the tv show chuck', 'start_index': 32787}, page_content=\", Dave Batista , Summer Glau , Timothy Dalton and Eric Roberts . It was announced on October 19 , 2010 that NBC had ordered an additional 11 episodes of Chuck , bringing the episode total for Season 4 to 24 . </P> <P> Speculating on the possibility of a fifth season , Yvonne Strahovski ( Sarah Walker ) commented that she felt `` ... ( the chances ) are pretty good , I will be surprised if we do n't get a season five . '' Her co-star Adam Baldwin ( John Casey ) concurred . </P> <H3> Series\"), Document(id='0de84dd9-aa18-42ac-82b5-b100e2c3fff7', metadata={'Title': 'Untitled', 'question_text': 'who plays chuck on the tv show chuck', 'start_index': 0}, page_content='Chuck ( TV series ) - wikipedia <H1> Chuck ( TV series ) </H1> <P> </P> <Table> <Tr> <Th_colspan=\"2\"> Chuck </Th> </Tr> <Tr> <Td_colspan=\"2\"> </Td> </Tr> <Tr> <Th> Created by </Th> <Td> <Ul> <Li> Josh Schwartz </Li> <Li> Chris Fedak </Li> </Ul> </Td> </Tr> <Tr> <Th> Starring </Th> <Td> <Ul> <Li> Zachary Levi </Li> <Li> Yvonne Strahovski </Li> <Li> Joshua Gomez </Li> <Li> Sarah Lancaster </Li> <Li> Adam Baldwin </Li> <Li> Ryan McPartlin </Li> <Li> Mark Christopher Lawrence </Li> <Li> Scott'), Document(id='fe2e8c65-d33b-4b82-b668-3c08fbe9f24b', metadata={'Title': 'Untitled', 'question_text': 'who plays chuck on the tv show chuck', 'start_index': 21104}, page_content=\"Walker won the award for best TV character , and Chuck and Sarah as a couple won the `` Couple That We Rooted for the Most '' award . Chuck was also nominated for `` Best New TV Comedy Series '' at the 2008 People 's Choice Awards , which aired on January 8 , 2008 , but lost to Samantha Who ? The series stunt coordinator Merritt Yohnka won the 2007 -- 2008 Primetime Emmy for `` Outstanding Stunt Coordination '' . Chuck was also nominated for `` Outstanding Main Title Design '' in 2007 , but did\"), Document(id='fee8b4f8-c613-47d6-882b-d514192e6782', metadata={'Title': 'Untitled', 'question_text': 'who plays chuck on the tv show chuck', 'start_index': 32337}, page_content=\"renewed by NBC for a fourth season . The season received a 13 - episode order with an option of an additional nine episodes . The fourth season premiered during NBC 's fall 2010 schedule . It retained its current timeslot . The premiere episode of the fourth season was titled `` Chuck Versus the Anniversary '' , and aired on September 20 . Season four guest starred Linda Hamilton , Dolph Lundgren , Harry Dean Stanton , Olivia Munn , Steve Austin , Dave Batista , Summer Glau , Timothy Dalton and\"), Document(id='a6f04a10-e04f-480f-817a-2b37cf3ba1cc', metadata={'Title': 'Untitled', 'question_text': 'who plays chuck on the tv show chuck', 'start_index': 1794}, page_content='480i ( season 1 only ) </Li> <Li> HDTV 1080i ( seasons 2 -- 5 ) </Li> </Ul> </Td> </Tr> <Tr> <Th> Original release </Th> <Td> September 24 , 2007 ( 2007 - 09 - 24 ) -- January 27 , 2012 ( 2012 - 01 - 27 ) </Td> </Tr> <Tr> <Th_colspan=\"2\"> External links </Th> </Tr> <Tr> <Td_colspan=\"2\"> Website </Td> </Tr> </Table> <P> Chuck is an American action - comedy / spy - drama television series created by Josh Schwartz and Chris Fedak . The series is about an `` average computer - whiz - next - door \\'\\'')]\n",
            "-------Final Answer:-------------\n",
            "Question: who plays chuck on the tv show chuck\n",
            " Response: Zachary Levi plays Chuck on the TV show \"Chuck.\"\n",
            "=============15 Question:which olsen twin was in full house more=============\n",
            "[Document(id='f6883bf0-a702-46fc-a19b-362e0c2db415', metadata={'Title': 'Untitled', 'question_text': 'which olsen twin was in full house more', 'start_index': 1808}, page_content=\"Tanner is a fictional character on the long - running ABC sitcom Full House , who was portrayed by Mary - Kate and Ashley Olsen . She first appeared in the show 's pilot , `` Our Very First Show '' , which aired in 1987 , and continued to appear throughout up to the two - part series finale , `` Michelle Rides Again '' in 1995 . The character of Michelle was the Olsen twins ' first acting role ; the two were infants when they started working on the series . </P> <H2> Contents </H2> ( hide )\"), Document(id='365612e4-2b82-4f42-83c2-074d46dbfcbf', metadata={'Title': 'Untitled', 'question_text': 'which olsen twin was in full house more', 'start_index': 10350}, page_content='<P> In 1989 , Mary - Kate and Ashley Olsen won a Young Artist Award for Best Young Actor / Actress Under Five Years of Age for their portrayal of Michelle . In 1990 , they were also awarded Young Artist Awards for their work on Full House , in the category of Outstanding Performance by an Actress Under Nine Years of Age . The two also won the Young Artist Awards for Exceptional Performance by a Young Actress Under Ten in 1991 . </P> <H2> Book series ( edit ) </H2> <P> Shortly after the show'), Document(id='74554870-1c70-4e13-a5d3-4b585dff6fb5', metadata={'Title': 'Untitled', 'question_text': 'which olsen twin was in full house more', 'start_index': 12591}, page_content='Series * * \\'\\' . Amazon.com . Retrieved 2012 - 03 - 11 . </Li> <Li> Jump up ^ `` \\' We Finally Know Why The Olsen Twins Are n\\'t On Fuller House \\' \\'\\' . cinemablend.com . Retrieved 2016 - 02 - 26 . </Li> </Ol> <H2> External links ( edit ) </H2> <Table> <Tr> <Td> </Td> <Td> Wikiquote has quotations related to : Full House characters </Td> </Tr> </Table> <Ul> <Li> Full House at the ABC Family website </Li> <Li> Michelle Tanner on IMDb </Li> </Ul> <Table> <Tr> <Th_colspan=\"2\"> <Ul> <Li> </Li> <Li>'), Document(id='27f4c1c7-dcf8-43c2-91df-0c508b847204', metadata={'Title': 'Untitled', 'question_text': 'which olsen twin was in full house more', 'start_index': 11244}, page_content='and Stephanie is in her teens in the series . The books were mainly published in the 1990s . </P> <H2> Fuller House ( edit ) </H2> <P> The twins declined to reprise their role for Fuller House , the 2016 Netflix sequel to Full House . Ashley cited their 12 years away from acting and Mary - Kate said the timing was bad . In the series , their character is only seen during flashbacks and mentioned from time - to - time . For example , they mention that Michelle is now working as a fashion'), Document(id='e77dc9b5-c3c1-4e55-8fe1-281db51f6d7a', metadata={'Title': 'Untitled', 'question_text': 'which olsen twin was in full house more', 'start_index': 9904}, page_content=\"that the twins were credited as `` Mary - Kate and Ashley Olsen '' in the opening titles . Despite the fact that the Olsens are fraternal twins , their physical appearances were nonetheless similar enough so that few could tell the difference between the two over the course of the show 's run . In season one , Mary - Kate was used more often due to the fact Ashley cried when she was put on set for a scene . </P> <H2> Reception ( edit ) </H2> <P> In 1989 , Mary - Kate and Ashley Olsen won a\")]\n",
            "-------Final Answer:-------------\n",
            "Question: which olsen twin was in full house more\n",
            " Response: The Olsen twin who appeared more often in \"Full House\" was Mary-Kate Olsen. In season one, Mary-Kate was used more often because Ashley cried when she was put on set for a scene.\n",
            "=============16 Question:how much money does argentina make from tourism=============\n",
            "[Document(id='3e16c06c-a71f-4db3-ba98-ee53117caf96', metadata={'Title': 'Untitled', 'question_text': 'how much money does argentina make from tourism', 'start_index': 26991}, page_content='GDP , and the industry employed more than 671,000 people , or approximately 3.7 % of the total workforce . Tourism from abroad contributed US $5.3 billion , having become the third largest source of foreign exchange in 2004 . Around 5.7 million foreign visitors arrived in 2017 , reflecting a doubling in visitors since 2002 despite a relative appreciation of the peso . </P> <P> Argentines , who have long been active travelers within their own country , accounted for over 80 % , and international'), Document(id='e73d6ada-ec3c-4fdd-b8a6-29d64e98e40e', metadata={'Title': 'Untitled', 'question_text': 'how much money does argentina make from tourism', 'start_index': 26543}, page_content=\", Argentines have historically held more deposits overseas than domestically . The estimated US $173 billion in overseas accounts and investment exceeded the domestic monetary base ( M3 ) by nearly US $10 billion in 2012 . </P> Tourism ( edit ) Main article : Tourism in Argentina Tour bus in Buenos Aires . <P> According to World Economic Forum 's 2017 Travel & Tourism Competitiveness Report , tourism generated over US $22 billion , or 3.9 % of GDP , and the industry employed more than 671,000\"), Document(id='28fcd75c-6e9f-412f-afc8-07847efc7154', metadata={'Title': 'Untitled', 'question_text': 'how much money does argentina make from tourism', 'start_index': 23844}, page_content='at over US $1.2 billion . </P> <P> Tourism is an increasingly important sector and provided 4 % of direct economic output ( over US $17 billion ) in 2012 ; around 70 % of tourism sector activity by value is domestic . </P> Banking ( edit ) View of Buenos Aires Central Business District from the Costanera Sur Ecological Reserve . Protestors outside BankBoston branch during the corralito . Main article : Banking in Argentina <P> Argentine banking , whose deposits exceeded US $120 billion in'), Document(id='027082f0-88bf-4908-85f5-583902362bfd', metadata={'Title': 'Untitled', 'question_text': 'how much money does argentina make from tourism', 'start_index': 27445}, page_content=', accounted for over 80 % , and international tourism has also seen healthy growth ( nearly doubling since 2001 ) . Stagnant for over two decades , domestic travel increased strongly in the last few years , and visitors are flocking to a country seen as affordable , exceptionally diverse , and safe . </P> <P> Foreign tourism , both to and from Argentina , is increasing as well . INDEC recorded 5.2 million foreign tourist arrivals and 6.7 million departures in 2013 ; of these , 32 % arrived from'), Document(id='8db1529d-a24f-40fe-baa9-d157f2c56408', metadata={'Title': 'Untitled', 'question_text': 'how much money does argentina make from tourism', 'start_index': 23403}, page_content='2013 , and while only one in three retail stores in Argentina accepted online purchases in 2013 E-commerce reached US $4.5 billion in sales . </P> <P> Trade in services remained in deficit , however , with US $15 billion in service exports in 2013 and US $19 billion in imports . Business Process Outsourcing became the leading Argentine service export , and reached US $3 billion . Advertising revenues from contracts abroad were estimated at over US $1.2 billion . </P> <P> Tourism is an')]\n",
            "-------Final Answer:-------------\n",
            "Question: how much money does argentina make from tourism\n",
            " Response: The relevant contents mention different figures for Argentina's tourism revenue: US $5.3 billion from foreign tourists as of 2004, over US $22 billion, or 3.9% of GDP in 2017, and over US $17 billion or 4% of direct economic output in 2012. These increase over different years, reflecting growth in the tourism sector. The latest specified figure is US $22 billion in 2017.\n",
            "=============17 Question:who did the french revolt against in 1789=============\n",
            "[Document(id='bb5521e8-0a4a-45cb-8fec-2090dbd1202b', metadata={'Title': 'Untitled', 'question_text': 'who did the french revolt against in 1789', 'start_index': 42765}, page_content='the Church led to a counter-revolution known as the Revolt in the Vendée . </P> <P> Historians Lynn Hunt and Jack Censer argue that some French Protestants , the Huguenots , wanted an anti-Catholic regime , and that Enlightenment thinkers such as Voltaire helped fuel this resentment . Historian John McManners writes , `` In eighteenth - century France throne and altar were commonly spoken of as in close alliance ; their simultaneous collapse ... would one day provide the final proof of their'), Document(id='61a8dad0-6dfd-4991-acb7-ffe3ea0f5287', metadata={'Title': 'Untitled', 'question_text': 'who did the french revolt against in 1789', 'start_index': 61211}, page_content=\"of them Jacobins . In reaction , on 19 August the Prussian general Duke of Brunswick invaded France and besieged Longwy . </P> <P> 26 August , the Assembly decreed the deportation of refractory priests in the west of France , as `` causes of danger to the fatherland '' , to destinations like French Guiana . In reaction , peasants in the Vendée took over a town , in another step toward civil war . What remained of a national government depended on the support of the insurrectionary Commune .\"), Document(id='a0f0986d-4a31-464c-a913-8e76a0fb1310', metadata={'Title': 'Untitled', 'question_text': 'who did the french revolt against in 1789', 'start_index': 80132}, page_content=\"opposed the central Paris government , and in many cases ' Girondins ' , fled from Paris after 2 June , led those revolts . In Brittany 's countryside , the people rejecting the Civil Constitution of the Clergy of 1790 had taken to a guerrilla warfare known as Chouannerie . But generally , the French opposition against ' Paris ' had now evolved into a plain struggle for power over the country against the ' Montagnards ' around Robespierre and Marat now dominating Paris . </P> <P> In June --\"), Document(id='465da768-26be-4f0c-a795-9de98dec70b0', metadata={'Title': 'Untitled', 'question_text': 'who did the french revolt against in 1789', 'start_index': 76970}, page_content='for the army in February 1793 was the spark that in March made the Vendée , already rebellious since 1790 because of the changes imposed on the Roman Catholic Church by the Civil Constitution of the Clergy ( 1790 ) , ignite into civil ( guerrilla ) war against the French Revolutionary government in Paris . </P> <P> North of the Loire , similar revolts were started by the so - called Chouans ( royalist rebels ) . In March 1793 , France also declared war on Spain , the Vendée rebels won some'), Document(id='892943f3-9f42-4745-90d1-20655468e54a', metadata={'Title': 'Untitled', 'question_text': 'who did the french revolt against in 1789', 'start_index': 59864}, page_content='of the Revolution . Finally , foreign powers threatened to overthrow the Revolution , which responded with extremism and systematic violence in its own defence . </P> Constitutional crisis Main articles : 10 August ( French Revolution ) , September Massacres , and Proclamation of the abolition of the monarchy On 10 August 1792 the Paris Commune stormed the Tuileries Palace and killed the Swiss Guards <P> In the summer of 1792 , all of Paris was against the king , and hoped that the Assembly')]\n",
            "-------Final Answer:-------------\n",
            "Question: who did the french revolt against in 1789\n",
            " Response: The French revolted against the monarchy in 1789.\n",
            "=============18 Question:who is the kicker for the new york giants=============\n",
            "[Document(id='98e289c0-7c9f-457c-8005-4782f056f4bf', metadata={'Title': 'Untitled', 'question_text': 'who is the kicker for the new york giants', 'start_index': 2253}, page_content=\"/ future contract with the New York Giants . Rosas was the only kicker on the Giants roster after Robbie Gould left via free agency , until veteran Mike Nugent signed a contract with the team on August 1 , 2017 . Rosas ultimately won the starting kicker job after Nugent was released during final roster cuts . </P> <P> On September 10 , 2017 , in the Giants ' season - opening 19 -- 3 loss to the Dallas Cowboys , Rosas converted his first NFL career field goal , which was a 25 - yard attempt , in\"), Document(id='13328b44-eba1-4374-a7d0-7f741e2298fd', metadata={'Title': 'Untitled', 'question_text': 'who is the kicker for the new york giants', 'start_index': 3592}, page_content=\"Aldrick Rosas to reserve / futures deal '' . GiantsWire.USAToday.com . Retrieved June 17 , 2017 . </Li> <Li> Jump up ^ `` Giants sign veteran kicker Mike Nugent '' . Retrieved August 30 , 2017 . </Li> <Li> Jump up ^ `` New York Giants at Dallas Cowboys - September 10th , 2017 '' . Pro-Football-Reference.com . Retrieved September 14 , 2017 . </Li> <Li> Jump up ^ Smith , Michael David ( September 14 , 2017 ) . `` Giants ' Aldrick Rosas watched daughter 's birth on FaceTime , then made NFL debut\"), Document(id='543c606a-ca64-4747-81bb-810b67d2edb9', metadata={'Title': 'Untitled', 'question_text': 'who is the kicker for the new york giants', 'start_index': 896}, page_content='York Giants ( 2017 -- present ) </Li> </Ul> </Td> </Tr> <Tr> <Td_colspan=\"2\"> * Offseason and / or practice squad member only </Td> </Tr> <Tr> <Th_colspan=\"2\"> </Th> </Tr> <Tr> <Th> Roster status : </Th> <Td> Active </Td> </Tr> <Tr> <Th_colspan=\"2\"> Career NFL statistics as of Week 15 , 2017 </Th> </Tr> <Tr> <Td_colspan=\"2\"> <Table> <Tr> <Th> Field goals : </Th> <Td> 16 / 22 ( 72.7 % ) </Td> </Tr> <Tr> <Th> Longest field goal : </Th> <Td> 52 yards </Td> </Tr> <Tr> <Td_colspan=\"2\"> Player stats'), Document(id='db99182d-d624-4306-85e3-ca20e4544a26', metadata={'Title': 'Untitled', 'question_text': 'who is the kicker for the new york giants', 'start_index': 2705}, page_content=\"field goal , which was a 25 - yard attempt , in the third quarter . Prior to the game , he watched his girlfriend give birth via FaceTime . </P> <P> In Week 6 , against the Denver Broncos , he converted three of four field goal attempts and two extra points in the 23 -- 10 victory . </P> <H2> References ( edit ) </H2> <Ol> <Li> Jump up ^ `` New York Giants : Aldrick Rosas '' . National Football League . </Li> <Li> Jump up ^ `` Aldrick Rosas - 2014 '' . Retrieved 2017 - 04 - 25 . </Li> <Li> Jump\"), Document(id='8c287c97-ae5e-49eb-8479-0c67b309ba73', metadata={'Title': 'Untitled', 'question_text': 'who is the kicker for the new york giants', 'start_index': 8546}, page_content='from Orland , California </Li> <Li> American players of American football of Mexican descent </Li> <Li> American football placekicker stubs </Li> </Ul> Hidden categories : <Ul> <Li> New York Giants currentteam parameter articles </Li> <Li> Infobox NFL biography articles missing alt text </Li> <Li> All stub articles </Li> </Ul> <H2> </H2> <H3> </H3> <Ul> <Li> </Li> <Li> Talk </Li> <Li> </Li> <Li> </Li> <Li> </Li> </Ul> <H3> </H3> <Ul> <Li> </Li> <Li> </Li> </Ul> <H3> </H3> <Ul> </Ul> <H3> </H3>')]\n",
            "-------Final Answer:-------------\n",
            "Question: who is the kicker for the new york giants\n",
            " Response: Aldrick Rosas was the kicker for the New York Giants as stated in the relevant contents.\n",
            "=============19 Question:who played the mom in lost in space 2018=============\n",
            "[Document(id='12777aae-76ba-4128-a2d6-6cb4d5075c34', metadata={'Title': 'Untitled', 'question_text': 'who played the mom in lost in space 2018', 'start_index': 0}, page_content='Lost in Space ( 2018 TV series ) - Wikipedia <H1> Lost in Space ( 2018 TV series ) </H1> Jump to : navigation , search <Table> <Tr> <Th_colspan=\"2\"> Lost in Space </Th> </Tr> <Tr> <Td_colspan=\"2\"> Series logotype </Td> </Tr> <Tr> <Th> Genre </Th> <Td> <Ul> <Li> Science fiction </Li> <Li> Adventure </Li> <Li> Family drama </Li> </Ul> </Td> </Tr> <Tr> <Th> Created by </Th> <Td> Irwin Allen </Td> </Tr> <Tr> <Th> Developed by </Th> <Td> Matt Sazama Burk Sharpless </Td> </Tr> <Tr> <Th> Starring </Th>'), Document(id='116a720a-ce04-4024-9b28-f29d98df2749', metadata={'Title': 'Untitled', 'question_text': 'who played the mom in lost in space 2018', 'start_index': 32843}, page_content=\"'' . Deadline Hollywood . Retrieved November 22 , 2016 . </Li> <Li> Jump up ^ Debnath , Neela ( April 17 , 2018 ) . `` Lost in Space 2018 robot actor : Who plays the robot in Lost in Space 2018 ? '' . Daily Express . Retrieved April 26 , 2018 . </Li> <Li> Jump up ^ Estrin , Zack ( November 11 , 2017 ) . `` Not quite 50 shades of grey , but ... Testing metal colors for The Robot at # SpectralMotion . # LostInSpace # Netflix '' . Instagram . Retrieved October 8 , 2017 . </Li> <Li> Jump up ^\"), Document(id='f0e47ad8-1e31-4e22-a26f-03e4956a6b64', metadata={'Title': 'Untitled', 'question_text': 'who played the mom in lost in space 2018', 'start_index': 31941}, page_content=\"Lost in Space Netflix Remake , Maxwell Jenkins To Co-Star '' . Deadline.com . Retrieved October 8 , 2017 . </Li> <Li> Jump up ^ Ausiello , Michael ( September 16 , 2016 ) . `` Lost in Space : Netflix Remake Casts Falling Skies Alum as Judy Robinson '' . TVLine . Retrieved September 16 , 2016 . </Li> <Li> Jump up ^ Petski , Denise ( December 15 , 2016 ) . `` Lost In Space : Mina Sundwall To Play Penny Robinson In Netflix Remake '' . Deadline Hollywood . Retrieved December 16 , 2016 . </Li> <Li>\"), Document(id='c361a6e3-b97f-4962-ab51-03e38c7a0754', metadata={'Title': 'Untitled', 'question_text': 'who played the mom in lost in space 2018', 'start_index': 31497}, page_content=\", Nellie ( September 28 , 2016 ) . `` Lost In Space : Molly Parker To Star In Netflix Series Remake '' . Deadline Hollywood . Retrieved October 8 , 2017 . </Li> <Li> ^ Jump up to : `` Transmission '' . Lost in Space ( 2018 ) . Series 1 . Episode 5 . 13 April 2018 . Event occurs at 00 : 18 : 46 . Netflix . He came into the picture after I was born . </Li> <Li> Jump up ^ Andreeva , Nellie ( September 20 , 2016 ) . `` Toby Stephens To Topline Lost in Space Netflix Remake , Maxwell Jenkins To\"), Document(id='3556ebbe-044f-4562-a4ba-a2e3de3c312a', metadata={'Title': 'Untitled', 'question_text': 'who played the mom in lost in space 2018', 'start_index': 4052}, page_content='planet where they battle the strange new environment and their own personal demons as they attempt to find a way back to the Resolute . </P> <H2> Cast ( edit ) </H2> <H3> Main ( edit ) </H3> <Ul> <Li> Molly Parker as Maureen Robinson , a fearless and brilliant aerospace engineer taking her family on the mission to colonize Alpha Centauri for a new life on a better world . She is a mission commander . She is married to John Robinson and is the mother of three children . </Li> <Li> Toby Stephens')]\n",
            "-------Final Answer:-------------\n",
            "Question: who played the mom in lost in space 2018\n",
            " Response: Molly Parker played the mom, Maureen Robinson, in the 2018 \"Lost in Space\" TV series.\n",
            "=============20 Question:who recorded the song do you love me=============\n",
            "[Document(id='2bdb6b09-3c3e-4256-aa60-b1df8ad57df1', metadata={'Title': 'Untitled', 'question_text': 'who recorded the song do you love me', 'start_index': 1359}, page_content=\"recorded by The Contours for Motown 's Gordy Records label . Written and produced by Motown CEO Berry Gordy , Jr. , `` Do You Love Me ? '' was the Contours ' only Top 40 single on the Billboard Hot 100 chart in the United States . Notably , the record achieved this feat twice , once in 1962 and again in 1988 . A main point of the song is to name the Mashed Potato , The Twist , and a variation of the title `` I like it like that '' , as `` You like it like this '' , and many other fad dances of\"), Document(id='73de6477-5308-46a3-89a0-470bdd67d95c', metadata={'Title': 'Untitled', 'question_text': 'who recorded the song do you love me', 'start_index': 3610}, page_content=\"a notably successful dance record , built around Gordon 's screaming vocals . Selling over a million copies , `` Do You Love Me '' peaked at number three on the Billboard Hot 100 for three weeks starting on October 20 , 1962 , and was a number - one hit on the Billboard R&B Singles chart . An album featuring the single , Do You Love Me ( Now That I Can Dance ) , was also released . None of the Contours ' future singles lived up to the success of `` Do You Love Me '' , although its success won\"), Document(id='6749e3f1-aa37-4835-9675-224fb4e9765b', metadata={'Title': 'Untitled', 'question_text': 'who recorded the song do you love me', 'start_index': 5861}, page_content=\"a cover of `` Do You Love Me '' to See 's YouTube channel . In 2017 Colt Prattes , Nicole Scherzinger & J. Quinton Johnson covered the song for ABC Dirty Dancing movie remake . </P> <H2> Revival ( edit ) </H2> <P> `` Do You Love Me '' is featured prominently in the 1987 film Dirty Dancing , reviving the record 's popularity . Re-issued as a single from the More Dirty Dancing soundtrack album , `` Do You Love Me '' became a hit for the second time , peaking at number eleven on the Billboard Hot\"), Document(id='014d4aff-cf1b-47f7-8a20-0eb84040c624', metadata={'Title': 'Untitled', 'question_text': 'who recorded the song do you love me', 'start_index': 4060}, page_content=\"`` Do You Love Me '' , although its success won the group a headlining position on Motown 's very first Motor Town Revue tour . </P> <H2> Covers ( edit ) </H2> <P> Like many American R&B songs of the 1960s , `` Do You Love Me ? '' was covered by a number of British Invasion groups . Three British groups who recorded their own versions of the song were Brian Poole and the Tremeloes ( who hit number one with it in the UK Singles Chart after learning it from Liverpool 's Faron 's Flamingos ) , the\"), Document(id='bbf224a0-b57c-47d9-a578-38ac33b793b5', metadata={'Title': 'Untitled', 'question_text': 'who recorded the song do you love me', 'start_index': 2261}, page_content=\"2 Covers </Li> <Li> 3 Revival </Li> <Li> 4 Remix </Li> <Li> 5 Soundtrack </Li> <Li> 6 Personnel : The Contours </Li> <Li> 7 References </Li> <Li> 8 External links </Li> </Ul> <P> </P> <H2> Original release ( edit ) </H2> <P> Berry Gordy wrote `` Do You Love Me '' with the intention that The Temptations , who had no Top 40 hits to their name yet , would record it . However , when Gordy wanted to locate the group and record the song , they were nowhere to be found ( the Temptations had not been\")]\n",
            "-------Final Answer:-------------\n",
            "Question: who recorded the song do you love me\n",
            " Response: The song \"Do You Love Me\" was recorded by The Contours for Motown's Gordy Records label.\n",
            "\n",
            "=============21 Question:how is the energy generated in a main sequence star=============\n",
            "[Document(id='9fbbad7b-a082-4f78-adbe-3e726c100211', metadata={'Title': 'Untitled', 'question_text': 'how is the energy generated in a main sequence star', 'start_index': 19350}, page_content='process . In the lower main sequence , energy is primarily generated as the result of the proton - proton chain , which directly fuses hydrogen together in a series of stages to produce helium . Stars in the upper main sequence have sufficiently high core temperatures to efficiently use the CNO cycle . ( See the chart . ) This process uses atoms of carbon , nitrogen and oxygen as intermediaries in the process of fusing hydrogen into helium . </P> <P> At a stellar core temperature of 18 million'), Document(id='560e2f8b-bce4-40e4-a9bc-4464fbfb31c7', metadata={'Title': 'Untitled', 'question_text': 'how is the energy generated in a main sequence star', 'start_index': 2276}, page_content='at the core makes its way to the surface and is radiated away at the photosphere . The energy is carried by either radiation or convection , with the latter occurring in regions with steeper temperature gradients , higher opacity or both . </P> <P> The main sequence is sometimes divided into upper and lower parts , based on the dominant process that a star uses to generate energy . Stars below about 1.5 times the mass of the Sun ( 1.5 M ) primarily fuse hydrogen atoms together in a series of'), Document(id='8cc7e7e3-e5f5-478b-81a9-8aad20aa8732', metadata={'Title': 'Untitled', 'question_text': 'how is the energy generated in a main sequence star', 'start_index': 1817}, page_content='at a position determined primarily by its mass , but also based upon its chemical composition and other factors . All main - sequence stars are in hydrostatic equilibrium , where outward thermal pressure from the hot core is balanced by the inward pressure of gravitational collapse from the overlying layers . The strong dependence of the rate of energy generation in the core on the temperature and pressure helps to sustain this balance . Energy generated at the core makes its way to the surface'), Document(id='d325b249-b42a-47cf-b4b2-ab9702135058', metadata={'Title': 'Untitled', 'question_text': 'how is the energy generated in a main sequence star', 'start_index': 18908}, page_content='at the core . Thus the star forms a self - regulating system in hydrostatic equilibrium that is stable over the course of its main sequence lifetime . </P> <P> Main - sequence stars employ two types of hydrogen fusion processes , and the rate of energy generation from each type depends on the temperature in the core region . Astronomers divide the main sequence into upper and lower parts , based on which of the two is the dominant fusion process . In the lower main sequence , energy is'), Document(id='1da4fc59-8839-4081-9fee-5aa9159704e7', metadata={'Title': 'Untitled', 'question_text': 'how is the energy generated in a main sequence star', 'start_index': 19801}, page_content=\"<P> At a stellar core temperature of 18 million Kelvin , the PP process and CNO cycle are equally efficient , and each type generates half of the star 's net luminosity . As this is the core temperature of a star with about 1.5 M , the upper main sequence consists of stars above this mass . Thus , roughly speaking , stars of spectral class F or cooler belong to the lower main sequence , while A-type stars or hotter are upper main - sequence stars . The transition in primary energy production\")]\n",
            "-------Final Answer:-------------\n",
            "Question: how is the energy generated in a main sequence star\n",
            " Response: Energy in a main sequence star is generated primarily through the fusion of hydrogen into helium. In stars at the lower end of the main sequence (below about 1.5 times the mass of the Sun), the primary process is the proton-proton chain, which directly fuses hydrogen atoms together. In the upper main sequence, where stars have higher core temperatures, energy generation primarily occurs via the CNO cycle. This process uses carbon, nitrogen, and oxygen atoms as intermediaries to fuse hydrogen into helium.\n",
            "=============22 Question:where is the best farming soil in the us and where did all the dirt come from=============\n",
            "[Document(id='53b98934-f6cb-48eb-86b7-a067fd4df9d4', metadata={'Title': 'Untitled', 'question_text': 'where is the best farming soil in the us and where did all the dirt come from', 'start_index': 898}, page_content='by decades of past flooding of the Wallkill River . The 26,000 acres ( 10,400 ha ) of muck left over is the largest concentration of such soil in the United States outside the Florida Everglades . </P> The Black Dirt Region , viewed looking south from a hill in the Town of Goshen . <P> </P> <H2> Contents </H2> ( hide ) <Ul> <Li> 1 Geography </Li> <Li> 2 History </Li> <Li> 3 See also </Li> <Li> 4 References </Li> <Li> 5 Further reading </Li> <Li> 6 External links </Li> </Ul> <P> </P> <H2>'), Document(id='edeee43f-f6a4-4bed-8381-348c69edd137', metadata={'Title': 'Untitled', 'question_text': 'where is the best farming soil in the us and where did all the dirt come from', 'start_index': 0}, page_content='Black Dirt region - wikipedia <H1> Black Dirt region </H1> Jump to : navigation , search Black dirt field near the village of Florida <P> The Black Dirt Region is located in southern Orange County , New York , United States and northern Sussex County , New Jersey . It is mostly located in the western section of the Town of Warwick , centered on the hamlet of Pine Island . Some sections spill over into adjacent portions of the towns of Chester , Goshen and Wawayanda in New York and parts of'), Document(id='d8eb8b30-f7d0-4984-a1c9-1e3940783381', metadata={'Title': 'Untitled', 'question_text': 'where is the best farming soil in the us and where did all the dirt come from', 'start_index': 5807}, page_content=\"</Ul> </Td> </Tr> </Table> Retrieved from `` https://en.wikipedia.org/w/index.php?title=Black_Dirt_Region&oldid=793364067 '' Categories : <Ul> <Li> Agriculture in the United States </Li> <Li> Geography of Orange County , New York </Li> <Li> Economy of Orange County , New York </Li> <Li> History of Orange County , New York </Li> <Li> Goshen , New York </Li> <Li> Geography of Sussex County , New Jersey </Li> <Li> Warwick , New York </Li> <Li> Agriculture in New York ( state ) </Li> <Li>\"), Document(id='7c318868-e5a8-4899-8921-a66d3acedd2b', metadata={'Title': 'Untitled', 'question_text': 'where is the best farming soil in the us and where did all the dirt come from', 'start_index': 3590}, page_content=\"unlikely since the soil is very poor for building . </P> <H2> See also ( edit ) </H2> <Ul> <Li> Hudson Valley portal </Li> </Ul> <Ul> <Li> Terra preta </Li> <Li> Vincent Kosuga </Li> </Ul> <H2> References ( edit ) </H2> <Ol> <Li> ^ Jump up to : Gordon , John Steele ( December 1990 ) . `` Sowing the American Dream '' . American Heritage . 41 ( 8 ) . Retrieved 2007 - 08 - 26 . Orange County , with a total of twenty - six thousand acres , had more of it in one spot than any place else in the\"), Document(id='5f06dcb1-6dd3-47c6-92e0-670eff163d7f', metadata={'Title': 'Untitled', 'question_text': 'where is the best farming soil in the us and where did all the dirt come from', 'start_index': 447}, page_content=\", Goshen and Wawayanda in New York and parts of Wantage and Vernon , New Jersey . Before the region was drained in the early nineteenth century through drainage culverts and the construction of the Delaware and Hudson Canal , it was a densely - vegetated marsh known as the `` Drowned Lands of the Wallkill '' </P> <P> The Black Dirt Region takes its name from the dark , extremely fertile soil left over from an ancient glacial lake bottom augmented by decades of past flooding of the Wallkill\")]\n",
            "-------Final Answer:-------------\n",
            "Question: where is the best farming soil in the us and where did all the dirt come from\n",
            " Response: The best farming soil in the US can be found in the Black Dirt Region, which is located in southern Orange County, New York, and northern Sussex County, New Jersey. This soil is extremely fertile, and its richness comes from the dark soil left over from an ancient glacial lake bottom, which has been further enriched by decades of past flooding of the Wallkill River.\n",
            "=============23 Question:when did humans first occupy the international space station=============\n",
            "[Document(id='e1c0ead5-e2e8-4805-ab87-ac3aa95844d2', metadata={'Title': 'Untitled', 'question_text': 'when did humans first occupy the international space station', 'start_index': 7205}, page_content='to be completed in 2006 , and be continuously inhabited until at least 2015 . Due to several delays , including the fallout from the Space Shuttle Columbia disaster , the station was completed in late 2011 , thanks to STS - 134 . </P> <H2> Mission Highlights ( edit ) </H2> <P> The crew of three were on board the International Space Station for four and a half months , from early November 2000 to mid-March 2001 . Major events during this time include the three - week - long Space Shuttle visits'), Document(id='8e394d1b-2894-468b-b450-62bbb36fa14c', metadata={'Title': 'Untitled', 'question_text': 'when did humans first occupy the international space station', 'start_index': 1364}, page_content='<P> </P> L-R : Sergei K. Krikalev ( Russia ) , William M. ( Bill ) Shepherd ( United States ) , and Yuri Pavlovich Gidzenko ( Russia ) ISS expeditions Expedition 2 → </Td> </Tr> </Table> <P> Expedition 1 was the first long - duration stay on the International Space Station ( ISS ) . The three - person crew stayed aboard the station for 136 days , from November 2000 to March 2001 . It was the beginning of an uninterrupted human presence on the station which continues as of November 2017 .'), Document(id='eb2572b8-d300-42f8-b1cf-f11f8ff14f41', metadata={'Title': 'Untitled', 'question_text': 'when did humans first occupy the international space station', 'start_index': 8111}, page_content=\"in Kazakhstan ; they used launch pad Gagarin 's Start , from which the first human to fly in space , Yuri Gagarin , was launched in 1961 . After 33 orbits of the Earth , and a series of rendezvous maneuvers performed by Gidzenko , they docked the Soyuz capsule to the aft port of the Zvezda Service Module on 2 November 2000 , at 09 : 21 UTC . Ninety minutes after docking , Shepherd opened the hatch to Zvezda and the crew members entered the complex . </P> <P> Alpha </P> <P> At the end of the\"), Document(id='b840395e-b730-4050-a6e5-f528b9a99aa5', metadata={'Title': 'Untitled', 'question_text': 'when did humans first occupy the international space station', 'start_index': 31070}, page_content=\"7 August 2010 . </Li> <Li> Jump up ^ `` STS - 102 Swaps International Space Station Crews '' . NASA . Retrieved 7 August 2010 . </Li> <Li> ^ Jump up to : `` Cosmonaut Bio : Gidzenko '' . NASA . Retrieved 7 August 2010 . </Li> <Li> Jump up ^ `` Cosmonaut Bio : Sergei Krikalev '' . NASA . Retrieved 7 August 2010 . </Li> <Li> Jump up ^ `` Astronaut Bio -- W.M. Shepherd '' . NASA . June 2001 . Retrieved 7 August 2001 . </Li> <Li> Jump up ^ `` ISS Status Report 00 - 49 '' . NASA . 3 November 2000 .\"), Document(id='7dd2db8c-f5ac-46d3-888f-5c9da8226933', metadata={'Title': 'Untitled', 'question_text': 'when did humans first occupy the international space station', 'start_index': 4951}, page_content='. Flight engineer Sergei Krikalev had spent over a year in orbit , mostly on Mir , and would become the first person to visit the ISS twice . He had felt excitement to have been one of the first people to enter the Zarya module ( the first component of the space station ) in 1998 , during STS - 88 , and was looking forward to returning . Yuri Gidzenko was designated commander and pilot of the two - day Soyuz mission to the station , had one previous spaceflight , which was a 180 - day stay')]\n",
            "-------Final Answer:-------------\n",
            "Question: when did humans first occupy the international space station\n",
            " Response: Humans first occupied the International Space Station on 2 November 2000.\n",
            "=============24 Question:who played darth vader in the original trilogy=============\n",
            "[Document(id='b4c96ca1-2c6f-4551-be2f-aebe9dbff8d3', metadata={'Title': 'Untitled', 'question_text': 'who played darth vader in the original trilogy', 'start_index': 898}, page_content=\", weightlifter and character actor in British film and television . Worldwide , he is best known for physically portraying Darth Vader in the original Star Wars trilogy ( with the character 's voice being performed by James Earl Jones ) , and in 2015 starred in a documentary concerning that role , entitled I Am Your Father . Prior to his role as Vader , Prowse had established himself as a prominent figure in British culture as the first Green Cross Code man , a character used in British road\"), Document(id='a67d7a10-b2ec-42c1-ab2c-68925801e486', metadata={'Title': 'Untitled', 'question_text': 'who played darth vader in the original trilogy', 'start_index': 5402}, page_content=\"in 1969 . </P> <P> In May 2010 , he played Frank Bryan in The Kindness of Strangers , an independent British film produced by Queen Bee Films . The film screened at the 2010 Cannes Film Festival . </P> Prowse in 2007 Star Wars ( edit ) <P> Prowse played the physical form of Darth Vader in the original Star Wars trilogy . Prowse spoke the dialogue during filming , but Lucas claimed he wanted a `` darker voice '' -- a deeper , more reverberating voice , and had James Earl Jones provide the voice\"), Document(id='51f9668d-b49c-4f90-aa30-67ea63ad9e4b', metadata={'Title': 'Untitled', 'question_text': 'who played darth vader in the original trilogy', 'start_index': 5856}, page_content=\", and had James Earl Jones provide the voice instead , deeming Prowse 's West Country accent unsuitable for the character . Prowse claims he was originally told that he would be seen and heard at the end of Return of the Jedi when Vader 's mask was removed . Instead , actor Sebastian Shaw was used . In the 2004 documentary Empire of Dreams , actress Carrie Fisher , who played Princess Leia in the original trilogy films , quipped that they nicknamed Prowse `` Darth Farmer '' ( a Linguistic\"), Document(id='128d4929-5fd7-4d38-bda9-47dd3484e6be', metadata={'Title': 'Untitled', 'question_text': 'who played darth vader in the original trilogy', 'start_index': 9014}, page_content=\"2008 , he was one of the cast members featured on Justin Lee Collins 's Bring Back ... Star Wars . In the film , Prowse commented that he had a dispute with George Lucas after he allegedly leaked reports of Darth Vader 's death to the press . Prowse had previously suggested that Darth Vader could be Luke Skywalker 's father in a speech he gave to UC Berkeley in 1978 . However , this was shortly after the release of Star Wars and nearly two years before The Empire Strikes Back ( which he\"), Document(id='bb99b6b9-c3de-4c88-a5e7-cc58a06df1ea', metadata={'Title': 'Untitled', 'question_text': 'who played darth vader in the original trilogy', 'start_index': 8118}, page_content=\"documentary and the 2005 Vanity Fair cover . While being interviewed by Kevin Moore of The Moore Show Prime Time , he admitted his dislike for the prequel trilogy and opined that the new films were `` out of context in terms of special effects in comparison to the original trilogy '' . </P> <P> In July 2007 , Prowse joined many others from the Star Wars films for the first ever Star Wars Celebration event held outside the United States . It was run by Lucasfilm Ltd. and the Cards Inc . Group ,\")]\n",
            "-------Final Answer:-------------\n",
            "Question: who played darth vader in the original trilogy\n",
            " Response: David Prowse physically portrayed Darth Vader in the original Star Wars trilogy, while James Earl Jones provided the voice.\n",
            "=============25 Question:what is the difference between priest and bishop=============\n",
            "[Document(id='c3b31fe1-9377-4ef4-b0e7-2ee5f00adc80', metadata={'Title': 'Untitled', 'question_text': 'what is the difference between priest and bishop', 'start_index': 10815}, page_content=\"Pastors in the Church , to be the teachers of doctrine , the priests of sacred worship and the ministers of governance '' and `` represent the Church . '' In the year 2012 , there were 5,133 Catholic bishops ; at the end of 2014 , there were 5,237 Catholic bishops . The Pope himself is a bishop ( the bishop of Rome ) and traditionally uses the title `` Venerable Brother '' when writing formally to another bishop . </P> <P> The typical role of a bishop is to provide pastoral governance for a\"), Document(id='406fa730-0c92-478f-a204-2e588bd7e08c', metadata={'Title': 'Untitled', 'question_text': 'what is the difference between priest and bishop', 'start_index': 31077}, page_content='Church is an embodiment of the whole Catholic Church , not just an administrative subdivision of something larger , the bishop who is its head is not a delegate of the Pope . Instead , he has of himself primary teaching , governance and sanctifying responsibility for the see for which he has been ordained bishop . </P> <P> Within each diocese , even if the Eucharist is celebrated by another bishop , the necessary communion with the Bishop of the diocese is signified by the mention of his name .'), Document(id='58fa78a4-a326-450d-885e-a696f7835021', metadata={'Title': 'Untitled', 'question_text': 'what is the difference between priest and bishop', 'start_index': 12624}, page_content=\", titles such as archbishop or patriarch imply no ontological alteration , and existing bishops who rise to those offices do not require further ordination . </P> <P> Sacramentally , all bishops are equal . According to jurisdiction , office , and privileges , however , various ranks are distinguished , as indicated below . All bishops are `` vicars of Christ '' . </P> <H3> Pope ( bishop of Rome ) ( edit ) </H3> Main article : Pope Pope Francis , bishop of Rome <P> The pope is the bishop of\"), Document(id='14a96724-048e-4b4d-9c4b-2130c07e6954', metadata={'Title': 'Untitled', 'question_text': 'what is the difference between priest and bishop', 'start_index': 9451}, page_content='Orders , by which men are ordained as bishops , priests or deacons . </P> <H2> Contents </H2> <Ul> <Li> 1 Bishop <Ul> <Li> 1.1 Pope ( Bishop of Rome ) <Ul> <Li> 1.1. 1 Offices and titles </Li> <Li> 1.1. 2 Election </Li> </Ul> </Li> <Li> 1.2 Patriarchs </Li> <Li> 1.3 Major archbishops </Li> <Li> 1.4 Cardinals </Li> <Li> 1.5 Primates </Li> <Li> 1.6 Metropolitan bishops </Li> <Li> 1.7 Archbishops </Li> <Li> 1.8 Diocesan bishops <Ul> <Li> 1.8. 1 Equivalents of diocesan bishops in law </Li> </Ul>'), Document(id='3de8fa7b-3787-404e-8bbe-0ea4fb04e502', metadata={'Title': 'Untitled', 'question_text': 'what is the difference between priest and bishop', 'start_index': 9909}, page_content='of diocesan bishops in law </Li> </Ul> </Li> <Li> 1.9 Other bishops </Li> </Ul> </Li> <Li> 2 Ordinaries and local ordinaries </Li> <Li> 3 Presbyterate <Ul> <Li> 3.1 In general </Li> <Li> 3.2 Priests in service outside their diocese </Li> <Li> 3.3 Positions within a diocese at diocesan level </Li> <Li> 3.4 Vicars Forane or Deans </Li> <Li> 3.5 Parish priest / pastor </Li> <Li> 3.6 Assistant priests / parochial vicars </Li> <Li> 3.7 Honorary titles </Li> </Ul> </Li> <Li> 4 Diaconate </Li> <Li> 5')]\n",
            "-------Final Answer:-------------\n",
            "Question: what is the difference between priest and bishop\n",
            " Response: I don't have the answer.\n",
            "=============26 Question:what does c class stand for in mercedes benz=============\n",
            "[Document(id='514887d4-9dc6-4dbe-8405-7ff1c5c83671', metadata={'Title': 'Untitled', 'question_text': 'what does c class stand for in mercedes benz', 'start_index': 15743}, page_content='CLS - Class -- Mid-size luxury 4 Door Coupé and Estate </Li> <Li> E-Class -- Executive Sedan / Saloon , Estate , Coupé and Cabriolet </Li> <Li> G - Class -- Mid-size luxury Sports Utility Vehicle ( SUV ) </Li> <Li> GLA - Class -- Subcompact luxury Sports Utility Vehicle ( SUV ) </Li> <Li> GLC - Class -- Compact luxury Sports Utility Vehicle ( SUV ) </Li> <Li> GLE - Class -- Mid-size luxury Sports Utility Vehicle ( SUV ) </Li> <Li> GLS - Class -- Full - size luxury Sports Utility Vehicle ( SUV )'), Document(id='067c2bed-935a-494d-aca1-95313bdb92ea', metadata={'Title': 'Untitled', 'question_text': 'what does c class stand for in mercedes benz', 'start_index': 21622}, page_content=\"a number as part of the designation at all . </P> <P> For the 1994 model year , Mercedes - Benz revised the naming system . Models were divided into `` classes '' denoted by an arrangement of up to three letters ( see `` Current model range '' above ) , followed by a three - digit ( or two - digit for AMG models , with the number approximately equal to the displacement in litres multiplied by 10 ) number related to the engine displacement as before . Variants of the same model such as an estate\"), Document(id='dbdf0fe1-155b-471a-904c-811cbfeb6122', metadata={'Title': 'Untitled', 'question_text': 'what does c class stand for in mercedes benz', 'start_index': 24327}, page_content='models . The changes consolidate many confusing nomenclature and their placements in the model range such as CL - Class is now called the S - Class Coupé . The naming structure is divided into four categories : core , off - road vehicle / SUV , 4 - door coupé , and roadster . AMG GT , and V - Class are unaffected by the change . In October 2016 , Mercedes unveiled the X-Class ; a pickup truck built on the Nissan Navara . At the 2016 Paris Motor Show , the company announced the EQ , a family of'), Document(id='3b291bdb-040e-4542-bde6-703d995c747a', metadata={'Title': 'Untitled', 'question_text': 'what does c class stand for in mercedes benz', 'start_index': 18895}, page_content=\"R320 Bluetec </Li> <Li> 2010 : SLS AMG </Li> <Li> 2013 : CLA - Class </Li> <Li> 2016 : AMG GT </Li> </Ul> <P> The Mercedes - Benz 600 or 600S Pullman Guard limousines offer the option of armour - plating and have been used by diplomats worldwide . </P> <H3> Car nomenclature ( edit ) </H3> <P> Until 1994 , Mercedes - Benz utilized an alphanumeric system for categorizing their vehicles , consisting of a number sequence approximately equal to the engine 's displacement in liters multiplied by 100\"), Document(id='abb7689e-9a0a-40f6-814a-be534d34ca70', metadata={'Title': 'Untitled', 'question_text': 'what does c class stand for in mercedes benz', 'start_index': 19350}, page_content=\"'s displacement in liters multiplied by 100 , followed by an arrangement of alphabetical suffixes , indicating body style and engine type . </P> <Ul> <Li> `` C '' indicates a coupe or cabriolet body style ( for example , the CL and CLK models , though the C - Class is an exception , since it is also available as a sedan or station wagon ) . </Li> <Li> `` D '' indicates the vehicle is equipped with a diesel engine . </Li> <Li> `` E '' ( for `` Einspritzung '' ) indicates the vehicle 's engine is\")]\n",
            "-------Final Answer:-------------\n",
            "Question: what does c class stand for in mercedes benz\n",
            " Response: I don't have the answer.\n",
            "=============27 Question:how many episodes will prison break season 5 have=============\n",
            "[Document(id='7cceb678-32f9-4743-8693-70d2c0c969a5', metadata={'Title': 'Untitled', 'question_text': 'how many episodes will prison break season 5 have', 'start_index': 900}, page_content='</Th> </Tr> <Tr> <Td_colspan=\"2\"> ← Previous Season 4 </Td> </Tr> <Tr> <Td_colspan=\"2\"> List of Prison Break episodes </Td> </Tr> </Table> <P> The fifth season of Prison Break ( also known as Prison Break : Resurrection ) is a limited event television series and the continuation of the original series created by Paul Scheuring that aired on Fox from 2005 to 2009 . The season is produced by 20th Century Fox Television in association with Adelstein / Parouse Productions and Original Film . Paul'), Document(id='b0963e40-e8a3-49cb-b024-9369aacdacb2', metadata={'Title': 'Untitled', 'question_text': 'how many episodes will prison break season 5 have', 'start_index': 0}, page_content='Prison Break ( season 5 ) - wikipedia <H1> Prison Break ( season 5 ) </H1> Jump to : navigation , search <Table> <Tr> <Th_colspan=\"2\"> Prison Break ( season 5 ) </Th> </Tr> <Tr> <Td_colspan=\"2\"> DVD cover </Td> </Tr> <Tr> <Th> Starring </Th> <Td> <Ul> <Li> Wentworth Miller </Li> <Li> Dominic Purcell </Li> <Li> Sarah Wayne Callies </Li> <Li> Paul Adelstein </Li> <Li> Rockmond Dunbar </Li> <Li> Robert Knepper </Li> <Li> Amaury Nolasco </Li> <Li> Mark Feuerstein </Li> <Li> Inbar Lavi </Li> <Li>'), Document(id='c2905085-f3e5-420a-a5ac-bc2bf335fa34', metadata={'Title': 'Untitled', 'question_text': 'how many episodes will prison break season 5 have', 'start_index': 26990}, page_content=\"reveal why there are only nine episodes in the new series '' . Digital Spy . Retrieved March 8 , 2017 . </Li> <Li> Jump up ^ `` ROBERT KNEPPER , ROCKMOND DUNBAR AND AMAURY NOLASCO RETURN TO PRISON BREAK '' . 20th Century Fox . March 11 , 2016 . Retrieved March 11 , 2016 . </Li> <Li> Jump up ^ Ausiello , Michael ( January 11 , 2017 ) . `` Prison Break , Making History Premiere Dates Announced by Fox '' . TVLine . Retrieved January 11 , 2017 . </Li> <Li> Jump up ^ Calcuttawala , Zainab ( April 7\"), Document(id='5012f3d7-6119-4dab-9f3b-cbfa8a666152', metadata={'Title': 'Untitled', 'question_text': 'how many episodes will prison break season 5 have', 'start_index': 38711}, page_content=\"</Li> </Ul> </Td> </Tr> </Table> Retrieved from `` https://en.wikipedia.org/w/index.php?title=Prison_Break_(season_5)&oldid=807163375 '' Categories : <Ul> <Li> Prison Break </Li> <Li> Prison Break episodes </Li> <Li> 2017 American television seasons </Li> <Li> Terrorism in fiction </Li> <Li> Yemen in fiction </Li> </Ul> <H2> </H2> <H3> </H3> <Ul> <Li> </Li> <Li> Talk </Li> <Li> </Li> <Li> </Li> <Li> </Li> </Ul> <H3> </H3> <Ul> <Li> </Li> <Li> </Li> </Ul> <H3> </H3> <Ul> </Ul> <H3> </H3> <Ul>\"), Document(id='dc78aac1-d46f-45ae-9032-e5931a631d4f', metadata={'Title': 'Untitled', 'question_text': 'how many episodes will prison break season 5 have', 'start_index': 34200}, page_content=\"' absolutely ' return to the show '' . Daily Express . Retrieved July 24 , 2015 . </Li> <Li> Jump up ^ @ PBWritersRoom ( June 2 , 2016 ) . `` Yes ! Ramin is back , so expect some cool new music . '' ( Tweet ) . Retrieved April 2 , 2017 -- via Twitter . </Li> <Li> Jump up ^ `` Prison Break : Season 5 ( 2017 ) '' . Rotten Tomatoes . Fandango . Retrieved April 4 , 2017 . </Li> <Li> Jump up ^ `` Prison Break : Season 5 reviews '' . Metacritic . Retrieved April 4 , 2017 . </Li> <Li> Jump up ^ Porter\")]\n",
            "-------Final Answer:-------------\n",
            "Question: how many episodes will prison break season 5 have\n",
            " Response: Prison Break Season 5 has a total of nine episodes.\n",
            "=============28 Question:when was the 1913 natives land act repealed=============\n",
            "[Document(id='06162959-11fe-4423-9f48-bcfea0768610', metadata={'Title': 'Untitled', 'question_text': 'when was the 1913 natives land act repealed', 'start_index': 0}, page_content='Natives land Act , 1913 - wikipedia <H1> Natives land Act , 1913 </H1> <Table> <Tr> <Th_colspan=\"2\"> Natives Land Act , 1913 </Th> </Tr> <Tr> <Td_colspan=\"2\"> </Td> </Tr> <Tr> <Td_colspan=\"2\"> Act to make further provision as to the purchase and leasing of Land by Natives and other Persons in the several parts of the Union and for other purposes in connection with the ownership and occupation of Land by Natives and other Persons.It was discrimatory and aimed at white control of land . </Td>'), Document(id='58d73f86-76cd-466b-a8ac-3ff0d5525312', metadata={'Title': 'Untitled', 'question_text': 'when was the 1913 natives land act repealed', 'start_index': 898}, page_content='<Tr> <Th_colspan=\"2\"> Repealing legislation </Th> </Tr> <Tr> <Td_colspan=\"2\"> Abolition of Racially Based Land Measures Act , 1991 </Td> </Tr> <Tr> <Th_colspan=\"2\"> Related legislation </Th> </Tr> <Tr> <Td_colspan=\"2\"> Native Trust and Land Act , 1936 </Td> </Tr> <Tr> <Td_colspan=\"2\"> Status : Repealed </Td> </Tr> </Table> <P> The Natives Land Act , 1913 ( subsequently renamed Bantu Land Act , 1913 and Black Land Act , 1913 ; Act No. 27 of 1913 ) was an Act of the Parliament of South Africa'), Document(id='29af6a67-e702-4c06-8474-6a345a2ba002', metadata={'Title': 'Untitled', 'question_text': 'when was the 1913 natives land act repealed', 'start_index': 453}, page_content='and aimed at white control of land . </Td> </Tr> <Tr> <Th> Citation </Th> <Td> Act No. 27 of 1913 </Td> </Tr> <Tr> <Th> Enacted by </Th> <Td> Parliament of South Africa </Td> </Tr> <Tr> <Th> Date of Royal Assent </Th> <Td> 16 June 1913 </Td> </Tr> <Tr> <Th> Date commenced </Th> <Td> 19 June 1913 </Td> </Tr> <Tr> <Th> Date repealed </Th> <Td> 30 June 1991 </Td> </Tr> <Tr> <Th> Administered by </Th> <Td> Minister of Native Affairs </Td> </Tr> <Tr> <Th_colspan=\"2\"> Repealing legislation </Th>'), Document(id='8d1e0c14-3ed7-46fd-8ec8-80bfcb0d0da5', metadata={'Title': 'Untitled', 'question_text': 'when was the 1913 natives land act repealed', 'start_index': 1347}, page_content=') was an Act of the Parliament of South Africa that was aimed at regulating the acquisition of land . </P> <H2> Contents </H2> <Ul> <Li> 1 Overview </Li> <Li> 2 Impact </Li> <Li> 3 Political ironies </Li> <Li> 4 See also </Li> <Li> 5 References </Li> <Li> 6 Bibliography </Li> <Li> 7 External links </Li> </Ul> <H2> Overview ( edit ) </H2> <P> The Natives Land Act of 1913 was the first major piece of segregation legislation passed by the Union Parliament . It was replaced by the current policy of'), Document(id='05811af5-58c0-4e39-8cd3-06e81befe7a6', metadata={'Title': 'Untitled', 'question_text': 'when was the 1913 natives land act repealed', 'start_index': 1804}, page_content='. It was replaced by the current policy of land restitution . The act decreed that whites were not allowed to buy land from natives and vice versa . That stopped white farmers from buying more native land . Exceptions had to be approved by the Governor - General . The native areas left initially totaled less than 10 % of the entire land mass of the Union , which was later expanded to 13 % . </P> <P> The Act further prohibited the practice of serfdom or sharecropping . It also protected existing')]\n",
            "-------Final Answer:-------------\n",
            "Question: when was the 1913 natives land act repealed\n",
            " Response: The 1913 Natives Land Act was repealed on 30 June 1991.\n",
            "=============29 Question:where was best years of our lives filmed=============\n",
            "[Document(id='f561d76c-2c18-4f33-84fe-dcb94df5f886', metadata={'Title': 'Untitled', 'question_text': 'where was best years of our lives filmed', 'start_index': 11229}, page_content=\", Raleigh Studios , Hollywood , and the Samuel Goldwyn / Warner Hollywood Studios . The Best Years of Our Lives is notable for cinematographer Gregg Toland 's use of deep focus photography , in which objects both close to and distant from the camera are in sharp focus . For the passage of Fred Derry 's reliving a combat mission while sitting in the remains of a former bomber , Wyler used `` zoom '' effects to simulate Derry 's subjective state . </P> <P> The `` Jackson High '' football stadium\"), Document(id='bd425f1a-7be2-4453-9e2f-e39112f3bdf2', metadata={'Title': 'Untitled', 'question_text': 'where was best years of our lives filmed', 'start_index': 10777}, page_content='touches included constructing life - size sets , which went against the standard larger sets that were more suited to camera positions . The impact for the audience was immediate , as each scene played out in a realistic , natural way . </P> <P> The Best Years of Our Lives began filming on April 15 , 1946 at a variety of locations , including the Los Angeles County Arboretum and Botanic Garden , Ontario International Airport , Ontario , California , Raleigh Studios , Hollywood , and the Samuel'), Document(id='15248bef-a6f1-4846-8683-3033006db199', metadata={'Title': 'Untitled', 'question_text': 'where was best years of our lives filmed', 'start_index': 0}, page_content='The Best Years of Our Lives - wikipedia <H1> The Best Years of Our Lives </H1> Jump to : navigation , search For other uses , see The Best Years of Our Lives ( disambiguation ) . <Table> <Tr> <Th_colspan=\"2\"> The Best Years of Our Lives </Th> </Tr> <Tr> <Td_colspan=\"2\"> Theatrical release poster </Td> </Tr> <Tr> <Th> Directed by </Th> <Td> William Wyler </Td> </Tr> <Tr> <Th> Produced by </Th> <Td> Samuel Goldwyn </Td> </Tr> <Tr> <Th> Screenplay by </Th> <Td> Robert E. Sherwood </Td> </Tr> <Tr>'), Document(id='5c75ec05-598d-4e31-b992-d691b821d192', metadata={'Title': 'Untitled', 'question_text': 'where was best years of our lives filmed', 'start_index': 13480}, page_content=\"being so meticulous a package . It would have taken uncommon genius and daring at that time to sneak a view of an untidy or unresolved America past Goldwyn or the public . '' </P> <P> The Best Years of Our Lives has a 98 % `` Fresh '' rating at Rotten Tomatoes , based on 37 reviews . Chicago Sun Times film critic Roger Ebert put the film on his `` Great Movies '' list in 2007 , calling it `` ... modern , lean , and honest . '' </P> <H3> Popular response ( edit ) </H3> <P> The Best Years of Our\"), Document(id='00c6b3e9-c5e2-4fb9-b15d-ac4d78dd22b0', metadata={'Title': 'Untitled', 'question_text': 'where was best years of our lives filmed', 'start_index': 18460}, page_content=\"</Li> <Li> Jump up ^ `` ' Best Years of Our Lives ' ( 1946 ) . '' Box Office Mojo . Retrieved : February 4 , 2010 . </Li> <Li> Jump up ^ Kantor , MacKinlay ( 1945 ) . Glory for Me . Coward - McCann . OCLC 773996 . </Li> <Li> Jump up ^ Easton , Carol ( 2014 ) . `` The Best Years '' . The Search for Sam Goldwyn . Carl Rollyson ( contributor ) . Univ . Press of Mississippi . ISBN 978 - 1 - 62674 - 132 - 4 . Andrews looked at the onionskin pages and asked , ' Mac , why did you write this in blank\")]\n",
            "-------Final Answer:-------------\n",
            "Question: where was best years of our lives filmed\n",
            " Response: The Best Years of Our Lives was filmed at a variety of locations, including the Los Angeles County Arboretum and Botanic Garden, Ontario International Airport in Ontario, California, Raleigh Studios in Hollywood, and the Samuel Goldwyn/Warner Hollywood Studios.\n",
            "=============30 Question:summary of philip sidney an apology for poetry=============\n",
            "[Document(id='6a8959ca-0908-4eb1-b949-fd7f0693d1ad', metadata={'Title': 'Untitled', 'question_text': 'summary of philip sidney an apology for poetry', 'start_index': 0}, page_content='An Apology for poetry - wikipedia <H1> An Apology for poetry </H1> Jump to : navigation , search Sidney <P> An Apology for Poetry ( or , The Defence of Poesy ) is a work of literary criticism by Elizabethan poet Philip Sidney . It was written in approximately 1579 , and first published in 1595 , after his death . </P> <P> It is generally believed that he was at least partly motivated by Stephen Gosson , a former playwright who dedicated his attack on the English stage , The School of Abuse , to'), Document(id='f651bd54-7de7-4053-9c56-f2b3d150d8ab', metadata={'Title': 'Untitled', 'question_text': 'summary of philip sidney an apology for poetry', 'start_index': 13959}, page_content=\", Jan A. ; Duncan - Jones , Katherine , eds. ( 1973 ) . Miscellaneous Prose of Sir Philip Sidney . Oxford : Clarendon Press . ISBN 9780198118800 . </Li> <Li> Shepherd , Geoffrey ; Maslen , R.W. , eds. ( 2002 ) . An Apology For Poetry ( Or The Defence Of Poesy ) ( Revised and expanded Third ed . ) . Manchester : Manchester University Press . ISBN 978 - 0 - 7190 - 5376 - 4 . </Li> </Ul> <H2> Notes ( edit ) </H2> <Ol> <Li> Jump up ^ Stignant , `` Sir Philip Sidney '' in Cambridge Essays . </Li>\"), Document(id='0e70057d-8e1d-4f9c-aa0e-e4f4f349e4a4', metadata={'Title': 'Untitled', 'question_text': 'summary of philip sidney an apology for poetry', 'start_index': 10356}, page_content=\"idea that `` poetry is the companion of camps '' and by invoking the heroes of ages past . Sidney 's reverence for the poet as soldier is significant because he himself was a soldier at one time . Poetry , in Apology , becomes an art that requires the noble stirring of courage . </P> <P> Sidney writes An Apology for Poetry in the form of a judicial oration for the defense , and thus it is like a trial in structure . Crucial to his defense is the descriptive discourse and the idea that poetry\"), Document(id='5b22c524-4668-49da-9a6e-8b62c59241ce', metadata={'Title': 'Untitled', 'question_text': 'summary of philip sidney an apology for poetry', 'start_index': 6740}, page_content=\"<P> The life and writings of Sir Philip Sidney remain a legacy . In 1819 , Thomas Campbell concludes that Sidney 's life was `` poetry in action , '' and then in 1858 William Stigant wrote that `` Sidney 's real poem was his life , and his teaching was his example '' . Sidney , the man , is apparent everywhere in his works : a study of Sidney 's works is a study of the man . </P> <H2> Significance ( edit ) </H2> <P> An Apology for Poetry is one of the most important contributions to literary\"), Document(id='806086ab-b807-4978-9cc9-52b546430887', metadata={'Title': 'Untitled', 'question_text': 'summary of philip sidney an apology for poetry', 'start_index': 17555}, page_content=\"and Neil Fraistat . New York : W.W. Norton & Company , 2002 . </Li> <Li> Sidney , Philip . A Defense of Poetry and Poems . London : Cassell and Company , 1891 . </Li> <Li> The Cambridge History of English and American Literature . Volume 3 . Cambridge : Cambridge University Press , 1910 . </Li> </Ul> Retrieved from `` https://en.wikipedia.org/w/index.php?title=An_Apology_for_Poetry&oldid=829643521 '' Categories : <Ul> <Li> English literature </Li> <Li> Essays in literary theory </Li> <Li> 1579\")]\n",
            "-------Final Answer:-------------\n",
            "Question: summary of philip sidney an apology for poetry\n",
            " Response: Philip Sidney's \"An Apology for Poetry,\" also known as \"The Defence of Poesy,\" is a significant work of literary criticism written in around 1579 and published posthumously in 1595. In this work, Sidney defends poetry against its critics, responding in part to Stephen Gosson's \"The School of Abuse,\" which criticized the English stage. Sidney presents his defense in the form of a judicial oration, likening it to a trial, and emphasizes the noble and courageous role of poetry, drawing a parallel between poets and soldiers. The overarching theme highlights the significance of poetry as an essential and valorous art form.\n",
            "RAG_base took 35.5992 seconds to run.\n"
          ]
        }
      ]
    },
    {
      "cell_type": "code",
      "source": [
        "def save_test_output(run_results):\n",
        "  output_path = \"./evaluation/run_results_baseline.json\"\n",
        "\n",
        "  with open(output_path, \"w\", encoding=\"utf-8\") as f:\n",
        "      json.dump(run_results, f, indent=4, ensure_ascii=False)\n",
        "\n",
        "  print(f\"Saved {len(run_results)} results to {output_path}\")"
      ],
      "metadata": {
        "id": "vplg4JHQQZm4"
      },
      "execution_count": 150,
      "outputs": []
    },
    {
      "cell_type": "code",
      "source": [
        "save_test_output(baseline_run_results)"
      ],
      "metadata": {
        "colab": {
          "base_uri": "https://localhost:8080/"
        },
        "id": "hjg4YtN8OSED",
        "outputId": "71cfb674-7cdf-441a-b163-e715306927e7"
      },
      "execution_count": 151,
      "outputs": [
        {
          "output_type": "stream",
          "name": "stdout",
          "text": [
            "Saved 30 results to ./evaluation/run_results_baseline.json\n"
          ]
        }
      ]
    }
  ]
}